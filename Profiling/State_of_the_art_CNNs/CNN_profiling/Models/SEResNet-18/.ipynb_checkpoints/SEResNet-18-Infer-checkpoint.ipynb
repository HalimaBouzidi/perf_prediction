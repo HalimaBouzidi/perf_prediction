{
 "cells": [
  {
   "cell_type": "code",
   "execution_count": 17,
   "metadata": {},
   "outputs": [],
   "source": [
    "output_names = ['softmax/Softmax']\n",
    "input_names = ['input_1']\n",
    "\n",
    "import tensorflow as tf\n",
    "import numpy as np\n",
    "from tensorflow.keras.preprocessing import image\n",
    "from classification_models.keras import Classifiers\n",
    "preprocess_input = Classifiers.get('seresnet18')[1]\n",
    "from keras.applications.imagenet_utils import decode_predictions"
   ]
  },
  {
   "cell_type": "code",
   "execution_count": 18,
   "metadata": {},
   "outputs": [],
   "source": [
    "classification_graph = tf.Graph()\n",
    "def get_frozen_graph(graph_file):\n",
    "    \"\"\"Read Frozen Graph file from disk.\"\"\"\n",
    "    with classification_graph.as_default():\n",
    "        graph_def = tf.GraphDef()\n",
    "        with tf.gfile.FastGFile(graph_file, \"rb\") as f:\n",
    "            graph_def.ParseFromString(f.read())\n",
    "    return graph_def"
   ]
  },
  {
   "cell_type": "code",
   "execution_count": 19,
   "metadata": {},
   "outputs": [],
   "source": [
    "tff_graph = get_frozen_graph('./Saved-Model/SEResNet-18-tf-graph.pb')\n",
    "\n",
    "# Create session and load graph\n",
    "tf_config = tf.ConfigProto()\n",
    "tf_config.gpu_options.allow_growth = True\n",
    "tf_sess = tf.Session(config=tf_config)\n",
    "tf.import_graph_def(tff_graph, name='')"
   ]
  },
  {
   "cell_type": "code",
   "execution_count": 20,
   "metadata": {},
   "outputs": [
    {
     "name": "stdout",
     "output_type": "stream",
     "text": [
      "image_size: [240, 240, 3]\n",
      "input_tensor_name: input_1:0\n",
      "output_tensor_name: softmax/Softmax:0\n"
     ]
    }
   ],
   "source": [
    "# Get graph input size\n",
    "for node in tff_graph.node:\n",
    "    if 'input_' in node.name:\n",
    "        size = node.attr['shape'].shape\n",
    "        image_size = [size.dim[i].size for i in range(1, 4)]\n",
    "        break\n",
    "print(\"image_size: {}\".format(image_size))\n",
    "\n",
    "# input and output tensor names.\n",
    "input_tensor_name = input_names[0] + \":0\"\n",
    "output_tensor_name = output_names[0] + \":0\"\n",
    "\n",
    "print(\"input_tensor_name: {}\\noutput_tensor_name: {}\".format(input_tensor_name, output_tensor_name))\n",
    "\n",
    "output_tensor = tf_sess.graph.get_tensor_by_name(output_tensor_name)"
   ]
  },
  {
   "cell_type": "code",
   "execution_count": 22,
   "metadata": {},
   "outputs": [
    {
     "name": "stdout",
     "output_type": "stream",
     "text": [
      "Predicted: [('n02096294', 'Australian_terrier', 0.57381874), ('n01616318', 'vulture', 0.17820954), ('n02100877', 'Irish_setter', 0.082067125)]\n"
     ]
    }
   ],
   "source": [
    "# Optional image to test model prediction.\n",
    "img_path = '../../data/elephant.jpg'\n",
    "\n",
    "img = image.load_img(img_path, target_size=image_size[:2])\n",
    "x = image.img_to_array(img)\n",
    "x = np.expand_dims(x, axis=0)\n",
    "x = preprocess_input(x)\n",
    "\n",
    "feed_dict = {\n",
    "    input_tensor_name: x\n",
    "}\n",
    "preds = tf_sess.run(output_tensor, feed_dict)\n",
    "\n",
    "# decode the results into a list of tuples (class, description, probability)\n",
    "# (one such list for each sample in the batch)\n",
    "print('Predicted:', decode_predictions(preds, top=3)[0])"
   ]
  },
  {
   "cell_type": "code",
   "execution_count": null,
   "metadata": {},
   "outputs": [],
   "source": []
  }
 ],
 "metadata": {
  "kernelspec": {
   "display_name": "Python 3",
   "language": "python",
   "name": "python3"
  },
  "language_info": {
   "codemirror_mode": {
    "name": "ipython",
    "version": 3
   },
   "file_extension": ".py",
   "mimetype": "text/x-python",
   "name": "python",
   "nbconvert_exporter": "python",
   "pygments_lexer": "ipython3",
   "version": "3.7.3"
  }
 },
 "nbformat": 4,
 "nbformat_minor": 2
}
