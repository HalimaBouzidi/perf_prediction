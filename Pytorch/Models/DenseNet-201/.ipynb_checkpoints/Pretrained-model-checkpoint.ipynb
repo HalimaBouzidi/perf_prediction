{
 "cells": [
  {
   "cell_type": "code",
   "execution_count": 1,
   "metadata": {},
   "outputs": [],
   "source": [
    "from torchvision import models\n",
    "import torch\n",
    "from torchvision import transforms\n",
    "from PIL import Image\n",
    "\n",
    "#dir(models)"
   ]
  },
  {
   "cell_type": "code",
   "execution_count": 2,
   "metadata": {},
   "outputs": [
    {
     "name": "stderr",
     "output_type": "stream",
     "text": [
      "Downloading: \"https://download.pytorch.org/models/densenet201-c1103571.pth\" to /home/rofaida/.cache/torch/checkpoints/densenet201-c1103571.pth\n"
     ]
    },
    {
     "data": {
      "application/vnd.jupyter.widget-view+json": {
       "model_id": "149bdaf16efa4665b377e12fc808fb45",
       "version_major": 2,
       "version_minor": 0
      },
      "text/plain": [
       "HBox(children=(FloatProgress(value=0.0, max=81131730.0), HTML(value='')))"
      ]
     },
     "metadata": {},
     "output_type": "display_data"
    },
    {
     "name": "stdout",
     "output_type": "stream",
     "text": [
      "\n"
     ]
    }
   ],
   "source": [
    "densenet201 = models.densenet201(pretrained=True)\n",
    "#print(resnet50)\n",
    "# Save the model\n",
    "torch.save(densenet201, './Saved-Model/DenseNet-201.pt')\n",
    "saved_densenet201 = torch.load('./Saved-Model/DenseNet-201.pt')"
   ]
  },
  {
   "cell_type": "code",
   "execution_count": 3,
   "metadata": {},
   "outputs": [],
   "source": [
    "#Prepare data for inference\n",
    "\n",
    "transform = transforms.Compose([            #[1]\n",
    " transforms.Resize(256),                    #[2]\n",
    " transforms.CenterCrop(224),                #[3]\n",
    " transforms.ToTensor(),                     #[4]\n",
    " transforms.Normalize(                      #[5]\n",
    " mean=[0.485, 0.456, 0.406],                #[6]\n",
    " std=[0.229, 0.224, 0.225]                  #[7]\n",
    " )])\n",
    "\n",
    "#Line [1]: Here we are defining a variable transform which is a combination of all the image transformations to be carried out on the input image.\n",
    "\n",
    "#Line [2]: Resize the image to 256×256 pixels.\n",
    "\n",
    "#Line [3]: Crop the image to 224×224 pixels about the center.\n",
    "\n",
    "#Line [4]: Convert the image to PyTorch Tensor data type.\n",
    "\n",
    "#Line [5-7]: Normalize the image by setting its mean and standard deviation to the specified values.\n",
    "\n",
    "img = Image.open(\"elephant.jpg\")\n",
    "img_t = transform(img)\n",
    "batch_t = torch.unsqueeze(img_t, 0)"
   ]
  },
  {
   "cell_type": "code",
   "execution_count": 4,
   "metadata": {},
   "outputs": [
    {
     "name": "stdout",
     "output_type": "stream",
     "text": [
      "torch.Size([1, 1000])\n"
     ]
    }
   ],
   "source": [
    "densenet201.eval()\n",
    "saved_densenet201.eval()\n",
    "out = densenet201(batch_t)\n",
    "out_ = saved_densenet201(batch_t)\n",
    "print(out.shape)"
   ]
  },
  {
   "cell_type": "code",
   "execution_count": 5,
   "metadata": {},
   "outputs": [
    {
     "name": "stdout",
     "output_type": "stream",
     "text": [
      "******* from package **********\n",
      "[('Indian elephant, Elephas maximus', 89.78053283691406), ('tusker', 3.989802360534668), ('African elephant, Loxodonta africana', 2.4459424018859863), ('triceratops', 0.5529593229293823), ('water buffalo, water ox, Asiatic buffalo, Bubalus bubalis', 0.5169805288314819)]\n",
      "******* saved model **********\n",
      "[('Indian elephant, Elephas maximus', 89.78053283691406), ('tusker', 3.989802360534668), ('African elephant, Loxodonta africana', 2.4459424018859863), ('triceratops', 0.5529593229293823), ('water buffalo, water ox, Asiatic buffalo, Bubalus bubalis', 0.5169805288314819)]\n"
     ]
    }
   ],
   "source": [
    "with open('imagenet_classes.txt') as f:\n",
    "    classes = [line.strip() for line in f.readlines()]\n",
    "\n",
    "\"\"\"\n",
    "_, index = torch.max(out, 1)\n",
    "percentage = torch.nn.functional.softmax(out, dim=1)[0] * 100\n",
    "print(classes[index[0]], percentage[index[0]].item())\n",
    "\"\"\"\n",
    "print('******* from package **********')\n",
    "#print the top 5 classes predicted by the model\n",
    "_, indices = torch.sort(out, descending=True)\n",
    "percentage = torch.nn.functional.softmax(out, dim=1)[0] * 100\n",
    "print([(classes[idx], percentage[idx].item()) for idx in indices[0][:5]])\n",
    "\n",
    "print('******* saved model **********')\n",
    "#print the top 5 classes predicted by the model\n",
    "_, indices = torch.sort(out_, descending=True)\n",
    "percentage = torch.nn.functional.softmax(out, dim=1)[0] * 100\n",
    "print([(classes[idx], percentage[idx].item()) for idx in indices[0][:5]])"
   ]
  },
  {
   "cell_type": "code",
   "execution_count": null,
   "metadata": {},
   "outputs": [],
   "source": []
  }
 ],
 "metadata": {
  "kernelspec": {
   "display_name": "Python 3",
   "language": "python",
   "name": "python3"
  },
  "language_info": {
   "codemirror_mode": {
    "name": "ipython",
    "version": 3
   },
   "file_extension": ".py",
   "mimetype": "text/x-python",
   "name": "python",
   "nbconvert_exporter": "python",
   "pygments_lexer": "ipython3",
   "version": "3.7.3"
  }
 },
 "nbformat": 4,
 "nbformat_minor": 4
}
