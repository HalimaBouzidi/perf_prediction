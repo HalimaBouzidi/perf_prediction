{
 "cells": [
  {
   "cell_type": "code",
   "execution_count": 5,
   "metadata": {},
   "outputs": [
    {
     "name": "stdout",
     "output_type": "stream",
     "text": [
      "['fbresnet152', 'bninception', 'resnext101_32x4d', 'resnext101_64x4d', 'inceptionv4', 'inceptionresnetv2', 'alexnet', 'densenet121', 'densenet169', 'densenet201', 'densenet161', 'resnet18', 'resnet34', 'resnet50', 'resnet101', 'resnet152', 'inceptionv3', 'squeezenet1_0', 'squeezenet1_1', 'vgg11', 'vgg11_bn', 'vgg13', 'vgg13_bn', 'vgg16', 'vgg16_bn', 'vgg19_bn', 'vgg19', 'nasnetamobile', 'nasnetalarge', 'dpn68', 'dpn68b', 'dpn92', 'dpn98', 'dpn131', 'dpn107', 'xception', 'senet154', 'se_resnet50', 'se_resnet101', 'se_resnet152', 'se_resnext50_32x4d', 'se_resnext101_32x4d', 'cafferesnet101', 'pnasnet5large', 'polynet']\n"
     ]
    }
   ],
   "source": [
    "import pretrainedmodels\n",
    "import torch\n",
    "from torchvision import transforms\n",
    "from PIL import Image\n",
    "\n",
    "print(pretrainedmodels.model_names)"
   ]
  },
  {
   "cell_type": "code",
   "execution_count": 7,
   "metadata": {},
   "outputs": [],
   "source": [
    "model_name = 'inceptionresnetv2' \n",
    "inceptionresnetv2 = pretrainedmodels.__dict__[model_name](num_classes=1000, pretrained='imagenet')\n",
    "\n",
    "# Save the model\n",
    "#torch.save(inceptionresnetv2, './Saved-Model/InceptionResNetV2.pt')\n",
    "saved_inceptionresnetv2 = torch.load('./Saved-Model/InceptionResNetV2.pt')"
   ]
  },
  {
   "cell_type": "code",
   "execution_count": 8,
   "metadata": {},
   "outputs": [],
   "source": [
    "#Prepare data for inference\n",
    "\n",
    "transform = transforms.Compose([            #[1]\n",
    " transforms.Resize(299),                    #[2]\n",
    " transforms.CenterCrop(299),                #[3]\n",
    " transforms.ToTensor(),                     #[4]\n",
    " transforms.Normalize(                      #[5]\n",
    " mean=[0.485, 0.456, 0.406],                #[6]\n",
    " std=[0.229, 0.224, 0.225]                  #[7]\n",
    " )])\n",
    "\n",
    "#Line [1]: Here we are defining a variable transform which is a combination of all the image transformations to be carried out on the input image.\n",
    "\n",
    "#Line [2]: Resize the image to 256×256 pixels.\n",
    "\n",
    "#Line [3]: Crop the image to 299×299 pixels about the center.\n",
    "\n",
    "#Line [4]: Convert the image to PyTorch Tensor data type.\n",
    "\n",
    "#Line [5-7]: Normalize the image by setting its mean and standard deviation to the specified values.\n",
    "\n",
    "img = Image.open(\"elephant.jpg\")\n",
    "img_t = transform(img)\n",
    "batch_t = torch.unsqueeze(img_t, 0)"
   ]
  },
  {
   "cell_type": "code",
   "execution_count": 9,
   "metadata": {},
   "outputs": [
    {
     "name": "stdout",
     "output_type": "stream",
     "text": [
      "torch.Size([1, 1000])\n"
     ]
    }
   ],
   "source": [
    "inceptionresnetv2.eval()\n",
    "saved_inceptionresnetv2.eval()\n",
    "out = inceptionresnetv2(batch_t)\n",
    "out_ = saved_inceptionresnetv2(batch_t)\n",
    "print(out.shape)"
   ]
  },
  {
   "cell_type": "code",
   "execution_count": 10,
   "metadata": {},
   "outputs": [
    {
     "name": "stdout",
     "output_type": "stream",
     "text": [
      "******* from package **********\n",
      "[('Indian elephant, Elephas maximus', 95.21646881103516), ('African elephant, Loxodonta africana', 0.3794426918029785), ('tusker', 0.33301594853401184), ('hippopotamus, hippo, river horse, Hippopotamus amphibius', 0.035843852907419205), ('football helmet', 0.027852624654769897)]\n",
      "******* saved model **********\n",
      "[('Indian elephant, Elephas maximus', 95.21646881103516), ('African elephant, Loxodonta africana', 0.3794426918029785), ('tusker', 0.33301594853401184), ('hippopotamus, hippo, river horse, Hippopotamus amphibius', 0.035843852907419205), ('football helmet', 0.027852624654769897)]\n"
     ]
    }
   ],
   "source": [
    "with open('imagenet_classes.txt') as f:\n",
    "    classes = [line.strip() for line in f.readlines()]\n",
    "\n",
    "\"\"\"\n",
    "_, index = torch.max(out, 1)\n",
    "percentage = torch.nn.functional.softmax(out, dim=1)[0] * 100\n",
    "print(classes[index[0]], percentage[index[0]].item())\n",
    "\"\"\"\n",
    "print('******* from package **********')\n",
    "#print the top 5 classes predicted by the model\n",
    "_, indices = torch.sort(out, descending=True)\n",
    "percentage = torch.nn.functional.softmax(out, dim=1)[0] * 100\n",
    "print([(classes[idx], percentage[idx].item()) for idx in indices[0][:5]])\n",
    "\n",
    "print('******* saved model **********')\n",
    "#print the top 5 classes predicted by the model\n",
    "_, indices = torch.sort(out_, descending=True)\n",
    "percentage = torch.nn.functional.softmax(out, dim=1)[0] * 100\n",
    "print([(classes[idx], percentage[idx].item()) for idx in indices[0][:5]])"
   ]
  },
  {
   "cell_type": "code",
   "execution_count": null,
   "metadata": {},
   "outputs": [],
   "source": []
  }
 ],
 "metadata": {
  "kernelspec": {
   "display_name": "Python 3",
   "language": "python",
   "name": "python3"
  },
  "language_info": {
   "codemirror_mode": {
    "name": "ipython",
    "version": 3
   },
   "file_extension": ".py",
   "mimetype": "text/x-python",
   "name": "python",
   "nbconvert_exporter": "python",
   "pygments_lexer": "ipython3",
   "version": "3.7.3"
  }
 },
 "nbformat": 4,
 "nbformat_minor": 4
}
