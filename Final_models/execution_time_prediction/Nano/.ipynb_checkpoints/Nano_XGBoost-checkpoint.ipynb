{
 "cells": [
  {
   "cell_type": "code",
   "execution_count": 1,
   "metadata": {
    "id": "S-M_U2bE9EVT"
   },
   "outputs": [],
   "source": [
    "import numpy as np \n",
    "import pandas as pd\n",
    "import xgboost as xgb\n",
    "from sklearn.preprocessing import StandardScaler\n",
    "from sklearn.model_selection import train_test_split\n",
    "from sklearn.metrics import explained_variance_score\n",
    "from sklearn.metrics import r2_score\n",
    "from sklearn.metrics import median_absolute_error\n",
    "from sklearn.metrics import mean_absolute_error\n",
    "from sklearn.metrics import mean_squared_error\n",
    "from sklearn.model_selection import KFold\n",
    "from sklearn.model_selection import cross_val_score\n",
    "from sklearn.pipeline import Pipeline\n",
    "import seaborn as sns\n",
    "import matplotlib.pyplot as plt\n",
    "from matplotlib.ticker import PercentFormatter"
   ]
  },
  {
   "cell_type": "code",
   "execution_count": 2,
   "metadata": {
    "colab": {
     "base_uri": "https://localhost:8080/",
     "height": 296
    },
    "id": "dwXR3vtM9EXQ",
    "outputId": "8f947cd3-fe3f-4ae7-d456-157fb7ec9761",
    "scrolled": true
   },
   "outputs": [
    {
     "data": {
      "text/html": [
       "<div>\n",
       "<style scoped>\n",
       "    .dataframe tbody tr th:only-of-type {\n",
       "        vertical-align: middle;\n",
       "    }\n",
       "\n",
       "    .dataframe tbody tr th {\n",
       "        vertical-align: top;\n",
       "    }\n",
       "\n",
       "    .dataframe thead th {\n",
       "        text-align: right;\n",
       "    }\n",
       "</style>\n",
       "<table border=\"1\" class=\"dataframe\">\n",
       "  <thead>\n",
       "    <tr style=\"text-align: right;\">\n",
       "      <th></th>\n",
       "      <th>Model_name</th>\n",
       "      <th>input_shape</th>\n",
       "      <th>ACET</th>\n",
       "      <th>input_width</th>\n",
       "      <th>input_size</th>\n",
       "      <th>nb_params_conv</th>\n",
       "      <th>nb_params_bn</th>\n",
       "      <th>nb_params_fc</th>\n",
       "      <th>flops</th>\n",
       "      <th>nb_layers</th>\n",
       "      <th>nb_conv_layers</th>\n",
       "      <th>nb_bn_layers</th>\n",
       "      <th>nb_fc_layers</th>\n",
       "      <th>sum_activations</th>\n",
       "      <th>weighted_sum_neurons</th>\n",
       "    </tr>\n",
       "  </thead>\n",
       "  <tbody>\n",
       "    <tr>\n",
       "      <th>1328</th>\n",
       "      <td>basic_model_480_34</td>\n",
       "      <td>(1, 480, 480, 3)</td>\n",
       "      <td>733.335791</td>\n",
       "      <td>480</td>\n",
       "      <td>691200</td>\n",
       "      <td>33133184</td>\n",
       "      <td>11008</td>\n",
       "      <td>570</td>\n",
       "      <td>79295508671</td>\n",
       "      <td>59</td>\n",
       "      <td>34</td>\n",
       "      <td>16</td>\n",
       "      <td>1</td>\n",
       "      <td>35042884</td>\n",
       "      <td>39594707232</td>\n",
       "    </tr>\n",
       "    <tr>\n",
       "      <th>1329</th>\n",
       "      <td>basic_model_256_13</td>\n",
       "      <td>(1, 256, 256, 3)</td>\n",
       "      <td>705.425112</td>\n",
       "      <td>256</td>\n",
       "      <td>196608</td>\n",
       "      <td>2093972</td>\n",
       "      <td>3824</td>\n",
       "      <td>1010</td>\n",
       "      <td>109798665152</td>\n",
       "      <td>25</td>\n",
       "      <td>13</td>\n",
       "      <td>5</td>\n",
       "      <td>1</td>\n",
       "      <td>135107384</td>\n",
       "      <td>54848514304</td>\n",
       "    </tr>\n",
       "    <tr>\n",
       "      <th>1330</th>\n",
       "      <td>basic_model_350_6</td>\n",
       "      <td>(1, 350, 350, 3)</td>\n",
       "      <td>698.543617</td>\n",
       "      <td>350</td>\n",
       "      <td>367500</td>\n",
       "      <td>172904</td>\n",
       "      <td>1912</td>\n",
       "      <td>810</td>\n",
       "      <td>42303275359</td>\n",
       "      <td>15</td>\n",
       "      <td>6</td>\n",
       "      <td>5</td>\n",
       "      <td>1</td>\n",
       "      <td>127277600</td>\n",
       "      <td>21112385000</td>\n",
       "    </tr>\n",
       "    <tr>\n",
       "      <th>1331</th>\n",
       "      <td>basic_model_64_21</td>\n",
       "      <td>(1, 64, 64, 3)</td>\n",
       "      <td>621.550717</td>\n",
       "      <td>64</td>\n",
       "      <td>12288</td>\n",
       "      <td>25503568</td>\n",
       "      <td>7072</td>\n",
       "      <td>1210</td>\n",
       "      <td>59776080802</td>\n",
       "      <td>38</td>\n",
       "      <td>21</td>\n",
       "      <td>10</td>\n",
       "      <td>1</td>\n",
       "      <td>10843232</td>\n",
       "      <td>29858337280</td>\n",
       "    </tr>\n",
       "    <tr>\n",
       "      <th>1332</th>\n",
       "      <td>basic_model_400_14</td>\n",
       "      <td>(1, 400, 400, 3)</td>\n",
       "      <td>602.228921</td>\n",
       "      <td>400</td>\n",
       "      <td>480000</td>\n",
       "      <td>8727042</td>\n",
       "      <td>3504</td>\n",
       "      <td>70200</td>\n",
       "      <td>74335462549</td>\n",
       "      <td>27</td>\n",
       "      <td>14</td>\n",
       "      <td>5</td>\n",
       "      <td>1</td>\n",
       "      <td>84037806</td>\n",
       "      <td>37114318592</td>\n",
       "    </tr>\n",
       "  </tbody>\n",
       "</table>\n",
       "</div>"
      ],
      "text/plain": [
       "              Model_name       input_shape        ACET  input_width  \\\n",
       "1328  basic_model_480_34  (1, 480, 480, 3)  733.335791          480   \n",
       "1329  basic_model_256_13  (1, 256, 256, 3)  705.425112          256   \n",
       "1330   basic_model_350_6  (1, 350, 350, 3)  698.543617          350   \n",
       "1331   basic_model_64_21    (1, 64, 64, 3)  621.550717           64   \n",
       "1332  basic_model_400_14  (1, 400, 400, 3)  602.228921          400   \n",
       "\n",
       "      input_size  nb_params_conv  nb_params_bn  nb_params_fc         flops  \\\n",
       "1328      691200        33133184         11008           570   79295508671   \n",
       "1329      196608         2093972          3824          1010  109798665152   \n",
       "1330      367500          172904          1912           810   42303275359   \n",
       "1331       12288        25503568          7072          1210   59776080802   \n",
       "1332      480000         8727042          3504         70200   74335462549   \n",
       "\n",
       "      nb_layers  nb_conv_layers  nb_bn_layers  nb_fc_layers  sum_activations  \\\n",
       "1328         59              34            16             1         35042884   \n",
       "1329         25              13             5             1        135107384   \n",
       "1330         15               6             5             1        127277600   \n",
       "1331         38              21            10             1         10843232   \n",
       "1332         27              14             5             1         84037806   \n",
       "\n",
       "      weighted_sum_neurons  \n",
       "1328           39594707232  \n",
       "1329           54848514304  \n",
       "1330           21112385000  \n",
       "1331           29858337280  \n",
       "1332           37114318592  "
      ]
     },
     "execution_count": 2,
     "metadata": {},
     "output_type": "execute_result"
    }
   ],
   "source": [
    "# 1/ Training data :\n",
    "\n",
    "column_names = ['Model_name', 'input_shape', 'ACET', 'input_width', 'input_size', 'nb_params_conv', \n",
    "                'nb_params_bn', 'nb_params_fc', 'flops', 'nb_layers', 'nb_conv_layers', 'nb_bn_layers',\n",
    "                'nb_fc_layers', 'sum_activations', 'weighted_sum_neurons']\n",
    "raw_dataset = pd.read_csv('./data/training_dataset.csv', names=column_names,\n",
    "                      na_values = \"?\", comment='\\t', sep=\",\", skipinitialspace=True)\n",
    "train_dataset = raw_dataset.copy()\n",
    "train_dataset.isna().sum()\n",
    "train_dataset = train_dataset.dropna()\n",
    "train_dataset.tail()"
   ]
  },
  {
   "cell_type": "code",
   "execution_count": 32,
   "metadata": {
    "colab": {
     "base_uri": "https://localhost:8080/",
     "height": 244
    },
    "id": "t_rRLw829EYz",
    "outputId": "ce6856ae-3718-4745-bc50-9c87cc77aae8"
   },
   "outputs": [
    {
     "data": {
      "text/html": [
       "<div>\n",
       "<style scoped>\n",
       "    .dataframe tbody tr th:only-of-type {\n",
       "        vertical-align: middle;\n",
       "    }\n",
       "\n",
       "    .dataframe tbody tr th {\n",
       "        vertical-align: top;\n",
       "    }\n",
       "\n",
       "    .dataframe thead th {\n",
       "        text-align: right;\n",
       "    }\n",
       "</style>\n",
       "<table border=\"1\" class=\"dataframe\">\n",
       "  <thead>\n",
       "    <tr style=\"text-align: right;\">\n",
       "      <th></th>\n",
       "      <th>Model_name</th>\n",
       "      <th>input_shape</th>\n",
       "      <th>ACET</th>\n",
       "      <th>input_width</th>\n",
       "      <th>input_size</th>\n",
       "      <th>nb_params_conv</th>\n",
       "      <th>nb_params_bn</th>\n",
       "      <th>nb_params_fc</th>\n",
       "      <th>flops</th>\n",
       "      <th>nb_layers</th>\n",
       "      <th>nb_conv_layers</th>\n",
       "      <th>nb_bn_layers</th>\n",
       "      <th>nb_fc_layers</th>\n",
       "      <th>sum_activations</th>\n",
       "      <th>weighted_sum_neurons</th>\n",
       "    </tr>\n",
       "  </thead>\n",
       "  <tbody>\n",
       "    <tr>\n",
       "      <th>88</th>\n",
       "      <td>EfficientNet-B0</td>\n",
       "      <td>(512, 512, 3)</td>\n",
       "      <td>166.337081</td>\n",
       "      <td>512</td>\n",
       "      <td>786432</td>\n",
       "      <td>3965532</td>\n",
       "      <td>84032</td>\n",
       "      <td>1281000</td>\n",
       "      <td>4085726980</td>\n",
       "      <td>233</td>\n",
       "      <td>81</td>\n",
       "      <td>49</td>\n",
       "      <td>1</td>\n",
       "      <td>117635172</td>\n",
       "      <td>80094501376</td>\n",
       "    </tr>\n",
       "    <tr>\n",
       "      <th>89</th>\n",
       "      <td>EfficientNet-B0</td>\n",
       "      <td>(720, 720, 3)</td>\n",
       "      <td>323.959066</td>\n",
       "      <td>720</td>\n",
       "      <td>1555200</td>\n",
       "      <td>3965532</td>\n",
       "      <td>84032</td>\n",
       "      <td>1281000</td>\n",
       "      <td>8183072596</td>\n",
       "      <td>233</td>\n",
       "      <td>81</td>\n",
       "      <td>49</td>\n",
       "      <td>1</td>\n",
       "      <td>233556068</td>\n",
       "      <td>161236938752</td>\n",
       "    </tr>\n",
       "    <tr>\n",
       "      <th>90</th>\n",
       "      <td>EfficientNet-B4</td>\n",
       "      <td>(90, 90, 3)</td>\n",
       "      <td>67.848263</td>\n",
       "      <td>90</td>\n",
       "      <td>24300</td>\n",
       "      <td>17423416</td>\n",
       "      <td>250400</td>\n",
       "      <td>1793000</td>\n",
       "      <td>595640786</td>\n",
       "      <td>470</td>\n",
       "      <td>160</td>\n",
       "      <td>96</td>\n",
       "      <td>1</td>\n",
       "      <td>10284484</td>\n",
       "      <td>12812090224</td>\n",
       "    </tr>\n",
       "    <tr>\n",
       "      <th>91</th>\n",
       "      <td>EfficientNet-B4</td>\n",
       "      <td>(512, 512, 3)</td>\n",
       "      <td>474.614049</td>\n",
       "      <td>512</td>\n",
       "      <td>786432</td>\n",
       "      <td>17423416</td>\n",
       "      <td>250400</td>\n",
       "      <td>1793000</td>\n",
       "      <td>15877844034</td>\n",
       "      <td>470</td>\n",
       "      <td>160</td>\n",
       "      <td>96</td>\n",
       "      <td>1</td>\n",
       "      <td>305708296</td>\n",
       "      <td>366198974816</td>\n",
       "    </tr>\n",
       "    <tr>\n",
       "      <th>92</th>\n",
       "      <td>EfficientNet-B4</td>\n",
       "      <td>(720, 720, 3)</td>\n",
       "      <td>909.674533</td>\n",
       "      <td>720</td>\n",
       "      <td>1555200</td>\n",
       "      <td>17423416</td>\n",
       "      <td>250400</td>\n",
       "      <td>1793000</td>\n",
       "      <td>31863479154</td>\n",
       "      <td>470</td>\n",
       "      <td>160</td>\n",
       "      <td>96</td>\n",
       "      <td>1</td>\n",
       "      <td>607426440</td>\n",
       "      <td>737567732576</td>\n",
       "    </tr>\n",
       "  </tbody>\n",
       "</table>\n",
       "</div>"
      ],
      "text/plain": [
       "         Model_name    input_shape        ACET  input_width  input_size  \\\n",
       "88  EfficientNet-B0  (512, 512, 3)  166.337081          512      786432   \n",
       "89  EfficientNet-B0  (720, 720, 3)  323.959066          720     1555200   \n",
       "90  EfficientNet-B4    (90, 90, 3)   67.848263           90       24300   \n",
       "91  EfficientNet-B4  (512, 512, 3)  474.614049          512      786432   \n",
       "92  EfficientNet-B4  (720, 720, 3)  909.674533          720     1555200   \n",
       "\n",
       "    nb_params_conv  nb_params_bn  nb_params_fc        flops  nb_layers  \\\n",
       "88         3965532         84032       1281000   4085726980        233   \n",
       "89         3965532         84032       1281000   8183072596        233   \n",
       "90        17423416        250400       1793000    595640786        470   \n",
       "91        17423416        250400       1793000  15877844034        470   \n",
       "92        17423416        250400       1793000  31863479154        470   \n",
       "\n",
       "    nb_conv_layers  nb_bn_layers  nb_fc_layers  sum_activations  \\\n",
       "88              81            49             1        117635172   \n",
       "89              81            49             1        233556068   \n",
       "90             160            96             1         10284484   \n",
       "91             160            96             1        305708296   \n",
       "92             160            96             1        607426440   \n",
       "\n",
       "    weighted_sum_neurons  \n",
       "88           80094501376  \n",
       "89          161236938752  \n",
       "90           12812090224  \n",
       "91          366198974816  \n",
       "92          737567732576  "
      ]
     },
     "execution_count": 32,
     "metadata": {},
     "output_type": "execute_result"
    }
   ],
   "source": [
    "# 1/ Test data :\n",
    "\n",
    "column_names = ['Model_name', 'input_shape', 'ACET', 'input_width', 'input_size', 'nb_params_conv', \n",
    "                'nb_params_bn', 'nb_params_fc', 'flops', 'nb_layers', 'nb_conv_layers', 'nb_bn_layers',\n",
    "                'nb_fc_layers', 'sum_activations', 'weighted_sum_neurons']\n",
    "raw_dataset = pd.read_csv('./data/test_dim1.csv', names=column_names,\n",
    "                      na_values = \"?\", comment='\\t', sep=\",\", skipinitialspace=True)\n",
    "test_dataset = raw_dataset.copy()\n",
    "test_dataset.isna().sum()\n",
    "test_dataset = test_dataset.dropna()\n",
    "test_dataset.tail()"
   ]
  },
  {
   "cell_type": "code",
   "execution_count": 5,
   "metadata": {
    "colab": {
     "base_uri": "https://localhost:8080/"
    },
    "id": "XdWATICk9EaT",
    "outputId": "daaf785e-83d5-44e7-e25b-41c19c4e4bbd"
   },
   "outputs": [
    {
     "data": {
      "text/plain": [
       "0       28\n",
       "1       28\n",
       "2       28\n",
       "3       28\n",
       "4       28\n",
       "        ..\n",
       "1328    34\n",
       "1329    13\n",
       "1330     6\n",
       "1331    21\n",
       "1332    14\n",
       "Name: nb_conv_layers, Length: 1333, dtype: int64"
      ]
     },
     "execution_count": 5,
     "metadata": {},
     "output_type": "execute_result"
    }
   ],
   "source": [
    "train_dataset.pop('input_width')\n",
    "train_dataset.pop('nb_params_fc')\n",
    "train_dataset.pop('nb_params_bn')\n",
    "train_dataset.pop('nb_bn_layers')\n",
    "train_dataset.pop('nb_fc_layers')\n",
    "train_dataset.pop('nb_conv_layers')"
   ]
  },
  {
   "cell_type": "code",
   "execution_count": 33,
   "metadata": {
    "colab": {
     "base_uri": "https://localhost:8080/"
    },
    "id": "zRS3oaWYlfHG",
    "outputId": "e33acdc9-bf70-42cc-d245-e4312e1e0665"
   },
   "outputs": [
    {
     "data": {
      "text/plain": [
       "0     160\n",
       "1     160\n",
       "2     200\n",
       "3     200\n",
       "4     200\n",
       "     ... \n",
       "88     81\n",
       "89     81\n",
       "90    160\n",
       "91    160\n",
       "92    160\n",
       "Name: nb_conv_layers, Length: 93, dtype: int64"
      ]
     },
     "execution_count": 33,
     "metadata": {},
     "output_type": "execute_result"
    }
   ],
   "source": [
    "test_dataset.pop('input_width')\n",
    "test_dataset.pop('nb_params_fc')\n",
    "test_dataset.pop('nb_params_bn')\n",
    "test_dataset.pop('nb_bn_layers')\n",
    "test_dataset.pop('nb_fc_layers')\n",
    "test_dataset.pop('nb_conv_layers')"
   ]
  },
  {
   "cell_type": "code",
   "execution_count": 7,
   "metadata": {
    "id": "74Hl1e-HlfK0"
   },
   "outputs": [],
   "source": [
    "Y = train_dataset.pop('ACET')\n",
    "X = train_dataset\n",
    "Y_f = Y\n",
    "X_f = X"
   ]
  },
  {
   "cell_type": "code",
   "execution_count": 8,
   "metadata": {
    "id": "Z7D6nOv49Ec7"
   },
   "outputs": [],
   "source": [
    "X_train, X_test, y_train, y_test = train_test_split(X,Y,test_size=0.001, random_state=42, shuffle=True)"
   ]
  },
  {
   "cell_type": "code",
   "execution_count": 9,
   "metadata": {
    "id": "KdSNzFzg9Ed9"
   },
   "outputs": [],
   "source": [
    "X_train_model_names = X_train.pop('Model_name')\n",
    "X_train_input_shapes = X_train.pop('input_shape')"
   ]
  },
  {
   "cell_type": "code",
   "execution_count": 10,
   "metadata": {
    "id": "a-0Za44glfQm"
   },
   "outputs": [],
   "source": [
    "X_test_model_names = X_test.pop('Model_name')\n",
    "X_test_input_shapes = X_test.pop('input_shape')"
   ]
  },
  {
   "cell_type": "code",
   "execution_count": 11,
   "metadata": {
    "id": "GQUsXh28sZjV"
   },
   "outputs": [],
   "source": [
    "X_f_model_names = X_f.pop('Model_name')\n",
    "X_f_input_shapes = X_f.pop('input_shape')\n",
    "dtrain_f = xgb.DMatrix(X_f, label=Y_f)"
   ]
  },
  {
   "cell_type": "code",
   "execution_count": 12,
   "metadata": {
    "id": "I3TAHLXH9Eey"
   },
   "outputs": [],
   "source": [
    "dtrain = xgb.DMatrix(X_train, label=y_train)\n",
    "dtest = xgb.DMatrix(X_test, label=y_test)"
   ]
  },
  {
   "cell_type": "code",
   "execution_count": 34,
   "metadata": {
    "id": "hdGkObaO9Efs"
   },
   "outputs": [],
   "source": [
    "Y_e = test_dataset.pop('ACET')\n",
    "X_e = test_dataset\n",
    "X_e.tail()\n",
    "X_test_e_model_names = X_e.pop('Model_name')\n",
    "X_test_e_input_shapes = X_e.pop('input_shape')\n",
    "dtest_e = xgb.DMatrix(X_e, label=Y_e)"
   ]
  },
  {
   "cell_type": "code",
   "execution_count": 14,
   "metadata": {
    "id": "95BbRrkL9Eio"
   },
   "outputs": [],
   "source": [
    "params = {\n",
    "    # Parameters that we are going to tune.\n",
    "    'max_depth':12,\n",
    "    'min_child_weight': 8,\n",
    "    'eta':.05,\n",
    "    'subsample': .8,\n",
    "    'colsample_bytree': 1.,\n",
    "    'gamma' : 0.5,\n",
    "    # Other parameters\n",
    "    'objective':'reg:squarederror',\n",
    "}"
   ]
  },
  {
   "cell_type": "code",
   "execution_count": 15,
   "metadata": {
    "id": "KpZN-eKw9Eju"
   },
   "outputs": [],
   "source": [
    "params['eval_metric'] = \"rmse\"\n",
    "num_boost_round = 1000"
   ]
  },
  {
   "cell_type": "code",
   "execution_count": 16,
   "metadata": {
    "colab": {
     "base_uri": "https://localhost:8080/"
    },
    "id": "TSgKJuup9Eks",
    "outputId": "4cbd18a4-1558-4fa4-e06e-dd8bf513b666"
   },
   "outputs": [
    {
     "name": "stdout",
     "output_type": "stream",
     "text": [
      "{'max_depth': 12, 'min_child_weight': 8, 'eta': 0.05, 'subsample': 0.8, 'colsample_bytree': 1.0, 'gamma': 0.5, 'objective': 'reg:squarederror', 'eval_metric': 'rmse'}\n"
     ]
    }
   ],
   "source": [
    "print(params)"
   ]
  },
  {
   "cell_type": "code",
   "execution_count": 17,
   "metadata": {
    "colab": {
     "base_uri": "https://localhost:8080/"
    },
    "id": "ZJRGqqW_EuRL",
    "outputId": "22ed4850-b736-4b9a-e159-c90737557cd2"
   },
   "outputs": [],
   "source": [
    "num_boost_round = 70\n",
    "best_model = xgb.train( \n",
    "    params,\n",
    "    dtrain,\n",
    "    num_boost_round=num_boost_round,\n",
    ")"
   ]
  },
  {
   "cell_type": "code",
   "execution_count": 18,
   "metadata": {
    "id": "QE8TYO9u9Eyj"
   },
   "outputs": [],
   "source": [
    "#best_model.save_model(\"model_16-04.model\")\n",
    "loaded_model = best_model"
   ]
  },
  {
   "cell_type": "code",
   "execution_count": 35,
   "metadata": {
    "id": "0sF9Ee4WlfmS"
   },
   "outputs": [],
   "source": [
    "y_pred = loaded_model.predict(dtest_e)\n",
    "np_test = Y_e.values\n",
    "y_test = Y_e.values"
   ]
  },
  {
   "cell_type": "code",
   "execution_count": 36,
   "metadata": {
    "colab": {
     "base_uri": "https://localhost:8080/"
    },
    "id": "AksIf4TQcquE",
    "outputId": "62d53600-baf2-4252-f57d-553df37d3f98"
   },
   "outputs": [
    {
     "name": "stdout",
     "output_type": "stream",
     "text": [
      "Explained variance :  0.9879340939899577\n",
      "R2_value :  0.9879175624214821\n",
      "Mean absolute error : 47.35168780422416\n",
      "Root Mean squared error : 96.2894685274151\n",
      "Median absolute error : 18.239778573437547\n"
     ]
    }
   ],
   "source": [
    "# Model evaluation on test dataset\n",
    "print('Explained variance : ',explained_variance_score(y_test, y_pred))\n",
    "print('R2_value : ',r2_score(y_test, y_pred))\n",
    "print('Mean absolute error :', mean_absolute_error(y_test, y_pred))\n",
    "print('Root Mean squared error :', mean_squared_error(y_test, y_pred, squared=False))\n",
    "print('Median absolute error :', median_absolute_error(y_test, y_pred))"
   ]
  },
  {
   "cell_type": "code",
   "execution_count": 37,
   "metadata": {
    "colab": {
     "base_uri": "https://localhost:8080/"
    },
    "id": "eVg6ssE7K10p",
    "outputId": "c38791b4-e858-481e-e198-082a3e18b0b3"
   },
   "outputs": [
    {
     "name": "stdout",
     "output_type": "stream",
     "text": [
      "MAX MAPE :  45.05327504738231\n",
      "Mape: 9.12 %.\n",
      "Accuracy: 90.88 %.\n"
     ]
    }
   ],
   "source": [
    "# Calculate mean absolute percentage error (MAPE)\n",
    "np_test = y_test\n",
    "errors = abs(y_pred-np_test)\n",
    "mape = 100 * (errors / np_test) # Calculate and display accuracy\n",
    "accuracy = 100 - np.mean(mape)\n",
    "print('MAX MAPE : ',max(mape))\n",
    "print('Mape:', round(np.mean(mape), 2), '%.')\n",
    "print('Accuracy:', round(accuracy, 2), '%.')"
   ]
  },
  {
   "cell_type": "code",
   "execution_count": 38,
   "metadata": {
    "colab": {
     "base_uri": "https://localhost:8080/"
    },
    "id": "neiIm2V59E1e",
    "outputId": "e1669243-5bb4-4af7-f1a6-5060b314fa82"
   },
   "outputs": [],
   "source": [
    "test_models = X_test_e_model_names.values\n",
    "test_input_shapes = X_test_e_input_shapes.values"
   ]
  },
  {
   "cell_type": "code",
   "execution_count": 39,
   "metadata": {
    "id": "7Bx9JU4f9E2O"
   },
   "outputs": [],
   "source": [
    "import csv\n",
    "with open('./measured_vs_predicted_XGBoost_dim1.csv', 'w', newline='') as file : \n",
    "    writer = csv.writer(file)\n",
    "    writer.writerow(['CNN_model', 'input_shape', 'model&shape', 'real_exec_time', 'predicted_exec_time', 'absolute_deviation', 'MAPE (in %)'])\n",
    "    for i in range(0, len(y_pred)) :\n",
    "        f = ''+test_models[i]+'_'+test_input_shapes[i]\n",
    "        writer.writerow([test_models[i], test_input_shapes[i], f, np_test[i], y_pred[i],abs(y_pred[i]-np_test[i]), ((abs(y_pred[i]-np_test[i]))/np_test[i])*100])"
   ]
  },
  {
   "cell_type": "code",
   "execution_count": null,
   "metadata": {},
   "outputs": [],
   "source": []
  }
 ],
 "metadata": {
  "colab": {
   "collapsed_sections": [],
   "name": "Nano_XGBoost_Regressor.ipynb",
   "provenance": []
  },
  "kernelspec": {
   "display_name": "Python 3",
   "language": "python",
   "name": "python3"
  },
  "language_info": {
   "codemirror_mode": {
    "name": "ipython",
    "version": 3
   },
   "file_extension": ".py",
   "mimetype": "text/x-python",
   "name": "python",
   "nbconvert_exporter": "python",
   "pygments_lexer": "ipython3",
   "version": "3.8.5"
  }
 },
 "nbformat": 4,
 "nbformat_minor": 1
}
