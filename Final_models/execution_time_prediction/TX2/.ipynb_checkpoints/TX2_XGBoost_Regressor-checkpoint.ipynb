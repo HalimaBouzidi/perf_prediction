{
 "cells": [
  {
   "cell_type": "code",
   "execution_count": 1,
   "metadata": {
    "colab": {
     "base_uri": "https://localhost:8080/",
     "height": 72
    },
    "colab_type": "code",
    "id": "S-M_U2bE9EVT",
    "outputId": "bb77b876-12df-47e9-b0cc-66417b4831e7"
   },
   "outputs": [],
   "source": [
    "import numpy as np \n",
    "import pandas as pd\n",
    "import xgboost as xgb\n",
    "from sklearn.preprocessing import StandardScaler\n",
    "from sklearn.model_selection import train_test_split\n",
    "from sklearn.metrics import explained_variance_score\n",
    "from sklearn.metrics import r2_score\n",
    "from sklearn.metrics import median_absolute_error\n",
    "from sklearn.metrics import mean_absolute_error\n",
    "from sklearn.metrics import mean_squared_error\n",
    "from sklearn.model_selection import KFold\n",
    "from sklearn.model_selection import cross_val_score\n",
    "from sklearn.pipeline import Pipeline\n",
    "import seaborn as sns\n",
    "import matplotlib.pyplot as plt\n",
    "from matplotlib.ticker import PercentFormatter"
   ]
  },
  {
   "cell_type": "code",
   "execution_count": 2,
   "metadata": {
    "colab": {
     "base_uri": "https://localhost:8080/",
     "height": 244
    },
    "colab_type": "code",
    "id": "dwXR3vtM9EXQ",
    "outputId": "30c511a2-a9d9-4fda-cc6d-e50a92e4c3ba"
   },
   "outputs": [
    {
     "data": {
      "text/html": [
       "<div>\n",
       "<style scoped>\n",
       "    .dataframe tbody tr th:only-of-type {\n",
       "        vertical-align: middle;\n",
       "    }\n",
       "\n",
       "    .dataframe tbody tr th {\n",
       "        vertical-align: top;\n",
       "    }\n",
       "\n",
       "    .dataframe thead th {\n",
       "        text-align: right;\n",
       "    }\n",
       "</style>\n",
       "<table border=\"1\" class=\"dataframe\">\n",
       "  <thead>\n",
       "    <tr style=\"text-align: right;\">\n",
       "      <th></th>\n",
       "      <th>Model_name</th>\n",
       "      <th>input_shape</th>\n",
       "      <th>ACET</th>\n",
       "      <th>input_width</th>\n",
       "      <th>input_size</th>\n",
       "      <th>nb_params_conv</th>\n",
       "      <th>nb_params_bn</th>\n",
       "      <th>nb_params_fc</th>\n",
       "      <th>flops</th>\n",
       "      <th>nb_layers</th>\n",
       "      <th>nb_conv_layers</th>\n",
       "      <th>nb_bn_layers</th>\n",
       "      <th>nb_fc_layers</th>\n",
       "      <th>sum_activations</th>\n",
       "      <th>weighted_sum_neurons</th>\n",
       "    </tr>\n",
       "  </thead>\n",
       "  <tbody>\n",
       "    <tr>\n",
       "      <th>1525</th>\n",
       "      <td>basic_model_64_15</td>\n",
       "      <td>(1, 64, 64, 3)</td>\n",
       "      <td>185.188635</td>\n",
       "      <td>64</td>\n",
       "      <td>12288</td>\n",
       "      <td>37300460</td>\n",
       "      <td>5760</td>\n",
       "      <td>48100</td>\n",
       "      <td>10696805810</td>\n",
       "      <td>27</td>\n",
       "      <td>15</td>\n",
       "      <td>5</td>\n",
       "      <td>1</td>\n",
       "      <td>3050376</td>\n",
       "      <td>5309448448</td>\n",
       "    </tr>\n",
       "    <tr>\n",
       "      <th>1526</th>\n",
       "      <td>basic_model_32_44</td>\n",
       "      <td>(1, 32, 32, 3)</td>\n",
       "      <td>182.426993</td>\n",
       "      <td>32</td>\n",
       "      <td>3072</td>\n",
       "      <td>32517012</td>\n",
       "      <td>14352</td>\n",
       "      <td>513000</td>\n",
       "      <td>23311729169</td>\n",
       "      <td>74</td>\n",
       "      <td>44</td>\n",
       "      <td>20</td>\n",
       "      <td>1</td>\n",
       "      <td>5247440</td>\n",
       "      <td>11618736064</td>\n",
       "    </tr>\n",
       "    <tr>\n",
       "      <th>1527</th>\n",
       "      <td>basic_model_112_17</td>\n",
       "      <td>(1, 112, 112, 3)</td>\n",
       "      <td>167.433424</td>\n",
       "      <td>112</td>\n",
       "      <td>37632</td>\n",
       "      <td>15046344</td>\n",
       "      <td>9488</td>\n",
       "      <td>1210</td>\n",
       "      <td>51190739064</td>\n",
       "      <td>33</td>\n",
       "      <td>17</td>\n",
       "      <td>8</td>\n",
       "      <td>1</td>\n",
       "      <td>25374078</td>\n",
       "      <td>25571214384</td>\n",
       "    </tr>\n",
       "    <tr>\n",
       "      <th>1528</th>\n",
       "      <td>basic_model_75_37</td>\n",
       "      <td>(1, 75, 75, 3)</td>\n",
       "      <td>159.081569</td>\n",
       "      <td>75</td>\n",
       "      <td>16875</td>\n",
       "      <td>18939872</td>\n",
       "      <td>9264</td>\n",
       "      <td>80500</td>\n",
       "      <td>26945702640</td>\n",
       "      <td>64</td>\n",
       "      <td>37</td>\n",
       "      <td>19</td>\n",
       "      <td>1</td>\n",
       "      <td>9258839</td>\n",
       "      <td>13449790920</td>\n",
       "    </tr>\n",
       "    <tr>\n",
       "      <th>1529</th>\n",
       "      <td>basic_model_32_23</td>\n",
       "      <td>(1, 32, 32, 3)</td>\n",
       "      <td>135.091388</td>\n",
       "      <td>32</td>\n",
       "      <td>3072</td>\n",
       "      <td>16689184</td>\n",
       "      <td>9632</td>\n",
       "      <td>491530</td>\n",
       "      <td>34211079000</td>\n",
       "      <td>41</td>\n",
       "      <td>23</td>\n",
       "      <td>14</td>\n",
       "      <td>1</td>\n",
       "      <td>6237204</td>\n",
       "      <td>17086005248</td>\n",
       "    </tr>\n",
       "  </tbody>\n",
       "</table>\n",
       "</div>"
      ],
      "text/plain": [
       "              Model_name       input_shape        ACET  input_width  \\\n",
       "1525   basic_model_64_15    (1, 64, 64, 3)  185.188635           64   \n",
       "1526   basic_model_32_44    (1, 32, 32, 3)  182.426993           32   \n",
       "1527  basic_model_112_17  (1, 112, 112, 3)  167.433424          112   \n",
       "1528   basic_model_75_37    (1, 75, 75, 3)  159.081569           75   \n",
       "1529   basic_model_32_23    (1, 32, 32, 3)  135.091388           32   \n",
       "\n",
       "      input_size  nb_params_conv  nb_params_bn  nb_params_fc        flops  \\\n",
       "1525       12288        37300460          5760         48100  10696805810   \n",
       "1526        3072        32517012         14352        513000  23311729169   \n",
       "1527       37632        15046344          9488          1210  51190739064   \n",
       "1528       16875        18939872          9264         80500  26945702640   \n",
       "1529        3072        16689184          9632        491530  34211079000   \n",
       "\n",
       "      nb_layers  nb_conv_layers  nb_bn_layers  nb_fc_layers  sum_activations  \\\n",
       "1525         27              15             5             1          3050376   \n",
       "1526         74              44            20             1          5247440   \n",
       "1527         33              17             8             1         25374078   \n",
       "1528         64              37            19             1          9258839   \n",
       "1529         41              23            14             1          6237204   \n",
       "\n",
       "      weighted_sum_neurons  \n",
       "1525            5309448448  \n",
       "1526           11618736064  \n",
       "1527           25571214384  \n",
       "1528           13449790920  \n",
       "1529           17086005248  "
      ]
     },
     "execution_count": 2,
     "metadata": {},
     "output_type": "execute_result"
    }
   ],
   "source": [
    "# 1/ Training data :\n",
    "\n",
    "column_names = ['Model_name', 'input_shape', 'ACET', 'input_width', 'input_size', 'nb_params_conv', \n",
    "                'nb_params_bn', 'nb_params_fc', 'flops', 'nb_layers', 'nb_conv_layers', 'nb_bn_layers',\n",
    "                'nb_fc_layers', 'sum_activations', 'weighted_sum_neurons']\n",
    "raw_dataset = pd.read_csv('./data/training_dataset.csv', names=column_names,\n",
    "                      na_values = \"?\", comment='\\t', sep=\",\", skipinitialspace=True)\n",
    "train_dataset = raw_dataset.copy()\n",
    "train_dataset.isna().sum()\n",
    "train_dataset = train_dataset.dropna()\n",
    "train_dataset.tail()"
   ]
  },
  {
   "cell_type": "code",
   "execution_count": 110,
   "metadata": {
    "colab": {
     "base_uri": "https://localhost:8080/",
     "height": 227
    },
    "colab_type": "code",
    "id": "t_rRLw829EYz",
    "outputId": "ad36b6fd-9da6-42ef-f23a-7718897e6261"
   },
   "outputs": [
    {
     "data": {
      "text/html": [
       "<div>\n",
       "<style scoped>\n",
       "    .dataframe tbody tr th:only-of-type {\n",
       "        vertical-align: middle;\n",
       "    }\n",
       "\n",
       "    .dataframe tbody tr th {\n",
       "        vertical-align: top;\n",
       "    }\n",
       "\n",
       "    .dataframe thead th {\n",
       "        text-align: right;\n",
       "    }\n",
       "</style>\n",
       "<table border=\"1\" class=\"dataframe\">\n",
       "  <thead>\n",
       "    <tr style=\"text-align: right;\">\n",
       "      <th></th>\n",
       "      <th>Model_name</th>\n",
       "      <th>input_shape</th>\n",
       "      <th>ACET</th>\n",
       "      <th>input_width</th>\n",
       "      <th>input_size</th>\n",
       "      <th>nb_params_conv</th>\n",
       "      <th>nb_params_bn</th>\n",
       "      <th>nb_params_fc</th>\n",
       "      <th>flops</th>\n",
       "      <th>nb_layers</th>\n",
       "      <th>nb_conv_layers</th>\n",
       "      <th>nb_bn_layers</th>\n",
       "      <th>nb_fc_layers</th>\n",
       "      <th>sum_activations</th>\n",
       "      <th>weighted_sum_neurons</th>\n",
       "    </tr>\n",
       "  </thead>\n",
       "  <tbody>\n",
       "    <tr>\n",
       "      <th>102</th>\n",
       "      <td>EfficientNet-B0</td>\n",
       "      <td>(512, 512, 3)</td>\n",
       "      <td>69.488341</td>\n",
       "      <td>512</td>\n",
       "      <td>786432</td>\n",
       "      <td>3965532</td>\n",
       "      <td>84032</td>\n",
       "      <td>1281000</td>\n",
       "      <td>4085726980</td>\n",
       "      <td>233</td>\n",
       "      <td>81</td>\n",
       "      <td>49</td>\n",
       "      <td>1</td>\n",
       "      <td>117635172</td>\n",
       "      <td>80094501376</td>\n",
       "    </tr>\n",
       "    <tr>\n",
       "      <th>103</th>\n",
       "      <td>EfficientNet-B0</td>\n",
       "      <td>(720, 720, 3)</td>\n",
       "      <td>136.853771</td>\n",
       "      <td>720</td>\n",
       "      <td>1555200</td>\n",
       "      <td>3965532</td>\n",
       "      <td>84032</td>\n",
       "      <td>1281000</td>\n",
       "      <td>8183072596</td>\n",
       "      <td>233</td>\n",
       "      <td>81</td>\n",
       "      <td>49</td>\n",
       "      <td>1</td>\n",
       "      <td>233556068</td>\n",
       "      <td>161236938752</td>\n",
       "    </tr>\n",
       "    <tr>\n",
       "      <th>104</th>\n",
       "      <td>EfficientNet-B4</td>\n",
       "      <td>(90, 90, 3)</td>\n",
       "      <td>30.377035</td>\n",
       "      <td>90</td>\n",
       "      <td>24300</td>\n",
       "      <td>17423416</td>\n",
       "      <td>250400</td>\n",
       "      <td>1793000</td>\n",
       "      <td>595640786</td>\n",
       "      <td>470</td>\n",
       "      <td>160</td>\n",
       "      <td>96</td>\n",
       "      <td>1</td>\n",
       "      <td>10284484</td>\n",
       "      <td>12812090224</td>\n",
       "    </tr>\n",
       "    <tr>\n",
       "      <th>105</th>\n",
       "      <td>EfficientNet-B4</td>\n",
       "      <td>(512, 512, 3)</td>\n",
       "      <td>189.856248</td>\n",
       "      <td>512</td>\n",
       "      <td>786432</td>\n",
       "      <td>17423416</td>\n",
       "      <td>250400</td>\n",
       "      <td>1793000</td>\n",
       "      <td>15877844034</td>\n",
       "      <td>470</td>\n",
       "      <td>160</td>\n",
       "      <td>96</td>\n",
       "      <td>1</td>\n",
       "      <td>305708296</td>\n",
       "      <td>366198974816</td>\n",
       "    </tr>\n",
       "    <tr>\n",
       "      <th>106</th>\n",
       "      <td>EfficientNet-B4</td>\n",
       "      <td>(720, 720, 3)</td>\n",
       "      <td>372.265183</td>\n",
       "      <td>720</td>\n",
       "      <td>1555200</td>\n",
       "      <td>17423416</td>\n",
       "      <td>250400</td>\n",
       "      <td>1793000</td>\n",
       "      <td>31863479154</td>\n",
       "      <td>470</td>\n",
       "      <td>160</td>\n",
       "      <td>96</td>\n",
       "      <td>1</td>\n",
       "      <td>607426440</td>\n",
       "      <td>737567732576</td>\n",
       "    </tr>\n",
       "  </tbody>\n",
       "</table>\n",
       "</div>"
      ],
      "text/plain": [
       "          Model_name    input_shape        ACET  input_width  input_size  \\\n",
       "102  EfficientNet-B0  (512, 512, 3)   69.488341          512      786432   \n",
       "103  EfficientNet-B0  (720, 720, 3)  136.853771          720     1555200   \n",
       "104  EfficientNet-B4    (90, 90, 3)   30.377035           90       24300   \n",
       "105  EfficientNet-B4  (512, 512, 3)  189.856248          512      786432   \n",
       "106  EfficientNet-B4  (720, 720, 3)  372.265183          720     1555200   \n",
       "\n",
       "     nb_params_conv  nb_params_bn  nb_params_fc        flops  nb_layers  \\\n",
       "102         3965532         84032       1281000   4085726980        233   \n",
       "103         3965532         84032       1281000   8183072596        233   \n",
       "104        17423416        250400       1793000    595640786        470   \n",
       "105        17423416        250400       1793000  15877844034        470   \n",
       "106        17423416        250400       1793000  31863479154        470   \n",
       "\n",
       "     nb_conv_layers  nb_bn_layers  nb_fc_layers  sum_activations  \\\n",
       "102              81            49             1        117635172   \n",
       "103              81            49             1        233556068   \n",
       "104             160            96             1         10284484   \n",
       "105             160            96             1        305708296   \n",
       "106             160            96             1        607426440   \n",
       "\n",
       "     weighted_sum_neurons  \n",
       "102           80094501376  \n",
       "103          161236938752  \n",
       "104           12812090224  \n",
       "105          366198974816  \n",
       "106          737567732576  "
      ]
     },
     "execution_count": 110,
     "metadata": {},
     "output_type": "execute_result"
    }
   ],
   "source": [
    "# 1/ Test data :\n",
    "\n",
    "column_names = ['Model_name', 'input_shape', 'ACET', 'input_width', 'input_size', 'nb_params_conv', \n",
    "                'nb_params_bn', 'nb_params_fc', 'flops', 'nb_layers', 'nb_conv_layers', 'nb_bn_layers',\n",
    "                'nb_fc_layers', 'sum_activations', 'weighted_sum_neurons']\n",
    "raw_dataset = pd.read_csv('./data/test_dim1.csv', names=column_names,\n",
    "                      na_values = \"?\", comment='\\t', sep=\",\", skipinitialspace=True)\n",
    "test_dataset = raw_dataset.copy()\n",
    "test_dataset.isna().sum()\n",
    "test_dataset = test_dataset.dropna()\n",
    "test_dataset.tail()"
   ]
  },
  {
   "cell_type": "code",
   "execution_count": 5,
   "metadata": {
    "colab": {
     "base_uri": "https://localhost:8080/",
     "height": 225
    },
    "colab_type": "code",
    "id": "XdWATICk9EaT",
    "outputId": "54cfeefe-50b6-400d-9bf8-58a00c1beaf2"
   },
   "outputs": [
    {
     "data": {
      "text/plain": [
       "0       28\n",
       "1       28\n",
       "2       28\n",
       "3       28\n",
       "4       28\n",
       "        ..\n",
       "1525    15\n",
       "1526    44\n",
       "1527    17\n",
       "1528    37\n",
       "1529    23\n",
       "Name: nb_conv_layers, Length: 1530, dtype: int64"
      ]
     },
     "execution_count": 5,
     "metadata": {},
     "output_type": "execute_result"
    }
   ],
   "source": [
    "train_dataset.pop('input_width')\n",
    "train_dataset.pop('nb_params_fc')\n",
    "train_dataset.pop('nb_params_bn')\n",
    "train_dataset.pop('nb_bn_layers')\n",
    "train_dataset.pop('nb_fc_layers')\n",
    "train_dataset.pop('nb_conv_layers')"
   ]
  },
  {
   "cell_type": "code",
   "execution_count": 111,
   "metadata": {
    "colab": {
     "base_uri": "https://localhost:8080/",
     "height": 225
    },
    "colab_type": "code",
    "id": "zRS3oaWYlfHG",
    "outputId": "559a3ba0-a3f5-4ac9-a5ae-90f9df8e70cd"
   },
   "outputs": [
    {
     "data": {
      "text/plain": [
       "0      160\n",
       "1      160\n",
       "2      168\n",
       "3      168\n",
       "4      200\n",
       "      ... \n",
       "102     81\n",
       "103     81\n",
       "104    160\n",
       "105    160\n",
       "106    160\n",
       "Name: nb_conv_layers, Length: 107, dtype: int64"
      ]
     },
     "execution_count": 111,
     "metadata": {},
     "output_type": "execute_result"
    }
   ],
   "source": [
    "test_dataset.pop('input_width')\n",
    "test_dataset.pop('nb_params_fc')\n",
    "test_dataset.pop('nb_params_bn')\n",
    "test_dataset.pop('nb_bn_layers')\n",
    "test_dataset.pop('nb_fc_layers')\n",
    "test_dataset.pop('nb_conv_layers')"
   ]
  },
  {
   "cell_type": "code",
   "execution_count": 7,
   "metadata": {
    "colab": {},
    "colab_type": "code",
    "id": "74Hl1e-HlfK0"
   },
   "outputs": [],
   "source": [
    "Y = train_dataset.pop('ACET')\n",
    "X = train_dataset\n",
    "Y_f = Y\n",
    "X_f = X"
   ]
  },
  {
   "cell_type": "code",
   "execution_count": 8,
   "metadata": {
    "colab": {},
    "colab_type": "code",
    "id": "Z7D6nOv49Ec7"
   },
   "outputs": [],
   "source": [
    "X_train, X_test, y_train, y_test = train_test_split(X,Y,test_size=0.001, random_state=42, shuffle=True)"
   ]
  },
  {
   "cell_type": "code",
   "execution_count": 9,
   "metadata": {
    "colab": {},
    "colab_type": "code",
    "id": "KdSNzFzg9Ed9"
   },
   "outputs": [],
   "source": [
    "X_train_model_names = X_train.pop('Model_name')\n",
    "X_train_input_shapes = X_train.pop('input_shape')"
   ]
  },
  {
   "cell_type": "code",
   "execution_count": 10,
   "metadata": {
    "colab": {},
    "colab_type": "code",
    "id": "a-0Za44glfQm"
   },
   "outputs": [],
   "source": [
    "X_test_model_names = X_test.pop('Model_name')\n",
    "X_test_input_shapes = X_test.pop('input_shape')"
   ]
  },
  {
   "cell_type": "code",
   "execution_count": 11,
   "metadata": {
    "colab": {},
    "colab_type": "code",
    "id": "I3TAHLXH9Eey"
   },
   "outputs": [],
   "source": [
    "dtrain = xgb.DMatrix(X_train, label=y_train)\n",
    "dtest = xgb.DMatrix(X_test, label=y_test)"
   ]
  },
  {
   "cell_type": "code",
   "execution_count": 112,
   "metadata": {
    "colab": {},
    "colab_type": "code",
    "id": "hdGkObaO9Efs"
   },
   "outputs": [],
   "source": [
    "Y_e = test_dataset.pop('ACET')\n",
    "X_e = test_dataset\n",
    "X_e.tail()\n",
    "X_test_e_model_names = X_e.pop('Model_name')\n",
    "X_test_e_input_shapes = X_e.pop('input_shape')\n",
    "dtest_e = xgb.DMatrix(X_e, label=Y_e)"
   ]
  },
  {
   "cell_type": "code",
   "execution_count": 92,
   "metadata": {
    "colab": {},
    "colab_type": "code",
    "id": "95BbRrkL9Eio"
   },
   "outputs": [],
   "source": [
    "params = {\n",
    "    # Parameters that we are going to tune.\n",
    "    'max_depth':20,\n",
    "    'min_child_weight': 5,\n",
    "    'eta':.01,\n",
    "    'subsample': .3,\n",
    "    'colsample_bytree': 1.,\n",
    "    'gamma' : 1.5,\n",
    "    # Other parameters\n",
    "    'objective':'reg:squarederror',\n",
    "}"
   ]
  },
  {
   "cell_type": "code",
   "execution_count": 93,
   "metadata": {
    "colab": {},
    "colab_type": "code",
    "id": "KpZN-eKw9Eju"
   },
   "outputs": [],
   "source": [
    "params['eval_metric'] = \"mae\""
   ]
  },
  {
   "cell_type": "code",
   "execution_count": 94,
   "metadata": {
    "colab": {
     "base_uri": "https://localhost:8080/",
     "height": 34
    },
    "colab_type": "code",
    "id": "TSgKJuup9Eks",
    "outputId": "18892eb6-df79-4d72-d1a1-a75e96ad6076"
   },
   "outputs": [
    {
     "name": "stdout",
     "output_type": "stream",
     "text": [
      "{'max_depth': 20, 'min_child_weight': 5, 'eta': 0.01, 'subsample': 0.3, 'colsample_bytree': 1.0, 'gamma': 1.5, 'objective': 'reg:squarederror', 'eval_metric': 'mae'}\n"
     ]
    }
   ],
   "source": [
    "print(params)"
   ]
  },
  {
   "cell_type": "code",
   "execution_count": 95,
   "metadata": {
    "colab": {},
    "colab_type": "code",
    "id": "ZJRGqqW_EuRL"
   },
   "outputs": [],
   "source": [
    "num_boost_round = 271\n",
    "best_model = xgb.train(\n",
    "    params,\n",
    "    dtrain,\n",
    "    num_boost_round=num_boost_round,\n",
    ")"
   ]
  },
  {
   "cell_type": "code",
   "execution_count": 96,
   "metadata": {
    "colab": {},
    "colab_type": "code",
    "id": "QE8TYO9u9Eyj"
   },
   "outputs": [],
   "source": [
    "loaded_model = best_model"
   ]
  },
  {
   "cell_type": "code",
   "execution_count": 113,
   "metadata": {
    "colab": {},
    "colab_type": "code",
    "id": "0sF9Ee4WlfmS"
   },
   "outputs": [],
   "source": [
    "y_pred = loaded_model.predict(dtest_e)\n",
    "np_test = Y_e.values\n",
    "y_test = Y_e.values"
   ]
  },
  {
   "cell_type": "code",
   "execution_count": 114,
   "metadata": {},
   "outputs": [],
   "source": [
    "test_models = X_test_e_model_names.values\n",
    "test_input_shapes = X_test_e_input_shapes.values"
   ]
  },
  {
   "cell_type": "code",
   "execution_count": 115,
   "metadata": {
    "colab": {
     "base_uri": "https://localhost:8080/",
     "height": 104
    },
    "colab_type": "code",
    "id": "AksIf4TQcquE",
    "outputId": "df8da327-b733-4e19-da29-14bf0958e61b"
   },
   "outputs": [
    {
     "name": "stdout",
     "output_type": "stream",
     "text": [
      "Explained variance :  0.9872492759112206\n",
      "R2_value :  0.9863780345977018\n",
      "Mean absolute error : 21.693975333507673\n",
      "Root Mean squared error : 41.2082988143235\n",
      "Median absolute error : 9.294283371874997\n"
     ]
    }
   ],
   "source": [
    "# Model evaluation on test dataset\n",
    "print('Explained variance : ',explained_variance_score(y_test, y_pred))\n",
    "print('R2_value : ',r2_score(y_test, y_pred))\n",
    "print('Mean absolute error :', mean_absolute_error(y_test, y_pred))\n",
    "print('Root Mean squared error :', mean_squared_error(y_test, y_pred, squared=False))\n",
    "print('Median absolute error :', median_absolute_error(y_test, y_pred))"
   ]
  },
  {
   "cell_type": "code",
   "execution_count": 116,
   "metadata": {
    "colab": {
     "base_uri": "https://localhost:8080/",
     "height": 69
    },
    "colab_type": "code",
    "id": "eVg6ssE7K10p",
    "outputId": "258085c3-1d69-42d5-cecc-c3d3657102d5"
   },
   "outputs": [
    {
     "name": "stdout",
     "output_type": "stream",
     "text": [
      "MAX MAPE :  40.6889536198578\n",
      "Mape: 9.58 %.\n",
      "Accuracy: 90.42 %.\n"
     ]
    }
   ],
   "source": [
    "# Calculate mean absolute percentage error (MAPE)\n",
    "np_test = y_test\n",
    "errors = abs(y_pred-np_test)\n",
    "mape = 100 * (errors / np_test) # Calculate and display accuracy\n",
    "accuracy = 100 - np.mean(mape)\n",
    "print('MAX MAPE : ',max(mape))\n",
    "print('Mape:', round(np.mean(mape), 2), '%.')\n",
    "print('Accuracy:', round(accuracy, 2), '%.')"
   ]
  },
  {
   "cell_type": "code",
   "execution_count": 117,
   "metadata": {
    "colab": {},
    "colab_type": "code",
    "id": "7Bx9JU4f9E2O"
   },
   "outputs": [],
   "source": [
    "import csv\n",
    "with open('./measured_vs_predicted_XGBoost_dim1.csv', 'w', newline='') as file : \n",
    "    writer = csv.writer(file)\n",
    "    writer.writerow(['CNN_model', 'input_shape', 'model&shape', 'real_exec_time', 'predicted_exec_time', 'absolute_deviation', 'MAPE (in %)'])\n",
    "    for i in range(0, len(y_pred)) :\n",
    "        f = ''+test_models[i]+'_'+test_input_shapes[i]\n",
    "        writer.writerow([test_models[i], test_input_shapes[i], f, np_test[i], y_pred[i],abs(y_pred[i]-np_test[i]), ((abs(y_pred[i]-np_test[i]))/np_test[i])*100])"
   ]
  },
  {
   "cell_type": "code",
   "execution_count": null,
   "metadata": {},
   "outputs": [],
   "source": []
  }
 ],
 "metadata": {
  "colab": {
   "collapsed_sections": [],
   "name": "TX2_XGBoost_Regressor.ipynb",
   "provenance": []
  },
  "kernelspec": {
   "display_name": "Python 3",
   "language": "python",
   "name": "python3"
  },
  "language_info": {
   "codemirror_mode": {
    "name": "ipython",
    "version": 3
   },
   "file_extension": ".py",
   "mimetype": "text/x-python",
   "name": "python",
   "nbconvert_exporter": "python",
   "pygments_lexer": "ipython3",
   "version": "3.8.5"
  }
 },
 "nbformat": 4,
 "nbformat_minor": 1
}
