{
 "cells": [
  {
   "cell_type": "code",
   "execution_count": 1,
   "metadata": {
    "colab": {
     "base_uri": "https://localhost:8080/",
     "height": 72
    },
    "colab_type": "code",
    "id": "jPm6cVZve6DO",
    "outputId": "06dcef41-4edb-4305-e216-78576a962041"
   },
   "outputs": [],
   "source": [
    "import numpy as np \n",
    "import pandas as pd\n",
    "from sklearn.ensemble import RandomForestRegressor\n",
    "from sklearn.preprocessing import StandardScaler\n",
    "from sklearn.model_selection import train_test_split, GridSearchCV \n",
    "from sklearn.metrics import explained_variance_score\n",
    "from sklearn.metrics import r2_score\n",
    "from sklearn.metrics import median_absolute_error\n",
    "from sklearn.metrics import mean_absolute_error\n",
    "from sklearn.metrics import mean_squared_error\n",
    "from sklearn.pipeline import Pipeline\n",
    "import seaborn as sns\n",
    "import matplotlib.pyplot as plt\n",
    "from matplotlib.ticker import PercentFormatter"
   ]
  },
  {
   "cell_type": "code",
   "execution_count": 2,
   "metadata": {},
   "outputs": [],
   "source": [
    "def select_train(list_var, data):\n",
    "    for var in list_var :\n",
    "        data.pop(var)\n",
    "    return data\n",
    "\n",
    "def select_test(list_var, data):\n",
    "    for var in list_var :\n",
    "        data.pop(var)\n",
    "    return data"
   ]
  },
  {
   "cell_type": "code",
   "execution_count": 3,
   "metadata": {
    "colab": {
     "base_uri": "https://localhost:8080/",
     "height": 296
    },
    "colab_type": "code",
    "id": "wXZ3C3fwe6Er",
    "outputId": "dc96d2ed-230f-4af7-9328-e9e990626559"
   },
   "outputs": [],
   "source": [
    "# 1/ Training data :\n",
    "\n",
    "column_names = ['Model_name', 'input_shape', 'ACET', 'input_width', 'input_size', 'nb_params_conv','nb_params_bn', 'nb_params_fc', 'flops', 'nb_layers', \n",
    "                'nb_conv_layers', 'nb_bn_layers','nb_fc_layers', 'sum_activations', 'weighted_sum_neurons']\n",
    "raw_dataset = pd.read_csv('./data/training_dataset.csv', names=column_names,\n",
    "                      na_values = \"?\", comment='\\t', sep=\",\", skipinitialspace=True)\n",
    "train_dataset = raw_dataset.copy()\n",
    "train_dataset.isna().sum()\n",
    "train_dataset = train_dataset.dropna()\n",
    "\n",
    "# 1/ Test data :\n",
    "\n",
    "column_names = ['Model_name', 'input_shape', 'ACET', 'input_width', 'input_size', 'nb_params_conv','nb_params_bn', 'nb_params_fc', 'flops', 'nb_layers', \n",
    "                'nb_conv_layers', 'nb_bn_layers','nb_fc_layers', 'sum_activations', 'weighted_sum_neurons']\n",
    "raw_dataset = pd.read_csv('./data/test_dim1.csv', names=column_names,\n",
    "                      na_values = \"?\", comment='\\t', sep=\",\", skipinitialspace=True)\n",
    "test_dataset1 = raw_dataset.copy()\n",
    "test_dataset1.isna().sum()\n",
    "test_dataset1 = test_dataset1.dropna()\n",
    "\n",
    "# 2/ Test data :\n",
    "\n",
    "column_names = ['Model_name', 'input_shape', 'ACET', 'input_width', 'input_size', 'nb_params_conv','nb_params_bn', 'nb_params_fc', 'flops', 'nb_layers', \n",
    "                'nb_conv_layers', 'nb_bn_layers','nb_fc_layers', 'sum_activations', 'weighted_sum_neurons']\n",
    "raw_dataset = pd.read_csv('./data/test_dim2.csv', names=column_names,\n",
    "                      na_values = \"?\", comment='\\t', sep=\",\", skipinitialspace=True)\n",
    "test_dataset2 = raw_dataset.copy()\n",
    "test_dataset2.isna().sum()\n",
    "test_dataset2 = test_dataset2.dropna()\n",
    "\n",
    "# 3/ Test data :\n",
    "\n",
    "column_names = ['Model_name', 'input_shape', 'ACET', 'input_width', 'input_size', 'nb_params_conv','nb_params_bn', 'nb_params_fc', 'flops', 'nb_layers', \n",
    "                'nb_conv_layers', 'nb_bn_layers','nb_fc_layers', 'sum_activations', 'weighted_sum_neurons']\n",
    "raw_dataset = pd.read_csv('./data/test_dim3.csv', names=column_names,\n",
    "                      na_values = \"?\", comment='\\t', sep=\",\", skipinitialspace=True)\n",
    "test_dataset3 = raw_dataset.copy()\n",
    "test_dataset3.isna().sum()\n",
    "test_dataset3 = test_dataset3.dropna()"
   ]
  },
  {
   "cell_type": "code",
   "execution_count": 4,
   "metadata": {
    "colab": {
     "base_uri": "https://localhost:8080/",
     "height": 227
    },
    "colab_type": "code",
    "id": "XNl0ybwqe6GA",
    "outputId": "4fc3536f-6e89-40a8-b5b9-9059babf4a48"
   },
   "outputs": [],
   "source": [
    "list_comp = ['input_width', 'input_size','nb_params_conv', 'nb_params_bn', 'nb_params_fc', 'nb_layers', \n",
    "                'nb_conv_layers', 'nb_bn_layers','nb_fc_layers', 'sum_activations', 'weighted_sum_neurons']\n",
    "\n",
    "list_var = ['input_width', 'nb_params_bn', 'nb_params_fc','nb_conv_layers', 'nb_bn_layers', 'nb_fc_layers']\n",
    "\n",
    "train_dataset = select_train(list_var, train_dataset)\n",
    "test_dataset1 = select_test(list_var, test_dataset1)\n",
    "test_dataset2 = select_test(list_var, test_dataset2)\n",
    "test_dataset3 = select_test(list_var, test_dataset3)"
   ]
  },
  {
   "cell_type": "code",
   "execution_count": 5,
   "metadata": {
    "colab": {
     "base_uri": "https://localhost:8080/",
     "height": 225
    },
    "colab_type": "code",
    "id": "aT_wO9i5e6HM",
    "outputId": "e5438d6e-fea6-4c35-b6d6-ba9f0d895ab7"
   },
   "outputs": [
    {
     "data": {
      "text/html": [
       "<div>\n",
       "<style scoped>\n",
       "    .dataframe tbody tr th:only-of-type {\n",
       "        vertical-align: middle;\n",
       "    }\n",
       "\n",
       "    .dataframe tbody tr th {\n",
       "        vertical-align: top;\n",
       "    }\n",
       "\n",
       "    .dataframe thead th {\n",
       "        text-align: right;\n",
       "    }\n",
       "</style>\n",
       "<table border=\"1\" class=\"dataframe\">\n",
       "  <thead>\n",
       "    <tr style=\"text-align: right;\">\n",
       "      <th></th>\n",
       "      <th>Model_name</th>\n",
       "      <th>input_shape</th>\n",
       "      <th>input_size</th>\n",
       "      <th>nb_params_conv</th>\n",
       "      <th>flops</th>\n",
       "      <th>nb_layers</th>\n",
       "      <th>sum_activations</th>\n",
       "      <th>weighted_sum_neurons</th>\n",
       "    </tr>\n",
       "  </thead>\n",
       "  <tbody>\n",
       "    <tr>\n",
       "      <th>1606</th>\n",
       "      <td>basic_model_700_7</td>\n",
       "      <td>(1, 700, 700, 3)</td>\n",
       "      <td>1470000</td>\n",
       "      <td>1758116</td>\n",
       "      <td>196248875920</td>\n",
       "      <td>16</td>\n",
       "      <td>119497648</td>\n",
       "      <td>98010896800</td>\n",
       "    </tr>\n",
       "    <tr>\n",
       "      <th>1607</th>\n",
       "      <td>basic_model_320_23</td>\n",
       "      <td>(1, 320, 320, 3)</td>\n",
       "      <td>307200</td>\n",
       "      <td>2499430</td>\n",
       "      <td>168678951282</td>\n",
       "      <td>44</td>\n",
       "      <td>298643104</td>\n",
       "      <td>84243523392</td>\n",
       "    </tr>\n",
       "    <tr>\n",
       "      <th>1608</th>\n",
       "      <td>basic_model_56_23</td>\n",
       "      <td>(1, 56, 56, 3)</td>\n",
       "      <td>9408</td>\n",
       "      <td>28069064</td>\n",
       "      <td>170036087884</td>\n",
       "      <td>43</td>\n",
       "      <td>20701712</td>\n",
       "      <td>84982551552</td>\n",
       "    </tr>\n",
       "    <tr>\n",
       "      <th>1609</th>\n",
       "      <td>basic_model_224_33</td>\n",
       "      <td>(1, 224, 224, 3)</td>\n",
       "      <td>150528</td>\n",
       "      <td>22242728</td>\n",
       "      <td>132106973640</td>\n",
       "      <td>60</td>\n",
       "      <td>31316236</td>\n",
       "      <td>66016370176</td>\n",
       "    </tr>\n",
       "    <tr>\n",
       "      <th>1610</th>\n",
       "      <td>basic_model_600_38</td>\n",
       "      <td>(600, 600, 3)</td>\n",
       "      <td>1080000</td>\n",
       "      <td>23154824</td>\n",
       "      <td>274420498147</td>\n",
       "      <td>45</td>\n",
       "      <td>148258606</td>\n",
       "      <td>137108348476</td>\n",
       "    </tr>\n",
       "  </tbody>\n",
       "</table>\n",
       "</div>"
      ],
      "text/plain": [
       "              Model_name       input_shape  input_size  nb_params_conv  \\\n",
       "1606   basic_model_700_7  (1, 700, 700, 3)     1470000         1758116   \n",
       "1607  basic_model_320_23  (1, 320, 320, 3)      307200         2499430   \n",
       "1608   basic_model_56_23    (1, 56, 56, 3)        9408        28069064   \n",
       "1609  basic_model_224_33  (1, 224, 224, 3)      150528        22242728   \n",
       "1610  basic_model_600_38     (600, 600, 3)     1080000        23154824   \n",
       "\n",
       "             flops  nb_layers  sum_activations  weighted_sum_neurons  \n",
       "1606  196248875920         16        119497648           98010896800  \n",
       "1607  168678951282         44        298643104           84243523392  \n",
       "1608  170036087884         43         20701712           84982551552  \n",
       "1609  132106973640         60         31316236           66016370176  \n",
       "1610  274420498147         45        148258606          137108348476  "
      ]
     },
     "execution_count": 5,
     "metadata": {},
     "output_type": "execute_result"
    }
   ],
   "source": [
    "y_train = train_dataset.pop('ACET')\n",
    "X_train = train_dataset\n",
    "X_train.tail()"
   ]
  },
  {
   "cell_type": "code",
   "execution_count": 6,
   "metadata": {
    "colab": {
     "base_uri": "https://localhost:8080/",
     "height": 225
    },
    "colab_type": "code",
    "id": "VyhKBik27EKH",
    "outputId": "7d8b3383-3bc1-4e65-ee93-b1b002cc9c26"
   },
   "outputs": [],
   "source": [
    "Y_e1 = test_dataset1.pop('ACET')\n",
    "X_e1 = test_dataset1\n",
    "\n",
    "Y_e2 = test_dataset2.pop('ACET')\n",
    "X_e2 = test_dataset2\n",
    "\n",
    "Y_e3 = test_dataset3.pop('ACET')\n",
    "X_e3 = test_dataset3"
   ]
  },
  {
   "cell_type": "code",
   "execution_count": 7,
   "metadata": {
    "colab": {
     "base_uri": "https://localhost:8080/",
     "height": 207
    },
    "colab_type": "code",
    "id": "xst7TzQEe6IV",
    "outputId": "46e92a81-f713-4af6-e75b-d0a4bfed0da7"
   },
   "outputs": [],
   "source": [
    "X_train_model_names = X_train.pop('Model_name')\n",
    "X_train_input_shapes = X_train.pop('input_shape')\n",
    "\n",
    "X_test_model_names1 = X_e1.pop('Model_name')\n",
    "X_test_input_shapes1 = X_e1.pop('input_shape')\n",
    "\n",
    "X_test_model_names2 = X_e2.pop('Model_name')\n",
    "X_test_input_shapes2 = X_e2.pop('input_shape')\n",
    "\n",
    "X_test_model_names3 = X_e3.pop('Model_name')\n",
    "X_test_input_shapes3 = X_e3.pop('input_shape')"
   ]
  },
  {
   "cell_type": "code",
   "execution_count": 8,
   "metadata": {
    "colab": {},
    "colab_type": "code",
    "id": "YsjJiycte6KX"
   },
   "outputs": [],
   "source": [
    "y_test1 = Y_e1.values\n",
    "y_test2 = Y_e2.values\n",
    "y_test3 = Y_e3.values"
   ]
  },
  {
   "cell_type": "code",
   "execution_count": 9,
   "metadata": {
    "colab": {},
    "colab_type": "code",
    "id": "bsj5QFPee6Lf"
   },
   "outputs": [],
   "source": [
    "steps = [('scaler', StandardScaler()), ('RFR', RandomForestRegressor())]\n",
    "pipeline = Pipeline(steps)"
   ]
  },
  {
   "cell_type": "code",
   "execution_count": 10,
   "metadata": {
    "colab": {},
    "colab_type": "code",
    "id": "yG-fZK1de6MJ"
   },
   "outputs": [],
   "source": [
    "# gridSearchCV hyperparameters space\n",
    "\"\"\"\n",
    "param_grid = [\n",
    "        {'RFR__bootstrap': [True,False],\n",
    "         'RFR__max_depth': [None,10,20,30,40,50,60,70,80,90,100,120,140,160,180,200,220,240,260,280,300],\n",
    "         'RFR__n_estimators': [100,200,300,400,500,600,700,800,900,1000],\n",
    "         'RFR__max_features': ['auto', 'sqrt', 'log2', None],\n",
    "         'RFR__min_samples_leaf': [2, 3, 4, 5, 6, 7, 8, 9, 10],\n",
    "         'RFR__min_samples_split': [2, 3, 4, 5, 6, 7, 8, 9, 10],\n",
    "         'RFR__random_state': [42]\n",
    "        },\n",
    "    ]\n",
    "\"\"\"\n",
    "\n",
    "# optimal hyperparameters\n",
    "param_grid = [\n",
    "        {'RFR__bootstrap': [True],\n",
    "         'RFR__max_depth': [20],\n",
    "         'RFR__n_estimators': [200],\n",
    "         'RFR__max_features': [None],\n",
    "         'RFR__min_samples_leaf': [7],\n",
    "         'RFR__min_samples_split': [3],\n",
    "         'RFR__random_state': [42], \n",
    "        },\n",
    "    ]"
   ]
  },
  {
   "cell_type": "code",
   "execution_count": 11,
   "metadata": {
    "colab": {},
    "colab_type": "code",
    "id": "TLnffrdwe6Mx"
   },
   "outputs": [],
   "source": [
    "grid = GridSearchCV(pipeline, param_grid=param_grid, cv=2)"
   ]
  },
  {
   "cell_type": "code",
   "execution_count": 12,
   "metadata": {
    "colab": {
     "base_uri": "https://localhost:8080/",
     "height": 503
    },
    "colab_type": "code",
    "id": "Fe-UL-Qse6Nd",
    "outputId": "a1e49485-314a-4b89-954b-01f2dbe007b7"
   },
   "outputs": [
    {
     "data": {
      "text/plain": [
       "GridSearchCV(cv=2,\n",
       "             estimator=Pipeline(steps=[('scaler', StandardScaler()),\n",
       "                                       ('RFR', RandomForestRegressor())]),\n",
       "             param_grid=[{'RFR__bootstrap': [True], 'RFR__max_depth': [20],\n",
       "                          'RFR__max_features': [None],\n",
       "                          'RFR__min_samples_leaf': [7],\n",
       "                          'RFR__min_samples_split': [3],\n",
       "                          'RFR__n_estimators': [200],\n",
       "                          'RFR__random_state': [42]}])"
      ]
     },
     "execution_count": 12,
     "metadata": {},
     "output_type": "execute_result"
    }
   ],
   "source": [
    "grid.fit(X_train, y_train)"
   ]
  },
  {
   "cell_type": "code",
   "execution_count": 13,
   "metadata": {
    "colab": {
     "base_uri": "https://localhost:8080/",
     "height": 72
    },
    "colab_type": "code",
    "id": "eK4PLAIXe6OE",
    "outputId": "37997a68-3805-4b2f-9863-b8668a133e24"
   },
   "outputs": [
    {
     "name": "stdout",
     "output_type": "stream",
     "text": [
      "{'RFR__bootstrap': True, 'RFR__max_depth': 20, 'RFR__max_features': None, 'RFR__min_samples_leaf': 7, 'RFR__min_samples_split': 3, 'RFR__n_estimators': 200, 'RFR__random_state': 42}\n"
     ]
    }
   ],
   "source": [
    "print(grid.best_params_)"
   ]
  },
  {
   "cell_type": "code",
   "execution_count": 14,
   "metadata": {
    "colab": {
     "base_uri": "https://localhost:8080/",
     "height": 295
    },
    "colab_type": "code",
    "id": "4Z7mZQzi6mdK",
    "outputId": "e716bae4-2138-49c9-b0b0-0b845038f705"
   },
   "outputs": [
    {
     "data": {
      "text/plain": [
       "Pipeline(steps=[('scaler', StandardScaler()),\n",
       "                ('RFR',\n",
       "                 RandomForestRegressor(max_depth=20, max_features=None,\n",
       "                                       min_samples_leaf=7, min_samples_split=3,\n",
       "                                       n_estimators=200, random_state=42))])"
      ]
     },
     "execution_count": 14,
     "metadata": {},
     "output_type": "execute_result"
    }
   ],
   "source": [
    "best_pipe = grid.best_estimator_\n",
    "best_pipe.fit(X_train, y_train)"
   ]
  },
  {
   "cell_type": "code",
   "execution_count": 15,
   "metadata": {
    "colab": {},
    "colab_type": "code",
    "id": "P-TUvsz-5UPa"
   },
   "outputs": [],
   "source": [
    "y_pred1 = best_pipe.predict(X_e1.values)\n",
    "y_pred2 = best_pipe.predict(X_e2.values)\n",
    "y_pred3 = best_pipe.predict(X_e3.values)"
   ]
  },
  {
   "cell_type": "code",
   "execution_count": 24,
   "metadata": {},
   "outputs": [],
   "source": [
    "y_test = y_test1\n",
    "y_pred = y_pred1\n",
    "test_models = X_test_model_names1.values\n",
    "test_input_shapes = X_test_input_shapes1.values"
   ]
  },
  {
   "cell_type": "code",
   "execution_count": 25,
   "metadata": {},
   "outputs": [
    {
     "name": "stdout",
     "output_type": "stream",
     "text": [
      "Explained variance :  0.9861625010699666\n",
      "R2_value :  0.9831690135128095\n",
      "Mean absolute error MAE : 8.46994365274252\n",
      "Root Mean squared error RMSE : 13.572764537291745\n",
      "Median absolute error MAD: 5.282800732592818\n"
     ]
    }
   ],
   "source": [
    "print('Explained variance : ',explained_variance_score(y_test, y_pred))\n",
    "print('R2_value : ',r2_score(y_test, y_pred))\n",
    "print('Mean absolute error MAE :', mean_absolute_error(y_test, y_pred))\n",
    "print('Root Mean squared error RMSE :', mean_squared_error(y_test, y_pred, squared=False))\n",
    "print('Median absolute error MAD:', median_absolute_error(y_test, y_pred))"
   ]
  },
  {
   "cell_type": "code",
   "execution_count": 26,
   "metadata": {
    "colab": {
     "base_uri": "https://localhost:8080/",
     "height": 69
    },
    "colab_type": "code",
    "id": "2y5HCl-S7D6e",
    "outputId": "7f2fac7f-4b54-449f-894e-1351a089693d"
   },
   "outputs": [
    {
     "name": "stdout",
     "output_type": "stream",
     "text": [
      "MAX MAPE : 48.165468464084995\n",
      "MAPE: 11.94 %.\n",
      "Accuracy: 88.06 %.\n"
     ]
    }
   ],
   "source": [
    "# Calculate mean absolute percentage error (MAPE)\n",
    "errors = abs(y_pred-y_test)\n",
    "mape = 100 * (errors / y_test) # Calculate and display accuracy\n",
    "accuracy = 100 - np.mean(mape)\n",
    "print('MAX MAPE :', max(mape))\n",
    "print('MAPE:', round(np.mean(mape), 2), '%.')\n",
    "print('Accuracy:', round(accuracy, 2), '%.')"
   ]
  },
  {
   "cell_type": "code",
   "execution_count": 27,
   "metadata": {
    "colab": {},
    "colab_type": "code",
    "id": "Eu1o5H3B6LAA"
   },
   "outputs": [],
   "source": [
    "import csv\n",
    "with open('./measured_vs_predicted_RF_dim1.csv', 'w', newline='') as file : \n",
    "    writer = csv.writer(file)\n",
    "    writer.writerow(['CNN_model', 'input_shape', 'model&shape', 'real_exec_time', 'predicted_exec_time', 'absolute_deviation', 'MAPE (in %)'])\n",
    "    for i in range(0, len(y_pred)) :\n",
    "        f = ''+test_models[i]+'_'+test_input_shapes[i]\n",
    "        writer.writerow([test_models[i], test_input_shapes[i], f, y_test[i], y_pred[i],abs(y_pred[i]-y_test[i]), ((abs(y_pred[i]-y_test[i]))/y_test[i])*100])"
   ]
  },
  {
   "cell_type": "code",
   "execution_count": null,
   "metadata": {},
   "outputs": [],
   "source": []
  }
 ],
 "metadata": {
  "colab": {
   "collapsed_sections": [],
   "name": "AGX_Random_Forest_regressor.ipynb",
   "provenance": []
  },
  "kernelspec": {
   "display_name": "Python 3",
   "language": "python",
   "name": "python3"
  },
  "language_info": {
   "codemirror_mode": {
    "name": "ipython",
    "version": 3
   },
   "file_extension": ".py",
   "mimetype": "text/x-python",
   "name": "python",
   "nbconvert_exporter": "python",
   "pygments_lexer": "ipython3",
   "version": "3.8.5"
  }
 },
 "nbformat": 4,
 "nbformat_minor": 1
}
