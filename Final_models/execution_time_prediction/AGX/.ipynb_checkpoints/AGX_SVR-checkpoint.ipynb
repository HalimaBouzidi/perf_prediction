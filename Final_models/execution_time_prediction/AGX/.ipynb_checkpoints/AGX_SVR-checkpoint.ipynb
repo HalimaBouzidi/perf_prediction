{
 "cells": [
  {
   "cell_type": "code",
   "execution_count": 1,
   "metadata": {
    "colab": {},
    "colab_type": "code",
    "id": "0URJFqhxFp00"
   },
   "outputs": [],
   "source": [
    "import numpy as np \n",
    "import pandas as pd\n",
    "from sklearn.svm import SVR\n",
    "from sklearn.preprocessing import StandardScaler\n",
    "from sklearn.model_selection import train_test_split, GridSearchCV \n",
    "from sklearn.metrics import explained_variance_score\n",
    "from sklearn.metrics import r2_score \n",
    "from sklearn.metrics import mean_squared_error\n",
    "from sklearn.metrics import median_absolute_error\n",
    "from sklearn.metrics import mean_absolute_error\n",
    "from sklearn.pipeline import Pipeline\n",
    "import seaborn as sns\n",
    "import matplotlib.pyplot as plt\n",
    "import seaborn as sns\n",
    "from matplotlib.ticker import PercentFormatter"
   ]
  },
  {
   "cell_type": "code",
   "execution_count": 2,
   "metadata": {},
   "outputs": [],
   "source": [
    "def select_train(list_var, data):\n",
    "    for var in list_var :\n",
    "        data.pop(var)\n",
    "    return data\n",
    "\n",
    "def select_test(list_var, data):\n",
    "    for var in list_var :\n",
    "        data.pop(var)\n",
    "    return data"
   ]
  },
  {
   "cell_type": "code",
   "execution_count": 3,
   "metadata": {
    "colab": {
     "base_uri": "https://localhost:8080/",
     "height": 226
    },
    "colab_type": "code",
    "id": "0BfIu6SlFp2W",
    "outputId": "39a5cf22-85cf-48d8-b830-4fc89c0e92f0"
   },
   "outputs": [],
   "source": [
    "# 1/ Training data :\n",
    "\n",
    "column_names = ['Model_name', 'input_shape', 'ACET', 'input_width', 'input_size', 'nb_params_conv','nb_params_bn', 'nb_params_fc', 'flops', 'nb_layers', \n",
    "                'nb_conv_layers', 'nb_bn_layers','nb_fc_layers', 'sum_activations', 'weighted_sum_neurons']\n",
    "raw_dataset = pd.read_csv('./data/training_dataset.csv', names=column_names,\n",
    "                      na_values = \"?\", comment='\\t', sep=\",\", skipinitialspace=True)\n",
    "train_dataset = raw_dataset.copy()\n",
    "train_dataset.isna().sum()\n",
    "train_dataset = train_dataset.dropna()\n",
    "\n",
    "# 1/ Test data :\n",
    "\n",
    "column_names = ['Model_name', 'input_shape', 'ACET', 'input_width', 'input_size', 'nb_params_conv','nb_params_bn', 'nb_params_fc', 'flops', 'nb_layers', \n",
    "                'nb_conv_layers', 'nb_bn_layers','nb_fc_layers', 'sum_activations', 'weighted_sum_neurons']\n",
    "raw_dataset = pd.read_csv('./data/test_dim1.csv', names=column_names,\n",
    "                      na_values = \"?\", comment='\\t', sep=\",\", skipinitialspace=True)\n",
    "test_dataset1 = raw_dataset.copy()\n",
    "test_dataset1.isna().sum()\n",
    "test_dataset1 = test_dataset1.dropna()\n",
    "\n",
    "# 2/ Test data :\n",
    "\n",
    "column_names = ['Model_name', 'input_shape', 'ACET', 'input_width', 'input_size', 'nb_params_conv','nb_params_bn', 'nb_params_fc', 'flops', 'nb_layers', \n",
    "                'nb_conv_layers', 'nb_bn_layers','nb_fc_layers', 'sum_activations', 'weighted_sum_neurons']\n",
    "raw_dataset = pd.read_csv('./data/test_dim2.csv', names=column_names,\n",
    "                      na_values = \"?\", comment='\\t', sep=\",\", skipinitialspace=True)\n",
    "test_dataset2 = raw_dataset.copy()\n",
    "test_dataset2.isna().sum()\n",
    "test_dataset2 = test_dataset2.dropna()\n",
    "\n",
    "# 3/ Test data :\n",
    "\n",
    "column_names = ['Model_name', 'input_shape', 'ACET', 'input_width', 'input_size', 'nb_params_conv','nb_params_bn', 'nb_params_fc', 'flops', 'nb_layers', \n",
    "                'nb_conv_layers', 'nb_bn_layers','nb_fc_layers', 'sum_activations', 'weighted_sum_neurons']\n",
    "raw_dataset = pd.read_csv('./data/test_dim3.csv', names=column_names,\n",
    "                      na_values = \"?\", comment='\\t', sep=\",\", skipinitialspace=True)\n",
    "test_dataset3 = raw_dataset.copy()\n",
    "test_dataset3.isna().sum()\n",
    "test_dataset3 = test_dataset3.dropna()"
   ]
  },
  {
   "cell_type": "code",
   "execution_count": 4,
   "metadata": {
    "colab": {
     "base_uri": "https://localhost:8080/",
     "height": 226
    },
    "colab_type": "code",
    "id": "k3DPnDyaaBgI",
    "outputId": "4f7a8935-5ccf-4ead-f729-9d800f1eb43f"
   },
   "outputs": [],
   "source": [
    "list_comp = ['input_width', 'input_size','nb_params_conv', 'nb_params_bn', 'nb_params_fc', 'nb_layers', \n",
    "                'nb_conv_layers', 'nb_bn_layers','nb_fc_layers', 'sum_activations', 'weighted_sum_neurons']\n",
    "\n",
    "list_var = ['input_width', 'nb_params_bn', 'nb_params_fc','nb_conv_layers', 'nb_bn_layers', 'nb_fc_layers']\n",
    "\n",
    "train_dataset = select_train(list_var, train_dataset)\n",
    "test_dataset1 = select_test(list_var, test_dataset1)\n",
    "test_dataset2 = select_test(list_var, test_dataset2)\n",
    "test_dataset3 = select_test(list_var, test_dataset3)"
   ]
  },
  {
   "cell_type": "code",
   "execution_count": 5,
   "metadata": {
    "colab": {
     "base_uri": "https://localhost:8080/",
     "height": 713
    },
    "colab_type": "code",
    "id": "s3hcZZbc6BT-",
    "outputId": "28e20fa6-b7ad-49d0-ec51-e22a732e51cc"
   },
   "outputs": [
    {
     "data": {
      "text/html": [
       "<div>\n",
       "<style scoped>\n",
       "    .dataframe tbody tr th:only-of-type {\n",
       "        vertical-align: middle;\n",
       "    }\n",
       "\n",
       "    .dataframe tbody tr th {\n",
       "        vertical-align: top;\n",
       "    }\n",
       "\n",
       "    .dataframe thead th {\n",
       "        text-align: right;\n",
       "    }\n",
       "</style>\n",
       "<table border=\"1\" class=\"dataframe\">\n",
       "  <thead>\n",
       "    <tr style=\"text-align: right;\">\n",
       "      <th></th>\n",
       "      <th>Model_name</th>\n",
       "      <th>input_shape</th>\n",
       "      <th>input_size</th>\n",
       "      <th>nb_params_conv</th>\n",
       "      <th>flops</th>\n",
       "      <th>nb_layers</th>\n",
       "      <th>sum_activations</th>\n",
       "      <th>weighted_sum_neurons</th>\n",
       "    </tr>\n",
       "  </thead>\n",
       "  <tbody>\n",
       "    <tr>\n",
       "      <th>1606</th>\n",
       "      <td>basic_model_700_7</td>\n",
       "      <td>(1, 700, 700, 3)</td>\n",
       "      <td>1470000</td>\n",
       "      <td>1758116</td>\n",
       "      <td>196248875920</td>\n",
       "      <td>16</td>\n",
       "      <td>119497648</td>\n",
       "      <td>98010896800</td>\n",
       "    </tr>\n",
       "    <tr>\n",
       "      <th>1607</th>\n",
       "      <td>basic_model_320_23</td>\n",
       "      <td>(1, 320, 320, 3)</td>\n",
       "      <td>307200</td>\n",
       "      <td>2499430</td>\n",
       "      <td>168678951282</td>\n",
       "      <td>44</td>\n",
       "      <td>298643104</td>\n",
       "      <td>84243523392</td>\n",
       "    </tr>\n",
       "    <tr>\n",
       "      <th>1608</th>\n",
       "      <td>basic_model_56_23</td>\n",
       "      <td>(1, 56, 56, 3)</td>\n",
       "      <td>9408</td>\n",
       "      <td>28069064</td>\n",
       "      <td>170036087884</td>\n",
       "      <td>43</td>\n",
       "      <td>20701712</td>\n",
       "      <td>84982551552</td>\n",
       "    </tr>\n",
       "    <tr>\n",
       "      <th>1609</th>\n",
       "      <td>basic_model_224_33</td>\n",
       "      <td>(1, 224, 224, 3)</td>\n",
       "      <td>150528</td>\n",
       "      <td>22242728</td>\n",
       "      <td>132106973640</td>\n",
       "      <td>60</td>\n",
       "      <td>31316236</td>\n",
       "      <td>66016370176</td>\n",
       "    </tr>\n",
       "    <tr>\n",
       "      <th>1610</th>\n",
       "      <td>basic_model_600_38</td>\n",
       "      <td>(600, 600, 3)</td>\n",
       "      <td>1080000</td>\n",
       "      <td>23154824</td>\n",
       "      <td>274420498147</td>\n",
       "      <td>45</td>\n",
       "      <td>148258606</td>\n",
       "      <td>137108348476</td>\n",
       "    </tr>\n",
       "  </tbody>\n",
       "</table>\n",
       "</div>"
      ],
      "text/plain": [
       "              Model_name       input_shape  input_size  nb_params_conv  \\\n",
       "1606   basic_model_700_7  (1, 700, 700, 3)     1470000         1758116   \n",
       "1607  basic_model_320_23  (1, 320, 320, 3)      307200         2499430   \n",
       "1608   basic_model_56_23    (1, 56, 56, 3)        9408        28069064   \n",
       "1609  basic_model_224_33  (1, 224, 224, 3)      150528        22242728   \n",
       "1610  basic_model_600_38     (600, 600, 3)     1080000        23154824   \n",
       "\n",
       "             flops  nb_layers  sum_activations  weighted_sum_neurons  \n",
       "1606  196248875920         16        119497648           98010896800  \n",
       "1607  168678951282         44        298643104           84243523392  \n",
       "1608  170036087884         43         20701712           84982551552  \n",
       "1609  132106973640         60         31316236           66016370176  \n",
       "1610  274420498147         45        148258606          137108348476  "
      ]
     },
     "execution_count": 5,
     "metadata": {},
     "output_type": "execute_result"
    }
   ],
   "source": [
    "y_train = train_dataset.pop('ACET')\n",
    "X_train = train_dataset\n",
    "X_train.tail()"
   ]
  },
  {
   "cell_type": "code",
   "execution_count": 6,
   "metadata": {
    "colab": {
     "base_uri": "https://localhost:8080/",
     "height": 225
    },
    "colab_type": "code",
    "id": "MCQ8e2esaGt4",
    "outputId": "cef9fd4d-e200-469a-9155-5e427d2a71d2"
   },
   "outputs": [],
   "source": [
    "Y_e1 = test_dataset1.pop('ACET')\n",
    "X_e1 = test_dataset1\n",
    "\n",
    "Y_e2 = test_dataset2.pop('ACET')\n",
    "X_e2 = test_dataset2\n",
    "\n",
    "Y_e3 = test_dataset3.pop('ACET')\n",
    "X_e3 = test_dataset3"
   ]
  },
  {
   "cell_type": "code",
   "execution_count": 7,
   "metadata": {
    "colab": {
     "base_uri": "https://localhost:8080/",
     "height": 206
    },
    "colab_type": "code",
    "id": "uk7JIy7zaJyK",
    "outputId": "06067c28-0e5d-4c6a-95d4-395c864d0031"
   },
   "outputs": [],
   "source": [
    "X_train_model_names = X_train.pop('Model_name')\n",
    "X_train_input_shapes = X_train.pop('input_shape')\n",
    "\n",
    "X_test_model_names1 = X_e1.pop('Model_name')\n",
    "X_test_input_shapes1 = X_e1.pop('input_shape')\n",
    "\n",
    "X_test_model_names2 = X_e2.pop('Model_name')\n",
    "X_test_input_shapes2 = X_e2.pop('input_shape')\n",
    "\n",
    "X_test_model_names3 = X_e3.pop('Model_name')\n",
    "X_test_input_shapes3 = X_e3.pop('input_shape')"
   ]
  },
  {
   "cell_type": "code",
   "execution_count": 8,
   "metadata": {
    "colab": {},
    "colab_type": "code",
    "id": "6VCmV5JAaQXu"
   },
   "outputs": [],
   "source": [
    "y_test1 = Y_e1.values\n",
    "y_test2 = Y_e2.values\n",
    "y_test3 = Y_e3.values"
   ]
  },
  {
   "cell_type": "code",
   "execution_count": 9,
   "metadata": {
    "colab": {},
    "colab_type": "code",
    "id": "O9XlKi0BFp4f"
   },
   "outputs": [],
   "source": [
    "steps = [('scaler', StandardScaler()), ('SVR', SVR())]\n",
    "pipeline = Pipeline(steps)"
   ]
  },
  {
   "cell_type": "code",
   "execution_count": 10,
   "metadata": {
    "colab": {},
    "colab_type": "code",
    "id": "cEo3jtHzFp7E"
   },
   "outputs": [],
   "source": [
    "\"\"\"\n",
    "Hyperparameters space\n",
    "parameteres = {'SVR__kernel':['linear', 'rbf', 'poly'], \n",
    "'SVR__cache_size':[5000000], \n",
    "'SVR__C':[.1, .5, 1, 2, 3, 4, 5, 6, 7, 8, 9, 10, 11, 12, 13, 14, 15, 16, 17, 18, \n",
    "        19, 20, 50, 100, 500, 1000, 5000], \n",
    "'SVR__gamma':[.1, .3, .5, .7, .8, .9, 1, 2, 3, 4, 5, 6, 7, 8, 9, 10],\n",
    "'SVR__epsilon':[.1, .3, .5, .7, .9, 1., 1.5, 2., 2.5, 3., 3.5, 4, 4.5, 5]}\n",
    "\"\"\"\n",
    "\n",
    "# Optimal Hyperparameters \n",
    "parameteres = {'SVR__kernel':['linear'], 'SVR__cache_size':[5000000], 'SVR__C':[30], 'SVR__epsilon':[.3]}"
   ]
  },
  {
   "cell_type": "code",
   "execution_count": 11,
   "metadata": {
    "colab": {},
    "colab_type": "code",
    "id": "WC_O3svdFp7x"
   },
   "outputs": [],
   "source": [
    "grid = GridSearchCV(pipeline, param_grid=parameteres, cv=2)"
   ]
  },
  {
   "cell_type": "code",
   "execution_count": 12,
   "metadata": {
    "colab": {
     "base_uri": "https://localhost:8080/",
     "height": 330
    },
    "colab_type": "code",
    "id": "cV-kMNx2Fp8R",
    "outputId": "d515fde2-047f-4d85-831d-16802f46feda"
   },
   "outputs": [
    {
     "data": {
      "text/plain": [
       "GridSearchCV(cv=2,\n",
       "             estimator=Pipeline(steps=[('scaler', StandardScaler()),\n",
       "                                       ('SVR', SVR())]),\n",
       "             param_grid={'SVR__C': [30], 'SVR__cache_size': [5000000],\n",
       "                         'SVR__epsilon': [0.3], 'SVR__kernel': ['linear']})"
      ]
     },
     "execution_count": 12,
     "metadata": {},
     "output_type": "execute_result"
    }
   ],
   "source": [
    "grid.fit(X_train, y_train)"
   ]
  },
  {
   "cell_type": "code",
   "execution_count": 13,
   "metadata": {
    "colab": {
     "base_uri": "https://localhost:8080/",
     "height": 52
    },
    "colab_type": "code",
    "id": "2i8ax5xPFp84",
    "outputId": "055e61be-668c-4574-9492-cd59183d2f45"
   },
   "outputs": [
    {
     "name": "stdout",
     "output_type": "stream",
     "text": [
      "{'SVR__C': 30, 'SVR__cache_size': 5000000, 'SVR__epsilon': 0.3, 'SVR__kernel': 'linear'}\n"
     ]
    }
   ],
   "source": [
    "print(grid.best_params_)"
   ]
  },
  {
   "cell_type": "code",
   "execution_count": 14,
   "metadata": {
    "colab": {
     "base_uri": "https://localhost:8080/",
     "height": 156
    },
    "colab_type": "code",
    "id": "vGWG-O7-ykDz",
    "outputId": "94c8cdf2-14a2-4cd6-b269-65c9c8be31b4"
   },
   "outputs": [
    {
     "data": {
      "text/plain": [
       "Pipeline(steps=[('scaler', StandardScaler()),\n",
       "                ('SVR',\n",
       "                 SVR(C=30, cache_size=5000000, epsilon=0.3, kernel='linear'))])"
      ]
     },
     "execution_count": 14,
     "metadata": {},
     "output_type": "execute_result"
    }
   ],
   "source": [
    "best_pipe = grid.best_estimator_\n",
    "best_pipe.fit(X_train, y_train)"
   ]
  },
  {
   "cell_type": "code",
   "execution_count": 15,
   "metadata": {
    "colab": {},
    "colab_type": "code",
    "id": "QsYSG_9lyzZR"
   },
   "outputs": [],
   "source": [
    "y_pred1 = best_pipe.predict(X_e1.values)\n",
    "y_pred2 = best_pipe.predict(X_e2.values)\n",
    "y_pred3 = best_pipe.predict(X_e3.values)"
   ]
  },
  {
   "cell_type": "code",
   "execution_count": 24,
   "metadata": {
    "colab": {},
    "colab_type": "code",
    "id": "-NIeJJvoh8RH"
   },
   "outputs": [],
   "source": [
    "y_test = y_test1\n",
    "y_pred = y_pred1\n",
    "test_models = X_test_model_names1.values\n",
    "test_input_shapes = X_test_input_shapes1.values"
   ]
  },
  {
   "cell_type": "code",
   "execution_count": 25,
   "metadata": {
    "colab": {
     "base_uri": "https://localhost:8080/",
     "height": 104
    },
    "colab_type": "code",
    "id": "LnaKUI9ue5G2",
    "outputId": "21b09be7-78bd-43c4-a494-2bc8fb641d4b"
   },
   "outputs": [
    {
     "name": "stdout",
     "output_type": "stream",
     "text": [
      "Explained variance :  0.9830771107354127\n",
      "R2_value :  0.9778515949880341\n",
      "Mean absolute error MAE : 10.152524583046608\n",
      "Root Mean squared error RMSE : 15.56986179356119\n",
      "Median absolute error MAD : 5.234665790440374\n"
     ]
    }
   ],
   "source": [
    "print('Explained variance : ',explained_variance_score(y_test, y_pred))\n",
    "print('R2_value : ',r2_score(y_test, y_pred))\n",
    "print('Mean absolute error MAE :', mean_absolute_error(y_test, y_pred))\n",
    "print('Root Mean squared error RMSE :', mean_squared_error(y_test, y_pred, squared=False))\n",
    "print('Median absolute error MAD :', median_absolute_error(y_test, y_pred))"
   ]
  },
  {
   "cell_type": "code",
   "execution_count": 26,
   "metadata": {
    "colab": {
     "base_uri": "https://localhost:8080/",
     "height": 69
    },
    "colab_type": "code",
    "id": "sYoRvlGce8Lj",
    "outputId": "a8ce25f2-7494-4af2-8d87-f435bb709088"
   },
   "outputs": [
    {
     "name": "stdout",
     "output_type": "stream",
     "text": [
      "MAX MAPE : 43.374620019909834\n",
      "MAPE: 14.68 %.\n",
      "Accuracy: 85.32 %.\n"
     ]
    }
   ],
   "source": [
    "# Calculate mean absolute percentage error (MAPE)\n",
    "errors = abs(y_pred-y_test)\n",
    "mape = 100 * (errors / y_test) # Calculate and display accuracy\n",
    "accuracy = 100 - np.mean(mape)\n",
    "print('MAX MAPE :', max(mape))\n",
    "print('MAPE:', round(np.mean(mape), 2), '%.')\n",
    "print('Accuracy:', round(accuracy, 2), '%.')"
   ]
  },
  {
   "cell_type": "code",
   "execution_count": 27,
   "metadata": {
    "colab": {},
    "colab_type": "code",
    "id": "9k8jjS4B6B_x"
   },
   "outputs": [],
   "source": [
    "import csv\n",
    "with open('./measured_vs_predicted_SVR_dim1.csv', 'w', newline='') as file : \n",
    "    writer = csv.writer(file)\n",
    "    writer.writerow(['CNN_model', 'input_shape', 'model&shape', 'real_exec_time', 'predicted_exec_time', 'absolute_deviation', 'MAPE (in %)'])\n",
    "    for i in range(0, len(y_pred)) :\n",
    "        f = ''+test_models[i]+'_'+test_input_shapes[i]\n",
    "        writer.writerow([test_models[i], test_input_shapes[i], f, y_test[i], y_pred[i],abs(y_pred[i]-y_test[i]), ((abs(y_pred[i]-y_test[i]))/y_test[i])*100])"
   ]
  },
  {
   "cell_type": "code",
   "execution_count": null,
   "metadata": {},
   "outputs": [],
   "source": []
  }
 ],
 "metadata": {
  "colab": {
   "collapsed_sections": [],
   "name": "SVR_regresssion.ipynb",
   "provenance": []
  },
  "kernelspec": {
   "display_name": "Python 3",
   "language": "python",
   "name": "python3"
  },
  "language_info": {
   "codemirror_mode": {
    "name": "ipython",
    "version": 3
   },
   "file_extension": ".py",
   "mimetype": "text/x-python",
   "name": "python",
   "nbconvert_exporter": "python",
   "pygments_lexer": "ipython3",
   "version": "3.8.5"
  }
 },
 "nbformat": 4,
 "nbformat_minor": 1
}
