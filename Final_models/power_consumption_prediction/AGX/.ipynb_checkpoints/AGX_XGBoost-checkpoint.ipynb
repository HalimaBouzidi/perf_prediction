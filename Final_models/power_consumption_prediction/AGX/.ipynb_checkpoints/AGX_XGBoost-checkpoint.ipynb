{
 "cells": [
  {
   "cell_type": "code",
   "execution_count": 1,
   "metadata": {
    "id": "S-M_U2bE9EVT"
   },
   "outputs": [],
   "source": [
    "import numpy as np \n",
    "import pandas as pd\n",
    "import xgboost as xgb\n",
    "from sklearn.preprocessing import StandardScaler\n",
    "from sklearn.model_selection import train_test_split\n",
    "from sklearn.metrics import explained_variance_score\n",
    "from sklearn.metrics import r2_score\n",
    "from sklearn.metrics import median_absolute_error\n",
    "from sklearn.metrics import mean_absolute_error\n",
    "from sklearn.metrics import mean_squared_error\n",
    "from sklearn.model_selection import KFold\n",
    "from sklearn.model_selection import cross_val_score\n",
    "from sklearn.pipeline import Pipeline\n",
    "import seaborn as sns\n",
    "import matplotlib.pyplot as plt\n",
    "from matplotlib.ticker import PercentFormatter"
   ]
  },
  {
   "cell_type": "code",
   "execution_count": 2,
   "metadata": {
    "colab": {
     "base_uri": "https://localhost:8080/",
     "height": 292
    },
    "id": "dwXR3vtM9EXQ",
    "outputId": "fd065286-8fa6-41be-d656-fbe580ba6656",
    "scrolled": true
   },
   "outputs": [
    {
     "data": {
      "text/html": [
       "<div>\n",
       "<style scoped>\n",
       "    .dataframe tbody tr th:only-of-type {\n",
       "        vertical-align: middle;\n",
       "    }\n",
       "\n",
       "    .dataframe tbody tr th {\n",
       "        vertical-align: top;\n",
       "    }\n",
       "\n",
       "    .dataframe thead th {\n",
       "        text-align: right;\n",
       "    }\n",
       "</style>\n",
       "<table border=\"1\" class=\"dataframe\">\n",
       "  <thead>\n",
       "    <tr style=\"text-align: right;\">\n",
       "      <th></th>\n",
       "      <th>Model_name</th>\n",
       "      <th>input_shape</th>\n",
       "      <th>power</th>\n",
       "      <th>input_width</th>\n",
       "      <th>input_size</th>\n",
       "      <th>nb_params_conv</th>\n",
       "      <th>nb_params_bn</th>\n",
       "      <th>nb_params_fc</th>\n",
       "      <th>flops</th>\n",
       "      <th>nb_layers</th>\n",
       "      <th>nb_conv_layers</th>\n",
       "      <th>nb_bn_layers</th>\n",
       "      <th>nb_fc_layers</th>\n",
       "      <th>sum_activations</th>\n",
       "      <th>weighted_sum_neurons</th>\n",
       "    </tr>\n",
       "  </thead>\n",
       "  <tbody>\n",
       "    <tr>\n",
       "      <th>1521</th>\n",
       "      <td>basic_model_320_23</td>\n",
       "      <td>(1, 320, 320, 3)</td>\n",
       "      <td>15471.0</td>\n",
       "      <td>320</td>\n",
       "      <td>307200</td>\n",
       "      <td>2499431</td>\n",
       "      <td>7992</td>\n",
       "      <td>5701</td>\n",
       "      <td>168678951282</td>\n",
       "      <td>44</td>\n",
       "      <td>23</td>\n",
       "      <td>15</td>\n",
       "      <td>2</td>\n",
       "      <td>298643104</td>\n",
       "      <td>84243523392</td>\n",
       "    </tr>\n",
       "    <tr>\n",
       "      <th>1522</th>\n",
       "      <td>basic_model_600_42</td>\n",
       "      <td>(1, 600, 600, 3)</td>\n",
       "      <td>13356.0</td>\n",
       "      <td>600</td>\n",
       "      <td>1080000</td>\n",
       "      <td>12220342</td>\n",
       "      <td>14132</td>\n",
       "      <td>25701</td>\n",
       "      <td>159725668606</td>\n",
       "      <td>71</td>\n",
       "      <td>42</td>\n",
       "      <td>20</td>\n",
       "      <td>2</td>\n",
       "      <td>140162512</td>\n",
       "      <td>79782663040</td>\n",
       "    </tr>\n",
       "    <tr>\n",
       "      <th>1523</th>\n",
       "      <td>basic_model_320_20</td>\n",
       "      <td>(1, 320, 320, 3)</td>\n",
       "      <td>25720.0</td>\n",
       "      <td>320</td>\n",
       "      <td>307200</td>\n",
       "      <td>8674305</td>\n",
       "      <td>9112</td>\n",
       "      <td>1211</td>\n",
       "      <td>1776131430777</td>\n",
       "      <td>37</td>\n",
       "      <td>20</td>\n",
       "      <td>14</td>\n",
       "      <td>2</td>\n",
       "      <td>629248140</td>\n",
       "      <td>887853056000</td>\n",
       "    </tr>\n",
       "    <tr>\n",
       "      <th>1524</th>\n",
       "      <td>basic_model_600_31</td>\n",
       "      <td>(1, 600, 600, 3)</td>\n",
       "      <td>23914.0</td>\n",
       "      <td>600</td>\n",
       "      <td>1080000</td>\n",
       "      <td>12481366</td>\n",
       "      <td>9088</td>\n",
       "      <td>33201</td>\n",
       "      <td>853243940125</td>\n",
       "      <td>52</td>\n",
       "      <td>31</td>\n",
       "      <td>13</td>\n",
       "      <td>2</td>\n",
       "      <td>337941414</td>\n",
       "      <td>426431945716</td>\n",
       "    </tr>\n",
       "    <tr>\n",
       "      <th>1525</th>\n",
       "      <td>basic_model_75_12</td>\n",
       "      <td>(1, 75, 75, 3)</td>\n",
       "      <td>2132.0</td>\n",
       "      <td>75</td>\n",
       "      <td>16875</td>\n",
       "      <td>1179844</td>\n",
       "      <td>2588</td>\n",
       "      <td>28501</td>\n",
       "      <td>3330331266</td>\n",
       "      <td>24</td>\n",
       "      <td>12</td>\n",
       "      <td>6</td>\n",
       "      <td>2</td>\n",
       "      <td>5411083</td>\n",
       "      <td>1656063392</td>\n",
       "    </tr>\n",
       "  </tbody>\n",
       "</table>\n",
       "</div>"
      ],
      "text/plain": [
       "              Model_name       input_shape    power  input_width  input_size  \\\n",
       "1521  basic_model_320_23  (1, 320, 320, 3)  15471.0          320      307200   \n",
       "1522  basic_model_600_42  (1, 600, 600, 3)  13356.0          600     1080000   \n",
       "1523  basic_model_320_20  (1, 320, 320, 3)  25720.0          320      307200   \n",
       "1524  basic_model_600_31  (1, 600, 600, 3)  23914.0          600     1080000   \n",
       "1525   basic_model_75_12    (1, 75, 75, 3)   2132.0           75       16875   \n",
       "\n",
       "      nb_params_conv  nb_params_bn  nb_params_fc          flops  nb_layers  \\\n",
       "1521         2499431          7992          5701   168678951282         44   \n",
       "1522        12220342         14132         25701   159725668606         71   \n",
       "1523         8674305          9112          1211  1776131430777         37   \n",
       "1524        12481366          9088         33201   853243940125         52   \n",
       "1525         1179844          2588         28501     3330331266         24   \n",
       "\n",
       "      nb_conv_layers  nb_bn_layers  nb_fc_layers  sum_activations  \\\n",
       "1521              23            15             2        298643104   \n",
       "1522              42            20             2        140162512   \n",
       "1523              20            14             2        629248140   \n",
       "1524              31            13             2        337941414   \n",
       "1525              12             6             2          5411083   \n",
       "\n",
       "      weighted_sum_neurons  \n",
       "1521           84243523392  \n",
       "1522           79782663040  \n",
       "1523          887853056000  \n",
       "1524          426431945716  \n",
       "1525            1656063392  "
      ]
     },
     "execution_count": 2,
     "metadata": {},
     "output_type": "execute_result"
    }
   ],
   "source": [
    "# 1/ Training data :\n",
    "\n",
    "column_names = ['Model_name', 'input_shape', 'power', 'input_width', 'input_size', 'nb_params_conv', \n",
    "                'nb_params_bn', 'nb_params_fc', 'flops', 'nb_layers', 'nb_conv_layers', 'nb_bn_layers',\n",
    "                'nb_fc_layers', 'sum_activations', 'weighted_sum_neurons']\n",
    "raw_dataset = pd.read_csv('./data/training_dataset.csv', names=column_names,\n",
    "                      na_values = \"?\", comment='\\t', sep=\",\", skipinitialspace=True)\n",
    "train_dataset = raw_dataset.copy()\n",
    "train_dataset.isna().sum()\n",
    "train_dataset = train_dataset.dropna()\n",
    "train_dataset.tail()"
   ]
  },
  {
   "cell_type": "code",
   "execution_count": 32,
   "metadata": {
    "colab": {
     "base_uri": "https://localhost:8080/",
     "height": 309
    },
    "id": "t_rRLw829EYz",
    "outputId": "a53000ab-1061-4cfa-be5f-ef9f9bb075c6"
   },
   "outputs": [
    {
     "data": {
      "text/html": [
       "<div>\n",
       "<style scoped>\n",
       "    .dataframe tbody tr th:only-of-type {\n",
       "        vertical-align: middle;\n",
       "    }\n",
       "\n",
       "    .dataframe tbody tr th {\n",
       "        vertical-align: top;\n",
       "    }\n",
       "\n",
       "    .dataframe thead th {\n",
       "        text-align: right;\n",
       "    }\n",
       "</style>\n",
       "<table border=\"1\" class=\"dataframe\">\n",
       "  <thead>\n",
       "    <tr style=\"text-align: right;\">\n",
       "      <th></th>\n",
       "      <th>Model_name</th>\n",
       "      <th>input_shape</th>\n",
       "      <th>power</th>\n",
       "      <th>input_width</th>\n",
       "      <th>input_size</th>\n",
       "      <th>nb_params_conv</th>\n",
       "      <th>nb_params_bn</th>\n",
       "      <th>nb_params_fc</th>\n",
       "      <th>flops</th>\n",
       "      <th>nb_layers</th>\n",
       "      <th>nb_conv_layers</th>\n",
       "      <th>nb_bn_layers</th>\n",
       "      <th>nb_fc_layers</th>\n",
       "      <th>sum_activations</th>\n",
       "      <th>weighted_sum_neurons</th>\n",
       "    </tr>\n",
       "  </thead>\n",
       "  <tbody>\n",
       "    <tr>\n",
       "      <th>102</th>\n",
       "      <td>EfficientNet-B0</td>\n",
       "      <td>(512, 512, 3)</td>\n",
       "      <td>4041.0</td>\n",
       "      <td>512</td>\n",
       "      <td>786432</td>\n",
       "      <td>3965532</td>\n",
       "      <td>84033</td>\n",
       "      <td>1281001</td>\n",
       "      <td>4085726980</td>\n",
       "      <td>233</td>\n",
       "      <td>81</td>\n",
       "      <td>50</td>\n",
       "      <td>2</td>\n",
       "      <td>117635172</td>\n",
       "      <td>80094501376</td>\n",
       "    </tr>\n",
       "    <tr>\n",
       "      <th>103</th>\n",
       "      <td>EfficientNet-B0</td>\n",
       "      <td>(720, 720, 3)</td>\n",
       "      <td>5866.0</td>\n",
       "      <td>720</td>\n",
       "      <td>1555200</td>\n",
       "      <td>3965532</td>\n",
       "      <td>84033</td>\n",
       "      <td>1281001</td>\n",
       "      <td>8183072596</td>\n",
       "      <td>233</td>\n",
       "      <td>81</td>\n",
       "      <td>50</td>\n",
       "      <td>2</td>\n",
       "      <td>233556068</td>\n",
       "      <td>161236938752</td>\n",
       "    </tr>\n",
       "    <tr>\n",
       "      <th>104</th>\n",
       "      <td>EfficientNet-B4</td>\n",
       "      <td>(90, 90, 3)</td>\n",
       "      <td>2136.0</td>\n",
       "      <td>90</td>\n",
       "      <td>24300</td>\n",
       "      <td>17423416</td>\n",
       "      <td>250401</td>\n",
       "      <td>1793001</td>\n",
       "      <td>595640786</td>\n",
       "      <td>470</td>\n",
       "      <td>160</td>\n",
       "      <td>97</td>\n",
       "      <td>2</td>\n",
       "      <td>10284484</td>\n",
       "      <td>12812090224</td>\n",
       "    </tr>\n",
       "    <tr>\n",
       "      <th>105</th>\n",
       "      <td>EfficientNet-B4</td>\n",
       "      <td>(512, 512, 3)</td>\n",
       "      <td>6704.0</td>\n",
       "      <td>512</td>\n",
       "      <td>786432</td>\n",
       "      <td>17423416</td>\n",
       "      <td>250401</td>\n",
       "      <td>1793001</td>\n",
       "      <td>15877844034</td>\n",
       "      <td>470</td>\n",
       "      <td>160</td>\n",
       "      <td>97</td>\n",
       "      <td>2</td>\n",
       "      <td>305708296</td>\n",
       "      <td>366198974816</td>\n",
       "    </tr>\n",
       "    <tr>\n",
       "      <th>106</th>\n",
       "      <td>EfficientNet-B4</td>\n",
       "      <td>(720, 720, 3)</td>\n",
       "      <td>10044.0</td>\n",
       "      <td>720</td>\n",
       "      <td>1555200</td>\n",
       "      <td>17423416</td>\n",
       "      <td>250401</td>\n",
       "      <td>1793001</td>\n",
       "      <td>31863479154</td>\n",
       "      <td>470</td>\n",
       "      <td>160</td>\n",
       "      <td>97</td>\n",
       "      <td>2</td>\n",
       "      <td>607426440</td>\n",
       "      <td>737567732576</td>\n",
       "    </tr>\n",
       "  </tbody>\n",
       "</table>\n",
       "</div>"
      ],
      "text/plain": [
       "          Model_name    input_shape    power  input_width  input_size  \\\n",
       "102  EfficientNet-B0  (512, 512, 3)   4041.0          512      786432   \n",
       "103  EfficientNet-B0  (720, 720, 3)   5866.0          720     1555200   \n",
       "104  EfficientNet-B4    (90, 90, 3)   2136.0           90       24300   \n",
       "105  EfficientNet-B4  (512, 512, 3)   6704.0          512      786432   \n",
       "106  EfficientNet-B4  (720, 720, 3)  10044.0          720     1555200   \n",
       "\n",
       "     nb_params_conv  nb_params_bn  nb_params_fc        flops  nb_layers  \\\n",
       "102         3965532         84033       1281001   4085726980        233   \n",
       "103         3965532         84033       1281001   8183072596        233   \n",
       "104        17423416        250401       1793001    595640786        470   \n",
       "105        17423416        250401       1793001  15877844034        470   \n",
       "106        17423416        250401       1793001  31863479154        470   \n",
       "\n",
       "     nb_conv_layers  nb_bn_layers  nb_fc_layers  sum_activations  \\\n",
       "102              81            50             2        117635172   \n",
       "103              81            50             2        233556068   \n",
       "104             160            97             2         10284484   \n",
       "105             160            97             2        305708296   \n",
       "106             160            97             2        607426440   \n",
       "\n",
       "     weighted_sum_neurons  \n",
       "102           80094501376  \n",
       "103          161236938752  \n",
       "104           12812090224  \n",
       "105          366198974816  \n",
       "106          737567732576  "
      ]
     },
     "execution_count": 32,
     "metadata": {},
     "output_type": "execute_result"
    }
   ],
   "source": [
    "# 1/ Test data :\n",
    "\n",
    "column_names = ['Model_name', 'input_shape', 'power', 'input_width', 'input_size', 'nb_params_conv', \n",
    "                'nb_params_bn', 'nb_params_fc', 'flops', 'nb_layers', 'nb_conv_layers', 'nb_bn_layers',\n",
    "                'nb_fc_layers', 'sum_activations', 'weighted_sum_neurons']\n",
    "raw_dataset = pd.read_csv('./data/test_dim1.csv', names=column_names,\n",
    "                      na_values = \"?\", comment='\\t', sep=\",\", skipinitialspace=True)\n",
    "test_dataset = raw_dataset.copy()\n",
    "test_dataset.isna().sum()\n",
    "test_dataset = test_dataset.dropna()\n",
    "test_dataset.tail()"
   ]
  },
  {
   "cell_type": "code",
   "execution_count": 4,
   "metadata": {
    "colab": {
     "base_uri": "https://localhost:8080/"
    },
    "id": "XdWATICk9EaT",
    "outputId": "97963725-f4f3-422a-f9aa-f89be9934080"
   },
   "outputs": [
    {
     "data": {
      "text/plain": [
       "0       1\n",
       "1       1\n",
       "2       1\n",
       "3       1\n",
       "4       1\n",
       "       ..\n",
       "1521    2\n",
       "1522    2\n",
       "1523    2\n",
       "1524    2\n",
       "1525    2\n",
       "Name: nb_fc_layers, Length: 1525, dtype: int64"
      ]
     },
     "execution_count": 4,
     "metadata": {},
     "output_type": "execute_result"
    }
   ],
   "source": [
    "train_dataset.pop('input_width')\n",
    "train_dataset.pop('nb_params_bn')\n",
    "train_dataset.pop('nb_params_fc')\n",
    "train_dataset.pop('nb_conv_layers')\n",
    "train_dataset.pop('nb_bn_layers')\n",
    "train_dataset.pop('nb_fc_layers')"
   ]
  },
  {
   "cell_type": "code",
   "execution_count": 33,
   "metadata": {
    "colab": {
     "base_uri": "https://localhost:8080/"
    },
    "id": "zRS3oaWYlfHG",
    "outputId": "a239e380-c677-4601-bd76-a1c8fcf49042"
   },
   "outputs": [
    {
     "data": {
      "text/plain": [
       "0      2\n",
       "1      2\n",
       "2      2\n",
       "3      2\n",
       "4      2\n",
       "      ..\n",
       "102    2\n",
       "103    2\n",
       "104    2\n",
       "105    2\n",
       "106    2\n",
       "Name: nb_fc_layers, Length: 107, dtype: int64"
      ]
     },
     "execution_count": 33,
     "metadata": {},
     "output_type": "execute_result"
    }
   ],
   "source": [
    "test_dataset.pop('input_width')\n",
    "test_dataset.pop('nb_params_bn')\n",
    "test_dataset.pop('nb_params_fc')\n",
    "test_dataset.pop('nb_conv_layers')\n",
    "test_dataset.pop('nb_bn_layers')\n",
    "test_dataset.pop('nb_fc_layers')"
   ]
  },
  {
   "cell_type": "code",
   "execution_count": 6,
   "metadata": {
    "id": "74Hl1e-HlfK0"
   },
   "outputs": [],
   "source": [
    "Y = train_dataset.pop('power')\n",
    "X = train_dataset\n",
    "Y_f = Y\n",
    "X_f = X"
   ]
  },
  {
   "cell_type": "code",
   "execution_count": 7,
   "metadata": {
    "colab": {
     "base_uri": "https://localhost:8080/",
     "height": 202
    },
    "id": "H7OHcOwRYItk",
    "outputId": "bc983162-7727-4eb9-a6a5-c12abf0087c8"
   },
   "outputs": [
    {
     "data": {
      "text/html": [
       "<div>\n",
       "<style scoped>\n",
       "    .dataframe tbody tr th:only-of-type {\n",
       "        vertical-align: middle;\n",
       "    }\n",
       "\n",
       "    .dataframe tbody tr th {\n",
       "        vertical-align: top;\n",
       "    }\n",
       "\n",
       "    .dataframe thead th {\n",
       "        text-align: right;\n",
       "    }\n",
       "</style>\n",
       "<table border=\"1\" class=\"dataframe\">\n",
       "  <thead>\n",
       "    <tr style=\"text-align: right;\">\n",
       "      <th></th>\n",
       "      <th>Model_name</th>\n",
       "      <th>input_shape</th>\n",
       "      <th>input_size</th>\n",
       "      <th>nb_params_conv</th>\n",
       "      <th>flops</th>\n",
       "      <th>nb_layers</th>\n",
       "      <th>sum_activations</th>\n",
       "      <th>weighted_sum_neurons</th>\n",
       "    </tr>\n",
       "  </thead>\n",
       "  <tbody>\n",
       "    <tr>\n",
       "      <th>1521</th>\n",
       "      <td>basic_model_320_23</td>\n",
       "      <td>(1, 320, 320, 3)</td>\n",
       "      <td>307200</td>\n",
       "      <td>2499431</td>\n",
       "      <td>168678951282</td>\n",
       "      <td>44</td>\n",
       "      <td>298643104</td>\n",
       "      <td>84243523392</td>\n",
       "    </tr>\n",
       "    <tr>\n",
       "      <th>1522</th>\n",
       "      <td>basic_model_600_42</td>\n",
       "      <td>(1, 600, 600, 3)</td>\n",
       "      <td>1080000</td>\n",
       "      <td>12220342</td>\n",
       "      <td>159725668606</td>\n",
       "      <td>71</td>\n",
       "      <td>140162512</td>\n",
       "      <td>79782663040</td>\n",
       "    </tr>\n",
       "    <tr>\n",
       "      <th>1523</th>\n",
       "      <td>basic_model_320_20</td>\n",
       "      <td>(1, 320, 320, 3)</td>\n",
       "      <td>307200</td>\n",
       "      <td>8674305</td>\n",
       "      <td>1776131430777</td>\n",
       "      <td>37</td>\n",
       "      <td>629248140</td>\n",
       "      <td>887853056000</td>\n",
       "    </tr>\n",
       "    <tr>\n",
       "      <th>1524</th>\n",
       "      <td>basic_model_600_31</td>\n",
       "      <td>(1, 600, 600, 3)</td>\n",
       "      <td>1080000</td>\n",
       "      <td>12481366</td>\n",
       "      <td>853243940125</td>\n",
       "      <td>52</td>\n",
       "      <td>337941414</td>\n",
       "      <td>426431945716</td>\n",
       "    </tr>\n",
       "    <tr>\n",
       "      <th>1525</th>\n",
       "      <td>basic_model_75_12</td>\n",
       "      <td>(1, 75, 75, 3)</td>\n",
       "      <td>16875</td>\n",
       "      <td>1179844</td>\n",
       "      <td>3330331266</td>\n",
       "      <td>24</td>\n",
       "      <td>5411083</td>\n",
       "      <td>1656063392</td>\n",
       "    </tr>\n",
       "  </tbody>\n",
       "</table>\n",
       "</div>"
      ],
      "text/plain": [
       "              Model_name       input_shape  input_size  nb_params_conv  \\\n",
       "1521  basic_model_320_23  (1, 320, 320, 3)      307200         2499431   \n",
       "1522  basic_model_600_42  (1, 600, 600, 3)     1080000        12220342   \n",
       "1523  basic_model_320_20  (1, 320, 320, 3)      307200         8674305   \n",
       "1524  basic_model_600_31  (1, 600, 600, 3)     1080000        12481366   \n",
       "1525   basic_model_75_12    (1, 75, 75, 3)       16875         1179844   \n",
       "\n",
       "              flops  nb_layers  sum_activations  weighted_sum_neurons  \n",
       "1521   168678951282         44        298643104           84243523392  \n",
       "1522   159725668606         71        140162512           79782663040  \n",
       "1523  1776131430777         37        629248140          887853056000  \n",
       "1524   853243940125         52        337941414          426431945716  \n",
       "1525     3330331266         24          5411083            1656063392  "
      ]
     },
     "execution_count": 7,
     "metadata": {},
     "output_type": "execute_result"
    }
   ],
   "source": [
    "X.tail()"
   ]
  },
  {
   "cell_type": "code",
   "execution_count": 8,
   "metadata": {
    "id": "Z7D6nOv49Ec7"
   },
   "outputs": [],
   "source": [
    "X_train, X_test, y_train, y_test = train_test_split(X,Y,test_size=0.001, random_state=42, shuffle=True)"
   ]
  },
  {
   "cell_type": "code",
   "execution_count": 9,
   "metadata": {
    "id": "KdSNzFzg9Ed9"
   },
   "outputs": [],
   "source": [
    "X_train_model_names = X_train.pop('Model_name')\n",
    "X_train_input_shapes = X_train.pop('input_shape')"
   ]
  },
  {
   "cell_type": "code",
   "execution_count": 10,
   "metadata": {
    "id": "a-0Za44glfQm"
   },
   "outputs": [],
   "source": [
    "X_test_model_names = X_test.pop('Model_name')\n",
    "X_test_input_shapes = X_test.pop('input_shape')"
   ]
  },
  {
   "cell_type": "code",
   "execution_count": 11,
   "metadata": {
    "id": "GQUsXh28sZjV"
   },
   "outputs": [],
   "source": [
    "X_f_model_names = X_f.pop('Model_name')\n",
    "X_f_input_shapes = X_f.pop('input_shape')\n",
    "dtrain_f = xgb.DMatrix(X_f, label=Y_f)"
   ]
  },
  {
   "cell_type": "code",
   "execution_count": 12,
   "metadata": {
    "id": "I3TAHLXH9Eey"
   },
   "outputs": [],
   "source": [
    "dtrain = xgb.DMatrix(X_train, label=y_train)\n",
    "dtest = xgb.DMatrix(X_test, label=y_test)"
   ]
  },
  {
   "cell_type": "code",
   "execution_count": 34,
   "metadata": {
    "id": "hdGkObaO9Efs"
   },
   "outputs": [],
   "source": [
    "Y_e = test_dataset.pop('power')\n",
    "X_e = test_dataset\n",
    "X_e.tail()\n",
    "X_test_e_model_names = X_e.pop('Model_name')\n",
    "X_test_e_input_shapes = X_e.pop('input_shape')\n",
    "dtest_e = xgb.DMatrix(X_e, label=Y_e)"
   ]
  },
  {
   "cell_type": "code",
   "execution_count": 14,
   "metadata": {
    "id": "95BbRrkL9Eio"
   },
   "outputs": [],
   "source": [
    "params = {\n",
    "    # Parameters that we are going to tune.\n",
    "    'max_depth':17,\n",
    "    'min_child_weight': 14,\n",
    "    'eta':.08,\n",
    "    'subsample': 1,\n",
    "    'colsample_bytree': .9,\n",
    "    'gamma' : 0.7,\n",
    "    # Other parameters\n",
    "    'objective':'reg:squarederror',\n",
    "}"
   ]
  },
  {
   "cell_type": "code",
   "execution_count": 15,
   "metadata": {
    "id": "KpZN-eKw9Eju"
   },
   "outputs": [],
   "source": [
    "params['eval_metric'] = \"rmse\"\n",
    "num_boost_round = 3000"
   ]
  },
  {
   "cell_type": "code",
   "execution_count": 16,
   "metadata": {
    "colab": {
     "base_uri": "https://localhost:8080/"
    },
    "id": "TSgKJuup9Eks",
    "outputId": "c51ed895-9276-4bed-d609-8459ce272dc2"
   },
   "outputs": [
    {
     "name": "stdout",
     "output_type": "stream",
     "text": [
      "{'max_depth': 17, 'min_child_weight': 14, 'eta': 0.08, 'subsample': 1, 'colsample_bytree': 0.9, 'gamma': 0.7, 'objective': 'reg:squarederror', 'eval_metric': 'rmse'}\n"
     ]
    }
   ],
   "source": [
    "print(params)"
   ]
  },
  {
   "cell_type": "code",
   "execution_count": 17,
   "metadata": {
    "colab": {
     "base_uri": "https://localhost:8080/"
    },
    "id": "ZJRGqqW_EuRL",
    "outputId": "01150941-8f2c-41dd-fcba-ec7f230ff7df"
   },
   "outputs": [],
   "source": [
    "num_boost_round = 98\n",
    "best_model = xgb.train( \n",
    "    params,\n",
    "    dtrain_f,\n",
    "    num_boost_round=num_boost_round\n",
    ")"
   ]
  },
  {
   "cell_type": "code",
   "execution_count": 18,
   "metadata": {
    "id": "QE8TYO9u9Eyj"
   },
   "outputs": [],
   "source": [
    "#best_model.save_model(\"model_16-04.model\")\n",
    "loaded_model = best_model"
   ]
  },
  {
   "cell_type": "code",
   "execution_count": 35,
   "metadata": {
    "id": "0sF9Ee4WlfmS"
   },
   "outputs": [],
   "source": [
    "y_pred = loaded_model.predict(dtest_e)\n",
    "np_test = Y_e.values\n",
    "y_test = Y_e.values"
   ]
  },
  {
   "cell_type": "code",
   "execution_count": 36,
   "metadata": {
    "colab": {
     "base_uri": "https://localhost:8080/"
    },
    "id": "AksIf4TQcquE",
    "outputId": "191f0e2a-93fd-4127-b08a-a2eaff1f1ded"
   },
   "outputs": [
    {
     "name": "stdout",
     "output_type": "stream",
     "text": [
      "Explained variance :  0.9915254766007869\n",
      "R2_value :  0.9914098180950458\n",
      "Mean absolute error : 286.2516930125584\n",
      "Root Mean squared error : 439.131836379402\n",
      "Median absolute error : 180.623046875\n"
     ]
    }
   ],
   "source": [
    "# Model evaluation on test dataset\n",
    "print('Explained variance : ',explained_variance_score(y_test, y_pred))\n",
    "print('R2_value : ',r2_score(y_test, y_pred))\n",
    "print('Mean absolute error :', mean_absolute_error(y_test, y_pred))\n",
    "print('Root Mean squared error :', mean_squared_error(y_test, y_pred, squared=False))\n",
    "print('Median absolute error :', median_absolute_error(y_test, y_pred))"
   ]
  },
  {
   "cell_type": "code",
   "execution_count": 37,
   "metadata": {
    "colab": {
     "base_uri": "https://localhost:8080/"
    },
    "id": "eVg6ssE7K10p",
    "outputId": "07b834a2-fe87-4758-cff5-4c7d3ddc17e9"
   },
   "outputs": [
    {
     "name": "stdout",
     "output_type": "stream",
     "text": [
      "MAX MAPE :  34.138259566862914\n",
      "Mape: 4.51 %.\n",
      "Accuracy: 95.49 %.\n"
     ]
    }
   ],
   "source": [
    "# Calculate mean absolute percentage error (MAPE)\n",
    "np_test = y_test\n",
    "errors = abs(y_pred-np_test)\n",
    "mape = 100 * (errors / np_test) # Calculate and display accuracy\n",
    "accuracy = 100 - np.mean(mape)\n",
    "print('MAX MAPE : ',max(mape))\n",
    "print('Mape:', round(np.mean(mape), 2), '%.')\n",
    "print('Accuracy:', round(accuracy, 2), '%.')"
   ]
  },
  {
   "cell_type": "code",
   "execution_count": 38,
   "metadata": {
    "colab": {
     "base_uri": "https://localhost:8080/"
    },
    "id": "neiIm2V59E1e",
    "outputId": "201d73f1-273f-4f1a-cec8-d2df52d4678a"
   },
   "outputs": [],
   "source": [
    "test_models = X_test_e_model_names.values\n",
    "test_input_shapes = X_test_e_input_shapes.values"
   ]
  },
  {
   "cell_type": "code",
   "execution_count": 39,
   "metadata": {
    "id": "roJw2SFClfp9"
   },
   "outputs": [],
   "source": [
    "import csv\n",
    "with open('./measured_vs_predicted_XGBoost_dim1.csv', 'w', newline='') as file : \n",
    "    writer = csv.writer(file)\n",
    "    writer.writerow(['CNN_model', 'input_shape', 'model&shape', 'measured', 'predicted', 'absolute_deviation', 'MAPE (in %)'])\n",
    "    for i in range(0, len(y_pred)) :\n",
    "        f = ''+test_models[i]+'_'+test_input_shapes[i]\n",
    "        writer.writerow([test_models[i], test_input_shapes[i], f, np_test[i], y_pred[i],abs(y_pred[i]-np_test[i]), ((abs(y_pred[i]-np_test[i]))/np_test[i])*100])"
   ]
  },
  {
   "cell_type": "code",
   "execution_count": null,
   "metadata": {},
   "outputs": [],
   "source": []
  }
 ],
 "metadata": {
  "colab": {
   "collapsed_sections": [],
   "name": "AGX_XGBoost_Regressor.ipynb",
   "provenance": []
  },
  "kernelspec": {
   "display_name": "Python 3",
   "language": "python",
   "name": "python3"
  },
  "language_info": {
   "codemirror_mode": {
    "name": "ipython",
    "version": 3
   },
   "file_extension": ".py",
   "mimetype": "text/x-python",
   "name": "python",
   "nbconvert_exporter": "python",
   "pygments_lexer": "ipython3",
   "version": "3.8.5"
  }
 },
 "nbformat": 4,
 "nbformat_minor": 1
}
