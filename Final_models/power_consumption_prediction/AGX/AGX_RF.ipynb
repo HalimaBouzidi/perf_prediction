{
 "cells": [
  {
   "cell_type": "code",
   "execution_count": 1,
   "metadata": {
    "id": "jPm6cVZve6DO"
   },
   "outputs": [],
   "source": [
    "import numpy as np \n",
    "import pandas as pd\n",
    "from sklearn.ensemble import RandomForestRegressor\n",
    "from sklearn.preprocessing import StandardScaler\n",
    "from sklearn.model_selection import train_test_split, GridSearchCV \n",
    "from sklearn.metrics import explained_variance_score\n",
    "from sklearn.metrics import r2_score\n",
    "from sklearn.metrics import median_absolute_error\n",
    "from sklearn.metrics import mean_absolute_error\n",
    "from sklearn.metrics import mean_squared_error\n",
    "from sklearn.pipeline import Pipeline\n",
    "import seaborn as sns\n",
    "import matplotlib.pyplot as plt\n",
    "from matplotlib.ticker import PercentFormatter"
   ]
  },
  {
   "cell_type": "code",
   "execution_count": 2,
   "metadata": {},
   "outputs": [],
   "source": [
    "def select_train(list_var, data):\n",
    "    for var in list_var :\n",
    "        data.pop(var)\n",
    "    return data\n",
    "\n",
    "def select_test(list_var, data):\n",
    "    for var in list_var :\n",
    "        data.pop(var)\n",
    "    return data"
   ]
  },
  {
   "cell_type": "code",
   "execution_count": 3,
   "metadata": {
    "colab": {
     "base_uri": "https://localhost:8080/",
     "height": 296
    },
    "id": "wXZ3C3fwe6Er",
    "outputId": "f08c755a-b6d9-48c2-f280-dabd4e60fa82"
   },
   "outputs": [],
   "source": [
    "# 1/ Training data :\n",
    "\n",
    "column_names = ['Model_name', 'input_shape', 'power', 'input_width', 'input_size', 'nb_params_conv','nb_params_bn', 'nb_params_fc', 'flops', 'nb_layers', \n",
    "                'nb_conv_layers', 'nb_bn_layers','nb_fc_layers', 'sum_activations', 'weighted_sum_neurons']\n",
    "raw_dataset = pd.read_csv('./data/training_dataset.csv', names=column_names,\n",
    "                      na_values = \"?\", comment='\\t', sep=\",\", skipinitialspace=True)\n",
    "train_dataset = raw_dataset.copy()\n",
    "train_dataset.isna().sum()\n",
    "train_dataset = train_dataset.dropna()\n",
    "\n",
    "# 1/ Test data :\n",
    "\n",
    "column_names = ['Model_name', 'input_shape', 'power', 'input_width', 'input_size', 'nb_params_conv','nb_params_bn', 'nb_params_fc', 'flops', 'nb_layers', \n",
    "                'nb_conv_layers', 'nb_bn_layers','nb_fc_layers', 'sum_activations', 'weighted_sum_neurons']\n",
    "raw_dataset = pd.read_csv('./data/test_dim1.csv', names=column_names,\n",
    "                      na_values = \"?\", comment='\\t', sep=\",\", skipinitialspace=True)\n",
    "test_dataset1 = raw_dataset.copy()\n",
    "test_dataset1.isna().sum()\n",
    "test_dataset1 = test_dataset1.dropna()\n",
    "\n",
    "# 2/ Test data :\n",
    "\n",
    "column_names = ['Model_name', 'input_shape', 'power', 'input_width', 'input_size', 'nb_params_conv','nb_params_bn', 'nb_params_fc', 'flops', 'nb_layers', \n",
    "                'nb_conv_layers', 'nb_bn_layers','nb_fc_layers', 'sum_activations', 'weighted_sum_neurons']\n",
    "raw_dataset = pd.read_csv('./data/test_dim2.csv', names=column_names,\n",
    "                      na_values = \"?\", comment='\\t', sep=\",\", skipinitialspace=True)\n",
    "test_dataset2 = raw_dataset.copy()\n",
    "test_dataset2.isna().sum()\n",
    "test_dataset2 = test_dataset2.dropna()\n",
    "\n",
    "# 3/ Test data :\n",
    "\n",
    "column_names = ['Model_name', 'input_shape', 'power', 'input_width', 'input_size', 'nb_params_conv','nb_params_bn', 'nb_params_fc', 'flops', 'nb_layers', \n",
    "                'nb_conv_layers', 'nb_bn_layers','nb_fc_layers', 'sum_activations', 'weighted_sum_neurons']\n",
    "raw_dataset = pd.read_csv('./data/test_dim3.csv', names=column_names,\n",
    "                      na_values = \"?\", comment='\\t', sep=\",\", skipinitialspace=True)\n",
    "test_dataset3 = raw_dataset.copy()\n",
    "test_dataset3.isna().sum()\n",
    "test_dataset3 = test_dataset3.dropna()"
   ]
  },
  {
   "cell_type": "code",
   "execution_count": 4,
   "metadata": {
    "colab": {
     "base_uri": "https://localhost:8080/",
     "height": 226
    },
    "id": "XNl0ybwqe6GA",
    "outputId": "35aebe82-c784-48fe-f65d-912fb9ebe61c"
   },
   "outputs": [],
   "source": [
    "list_comp = ['input_width', 'input_size','nb_params_conv', 'nb_params_bn', 'nb_params_fc', 'nb_layers', \n",
    "                'nb_conv_layers', 'nb_bn_layers','nb_fc_layers', 'sum_activations', 'weighted_sum_neurons']\n",
    "\n",
    "list_var = ['input_width', 'nb_params_bn', 'nb_params_fc','nb_conv_layers', 'nb_bn_layers', 'nb_fc_layers']\n",
    "\n",
    "train_dataset = select_train(list_var, train_dataset)\n",
    "test_dataset1 = select_test(list_var, test_dataset1)\n",
    "test_dataset2 = select_test(list_var, test_dataset2)\n",
    "test_dataset3 = select_test(list_var, test_dataset3)"
   ]
  },
  {
   "cell_type": "code",
   "execution_count": 5,
   "metadata": {
    "colab": {
     "base_uri": "https://localhost:8080/"
    },
    "id": "aT_wO9i5e6HM",
    "outputId": "11eace79-e693-4c5a-f1e0-180dd81537fc"
   },
   "outputs": [
    {
     "data": {
      "text/html": [
       "<div>\n",
       "<style scoped>\n",
       "    .dataframe tbody tr th:only-of-type {\n",
       "        vertical-align: middle;\n",
       "    }\n",
       "\n",
       "    .dataframe tbody tr th {\n",
       "        vertical-align: top;\n",
       "    }\n",
       "\n",
       "    .dataframe thead th {\n",
       "        text-align: right;\n",
       "    }\n",
       "</style>\n",
       "<table border=\"1\" class=\"dataframe\">\n",
       "  <thead>\n",
       "    <tr style=\"text-align: right;\">\n",
       "      <th></th>\n",
       "      <th>Model_name</th>\n",
       "      <th>input_shape</th>\n",
       "      <th>input_size</th>\n",
       "      <th>nb_params_conv</th>\n",
       "      <th>flops</th>\n",
       "      <th>nb_layers</th>\n",
       "      <th>sum_activations</th>\n",
       "      <th>weighted_sum_neurons</th>\n",
       "    </tr>\n",
       "  </thead>\n",
       "  <tbody>\n",
       "    <tr>\n",
       "      <th>1521</th>\n",
       "      <td>basic_model_320_23</td>\n",
       "      <td>(1, 320, 320, 3)</td>\n",
       "      <td>307200</td>\n",
       "      <td>2499431</td>\n",
       "      <td>168678951282</td>\n",
       "      <td>44</td>\n",
       "      <td>298643104</td>\n",
       "      <td>84243523392</td>\n",
       "    </tr>\n",
       "    <tr>\n",
       "      <th>1522</th>\n",
       "      <td>basic_model_600_42</td>\n",
       "      <td>(1, 600, 600, 3)</td>\n",
       "      <td>1080000</td>\n",
       "      <td>12220342</td>\n",
       "      <td>159725668606</td>\n",
       "      <td>71</td>\n",
       "      <td>140162512</td>\n",
       "      <td>79782663040</td>\n",
       "    </tr>\n",
       "    <tr>\n",
       "      <th>1523</th>\n",
       "      <td>basic_model_320_20</td>\n",
       "      <td>(1, 320, 320, 3)</td>\n",
       "      <td>307200</td>\n",
       "      <td>8674305</td>\n",
       "      <td>1776131430777</td>\n",
       "      <td>37</td>\n",
       "      <td>629248140</td>\n",
       "      <td>887853056000</td>\n",
       "    </tr>\n",
       "    <tr>\n",
       "      <th>1524</th>\n",
       "      <td>basic_model_600_31</td>\n",
       "      <td>(1, 600, 600, 3)</td>\n",
       "      <td>1080000</td>\n",
       "      <td>12481366</td>\n",
       "      <td>853243940125</td>\n",
       "      <td>52</td>\n",
       "      <td>337941414</td>\n",
       "      <td>426431945716</td>\n",
       "    </tr>\n",
       "    <tr>\n",
       "      <th>1525</th>\n",
       "      <td>basic_model_75_12</td>\n",
       "      <td>(1, 75, 75, 3)</td>\n",
       "      <td>16875</td>\n",
       "      <td>1179844</td>\n",
       "      <td>3330331266</td>\n",
       "      <td>24</td>\n",
       "      <td>5411083</td>\n",
       "      <td>1656063392</td>\n",
       "    </tr>\n",
       "  </tbody>\n",
       "</table>\n",
       "</div>"
      ],
      "text/plain": [
       "              Model_name       input_shape  input_size  nb_params_conv  \\\n",
       "1521  basic_model_320_23  (1, 320, 320, 3)      307200         2499431   \n",
       "1522  basic_model_600_42  (1, 600, 600, 3)     1080000        12220342   \n",
       "1523  basic_model_320_20  (1, 320, 320, 3)      307200         8674305   \n",
       "1524  basic_model_600_31  (1, 600, 600, 3)     1080000        12481366   \n",
       "1525   basic_model_75_12    (1, 75, 75, 3)       16875         1179844   \n",
       "\n",
       "              flops  nb_layers  sum_activations  weighted_sum_neurons  \n",
       "1521   168678951282         44        298643104           84243523392  \n",
       "1522   159725668606         71        140162512           79782663040  \n",
       "1523  1776131430777         37        629248140          887853056000  \n",
       "1524   853243940125         52        337941414          426431945716  \n",
       "1525     3330331266         24          5411083            1656063392  "
      ]
     },
     "execution_count": 5,
     "metadata": {},
     "output_type": "execute_result"
    }
   ],
   "source": [
    "y_train = train_dataset.pop('power')\n",
    "X_train = train_dataset\n",
    "X_train.tail()"
   ]
  },
  {
   "cell_type": "code",
   "execution_count": 6,
   "metadata": {
    "colab": {
     "base_uri": "https://localhost:8080/"
    },
    "id": "VyhKBik27EKH",
    "outputId": "87c60ce6-f988-4f72-9dea-3529a6035fa7"
   },
   "outputs": [],
   "source": [
    "Y_e1 = test_dataset1.pop('power')\n",
    "X_e1 = test_dataset1\n",
    "\n",
    "Y_e2 = test_dataset2.pop('power')\n",
    "X_e2 = test_dataset2\n",
    "\n",
    "Y_e3 = test_dataset3.pop('power')\n",
    "X_e3 = test_dataset3"
   ]
  },
  {
   "cell_type": "code",
   "execution_count": 7,
   "metadata": {
    "colab": {
     "base_uri": "https://localhost:8080/",
     "height": 206
    },
    "id": "xst7TzQEe6IV",
    "outputId": "288c2a2a-9db2-4bb5-b558-e7b5701da72e"
   },
   "outputs": [],
   "source": [
    "X_train_model_names = X_train.pop('Model_name')\n",
    "X_train_input_shapes = X_train.pop('input_shape')\n",
    "\n",
    "X_test_model_names1 = X_e1.pop('Model_name')\n",
    "X_test_input_shapes1 = X_e1.pop('input_shape')\n",
    "\n",
    "X_test_model_names2 = X_e2.pop('Model_name')\n",
    "X_test_input_shapes2 = X_e2.pop('input_shape')\n",
    "\n",
    "X_test_model_names3 = X_e3.pop('Model_name')\n",
    "X_test_input_shapes3 = X_e3.pop('input_shape')"
   ]
  },
  {
   "cell_type": "code",
   "execution_count": 8,
   "metadata": {
    "id": "YsjJiycte6KX"
   },
   "outputs": [],
   "source": [
    "y_test1 = Y_e1.values\n",
    "y_test2 = Y_e2.values\n",
    "y_test3 = Y_e3.values"
   ]
  },
  {
   "cell_type": "code",
   "execution_count": 9,
   "metadata": {
    "id": "bsj5QFPee6Lf"
   },
   "outputs": [],
   "source": [
    "steps = [('scaler', StandardScaler()), ('RFR', RandomForestRegressor())]\n",
    "pipeline = Pipeline(steps)"
   ]
  },
  {
   "cell_type": "code",
   "execution_count": 10,
   "metadata": {
    "id": "yG-fZK1de6MJ"
   },
   "outputs": [],
   "source": [
    "# gridSearchCV hyperparameters space\n",
    "\"\"\"\n",
    "param_grid = [\n",
    "        {'RFR__bootstrap': [True,False],\n",
    "         'RFR__max_depth': [None,10,20,30,40,50,60,70,80,90,100,120,140,160,180,200,220,240,260,280,300],\n",
    "         'RFR__n_estimators': [100,200,300,400,500,600,700,800,900,1000],\n",
    "         'RFR__max_features': ['auto', 'sqrt', 'log2', None],\n",
    "         'RFR__min_samples_leaf': [2, 3, 4, 5, 6, 7, 8, 9, 10],\n",
    "         'RFR__min_samples_split': [2, 3, 4, 5, 6, 7, 8, 9, 10],\n",
    "         'RFR__random_state': [42]\n",
    "        },\n",
    "    ]\n",
    "\"\"\"\n",
    "\n",
    "# optimal hyperparameters\n",
    "param_grid = [\n",
    "        {'RFR__bootstrap': [True],\n",
    "         'RFR__max_depth': [20],\n",
    "         'RFR__n_estimators': [140],\n",
    "         'RFR__max_features': [None],\n",
    "         'RFR__min_samples_leaf': [4],\n",
    "         'RFR__min_samples_split': [3],\n",
    "         'RFR__random_state': [42]\n",
    "        },\n",
    "    ]"
   ]
  },
  {
   "cell_type": "code",
   "execution_count": 11,
   "metadata": {
    "id": "TLnffrdwe6Mx"
   },
   "outputs": [],
   "source": [
    "grid = GridSearchCV(pipeline, param_grid=param_grid, cv=5)"
   ]
  },
  {
   "cell_type": "code",
   "execution_count": 12,
   "metadata": {
    "colab": {
     "base_uri": "https://localhost:8080/"
    },
    "id": "Fe-UL-Qse6Nd",
    "outputId": "c3d5ba5a-aaaa-4aa0-e074-df73555abc39"
   },
   "outputs": [
    {
     "data": {
      "text/plain": [
       "GridSearchCV(cv=5,\n",
       "             estimator=Pipeline(steps=[('scaler', StandardScaler()),\n",
       "                                       ('RFR', RandomForestRegressor())]),\n",
       "             param_grid=[{'RFR__bootstrap': [True], 'RFR__max_depth': [20],\n",
       "                          'RFR__max_features': [None],\n",
       "                          'RFR__min_samples_leaf': [4],\n",
       "                          'RFR__min_samples_split': [3],\n",
       "                          'RFR__n_estimators': [140],\n",
       "                          'RFR__random_state': [42]}])"
      ]
     },
     "execution_count": 12,
     "metadata": {},
     "output_type": "execute_result"
    }
   ],
   "source": [
    "grid.fit(X_train, y_train)"
   ]
  },
  {
   "cell_type": "code",
   "execution_count": 13,
   "metadata": {
    "colab": {
     "base_uri": "https://localhost:8080/"
    },
    "id": "eK4PLAIXe6OE",
    "outputId": "045d3e16-bcdf-429e-8207-2f12748a13f0"
   },
   "outputs": [
    {
     "name": "stdout",
     "output_type": "stream",
     "text": [
      "{'RFR__bootstrap': True, 'RFR__max_depth': 20, 'RFR__max_features': None, 'RFR__min_samples_leaf': 4, 'RFR__min_samples_split': 3, 'RFR__n_estimators': 140, 'RFR__random_state': 42}\n"
     ]
    }
   ],
   "source": [
    "print(grid.best_params_)"
   ]
  },
  {
   "cell_type": "code",
   "execution_count": 14,
   "metadata": {
    "colab": {
     "base_uri": "https://localhost:8080/"
    },
    "id": "4Z7mZQzi6mdK",
    "outputId": "fe1750a2-7629-45f5-ff00-73c8c5158946"
   },
   "outputs": [
    {
     "data": {
      "text/plain": [
       "Pipeline(steps=[('scaler', StandardScaler()),\n",
       "                ('RFR',\n",
       "                 RandomForestRegressor(max_depth=20, max_features=None,\n",
       "                                       min_samples_leaf=4, min_samples_split=3,\n",
       "                                       n_estimators=140, random_state=42))])"
      ]
     },
     "execution_count": 14,
     "metadata": {},
     "output_type": "execute_result"
    }
   ],
   "source": [
    "best_pipe = grid.best_estimator_\n",
    "best_pipe.fit(X_train, y_train)"
   ]
  },
  {
   "cell_type": "code",
   "execution_count": 15,
   "metadata": {
    "id": "fFalQ0lb2rLz"
   },
   "outputs": [],
   "source": [
    "#%%timeit -n 10\n",
    "#best_pipe.fit(X_train, y_train)"
   ]
  },
  {
   "cell_type": "code",
   "execution_count": 16,
   "metadata": {
    "id": "HnsnZrj_6096"
   },
   "outputs": [],
   "source": [
    "#%%timeit -n 100\n",
    "#predictions = best_pipe.predict(X_test)"
   ]
  },
  {
   "cell_type": "code",
   "execution_count": 17,
   "metadata": {
    "id": "P-TUvsz-5UPa"
   },
   "outputs": [],
   "source": [
    "y_pred1 = best_pipe.predict(X_e1.values)\n",
    "y_pred2 = best_pipe.predict(X_e2.values)\n",
    "y_pred3 = best_pipe.predict(X_e3.values)"
   ]
  },
  {
   "cell_type": "code",
   "execution_count": 29,
   "metadata": {},
   "outputs": [],
   "source": [
    "y_test = y_test1\n",
    "y_pred = y_pred1\n",
    "test_models = X_test_model_names1.values\n",
    "test_input_shapes = X_test_input_shapes1.values"
   ]
  },
  {
   "cell_type": "code",
   "execution_count": 30,
   "metadata": {
    "colab": {
     "base_uri": "https://localhost:8080/"
    },
    "id": "PbNmdyuh65B7",
    "outputId": "a3046848-7ce5-4709-e5b7-a623117e00a5"
   },
   "outputs": [
    {
     "name": "stdout",
     "output_type": "stream",
     "text": [
      "Explained variance :  0.9829150753329133\n",
      "R2_value :  0.9820570435878991\n",
      "Mean absolute error MAE : 410.18364114974395\n",
      "Root Mean squared error RMSE : 634.6594408007504\n",
      "Median absolute error MAD: 231.36160041347557\n"
     ]
    }
   ],
   "source": [
    "# Model evaluation\n",
    "print('Explained variance : ',explained_variance_score(y_test, y_pred))\n",
    "print('R2_value : ',r2_score(y_test, y_pred))\n",
    "print('Mean absolute error MAE :', mean_absolute_error(y_test, y_pred))\n",
    "print('Root Mean squared error RMSE :', mean_squared_error(y_test, y_pred, squared=False))\n",
    "print('Median absolute error MAD:', median_absolute_error(y_test, y_pred))"
   ]
  },
  {
   "cell_type": "code",
   "execution_count": 31,
   "metadata": {
    "colab": {
     "base_uri": "https://localhost:8080/"
    },
    "id": "2y5HCl-S7D6e",
    "outputId": "9baab1c9-2cb7-4ba4-ad08-06e6d15ec283"
   },
   "outputs": [
    {
     "name": "stdout",
     "output_type": "stream",
     "text": [
      "MAX MAPE : 54.815222931072874\n",
      "MAPE: 5.88 %.\n",
      "Accuracy: 94.12 %.\n"
     ]
    }
   ],
   "source": [
    "# Calculate mean absolute percentage error (MAPE)\n",
    "errors = abs(y_pred-y_test)\n",
    "mape = 100 * (errors / y_test) # Calculate and display accuracy\n",
    "accuracy = 100 - np.mean(mape)\n",
    "print('MAX MAPE :', max(mape))\n",
    "print('MAPE:', round(np.mean(mape), 2), '%.')\n",
    "print('Accuracy:', round(accuracy, 2), '%.')"
   ]
  },
  {
   "cell_type": "code",
   "execution_count": 32,
   "metadata": {
    "id": "9q6LDM_hAqKU"
   },
   "outputs": [],
   "source": [
    "import csv\n",
    "with open('./measured_vs_predicted_RF_dim1.csv', 'w', newline='') as file : \n",
    "    writer = csv.writer(file)\n",
    "    writer.writerow(['CNN_model', 'input_shape', 'model&shape', 'real_exec_time', 'predicted_exec_time', 'absolute_deviation', 'MAPE (in %)'])\n",
    "    for i in range(0, len(y_pred)) :\n",
    "        f = ''+test_models[i]+'_'+test_input_shapes[i]\n",
    "        writer.writerow([test_models[i], test_input_shapes[i], f, y_test[i], y_pred[i],abs(y_pred[i]-y_test[i]), ((abs(y_pred[i]-y_test[i]))/y_test[i])*100])"
   ]
  },
  {
   "cell_type": "code",
   "execution_count": null,
   "metadata": {},
   "outputs": [],
   "source": []
  }
 ],
 "metadata": {
  "colab": {
   "collapsed_sections": [],
   "name": "AGX_Random_Forest_regressor.ipynb",
   "provenance": []
  },
  "kernelspec": {
   "display_name": "Python 3",
   "language": "python",
   "name": "python3"
  },
  "language_info": {
   "codemirror_mode": {
    "name": "ipython",
    "version": 3
   },
   "file_extension": ".py",
   "mimetype": "text/x-python",
   "name": "python",
   "nbconvert_exporter": "python",
   "pygments_lexer": "ipython3",
   "version": "3.8.5"
  }
 },
 "nbformat": 4,
 "nbformat_minor": 1
}
