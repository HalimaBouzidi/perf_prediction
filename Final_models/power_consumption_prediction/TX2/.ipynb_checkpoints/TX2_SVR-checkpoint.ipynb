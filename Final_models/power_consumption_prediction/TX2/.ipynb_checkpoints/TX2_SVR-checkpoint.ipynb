{
 "cells": [
  {
   "cell_type": "code",
   "execution_count": 1,
   "metadata": {
    "id": "0URJFqhxFp00"
   },
   "outputs": [],
   "source": [
    "import numpy as np \n",
    "import pandas as pd\n",
    "from sklearn.svm import SVR\n",
    "from sklearn.preprocessing import StandardScaler\n",
    "from sklearn.model_selection import train_test_split, GridSearchCV \n",
    "from sklearn.metrics import explained_variance_score\n",
    "from sklearn.metrics import r2_score \n",
    "from sklearn.metrics import mean_squared_error\n",
    "from sklearn.metrics import median_absolute_error\n",
    "from sklearn.metrics import mean_absolute_error\n",
    "from sklearn.pipeline import Pipeline\n",
    "import seaborn as sns\n",
    "import matplotlib.pyplot as plt\n",
    "import seaborn as sns\n",
    "from matplotlib.ticker import PercentFormatter"
   ]
  },
  {
   "cell_type": "code",
   "execution_count": 2,
   "metadata": {},
   "outputs": [],
   "source": [
    "def select_train(list_var, data):\n",
    "    for var in list_var :\n",
    "        data.pop(var)\n",
    "    return data\n",
    "\n",
    "def select_test(list_var, data):\n",
    "    for var in list_var :\n",
    "        data.pop(var)\n",
    "    return data"
   ]
  },
  {
   "cell_type": "code",
   "execution_count": 3,
   "metadata": {
    "colab": {
     "base_uri": "https://localhost:8080/",
     "height": 296
    },
    "id": "0BfIu6SlFp2W",
    "outputId": "4eab8899-4562-43c1-c563-977d62fa8749"
   },
   "outputs": [],
   "source": [
    "# 1/ Training data :\n",
    "\n",
    "column_names = ['Model_name', 'input_shape', 'power', 'input_width', 'input_size', 'nb_params_conv','nb_params_bn', 'nb_params_fc', 'flops', 'nb_layers', \n",
    "                'nb_conv_layers', 'nb_bn_layers','nb_fc_layers', 'sum_activations', 'weighted_sum_neurons']\n",
    "raw_dataset = pd.read_csv('./data/training_dataset.csv', names=column_names,\n",
    "                      na_values = \"?\", comment='\\t', sep=\",\", skipinitialspace=True)\n",
    "train_dataset = raw_dataset.copy()\n",
    "train_dataset.isna().sum()\n",
    "train_dataset = train_dataset.dropna()\n",
    "\n",
    "# 1/ Test data :\n",
    "\n",
    "column_names = ['Model_name', 'input_shape', 'power', 'input_width', 'input_size', 'nb_params_conv','nb_params_bn', 'nb_params_fc', 'flops', 'nb_layers', \n",
    "                'nb_conv_layers', 'nb_bn_layers','nb_fc_layers', 'sum_activations', 'weighted_sum_neurons']\n",
    "raw_dataset = pd.read_csv('./data/test_dim1.csv', names=column_names,\n",
    "                      na_values = \"?\", comment='\\t', sep=\",\", skipinitialspace=True)\n",
    "test_dataset1 = raw_dataset.copy()\n",
    "test_dataset1.isna().sum()\n",
    "test_dataset1 = test_dataset1.dropna()\n",
    "\n",
    "# 2/ Test data :\n",
    "\n",
    "column_names = ['Model_name', 'input_shape', 'power', 'input_width', 'input_size', 'nb_params_conv','nb_params_bn', 'nb_params_fc', 'flops', 'nb_layers', \n",
    "                'nb_conv_layers', 'nb_bn_layers','nb_fc_layers', 'sum_activations', 'weighted_sum_neurons']\n",
    "raw_dataset = pd.read_csv('./data/test_dim2.csv', names=column_names,\n",
    "                      na_values = \"?\", comment='\\t', sep=\",\", skipinitialspace=True)\n",
    "test_dataset2 = raw_dataset.copy()\n",
    "test_dataset2.isna().sum()\n",
    "test_dataset2 = test_dataset2.dropna()\n",
    "\n",
    "# 3/ Test data :\n",
    "\n",
    "column_names = ['Model_name', 'input_shape', 'power', 'input_width', 'input_size', 'nb_params_conv','nb_params_bn', 'nb_params_fc', 'flops', 'nb_layers', \n",
    "                'nb_conv_layers', 'nb_bn_layers','nb_fc_layers', 'sum_activations', 'weighted_sum_neurons']\n",
    "raw_dataset = pd.read_csv('./data/test_dim3.csv', names=column_names,\n",
    "                      na_values = \"?\", comment='\\t', sep=\",\", skipinitialspace=True)\n",
    "test_dataset3 = raw_dataset.copy()\n",
    "test_dataset3.isna().sum()\n",
    "test_dataset3 = test_dataset3.dropna()"
   ]
  },
  {
   "cell_type": "code",
   "execution_count": 4,
   "metadata": {
    "colab": {
     "base_uri": "https://localhost:8080/",
     "height": 313
    },
    "id": "k3DPnDyaaBgI",
    "outputId": "f59c87dc-9d77-4c2b-c79f-c95793fb426a"
   },
   "outputs": [],
   "source": [
    "list_comp = ['input_width', 'input_size','nb_params_conv', 'nb_params_bn', 'nb_params_fc', 'nb_layers', \n",
    "                'nb_conv_layers', 'nb_bn_layers','nb_fc_layers', 'sum_activations', 'weighted_sum_neurons']\n",
    "\n",
    "list_var = ['input_width', 'nb_params_bn', 'nb_params_fc','nb_conv_layers', 'nb_bn_layers', 'nb_fc_layers']\n",
    "\n",
    "train_dataset = select_train(list_var, train_dataset)\n",
    "test_dataset1 = select_test(list_var, test_dataset1)\n",
    "test_dataset2 = select_test(list_var, test_dataset2)\n",
    "test_dataset3 = select_test(list_var, test_dataset3)"
   ]
  },
  {
   "cell_type": "code",
   "execution_count": 5,
   "metadata": {
    "colab": {
     "base_uri": "https://localhost:8080/"
    },
    "id": "s3hcZZbc6BT-",
    "outputId": "d566aa08-bc16-4911-ff81-0fd225b33aab"
   },
   "outputs": [
    {
     "data": {
      "text/html": [
       "<div>\n",
       "<style scoped>\n",
       "    .dataframe tbody tr th:only-of-type {\n",
       "        vertical-align: middle;\n",
       "    }\n",
       "\n",
       "    .dataframe tbody tr th {\n",
       "        vertical-align: top;\n",
       "    }\n",
       "\n",
       "    .dataframe thead th {\n",
       "        text-align: right;\n",
       "    }\n",
       "</style>\n",
       "<table border=\"1\" class=\"dataframe\">\n",
       "  <thead>\n",
       "    <tr style=\"text-align: right;\">\n",
       "      <th></th>\n",
       "      <th>Model_name</th>\n",
       "      <th>input_shape</th>\n",
       "      <th>input_size</th>\n",
       "      <th>nb_params_conv</th>\n",
       "      <th>flops</th>\n",
       "      <th>nb_layers</th>\n",
       "      <th>sum_activations</th>\n",
       "      <th>weighted_sum_neurons</th>\n",
       "    </tr>\n",
       "  </thead>\n",
       "  <tbody>\n",
       "    <tr>\n",
       "      <th>1446</th>\n",
       "      <td>basic_model_320_23</td>\n",
       "      <td>(1, 320, 320, 3)</td>\n",
       "      <td>307200</td>\n",
       "      <td>2499430</td>\n",
       "      <td>168678951282</td>\n",
       "      <td>44</td>\n",
       "      <td>298643104</td>\n",
       "      <td>84243523392</td>\n",
       "    </tr>\n",
       "    <tr>\n",
       "      <th>1447</th>\n",
       "      <td>basic_model_600_42</td>\n",
       "      <td>(1, 600, 600, 3)</td>\n",
       "      <td>1080000</td>\n",
       "      <td>12220341</td>\n",
       "      <td>159725668606</td>\n",
       "      <td>71</td>\n",
       "      <td>140162512</td>\n",
       "      <td>79782663040</td>\n",
       "    </tr>\n",
       "    <tr>\n",
       "      <th>1448</th>\n",
       "      <td>basic_model_320_20</td>\n",
       "      <td>(1, 320, 320, 3)</td>\n",
       "      <td>307200</td>\n",
       "      <td>8674304</td>\n",
       "      <td>1776131430777</td>\n",
       "      <td>37</td>\n",
       "      <td>629248140</td>\n",
       "      <td>887853056000</td>\n",
       "    </tr>\n",
       "    <tr>\n",
       "      <th>1449</th>\n",
       "      <td>basic_model_600_31</td>\n",
       "      <td>(1, 600, 600, 3)</td>\n",
       "      <td>1080000</td>\n",
       "      <td>12481365</td>\n",
       "      <td>853243940125</td>\n",
       "      <td>52</td>\n",
       "      <td>337941414</td>\n",
       "      <td>426431945716</td>\n",
       "    </tr>\n",
       "    <tr>\n",
       "      <th>1450</th>\n",
       "      <td>basic_model_75_12</td>\n",
       "      <td>(1, 75, 75, 3)</td>\n",
       "      <td>16875</td>\n",
       "      <td>1179843</td>\n",
       "      <td>3330331266</td>\n",
       "      <td>24</td>\n",
       "      <td>5411083</td>\n",
       "      <td>1656063392</td>\n",
       "    </tr>\n",
       "  </tbody>\n",
       "</table>\n",
       "</div>"
      ],
      "text/plain": [
       "              Model_name       input_shape  input_size  nb_params_conv  \\\n",
       "1446  basic_model_320_23  (1, 320, 320, 3)      307200         2499430   \n",
       "1447  basic_model_600_42  (1, 600, 600, 3)     1080000        12220341   \n",
       "1448  basic_model_320_20  (1, 320, 320, 3)      307200         8674304   \n",
       "1449  basic_model_600_31  (1, 600, 600, 3)     1080000        12481365   \n",
       "1450   basic_model_75_12    (1, 75, 75, 3)       16875         1179843   \n",
       "\n",
       "              flops  nb_layers  sum_activations  weighted_sum_neurons  \n",
       "1446   168678951282         44        298643104           84243523392  \n",
       "1447   159725668606         71        140162512           79782663040  \n",
       "1448  1776131430777         37        629248140          887853056000  \n",
       "1449   853243940125         52        337941414          426431945716  \n",
       "1450     3330331266         24          5411083            1656063392  "
      ]
     },
     "execution_count": 5,
     "metadata": {},
     "output_type": "execute_result"
    }
   ],
   "source": [
    "y_train = train_dataset.pop('power')\n",
    "X_train = train_dataset\n",
    "X_train.tail()"
   ]
  },
  {
   "cell_type": "code",
   "execution_count": 6,
   "metadata": {
    "colab": {
     "base_uri": "https://localhost:8080/"
    },
    "id": "MCQ8e2esaGt4",
    "outputId": "ec91e332-d660-426b-ec79-16c869f220cf"
   },
   "outputs": [],
   "source": [
    "Y_e1 = test_dataset1.pop('power')\n",
    "X_e1 = test_dataset1\n",
    "\n",
    "Y_e2 = test_dataset2.pop('power')\n",
    "X_e2 = test_dataset2\n",
    "\n",
    "Y_e3 = test_dataset3.pop('power')\n",
    "X_e3 = test_dataset3"
   ]
  },
  {
   "cell_type": "code",
   "execution_count": 7,
   "metadata": {
    "colab": {
     "base_uri": "https://localhost:8080/",
     "height": 206
    },
    "id": "uk7JIy7zaJyK",
    "outputId": "5497eb3b-d4f3-4863-a171-11310f082325"
   },
   "outputs": [],
   "source": [
    "X_train_model_names = X_train.pop('Model_name')\n",
    "X_train_input_shapes = X_train.pop('input_shape')\n",
    "\n",
    "X_test_model_names1 = X_e1.pop('Model_name')\n",
    "X_test_input_shapes1 = X_e1.pop('input_shape')\n",
    "\n",
    "X_test_model_names2 = X_e2.pop('Model_name')\n",
    "X_test_input_shapes2 = X_e2.pop('input_shape')\n",
    "\n",
    "X_test_model_names3 = X_e3.pop('Model_name')\n",
    "X_test_input_shapes3 = X_e3.pop('input_shape')"
   ]
  },
  {
   "cell_type": "code",
   "execution_count": 8,
   "metadata": {
    "colab": {
     "base_uri": "https://localhost:8080/",
     "height": 206
    },
    "id": "IColdFSKaNaH",
    "outputId": "f582b5d9-2ee4-4714-9889-3c3e9cbd16a3"
   },
   "outputs": [],
   "source": [
    "y_test1 = Y_e1.values\n",
    "y_test2 = Y_e2.values\n",
    "y_test3 = Y_e3.values"
   ]
  },
  {
   "cell_type": "code",
   "execution_count": 9,
   "metadata": {
    "id": "O9XlKi0BFp4f"
   },
   "outputs": [],
   "source": [
    "steps = [('scaler', StandardScaler()), ('SVR', SVR())]\n",
    "pipeline = Pipeline(steps)"
   ]
  },
  {
   "cell_type": "code",
   "execution_count": 10,
   "metadata": {
    "id": "cEo3jtHzFp7E"
   },
   "outputs": [],
   "source": [
    "# Hyperparameters space\n",
    "\"\"\"\n",
    "parameteres = {'SVR__kernel':['linear', 'rbf', 'poly'], \n",
    "'SVR__cache_size':[5000000], \n",
    "'SVR__C':[1000, 5000, 8000, 10000, 50000, 100000, 200000], \n",
    "'SVR__gamma':[.1, .3, .5, .7, .8, .9, 1, 2, 3, 4, 5, 6, 7, 8, 9, 10],\n",
    "'SVR__epsilon':[.1, .3, .5, .7, .9, 1., 1.5, 2., 2.5, 3., 3.5, 4, 4.5, 5]}\n",
    "\"\"\"\n",
    "\n",
    "# Optimal Hyperparameters \n",
    "# rbf 10000\n",
    "parameteres = {'SVR__kernel':['rbf'], 'SVR__cache_size':[5000000], 'SVR__C':[100000], 'SVR__gamma':[.6]}"
   ]
  },
  {
   "cell_type": "code",
   "execution_count": 11,
   "metadata": {
    "id": "WC_O3svdFp7x"
   },
   "outputs": [],
   "source": [
    "grid = GridSearchCV(pipeline, param_grid=parameteres, cv=2)"
   ]
  },
  {
   "cell_type": "code",
   "execution_count": 12,
   "metadata": {
    "colab": {
     "base_uri": "https://localhost:8080/"
    },
    "id": "cV-kMNx2Fp8R",
    "outputId": "167e8f5a-e220-42ac-cd1a-880f4084bb63"
   },
   "outputs": [
    {
     "data": {
      "text/plain": [
       "GridSearchCV(cv=2,\n",
       "             estimator=Pipeline(steps=[('scaler', StandardScaler()),\n",
       "                                       ('SVR', SVR())]),\n",
       "             param_grid={'SVR__C': [100000], 'SVR__cache_size': [5000000],\n",
       "                         'SVR__gamma': [0.6], 'SVR__kernel': ['rbf']})"
      ]
     },
     "execution_count": 12,
     "metadata": {},
     "output_type": "execute_result"
    }
   ],
   "source": [
    "grid.fit(X_train, y_train)"
   ]
  },
  {
   "cell_type": "code",
   "execution_count": 13,
   "metadata": {
    "colab": {
     "base_uri": "https://localhost:8080/"
    },
    "id": "2i8ax5xPFp84",
    "outputId": "1363202f-2574-4735-f795-48fc8dba664c"
   },
   "outputs": [
    {
     "name": "stdout",
     "output_type": "stream",
     "text": [
      "{'SVR__C': 100000, 'SVR__cache_size': 5000000, 'SVR__gamma': 0.6, 'SVR__kernel': 'rbf'}\n"
     ]
    }
   ],
   "source": [
    "print(grid.best_params_)"
   ]
  },
  {
   "cell_type": "code",
   "execution_count": 14,
   "metadata": {
    "colab": {
     "base_uri": "https://localhost:8080/"
    },
    "id": "vGWG-O7-ykDz",
    "outputId": "736927ac-81db-4ce8-c4d0-c79174c30af7"
   },
   "outputs": [
    {
     "data": {
      "text/plain": [
       "Pipeline(steps=[('scaler', StandardScaler()),\n",
       "                ('SVR', SVR(C=100000, cache_size=5000000, gamma=0.6))])"
      ]
     },
     "execution_count": 14,
     "metadata": {},
     "output_type": "execute_result"
    }
   ],
   "source": [
    "best_pipe = grid.best_estimator_\n",
    "best_pipe.fit(X_train, y_train)"
   ]
  },
  {
   "cell_type": "code",
   "execution_count": 15,
   "metadata": {
    "id": "Liu_maVZeyps"
   },
   "outputs": [],
   "source": [
    "#%%timeit -n 1000\n",
    "#predictions = best_pipe.predict(np.log(X_test))"
   ]
  },
  {
   "cell_type": "code",
   "execution_count": 16,
   "metadata": {
    "id": "QsYSG_9lyzZR"
   },
   "outputs": [],
   "source": [
    "y_pred1 = best_pipe.predict(X_e1.values)\n",
    "y_pred2 = best_pipe.predict(X_e2.values)\n",
    "y_pred3 = best_pipe.predict(X_e3.values)"
   ]
  },
  {
   "cell_type": "code",
   "execution_count": 25,
   "metadata": {},
   "outputs": [],
   "source": [
    "y_test = y_test1\n",
    "y_pred = y_pred1\n",
    "test_models = X_test_model_names1.values\n",
    "test_input_shapes = X_test_input_shapes1.values"
   ]
  },
  {
   "cell_type": "code",
   "execution_count": 26,
   "metadata": {
    "colab": {
     "base_uri": "https://localhost:8080/"
    },
    "id": "LnaKUI9ue5G2",
    "outputId": "5e6d0226-c5eb-4fd7-ea3f-ab85209b5c7d"
   },
   "outputs": [
    {
     "name": "stdout",
     "output_type": "stream",
     "text": [
      "Explained variance :  0.9928765111871725\n",
      "R2_value :  0.9926657916110684\n",
      "Mean absolute error MAE : 124.7990765608931\n",
      "Root Mean squared error RMSE : 174.1658272431795\n",
      "Median absolute error MAD: 97.32869509372267\n"
     ]
    }
   ],
   "source": [
    "print('Explained variance : ',explained_variance_score(y_test, y_pred))\n",
    "print('R2_value : ',r2_score(y_test, y_pred))\n",
    "print('Mean absolute error MAE :', mean_absolute_error(y_test, y_pred))\n",
    "print('Root Mean squared error RMSE :', mean_squared_error(y_test, y_pred, squared=False))\n",
    "print('Median absolute error MAD:', median_absolute_error(y_test, y_pred))"
   ]
  },
  {
   "cell_type": "code",
   "execution_count": 27,
   "metadata": {
    "colab": {
     "base_uri": "https://localhost:8080/"
    },
    "id": "sYoRvlGce8Lj",
    "outputId": "deeb04b4-41cf-4674-bdcb-9846441f88e4"
   },
   "outputs": [
    {
     "name": "stdout",
     "output_type": "stream",
     "text": [
      "MAX MAPE : 24.651102275223757\n",
      "MAPE: 5.14 %.\n",
      "Accuracy: 94.86 %.\n"
     ]
    }
   ],
   "source": [
    "# Calculate mean absolute percentage error (MAPE)\n",
    "errors = abs(y_pred-y_test)\n",
    "mape = 100 * (errors / y_test) # Calculate and display accuracy\n",
    "accuracy = 100 - np.mean(mape)\n",
    "print('MAX MAPE :', max(mape))\n",
    "print('MAPE:', round(np.mean(mape), 2), '%.')\n",
    "print('Accuracy:', round(accuracy, 2), '%.')"
   ]
  },
  {
   "cell_type": "code",
   "execution_count": 28,
   "metadata": {
    "id": "9k8jjS4B6B_x"
   },
   "outputs": [],
   "source": [
    "import csv\n",
    "with open('./measured_vs_predicted_SVR_dim1.csv', 'w', newline='') as file : \n",
    "    writer = csv.writer(file)\n",
    "    writer.writerow(['CNN_model', 'input_shape', 'model&shape', 'real_exec_time', 'predicted_exec_time', 'absolute_deviation', 'MAPE (in %)'])\n",
    "    for i in range(0, len(y_pred)) :\n",
    "        f = ''+test_models[i]+'_'+test_input_shapes[i]\n",
    "        writer.writerow([test_models[i], test_input_shapes[i], f, y_test[i], y_pred[i],abs(y_pred[i]-y_test[i]), ((abs(y_pred[i]-y_test[i]))/y_test[i])*100])"
   ]
  },
  {
   "cell_type": "code",
   "execution_count": null,
   "metadata": {},
   "outputs": [],
   "source": []
  }
 ],
 "metadata": {
  "colab": {
   "collapsed_sections": [],
   "name": "TX2_SVR_regresssor.ipynb",
   "provenance": []
  },
  "kernelspec": {
   "display_name": "Python 3",
   "language": "python",
   "name": "python3"
  },
  "language_info": {
   "codemirror_mode": {
    "name": "ipython",
    "version": 3
   },
   "file_extension": ".py",
   "mimetype": "text/x-python",
   "name": "python",
   "nbconvert_exporter": "python",
   "pygments_lexer": "ipython3",
   "version": "3.8.5"
  }
 },
 "nbformat": 4,
 "nbformat_minor": 1
}
