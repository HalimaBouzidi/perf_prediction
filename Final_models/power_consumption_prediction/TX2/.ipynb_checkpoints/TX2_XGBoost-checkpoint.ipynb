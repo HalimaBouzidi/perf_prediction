{
 "cells": [
  {
   "cell_type": "code",
   "execution_count": 1,
   "metadata": {
    "id": "S-M_U2bE9EVT"
   },
   "outputs": [],
   "source": [
    "import numpy as np \n",
    "import pandas as pd\n",
    "import xgboost as xgb\n",
    "from sklearn.preprocessing import StandardScaler\n",
    "from sklearn.model_selection import train_test_split\n",
    "from sklearn.metrics import explained_variance_score\n",
    "from sklearn.metrics import r2_score\n",
    "from sklearn.metrics import median_absolute_error\n",
    "from sklearn.metrics import mean_absolute_error\n",
    "from sklearn.metrics import mean_squared_error\n",
    "from sklearn.model_selection import KFold\n",
    "from sklearn.model_selection import cross_val_score\n",
    "from sklearn.pipeline import Pipeline\n",
    "import seaborn as sns\n",
    "import matplotlib.pyplot as plt\n",
    "from matplotlib.ticker import PercentFormatter"
   ]
  },
  {
   "cell_type": "code",
   "execution_count": 2,
   "metadata": {
    "colab": {
     "base_uri": "https://localhost:8080/",
     "height": 292
    },
    "id": "dwXR3vtM9EXQ",
    "outputId": "8b0b8670-d793-4754-9cb9-9d202c015d30"
   },
   "outputs": [
    {
     "data": {
      "text/html": [
       "<div>\n",
       "<style scoped>\n",
       "    .dataframe tbody tr th:only-of-type {\n",
       "        vertical-align: middle;\n",
       "    }\n",
       "\n",
       "    .dataframe tbody tr th {\n",
       "        vertical-align: top;\n",
       "    }\n",
       "\n",
       "    .dataframe thead th {\n",
       "        text-align: right;\n",
       "    }\n",
       "</style>\n",
       "<table border=\"1\" class=\"dataframe\">\n",
       "  <thead>\n",
       "    <tr style=\"text-align: right;\">\n",
       "      <th></th>\n",
       "      <th>Model_name</th>\n",
       "      <th>input_shape</th>\n",
       "      <th>power</th>\n",
       "      <th>input_width</th>\n",
       "      <th>input_size</th>\n",
       "      <th>nb_params_conv</th>\n",
       "      <th>nb_params_bn</th>\n",
       "      <th>nb_params_fc</th>\n",
       "      <th>flops</th>\n",
       "      <th>nb_layers</th>\n",
       "      <th>nb_conv_layers</th>\n",
       "      <th>nb_bn_layers</th>\n",
       "      <th>nb_fc_layers</th>\n",
       "      <th>sum_activations</th>\n",
       "      <th>weighted_sum_neurons</th>\n",
       "    </tr>\n",
       "  </thead>\n",
       "  <tbody>\n",
       "    <tr>\n",
       "      <th>1446</th>\n",
       "      <td>basic_model_320_23</td>\n",
       "      <td>(1, 320, 320, 3)</td>\n",
       "      <td>7469.0</td>\n",
       "      <td>320</td>\n",
       "      <td>307200</td>\n",
       "      <td>2499430</td>\n",
       "      <td>7992</td>\n",
       "      <td>5700</td>\n",
       "      <td>168678951282</td>\n",
       "      <td>44</td>\n",
       "      <td>23</td>\n",
       "      <td>14</td>\n",
       "      <td>1</td>\n",
       "      <td>298643104</td>\n",
       "      <td>84243523392</td>\n",
       "    </tr>\n",
       "    <tr>\n",
       "      <th>1447</th>\n",
       "      <td>basic_model_600_42</td>\n",
       "      <td>(1, 600, 600, 3)</td>\n",
       "      <td>6405.0</td>\n",
       "      <td>600</td>\n",
       "      <td>1080000</td>\n",
       "      <td>12220341</td>\n",
       "      <td>14132</td>\n",
       "      <td>25700</td>\n",
       "      <td>159725668606</td>\n",
       "      <td>71</td>\n",
       "      <td>42</td>\n",
       "      <td>19</td>\n",
       "      <td>1</td>\n",
       "      <td>140162512</td>\n",
       "      <td>79782663040</td>\n",
       "    </tr>\n",
       "    <tr>\n",
       "      <th>1448</th>\n",
       "      <td>basic_model_320_20</td>\n",
       "      <td>(1, 320, 320, 3)</td>\n",
       "      <td>10738.0</td>\n",
       "      <td>320</td>\n",
       "      <td>307200</td>\n",
       "      <td>8674304</td>\n",
       "      <td>9112</td>\n",
       "      <td>1210</td>\n",
       "      <td>1776131430777</td>\n",
       "      <td>37</td>\n",
       "      <td>20</td>\n",
       "      <td>13</td>\n",
       "      <td>1</td>\n",
       "      <td>629248140</td>\n",
       "      <td>887853056000</td>\n",
       "    </tr>\n",
       "    <tr>\n",
       "      <th>1449</th>\n",
       "      <td>basic_model_600_31</td>\n",
       "      <td>(1, 600, 600, 3)</td>\n",
       "      <td>10586.0</td>\n",
       "      <td>600</td>\n",
       "      <td>1080000</td>\n",
       "      <td>12481365</td>\n",
       "      <td>9088</td>\n",
       "      <td>33200</td>\n",
       "      <td>853243940125</td>\n",
       "      <td>52</td>\n",
       "      <td>31</td>\n",
       "      <td>12</td>\n",
       "      <td>1</td>\n",
       "      <td>337941414</td>\n",
       "      <td>426431945716</td>\n",
       "    </tr>\n",
       "    <tr>\n",
       "      <th>1450</th>\n",
       "      <td>basic_model_75_12</td>\n",
       "      <td>(1, 75, 75, 3)</td>\n",
       "      <td>840.0</td>\n",
       "      <td>75</td>\n",
       "      <td>16875</td>\n",
       "      <td>1179843</td>\n",
       "      <td>2588</td>\n",
       "      <td>28500</td>\n",
       "      <td>3330331266</td>\n",
       "      <td>24</td>\n",
       "      <td>12</td>\n",
       "      <td>5</td>\n",
       "      <td>1</td>\n",
       "      <td>5411083</td>\n",
       "      <td>1656063392</td>\n",
       "    </tr>\n",
       "  </tbody>\n",
       "</table>\n",
       "</div>"
      ],
      "text/plain": [
       "              Model_name       input_shape    power  input_width  input_size  \\\n",
       "1446  basic_model_320_23  (1, 320, 320, 3)   7469.0          320      307200   \n",
       "1447  basic_model_600_42  (1, 600, 600, 3)   6405.0          600     1080000   \n",
       "1448  basic_model_320_20  (1, 320, 320, 3)  10738.0          320      307200   \n",
       "1449  basic_model_600_31  (1, 600, 600, 3)  10586.0          600     1080000   \n",
       "1450   basic_model_75_12    (1, 75, 75, 3)    840.0           75       16875   \n",
       "\n",
       "      nb_params_conv  nb_params_bn  nb_params_fc          flops  nb_layers  \\\n",
       "1446         2499430          7992          5700   168678951282         44   \n",
       "1447        12220341         14132         25700   159725668606         71   \n",
       "1448         8674304          9112          1210  1776131430777         37   \n",
       "1449        12481365          9088         33200   853243940125         52   \n",
       "1450         1179843          2588         28500     3330331266         24   \n",
       "\n",
       "      nb_conv_layers  nb_bn_layers  nb_fc_layers  sum_activations  \\\n",
       "1446              23            14             1        298643104   \n",
       "1447              42            19             1        140162512   \n",
       "1448              20            13             1        629248140   \n",
       "1449              31            12             1        337941414   \n",
       "1450              12             5             1          5411083   \n",
       "\n",
       "      weighted_sum_neurons  \n",
       "1446           84243523392  \n",
       "1447           79782663040  \n",
       "1448          887853056000  \n",
       "1449          426431945716  \n",
       "1450            1656063392  "
      ]
     },
     "execution_count": 2,
     "metadata": {},
     "output_type": "execute_result"
    }
   ],
   "source": [
    "# 1/ Training data :\n",
    "\n",
    "column_names = ['Model_name', 'input_shape', 'power', 'input_width', 'input_size', 'nb_params_conv', \n",
    "                'nb_params_bn', 'nb_params_fc', 'flops', 'nb_layers', 'nb_conv_layers', 'nb_bn_layers',\n",
    "                'nb_fc_layers', 'sum_activations', 'weighted_sum_neurons']\n",
    "raw_dataset = pd.read_csv('./data/training_dataset.csv', names=column_names,\n",
    "                      na_values = \"?\", comment='\\t', sep=\",\", skipinitialspace=True)\n",
    "train_dataset = raw_dataset.copy()\n",
    "train_dataset.isna().sum()\n",
    "train_dataset = train_dataset.dropna()\n",
    "train_dataset.tail()"
   ]
  },
  {
   "cell_type": "code",
   "execution_count": 32,
   "metadata": {
    "colab": {
     "base_uri": "https://localhost:8080/",
     "height": 309
    },
    "id": "t_rRLw829EYz",
    "outputId": "bfa38fe6-756c-4146-d9dd-5f6830024e26"
   },
   "outputs": [
    {
     "data": {
      "text/html": [
       "<div>\n",
       "<style scoped>\n",
       "    .dataframe tbody tr th:only-of-type {\n",
       "        vertical-align: middle;\n",
       "    }\n",
       "\n",
       "    .dataframe tbody tr th {\n",
       "        vertical-align: top;\n",
       "    }\n",
       "\n",
       "    .dataframe thead th {\n",
       "        text-align: right;\n",
       "    }\n",
       "</style>\n",
       "<table border=\"1\" class=\"dataframe\">\n",
       "  <thead>\n",
       "    <tr style=\"text-align: right;\">\n",
       "      <th></th>\n",
       "      <th>Model_name</th>\n",
       "      <th>input_shape</th>\n",
       "      <th>power</th>\n",
       "      <th>input_width</th>\n",
       "      <th>input_size</th>\n",
       "      <th>nb_params_conv</th>\n",
       "      <th>nb_params_bn</th>\n",
       "      <th>nb_params_fc</th>\n",
       "      <th>flops</th>\n",
       "      <th>nb_layers</th>\n",
       "      <th>nb_conv_layers</th>\n",
       "      <th>nb_bn_layers</th>\n",
       "      <th>nb_fc_layers</th>\n",
       "      <th>sum_activations</th>\n",
       "      <th>weighted_sum_neurons</th>\n",
       "    </tr>\n",
       "  </thead>\n",
       "  <tbody>\n",
       "    <tr>\n",
       "      <th>97</th>\n",
       "      <td>EfficientNet-B0</td>\n",
       "      <td>(512, 512, 3)</td>\n",
       "      <td>1910.0</td>\n",
       "      <td>512</td>\n",
       "      <td>786432</td>\n",
       "      <td>3965532</td>\n",
       "      <td>84032</td>\n",
       "      <td>1281000</td>\n",
       "      <td>4085726980</td>\n",
       "      <td>233</td>\n",
       "      <td>81</td>\n",
       "      <td>49</td>\n",
       "      <td>1</td>\n",
       "      <td>117635172</td>\n",
       "      <td>80094501376</td>\n",
       "    </tr>\n",
       "    <tr>\n",
       "      <th>98</th>\n",
       "      <td>EfficientNet-B0</td>\n",
       "      <td>(720, 720, 3)</td>\n",
       "      <td>3130.0</td>\n",
       "      <td>720</td>\n",
       "      <td>1555200</td>\n",
       "      <td>3965532</td>\n",
       "      <td>84032</td>\n",
       "      <td>1281000</td>\n",
       "      <td>8183072596</td>\n",
       "      <td>233</td>\n",
       "      <td>81</td>\n",
       "      <td>49</td>\n",
       "      <td>1</td>\n",
       "      <td>233556068</td>\n",
       "      <td>161236938752</td>\n",
       "    </tr>\n",
       "    <tr>\n",
       "      <th>99</th>\n",
       "      <td>EfficientNet-B4</td>\n",
       "      <td>(90, 90, 3)</td>\n",
       "      <td>840.0</td>\n",
       "      <td>90</td>\n",
       "      <td>24300</td>\n",
       "      <td>17423416</td>\n",
       "      <td>250400</td>\n",
       "      <td>1793000</td>\n",
       "      <td>595640786</td>\n",
       "      <td>470</td>\n",
       "      <td>160</td>\n",
       "      <td>96</td>\n",
       "      <td>1</td>\n",
       "      <td>10284484</td>\n",
       "      <td>12812090224</td>\n",
       "    </tr>\n",
       "    <tr>\n",
       "      <th>100</th>\n",
       "      <td>EfficientNet-B4</td>\n",
       "      <td>(512, 512, 3)</td>\n",
       "      <td>3435.0</td>\n",
       "      <td>512</td>\n",
       "      <td>786432</td>\n",
       "      <td>17423416</td>\n",
       "      <td>250400</td>\n",
       "      <td>1793000</td>\n",
       "      <td>15877844034</td>\n",
       "      <td>470</td>\n",
       "      <td>160</td>\n",
       "      <td>96</td>\n",
       "      <td>1</td>\n",
       "      <td>305708296</td>\n",
       "      <td>366198974816</td>\n",
       "    </tr>\n",
       "    <tr>\n",
       "      <th>101</th>\n",
       "      <td>EfficientNet-B4</td>\n",
       "      <td>(720, 720, 3)</td>\n",
       "      <td>4959.0</td>\n",
       "      <td>720</td>\n",
       "      <td>1555200</td>\n",
       "      <td>17423416</td>\n",
       "      <td>250400</td>\n",
       "      <td>1793000</td>\n",
       "      <td>31863479154</td>\n",
       "      <td>470</td>\n",
       "      <td>160</td>\n",
       "      <td>96</td>\n",
       "      <td>1</td>\n",
       "      <td>607426440</td>\n",
       "      <td>737567732576</td>\n",
       "    </tr>\n",
       "  </tbody>\n",
       "</table>\n",
       "</div>"
      ],
      "text/plain": [
       "          Model_name    input_shape   power  input_width  input_size  \\\n",
       "97   EfficientNet-B0  (512, 512, 3)  1910.0          512      786432   \n",
       "98   EfficientNet-B0  (720, 720, 3)  3130.0          720     1555200   \n",
       "99   EfficientNet-B4    (90, 90, 3)   840.0           90       24300   \n",
       "100  EfficientNet-B4  (512, 512, 3)  3435.0          512      786432   \n",
       "101  EfficientNet-B4  (720, 720, 3)  4959.0          720     1555200   \n",
       "\n",
       "     nb_params_conv  nb_params_bn  nb_params_fc        flops  nb_layers  \\\n",
       "97          3965532         84032       1281000   4085726980        233   \n",
       "98          3965532         84032       1281000   8183072596        233   \n",
       "99         17423416        250400       1793000    595640786        470   \n",
       "100        17423416        250400       1793000  15877844034        470   \n",
       "101        17423416        250400       1793000  31863479154        470   \n",
       "\n",
       "     nb_conv_layers  nb_bn_layers  nb_fc_layers  sum_activations  \\\n",
       "97               81            49             1        117635172   \n",
       "98               81            49             1        233556068   \n",
       "99              160            96             1         10284484   \n",
       "100             160            96             1        305708296   \n",
       "101             160            96             1        607426440   \n",
       "\n",
       "     weighted_sum_neurons  \n",
       "97            80094501376  \n",
       "98           161236938752  \n",
       "99            12812090224  \n",
       "100          366198974816  \n",
       "101          737567732576  "
      ]
     },
     "execution_count": 32,
     "metadata": {},
     "output_type": "execute_result"
    }
   ],
   "source": [
    "# 1/ Test data :\n",
    "\n",
    "column_names = ['Model_name', 'input_shape', 'power', 'input_width', 'input_size', 'nb_params_conv', \n",
    "                'nb_params_bn', 'nb_params_fc', 'flops', 'nb_layers', 'nb_conv_layers', 'nb_bn_layers',\n",
    "                'nb_fc_layers', 'sum_activations', 'weighted_sum_neurons']\n",
    "raw_dataset = pd.read_csv('./data/test_dim1.csv', names=column_names,\n",
    "                      na_values = \"?\", comment='\\t', sep=\",\", skipinitialspace=True)\n",
    "test_dataset = raw_dataset.copy()\n",
    "test_dataset.isna().sum()\n",
    "test_dataset = test_dataset.dropna()\n",
    "test_dataset.tail()"
   ]
  },
  {
   "cell_type": "code",
   "execution_count": 4,
   "metadata": {
    "colab": {
     "base_uri": "https://localhost:8080/"
    },
    "id": "XdWATICk9EaT",
    "outputId": "4b3a9eb6-a5ff-4de7-b132-6e2dcf2fc005"
   },
   "outputs": [
    {
     "data": {
      "text/plain": [
       "0       0\n",
       "1       0\n",
       "2       0\n",
       "3       0\n",
       "4       0\n",
       "       ..\n",
       "1446    1\n",
       "1447    1\n",
       "1448    1\n",
       "1449    1\n",
       "1450    1\n",
       "Name: nb_fc_layers, Length: 1451, dtype: int64"
      ]
     },
     "execution_count": 4,
     "metadata": {},
     "output_type": "execute_result"
    }
   ],
   "source": [
    "train_dataset.pop('input_width')\n",
    "train_dataset.pop('nb_params_bn')\n",
    "train_dataset.pop('nb_params_fc')\n",
    "train_dataset.pop('nb_conv_layers')\n",
    "train_dataset.pop('nb_bn_layers')\n",
    "train_dataset.pop('nb_fc_layers')"
   ]
  },
  {
   "cell_type": "code",
   "execution_count": 33,
   "metadata": {
    "colab": {
     "base_uri": "https://localhost:8080/"
    },
    "id": "zRS3oaWYlfHG",
    "outputId": "a19e598c-a5d5-4e5d-801c-ebeff4ddc32e"
   },
   "outputs": [
    {
     "data": {
      "text/plain": [
       "0      1\n",
       "1      1\n",
       "2      1\n",
       "3      1\n",
       "4      1\n",
       "      ..\n",
       "97     1\n",
       "98     1\n",
       "99     1\n",
       "100    1\n",
       "101    1\n",
       "Name: nb_fc_layers, Length: 102, dtype: int64"
      ]
     },
     "execution_count": 33,
     "metadata": {},
     "output_type": "execute_result"
    }
   ],
   "source": [
    "test_dataset.pop('input_width')\n",
    "test_dataset.pop('nb_params_bn')\n",
    "test_dataset.pop('nb_params_fc')\n",
    "test_dataset.pop('nb_conv_layers')\n",
    "test_dataset.pop('nb_bn_layers')\n",
    "test_dataset.pop('nb_fc_layers')"
   ]
  },
  {
   "cell_type": "code",
   "execution_count": 6,
   "metadata": {
    "colab": {
     "base_uri": "https://localhost:8080/",
     "height": 202
    },
    "id": "cznkxqhcSpOa",
    "outputId": "a65b0462-24b6-4654-a4e9-48506a4f7470"
   },
   "outputs": [
    {
     "data": {
      "text/html": [
       "<div>\n",
       "<style scoped>\n",
       "    .dataframe tbody tr th:only-of-type {\n",
       "        vertical-align: middle;\n",
       "    }\n",
       "\n",
       "    .dataframe tbody tr th {\n",
       "        vertical-align: top;\n",
       "    }\n",
       "\n",
       "    .dataframe thead th {\n",
       "        text-align: right;\n",
       "    }\n",
       "</style>\n",
       "<table border=\"1\" class=\"dataframe\">\n",
       "  <thead>\n",
       "    <tr style=\"text-align: right;\">\n",
       "      <th></th>\n",
       "      <th>Model_name</th>\n",
       "      <th>input_shape</th>\n",
       "      <th>power</th>\n",
       "      <th>input_size</th>\n",
       "      <th>nb_params_conv</th>\n",
       "      <th>flops</th>\n",
       "      <th>nb_layers</th>\n",
       "      <th>sum_activations</th>\n",
       "      <th>weighted_sum_neurons</th>\n",
       "    </tr>\n",
       "  </thead>\n",
       "  <tbody>\n",
       "    <tr>\n",
       "      <th>97</th>\n",
       "      <td>basic_model_100_47</td>\n",
       "      <td>(100, 100, 3)</td>\n",
       "      <td>9219.0</td>\n",
       "      <td>30000</td>\n",
       "      <td>23035628</td>\n",
       "      <td>459417651813</td>\n",
       "      <td>77</td>\n",
       "      <td>134601231</td>\n",
       "      <td>229628985568</td>\n",
       "    </tr>\n",
       "    <tr>\n",
       "      <th>98</th>\n",
       "      <td>basic_model_500_9</td>\n",
       "      <td>(500, 500, 3)</td>\n",
       "      <td>4765.0</td>\n",
       "      <td>750000</td>\n",
       "      <td>727417</td>\n",
       "      <td>39561096708</td>\n",
       "      <td>20</td>\n",
       "      <td>308909190</td>\n",
       "      <td>138440888200</td>\n",
       "    </tr>\n",
       "    <tr>\n",
       "      <th>99</th>\n",
       "      <td>basic_model_320_15</td>\n",
       "      <td>(320, 320, 3)</td>\n",
       "      <td>3588.0</td>\n",
       "      <td>307200</td>\n",
       "      <td>1525352</td>\n",
       "      <td>26152797284</td>\n",
       "      <td>30</td>\n",
       "      <td>23250476</td>\n",
       "      <td>13063957568</td>\n",
       "    </tr>\n",
       "    <tr>\n",
       "      <th>100</th>\n",
       "      <td>basic_model_480_7</td>\n",
       "      <td>(480, 480, 3)</td>\n",
       "      <td>9333.0</td>\n",
       "      <td>691200</td>\n",
       "      <td>2979364</td>\n",
       "      <td>343520336052</td>\n",
       "      <td>16</td>\n",
       "      <td>221106628</td>\n",
       "      <td>171584275904</td>\n",
       "    </tr>\n",
       "    <tr>\n",
       "      <th>101</th>\n",
       "      <td>basic_model_700_16</td>\n",
       "      <td>(700, 700, 3)</td>\n",
       "      <td>6939.0</td>\n",
       "      <td>1470000</td>\n",
       "      <td>4759664</td>\n",
       "      <td>160000654907</td>\n",
       "      <td>30</td>\n",
       "      <td>111949636</td>\n",
       "      <td>79935615360</td>\n",
       "    </tr>\n",
       "  </tbody>\n",
       "</table>\n",
       "</div>"
      ],
      "text/plain": [
       "             Model_name    input_shape   power  input_size  nb_params_conv  \\\n",
       "97   basic_model_100_47  (100, 100, 3)  9219.0       30000        23035628   \n",
       "98    basic_model_500_9  (500, 500, 3)  4765.0      750000          727417   \n",
       "99   basic_model_320_15  (320, 320, 3)  3588.0      307200         1525352   \n",
       "100   basic_model_480_7  (480, 480, 3)  9333.0      691200         2979364   \n",
       "101  basic_model_700_16  (700, 700, 3)  6939.0     1470000         4759664   \n",
       "\n",
       "            flops  nb_layers  sum_activations  weighted_sum_neurons  \n",
       "97   459417651813         77        134601231          229628985568  \n",
       "98    39561096708         20        308909190          138440888200  \n",
       "99    26152797284         30         23250476           13063957568  \n",
       "100  343520336052         16        221106628          171584275904  \n",
       "101  160000654907         30        111949636           79935615360  "
      ]
     },
     "execution_count": 6,
     "metadata": {},
     "output_type": "execute_result"
    }
   ],
   "source": [
    "test_dataset.tail()"
   ]
  },
  {
   "cell_type": "code",
   "execution_count": 7,
   "metadata": {
    "id": "74Hl1e-HlfK0"
   },
   "outputs": [],
   "source": [
    "Y = train_dataset.pop('power')\n",
    "X = train_dataset\n",
    "Y_f = Y\n",
    "X_f = X"
   ]
  },
  {
   "cell_type": "code",
   "execution_count": 8,
   "metadata": {
    "id": "Z7D6nOv49Ec7"
   },
   "outputs": [],
   "source": [
    "X_train, X_test, y_train, y_test = train_test_split(X,Y,test_size=0.001, random_state=42, shuffle=True)"
   ]
  },
  {
   "cell_type": "code",
   "execution_count": 9,
   "metadata": {
    "id": "KdSNzFzg9Ed9"
   },
   "outputs": [],
   "source": [
    "X_train_model_names = X_train.pop('Model_name')\n",
    "X_train_input_shapes = X_train.pop('input_shape')"
   ]
  },
  {
   "cell_type": "code",
   "execution_count": 10,
   "metadata": {
    "id": "a-0Za44glfQm"
   },
   "outputs": [],
   "source": [
    "X_test_model_names = X_test.pop('Model_name')\n",
    "X_test_input_shapes = X_test.pop('input_shape')"
   ]
  },
  {
   "cell_type": "code",
   "execution_count": 11,
   "metadata": {
    "id": "GQUsXh28sZjV"
   },
   "outputs": [],
   "source": [
    "X_f_model_names = X_f.pop('Model_name')\n",
    "X_f_input_shapes = X_f.pop('input_shape')\n",
    "dtrain_f = xgb.DMatrix(X_f, label=Y_f)"
   ]
  },
  {
   "cell_type": "code",
   "execution_count": 12,
   "metadata": {
    "id": "I3TAHLXH9Eey"
   },
   "outputs": [],
   "source": [
    "dtrain = xgb.DMatrix(X_train, label=y_train)\n",
    "dtest = xgb.DMatrix(X_test, label=y_test)"
   ]
  },
  {
   "cell_type": "code",
   "execution_count": 34,
   "metadata": {
    "id": "hdGkObaO9Efs"
   },
   "outputs": [],
   "source": [
    "Y_e = test_dataset.pop('power')\n",
    "X_e = test_dataset\n",
    "X_e.tail()\n",
    "X_test_e_model_names = X_e.pop('Model_name')\n",
    "X_test_e_input_shapes = X_e.pop('input_shape')\n",
    "dtest_e = xgb.DMatrix(X_e, label=Y_e)"
   ]
  },
  {
   "cell_type": "code",
   "execution_count": 14,
   "metadata": {
    "id": "95BbRrkL9Eio"
   },
   "outputs": [],
   "source": [
    "params = {\n",
    "    # Parameters that we are going to tune.\n",
    "    'max_depth':17,\n",
    "    'min_child_weight': 6,\n",
    "    'eta':.1,\n",
    "    'subsample': .8,\n",
    "    'colsample_bytree': 1.,\n",
    "    'gamma' : 1.0,\n",
    "    # Other parameters\n",
    "    'objective':'reg:squarederror',\n",
    "}"
   ]
  },
  {
   "cell_type": "code",
   "execution_count": 15,
   "metadata": {
    "id": "KpZN-eKw9Eju"
   },
   "outputs": [],
   "source": [
    "params['eval_metric'] = \"rmse\"\n",
    "num_boost_round = 3000"
   ]
  },
  {
   "cell_type": "code",
   "execution_count": 16,
   "metadata": {
    "colab": {
     "base_uri": "https://localhost:8080/"
    },
    "id": "TSgKJuup9Eks",
    "outputId": "a3d0e33e-826a-4314-c059-cd286a33e46e"
   },
   "outputs": [
    {
     "name": "stdout",
     "output_type": "stream",
     "text": [
      "{'max_depth': 17, 'min_child_weight': 6, 'eta': 0.1, 'subsample': 0.8, 'colsample_bytree': 1.0, 'gamma': 1.0, 'objective': 'reg:squarederror', 'eval_metric': 'rmse'}\n"
     ]
    }
   ],
   "source": [
    "print(params)"
   ]
  },
  {
   "cell_type": "code",
   "execution_count": 17,
   "metadata": {
    "colab": {
     "base_uri": "https://localhost:8080/"
    },
    "id": "ZJRGqqW_EuRL",
    "outputId": "fca21dd2-177d-4890-dfa9-c72e6702a9d2"
   },
   "outputs": [],
   "source": [
    "num_boost_round = 73\n",
    "best_model = xgb.train( \n",
    "    params,\n",
    "    dtrain_f,\n",
    "    num_boost_round=num_boost_round)"
   ]
  },
  {
   "cell_type": "code",
   "execution_count": 18,
   "metadata": {
    "id": "QE8TYO9u9Eyj"
   },
   "outputs": [],
   "source": [
    "#best_model.save_model(\"model_16-04.model\")\n",
    "loaded_model = best_model"
   ]
  },
  {
   "cell_type": "code",
   "execution_count": 35,
   "metadata": {
    "id": "0sF9Ee4WlfmS"
   },
   "outputs": [],
   "source": [
    "y_pred = loaded_model.predict(dtest_e)\n",
    "np_test = Y_e.values\n",
    "y_test = Y_e.values"
   ]
  },
  {
   "cell_type": "code",
   "execution_count": 36,
   "metadata": {
    "colab": {
     "base_uri": "https://localhost:8080/"
    },
    "id": "AksIf4TQcquE",
    "outputId": "fb7285cd-a481-4deb-cab9-6ecc79910f1a"
   },
   "outputs": [
    {
     "name": "stdout",
     "output_type": "stream",
     "text": [
      "Explained variance :  0.9900672101023474\n",
      "R2_value :  0.9900379396008882\n",
      "Mean absolute error : 126.44654786353017\n",
      "Root Mean squared error : 202.98358072185124\n",
      "Median absolute error : 78.8631591796875\n"
     ]
    }
   ],
   "source": [
    "# Model evaluation on test dataset\n",
    "print('Explained variance : ',explained_variance_score(y_test, y_pred))\n",
    "print('R2_value : ',r2_score(y_test, y_pred))\n",
    "print('Mean absolute error :', mean_absolute_error(y_test, y_pred))\n",
    "print('Root Mean squared error :', mean_squared_error(y_test, y_pred, squared=False))\n",
    "print('Median absolute error :', median_absolute_error(y_test, y_pred))"
   ]
  },
  {
   "cell_type": "code",
   "execution_count": 37,
   "metadata": {
    "colab": {
     "base_uri": "https://localhost:8080/"
    },
    "id": "eVg6ssE7K10p",
    "outputId": "8f8fe3cf-3971-4bf2-a5d5-7df7059e1ef2"
   },
   "outputs": [
    {
     "name": "stdout",
     "output_type": "stream",
     "text": [
      "MAX MAPE :  38.3355776626989\n",
      "Mape: 5.24 %.\n",
      "Accuracy: 94.76 %.\n"
     ]
    }
   ],
   "source": [
    "# Calculate mean absolute percentage error (MAPE)\n",
    "np_test = y_test\n",
    "errors = abs(y_pred-np_test)\n",
    "mape = 100 * (errors / np_test) # Calculate and display accuracy\n",
    "accuracy = 100 - np.mean(mape)\n",
    "print('MAX MAPE : ',max(mape))\n",
    "print('Mape:', round(np.mean(mape), 2), '%.')\n",
    "print('Accuracy:', round(accuracy, 2), '%.')"
   ]
  },
  {
   "cell_type": "code",
   "execution_count": 38,
   "metadata": {
    "colab": {
     "base_uri": "https://localhost:8080/"
    },
    "id": "neiIm2V59E1e",
    "outputId": "4c02ba54-604c-4862-9250-d37091eff825"
   },
   "outputs": [],
   "source": [
    "test_models = X_test_e_model_names.values\n",
    "test_input_shapes = X_test_e_input_shapes.values"
   ]
  },
  {
   "cell_type": "code",
   "execution_count": 39,
   "metadata": {
    "id": "7Bx9JU4f9E2O"
   },
   "outputs": [],
   "source": [
    "import csv\n",
    "with open('./measured_vs_predicted_XGBoost_dim1.csv', 'w', newline='') as file : \n",
    "    writer = csv.writer(file)\n",
    "    writer.writerow(['CNN_model', 'input_shape', 'model&shape', 'measured', 'predicted', 'absolute_deviation', 'MAPE (in %)'])\n",
    "    for i in range(0, len(y_pred)) :\n",
    "        f = ''+test_models[i]+'_'+test_input_shapes[i]\n",
    "        writer.writerow([test_models[i], test_input_shapes[i], f, np_test[i], y_pred[i],abs(y_pred[i]-np_test[i]), ((abs(y_pred[i]-np_test[i]))/np_test[i])*100])"
   ]
  },
  {
   "cell_type": "code",
   "execution_count": null,
   "metadata": {},
   "outputs": [],
   "source": []
  }
 ],
 "metadata": {
  "colab": {
   "collapsed_sections": [],
   "name": "TX2_XGBoost_Regressor.ipynb",
   "provenance": []
  },
  "kernelspec": {
   "display_name": "Python 3",
   "language": "python",
   "name": "python3"
  },
  "language_info": {
   "codemirror_mode": {
    "name": "ipython",
    "version": 3
   },
   "file_extension": ".py",
   "mimetype": "text/x-python",
   "name": "python",
   "nbconvert_exporter": "python",
   "pygments_lexer": "ipython3",
   "version": "3.8.5"
  }
 },
 "nbformat": 4,
 "nbformat_minor": 1
}
