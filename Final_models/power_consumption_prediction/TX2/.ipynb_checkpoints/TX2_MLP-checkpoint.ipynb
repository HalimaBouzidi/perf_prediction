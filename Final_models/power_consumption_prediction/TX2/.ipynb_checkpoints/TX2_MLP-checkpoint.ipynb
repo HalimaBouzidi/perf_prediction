{
 "cells": [
  {
   "cell_type": "code",
   "execution_count": 1,
   "metadata": {
    "id": "0URJFqhxFp00"
   },
   "outputs": [],
   "source": [
    "import numpy as np \n",
    "import pandas as pd\n",
    "from sklearn.neural_network import MLPRegressor\n",
    "from sklearn.preprocessing import StandardScaler\n",
    "from sklearn.model_selection import train_test_split, GridSearchCV \n",
    "from sklearn.metrics import explained_variance_score\n",
    "from sklearn.metrics import r2_score\n",
    "from sklearn.metrics import median_absolute_error \n",
    "from sklearn.metrics import mean_squared_error\n",
    "from sklearn.metrics import mean_absolute_error\n",
    "from sklearn.pipeline import Pipeline\n",
    "import seaborn as sns\n",
    "import matplotlib.pyplot as plt\n",
    "import seaborn as sns\n",
    "from matplotlib.ticker import PercentFormatter"
   ]
  },
  {
   "cell_type": "code",
   "execution_count": 2,
   "metadata": {},
   "outputs": [],
   "source": [
    "def select_train(list_var, data):\n",
    "    for var in list_var :\n",
    "        data.pop(var)\n",
    "    return data\n",
    "\n",
    "def select_test(list_var, data):\n",
    "    for var in list_var :\n",
    "        data.pop(var)\n",
    "    return data"
   ]
  },
  {
   "cell_type": "code",
   "execution_count": 3,
   "metadata": {
    "colab": {
     "base_uri": "https://localhost:8080/",
     "height": 292
    },
    "id": "0BfIu6SlFp2W",
    "outputId": "d91e3088-3372-45dd-8cec-ee056a0f109f"
   },
   "outputs": [],
   "source": [
    "# 1/ Training data :\n",
    "\n",
    "column_names = ['Model_name', 'input_shape', 'power', 'input_width', 'input_size', 'nb_params_conv','nb_params_bn', 'nb_params_fc', 'flops', 'nb_layers', \n",
    "                'nb_conv_layers', 'nb_bn_layers','nb_fc_layers', 'sum_activations', 'weighted_sum_neurons']\n",
    "raw_dataset = pd.read_csv('./data/training_dataset.csv', names=column_names,\n",
    "                      na_values = \"?\", comment='\\t', sep=\",\", skipinitialspace=True)\n",
    "train_dataset = raw_dataset.copy()\n",
    "train_dataset.isna().sum()\n",
    "train_dataset = train_dataset.dropna()\n",
    "\n",
    "# 1/ Test data :\n",
    "\n",
    "column_names = ['Model_name', 'input_shape', 'power', 'input_width', 'input_size', 'nb_params_conv','nb_params_bn', 'nb_params_fc', 'flops', 'nb_layers', \n",
    "                'nb_conv_layers', 'nb_bn_layers','nb_fc_layers', 'sum_activations', 'weighted_sum_neurons']\n",
    "raw_dataset = pd.read_csv('./data/test_dim1.csv', names=column_names,\n",
    "                      na_values = \"?\", comment='\\t', sep=\",\", skipinitialspace=True)\n",
    "test_dataset1 = raw_dataset.copy()\n",
    "test_dataset1.isna().sum()\n",
    "test_dataset1 = test_dataset1.dropna()\n",
    "\n",
    "# 2/ Test data :\n",
    "\n",
    "column_names = ['Model_name', 'input_shape', 'power', 'input_width', 'input_size', 'nb_params_conv','nb_params_bn', 'nb_params_fc', 'flops', 'nb_layers', \n",
    "                'nb_conv_layers', 'nb_bn_layers','nb_fc_layers', 'sum_activations', 'weighted_sum_neurons']\n",
    "raw_dataset = pd.read_csv('./data/test_dim2.csv', names=column_names,\n",
    "                      na_values = \"?\", comment='\\t', sep=\",\", skipinitialspace=True)\n",
    "test_dataset2 = raw_dataset.copy()\n",
    "test_dataset2.isna().sum()\n",
    "test_dataset2 = test_dataset2.dropna()\n",
    "\n",
    "# 3/ Test data :\n",
    "\n",
    "column_names = ['Model_name', 'input_shape', 'power', 'input_width', 'input_size', 'nb_params_conv','nb_params_bn', 'nb_params_fc', 'flops', 'nb_layers', \n",
    "                'nb_conv_layers', 'nb_bn_layers','nb_fc_layers', 'sum_activations', 'weighted_sum_neurons']\n",
    "raw_dataset = pd.read_csv('./data/test_dim3.csv', names=column_names,\n",
    "                      na_values = \"?\", comment='\\t', sep=\",\", skipinitialspace=True)\n",
    "test_dataset3 = raw_dataset.copy()\n",
    "test_dataset3.isna().sum()\n",
    "test_dataset3 = test_dataset3.dropna()"
   ]
  },
  {
   "cell_type": "code",
   "execution_count": 4,
   "metadata": {
    "colab": {
     "base_uri": "https://localhost:8080/",
     "height": 309
    },
    "id": "s3hcZZbc6BT-",
    "outputId": "b335a6eb-ceb1-4aec-bc11-91793b15a596"
   },
   "outputs": [],
   "source": [
    "list_comp = ['input_width', 'input_size','nb_params_conv', 'nb_params_bn', 'nb_params_fc', 'nb_layers', \n",
    "                'nb_conv_layers', 'nb_bn_layers','nb_fc_layers', 'sum_activations', 'weighted_sum_neurons']\n",
    "\n",
    "list_var = ['input_width', 'nb_params_bn', 'nb_params_fc','nb_conv_layers', 'nb_bn_layers', 'nb_fc_layers']\n",
    "\n",
    "train_dataset = select_train(list_var, train_dataset)\n",
    "test_dataset1 = select_test(list_var, test_dataset1)\n",
    "test_dataset2 = select_test(list_var, test_dataset2)\n",
    "test_dataset3 = select_test(list_var, test_dataset3)"
   ]
  },
  {
   "cell_type": "code",
   "execution_count": 5,
   "metadata": {
    "colab": {
     "base_uri": "https://localhost:8080/"
    },
    "id": "TuflqtZHEd56",
    "outputId": "e5e12df7-15cc-4480-b42d-231000263cf4"
   },
   "outputs": [
    {
     "data": {
      "text/html": [
       "<div>\n",
       "<style scoped>\n",
       "    .dataframe tbody tr th:only-of-type {\n",
       "        vertical-align: middle;\n",
       "    }\n",
       "\n",
       "    .dataframe tbody tr th {\n",
       "        vertical-align: top;\n",
       "    }\n",
       "\n",
       "    .dataframe thead th {\n",
       "        text-align: right;\n",
       "    }\n",
       "</style>\n",
       "<table border=\"1\" class=\"dataframe\">\n",
       "  <thead>\n",
       "    <tr style=\"text-align: right;\">\n",
       "      <th></th>\n",
       "      <th>Model_name</th>\n",
       "      <th>input_shape</th>\n",
       "      <th>input_size</th>\n",
       "      <th>nb_params_conv</th>\n",
       "      <th>flops</th>\n",
       "      <th>nb_layers</th>\n",
       "      <th>sum_activations</th>\n",
       "      <th>weighted_sum_neurons</th>\n",
       "    </tr>\n",
       "  </thead>\n",
       "  <tbody>\n",
       "    <tr>\n",
       "      <th>1446</th>\n",
       "      <td>basic_model_320_23</td>\n",
       "      <td>(1, 320, 320, 3)</td>\n",
       "      <td>307200</td>\n",
       "      <td>2499430</td>\n",
       "      <td>168678951282</td>\n",
       "      <td>44</td>\n",
       "      <td>298643104</td>\n",
       "      <td>84243523392</td>\n",
       "    </tr>\n",
       "    <tr>\n",
       "      <th>1447</th>\n",
       "      <td>basic_model_600_42</td>\n",
       "      <td>(1, 600, 600, 3)</td>\n",
       "      <td>1080000</td>\n",
       "      <td>12220341</td>\n",
       "      <td>159725668606</td>\n",
       "      <td>71</td>\n",
       "      <td>140162512</td>\n",
       "      <td>79782663040</td>\n",
       "    </tr>\n",
       "    <tr>\n",
       "      <th>1448</th>\n",
       "      <td>basic_model_320_20</td>\n",
       "      <td>(1, 320, 320, 3)</td>\n",
       "      <td>307200</td>\n",
       "      <td>8674304</td>\n",
       "      <td>1776131430777</td>\n",
       "      <td>37</td>\n",
       "      <td>629248140</td>\n",
       "      <td>887853056000</td>\n",
       "    </tr>\n",
       "    <tr>\n",
       "      <th>1449</th>\n",
       "      <td>basic_model_600_31</td>\n",
       "      <td>(1, 600, 600, 3)</td>\n",
       "      <td>1080000</td>\n",
       "      <td>12481365</td>\n",
       "      <td>853243940125</td>\n",
       "      <td>52</td>\n",
       "      <td>337941414</td>\n",
       "      <td>426431945716</td>\n",
       "    </tr>\n",
       "    <tr>\n",
       "      <th>1450</th>\n",
       "      <td>basic_model_75_12</td>\n",
       "      <td>(1, 75, 75, 3)</td>\n",
       "      <td>16875</td>\n",
       "      <td>1179843</td>\n",
       "      <td>3330331266</td>\n",
       "      <td>24</td>\n",
       "      <td>5411083</td>\n",
       "      <td>1656063392</td>\n",
       "    </tr>\n",
       "  </tbody>\n",
       "</table>\n",
       "</div>"
      ],
      "text/plain": [
       "              Model_name       input_shape  input_size  nb_params_conv  \\\n",
       "1446  basic_model_320_23  (1, 320, 320, 3)      307200         2499430   \n",
       "1447  basic_model_600_42  (1, 600, 600, 3)     1080000        12220341   \n",
       "1448  basic_model_320_20  (1, 320, 320, 3)      307200         8674304   \n",
       "1449  basic_model_600_31  (1, 600, 600, 3)     1080000        12481365   \n",
       "1450   basic_model_75_12    (1, 75, 75, 3)       16875         1179843   \n",
       "\n",
       "              flops  nb_layers  sum_activations  weighted_sum_neurons  \n",
       "1446   168678951282         44        298643104           84243523392  \n",
       "1447   159725668606         71        140162512           79782663040  \n",
       "1448  1776131430777         37        629248140          887853056000  \n",
       "1449   853243940125         52        337941414          426431945716  \n",
       "1450     3330331266         24          5411083            1656063392  "
      ]
     },
     "execution_count": 5,
     "metadata": {},
     "output_type": "execute_result"
    }
   ],
   "source": [
    "y_train = train_dataset.pop('power')\n",
    "X_train = train_dataset\n",
    "X_train.tail()"
   ]
  },
  {
   "cell_type": "code",
   "execution_count": 6,
   "metadata": {
    "colab": {
     "base_uri": "https://localhost:8080/"
    },
    "id": "MCQ8e2esaGt4",
    "outputId": "117429be-0a8e-4228-b6d2-a1dda51c0585"
   },
   "outputs": [],
   "source": [
    "Y_e1 = test_dataset1.pop('power')\n",
    "X_e1 = test_dataset1\n",
    "\n",
    "Y_e2 = test_dataset2.pop('power')\n",
    "X_e2 = test_dataset2\n",
    "\n",
    "Y_e3 = test_dataset3.pop('power')\n",
    "X_e3 = test_dataset3"
   ]
  },
  {
   "cell_type": "code",
   "execution_count": 7,
   "metadata": {
    "colab": {
     "base_uri": "https://localhost:8080/",
     "height": 202
    },
    "id": "uk7JIy7zaJyK",
    "outputId": "03e243a4-bf32-405c-e2a4-c44c0f5f101c"
   },
   "outputs": [],
   "source": [
    "X_train_model_names = X_train.pop('Model_name')\n",
    "X_train_input_shapes = X_train.pop('input_shape')\n",
    "\n",
    "X_test_model_names1 = X_e1.pop('Model_name')\n",
    "X_test_input_shapes1 = X_e1.pop('input_shape')\n",
    "\n",
    "X_test_model_names2 = X_e2.pop('Model_name')\n",
    "X_test_input_shapes2 = X_e2.pop('input_shape')\n",
    "\n",
    "X_test_model_names3 = X_e3.pop('Model_name')\n",
    "X_test_input_shapes3 = X_e3.pop('input_shape')"
   ]
  },
  {
   "cell_type": "code",
   "execution_count": 8,
   "metadata": {
    "id": "6VCmV5JAaQXu"
   },
   "outputs": [],
   "source": [
    "y_test1 = Y_e1.values\n",
    "y_test2 = Y_e2.values\n",
    "y_test3 = Y_e3.values"
   ]
  },
  {
   "cell_type": "code",
   "execution_count": 9,
   "metadata": {
    "id": "O9XlKi0BFp4f"
   },
   "outputs": [],
   "source": [
    "steps = [('scaler', StandardScaler()), ('MLP', MLPRegressor())]\n",
    "pipeline = Pipeline(steps)"
   ]
  },
  {
   "cell_type": "code",
   "execution_count": 10,
   "metadata": {
    "id": "cEo3jtHzFp7E"
   },
   "outputs": [],
   "source": [
    "# The grid search hyperparameters space\n",
    "\"\"\"\n",
    "parameteres = {'MLP__hidden_layer_sizes':[(32,32,32,32,32), (64,32,32,32,32), (64,32,32,32,16), (64,32,32,16,16), \n",
    "                                          (64,32,16,16,16), (64,32,16,16,16), (64,16,16,16,16), (64,64,32,32,32), \n",
    "                                          (64,64,64,32,32), (64,64,64,64,32)], \n",
    "               'MLP__activation':['relu'], \n",
    "               'MLP__solver':['adam'], \n",
    "               'MLP__alpha':[0.005, 0.006, 0.00007, 0.008, 0.009, 0.001],\n",
    "               'MLP__learning_rate' :['constant','adaptive'],\n",
    "               'MLP__learning_rate_init' :[0.05, 0.01, 0.5, 0.1],\n",
    "               'MLP__max_iter' :[1000,2000,3000,4000,5000], \n",
    "               'MLP__validation_fraction' :[0.1, 0.2, 0.3],\n",
    "               'MLP__n_iter_no_change' :[10, 20, 30],\n",
    "               'MLP__early_stopping' :[False,True],\n",
    "               'MLP__shuffle' :[True],\n",
    "               'MLP__random_state' :[42],\n",
    "               }\n",
    "\"\"\"\n",
    "\n",
    "# The optimal hyperparamaters\n",
    "parameteres = {'MLP__hidden_layer_sizes':[(32,32,32,32,32)], \n",
    "               'MLP__activation':['relu'], \n",
    "               'MLP__solver':['adam'], \n",
    "               'MLP__alpha':[0.005],\n",
    "               'MLP__learning_rate' :['constant'],\n",
    "               'MLP__learning_rate_init' :[0.1],\n",
    "               'MLP__max_iter' :[1000], \n",
    "               'MLP__validation_fraction' :[0.1],\n",
    "               'MLP__n_iter_no_change' :[10],\n",
    "               'MLP__early_stopping' :[True],\n",
    "               'MLP__shuffle' :[True],\n",
    "               'MLP__random_state' :[42],\n",
    "               'MLP__verbose' :[False]\n",
    "               }"
   ]
  },
  {
   "cell_type": "code",
   "execution_count": 11,
   "metadata": {
    "id": "WC_O3svdFp7x"
   },
   "outputs": [],
   "source": [
    "grid = GridSearchCV(pipeline, param_grid=parameteres, cv=2)"
   ]
  },
  {
   "cell_type": "code",
   "execution_count": 12,
   "metadata": {
    "colab": {
     "base_uri": "https://localhost:8080/"
    },
    "id": "DXfYDqJIApvR",
    "outputId": "adcf7bd9-3f37-4d72-f2fb-cb521ec398cc"
   },
   "outputs": [
    {
     "data": {
      "text/plain": [
       "GridSearchCV(cv=2,\n",
       "             estimator=Pipeline(steps=[('scaler', StandardScaler()),\n",
       "                                       ('MLP', MLPRegressor())]),\n",
       "             param_grid={'MLP__activation': ['relu'], 'MLP__alpha': [0.005],\n",
       "                         'MLP__early_stopping': [True],\n",
       "                         'MLP__hidden_layer_sizes': [(32, 32, 32, 32, 32)],\n",
       "                         'MLP__learning_rate': ['constant'],\n",
       "                         'MLP__learning_rate_init': [0.1],\n",
       "                         'MLP__max_iter': [1000], 'MLP__n_iter_no_change': [10],\n",
       "                         'MLP__random_state': [42], 'MLP__shuffle': [True],\n",
       "                         'MLP__solver': ['adam'],\n",
       "                         'MLP__validation_fraction': [0.1],\n",
       "                         'MLP__verbose': [False]})"
      ]
     },
     "execution_count": 12,
     "metadata": {},
     "output_type": "execute_result"
    }
   ],
   "source": [
    "grid.fit(X_train, y_train)"
   ]
  },
  {
   "cell_type": "code",
   "execution_count": 13,
   "metadata": {
    "colab": {
     "base_uri": "https://localhost:8080/"
    },
    "id": "2i8ax5xPFp84",
    "outputId": "a2a79df7-2ab3-4359-d87e-f51d990c459a"
   },
   "outputs": [
    {
     "name": "stdout",
     "output_type": "stream",
     "text": [
      "{'MLP__activation': 'relu', 'MLP__alpha': 0.005, 'MLP__early_stopping': True, 'MLP__hidden_layer_sizes': (32, 32, 32, 32, 32), 'MLP__learning_rate': 'constant', 'MLP__learning_rate_init': 0.1, 'MLP__max_iter': 1000, 'MLP__n_iter_no_change': 10, 'MLP__random_state': 42, 'MLP__shuffle': True, 'MLP__solver': 'adam', 'MLP__validation_fraction': 0.1, 'MLP__verbose': False}\n"
     ]
    }
   ],
   "source": [
    "print(grid.best_params_)"
   ]
  },
  {
   "cell_type": "code",
   "execution_count": 14,
   "metadata": {
    "id": "gCA2tNwoFqAT"
   },
   "outputs": [],
   "source": [
    "# Select the best estimator found by the gridSearchCV\n",
    "best_pipe = grid.best_estimator_"
   ]
  },
  {
   "cell_type": "code",
   "execution_count": 15,
   "metadata": {
    "id": "ZzmS3a-wuz6z"
   },
   "outputs": [],
   "source": [
    "#%%timeit -n 10\n",
    "#best_pipe.fit(X_train, y_train)"
   ]
  },
  {
   "cell_type": "code",
   "execution_count": 16,
   "metadata": {
    "colab": {
     "base_uri": "https://localhost:8080/"
    },
    "id": "oAQBTmLru79X",
    "outputId": "12ef62ff-b744-4c73-899f-939e9a152924"
   },
   "outputs": [
    {
     "data": {
      "text/plain": [
       "Pipeline(steps=[('scaler', StandardScaler()),\n",
       "                ('MLP',\n",
       "                 MLPRegressor(alpha=0.005, early_stopping=True,\n",
       "                              hidden_layer_sizes=(32, 32, 32, 32, 32),\n",
       "                              learning_rate_init=0.1, max_iter=1000,\n",
       "                              random_state=42))])"
      ]
     },
     "execution_count": 16,
     "metadata": {},
     "output_type": "execute_result"
    }
   ],
   "source": [
    "# Train the best estimator with the best hyperparams found by the gridSearchCV on the entire training data\n",
    "best_pipe.fit(X_train, y_train)"
   ]
  },
  {
   "cell_type": "code",
   "execution_count": 17,
   "metadata": {
    "id": "3ewZvnjHw_PO"
   },
   "outputs": [],
   "source": [
    "y_pred1 = best_pipe.predict(X_e1.values)\n",
    "y_pred2 = best_pipe.predict(X_e2.values)\n",
    "y_pred3 = best_pipe.predict(X_e3.values)"
   ]
  },
  {
   "cell_type": "code",
   "execution_count": 38,
   "metadata": {},
   "outputs": [],
   "source": [
    "y_test = y_test3\n",
    "y_pred = y_pred3\n",
    "test_models = X_test_model_names3.values\n",
    "test_input_shapes = X_test_input_shapes3.values"
   ]
  },
  {
   "cell_type": "code",
   "execution_count": 39,
   "metadata": {
    "colab": {
     "base_uri": "https://localhost:8080/"
    },
    "id": "LnaKUI9ue5G2",
    "outputId": "db8b42f7-1e5e-402c-e42a-2a603a8188e9"
   },
   "outputs": [
    {
     "name": "stdout",
     "output_type": "stream",
     "text": [
      "Explained variance :  0.9779436028911846\n",
      "R2_value :  0.9767963488479772\n",
      "Mean absolute error MAE : 412.12046016363075\n",
      "Root Mean squared error RMSE : 500.0605818584699\n",
      "Median absolute error MAD: 358.4357078428915\n"
     ]
    }
   ],
   "source": [
    "print('Explained variance : ',explained_variance_score(y_test, y_pred))\n",
    "print('R2_value : ',r2_score(y_test, y_pred))\n",
    "print('Mean absolute error MAE :', mean_absolute_error(y_test, y_pred))\n",
    "print('Root Mean squared error RMSE :', mean_squared_error(y_test, y_pred, squared=False))\n",
    "print('Median absolute error MAD:', median_absolute_error(y_test, y_pred))"
   ]
  },
  {
   "cell_type": "code",
   "execution_count": 40,
   "metadata": {
    "colab": {
     "base_uri": "https://localhost:8080/"
    },
    "id": "sYoRvlGce8Lj",
    "outputId": "b7fec3fa-0945-4b24-ee81-2181529d5eab"
   },
   "outputs": [
    {
     "name": "stdout",
     "output_type": "stream",
     "text": [
      "MAX MAPE : 33.50361814668115\n",
      "MAPE: 7.19 %.\n",
      "Accuracy: 92.81 %.\n"
     ]
    }
   ],
   "source": [
    "# Calculate mean absolute percentage error (MAPE)\n",
    "errors = abs(y_pred-y_test)\n",
    "mape = 100 * (errors / y_test) # Calculate and display accuracy\n",
    "accuracy = 100 - np.mean(mape)\n",
    "print('MAX MAPE :', max(mape))\n",
    "print('MAPE:', round(np.mean(mape), 2), '%.')\n",
    "print('Accuracy:', round(accuracy, 2), '%.')"
   ]
  },
  {
   "cell_type": "code",
   "execution_count": 41,
   "metadata": {
    "id": "9k8jjS4B6B_x"
   },
   "outputs": [],
   "source": [
    "import csv\n",
    "with open('./measured_vs_predicted_MLP_dim3.csv', 'w', newline='') as file : \n",
    "    writer = csv.writer(file)\n",
    "    writer.writerow(['CNN_model', 'input_shape', 'model&shape', 'real_exec_time', 'predicted_exec_time', 'absolute_deviation', 'prediction_accuracy(100-MAPE)'])\n",
    "    for i in range(0, len(y_pred)) :\n",
    "        f = ''+test_models[i]+'_'+test_input_shapes[i]\n",
    "        writer.writerow([test_models[i], test_input_shapes[i], f, y_test[i], y_pred[i],abs(y_pred[i]-y_test[i]), ((abs(y_pred[i]-y_test[i]))/y_test[i])*100])"
   ]
  },
  {
   "cell_type": "code",
   "execution_count": null,
   "metadata": {},
   "outputs": [],
   "source": []
  }
 ],
 "metadata": {
  "colab": {
   "collapsed_sections": [],
   "name": "TX2_MLP_regressor.ipynb",
   "provenance": []
  },
  "kernelspec": {
   "display_name": "Python 3",
   "language": "python",
   "name": "python3"
  },
  "language_info": {
   "codemirror_mode": {
    "name": "ipython",
    "version": 3
   },
   "file_extension": ".py",
   "mimetype": "text/x-python",
   "name": "python",
   "nbconvert_exporter": "python",
   "pygments_lexer": "ipython3",
   "version": "3.8.5"
  }
 },
 "nbformat": 4,
 "nbformat_minor": 1
}
