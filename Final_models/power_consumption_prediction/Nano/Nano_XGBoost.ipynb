{
 "cells": [
  {
   "cell_type": "code",
   "execution_count": 1,
   "metadata": {
    "id": "S-M_U2bE9EVT"
   },
   "outputs": [],
   "source": [
    "import numpy as np \n",
    "import pandas as pd\n",
    "import xgboost as xgb\n",
    "from sklearn.preprocessing import StandardScaler\n",
    "from sklearn.model_selection import train_test_split\n",
    "from sklearn.metrics import explained_variance_score\n",
    "from sklearn.metrics import r2_score\n",
    "from sklearn.metrics import median_absolute_error\n",
    "from sklearn.metrics import mean_absolute_error\n",
    "from sklearn.metrics import mean_squared_error\n",
    "from sklearn.model_selection import KFold\n",
    "from sklearn.model_selection import cross_val_score\n",
    "from sklearn.pipeline import Pipeline\n",
    "import seaborn as sns\n",
    "import matplotlib.pyplot as plt\n",
    "from matplotlib.ticker import PercentFormatter"
   ]
  },
  {
   "cell_type": "code",
   "execution_count": 2,
   "metadata": {
    "colab": {
     "base_uri": "https://localhost:8080/",
     "height": 261
    },
    "id": "dwXR3vtM9EXQ",
    "outputId": "ec8de959-6066-4993-967b-ea91a8a9e4b3"
   },
   "outputs": [
    {
     "data": {
      "text/html": [
       "<div>\n",
       "<style scoped>\n",
       "    .dataframe tbody tr th:only-of-type {\n",
       "        vertical-align: middle;\n",
       "    }\n",
       "\n",
       "    .dataframe tbody tr th {\n",
       "        vertical-align: top;\n",
       "    }\n",
       "\n",
       "    .dataframe thead th {\n",
       "        text-align: right;\n",
       "    }\n",
       "</style>\n",
       "<table border=\"1\" class=\"dataframe\">\n",
       "  <thead>\n",
       "    <tr style=\"text-align: right;\">\n",
       "      <th></th>\n",
       "      <th>Model_name</th>\n",
       "      <th>input_shape</th>\n",
       "      <th>power</th>\n",
       "      <th>input_width</th>\n",
       "      <th>input_size</th>\n",
       "      <th>nb_params_conv</th>\n",
       "      <th>nb_params_bn</th>\n",
       "      <th>nb_params_fc</th>\n",
       "      <th>flops</th>\n",
       "      <th>nb_layers</th>\n",
       "      <th>nb_conv_layers</th>\n",
       "      <th>nb_bn_layers</th>\n",
       "      <th>nb_fc_layers</th>\n",
       "      <th>sum_activations</th>\n",
       "      <th>weighted_sum_neurons</th>\n",
       "    </tr>\n",
       "  </thead>\n",
       "  <tbody>\n",
       "    <tr>\n",
       "      <th>1288</th>\n",
       "      <td>basic_model_112_22</td>\n",
       "      <td>(1, 112, 112, 3)</td>\n",
       "      <td>3675.0</td>\n",
       "      <td>112</td>\n",
       "      <td>37632</td>\n",
       "      <td>15145100</td>\n",
       "      <td>7376</td>\n",
       "      <td>36500</td>\n",
       "      <td>18946763197</td>\n",
       "      <td>43</td>\n",
       "      <td>22</td>\n",
       "      <td>13</td>\n",
       "      <td>1</td>\n",
       "      <td>17346904</td>\n",
       "      <td>9436995840</td>\n",
       "    </tr>\n",
       "    <tr>\n",
       "      <th>1289</th>\n",
       "      <td>basic_model_56_5</td>\n",
       "      <td>(1, 56, 56, 3)</td>\n",
       "      <td>3616.0</td>\n",
       "      <td>56</td>\n",
       "      <td>9408</td>\n",
       "      <td>1859668</td>\n",
       "      <td>256</td>\n",
       "      <td>40500</td>\n",
       "      <td>11255068812</td>\n",
       "      <td>12</td>\n",
       "      <td>5</td>\n",
       "      <td>1</td>\n",
       "      <td>1</td>\n",
       "      <td>2242016</td>\n",
       "      <td>5624246800</td>\n",
       "    </tr>\n",
       "    <tr>\n",
       "      <th>1290</th>\n",
       "      <td>basic_model_75_37</td>\n",
       "      <td>(1, 75, 75, 3)</td>\n",
       "      <td>3575.0</td>\n",
       "      <td>75</td>\n",
       "      <td>16875</td>\n",
       "      <td>18939872</td>\n",
       "      <td>9264</td>\n",
       "      <td>80500</td>\n",
       "      <td>26945702640</td>\n",
       "      <td>64</td>\n",
       "      <td>37</td>\n",
       "      <td>19</td>\n",
       "      <td>1</td>\n",
       "      <td>9258839</td>\n",
       "      <td>13449790920</td>\n",
       "    </tr>\n",
       "    <tr>\n",
       "      <th>1291</th>\n",
       "      <td>basic_model_200_50</td>\n",
       "      <td>(1, 200, 200, 3)</td>\n",
       "      <td>3548.0</td>\n",
       "      <td>200</td>\n",
       "      <td>120000</td>\n",
       "      <td>20659419</td>\n",
       "      <td>13340</td>\n",
       "      <td>19300</td>\n",
       "      <td>19180879124</td>\n",
       "      <td>82</td>\n",
       "      <td>50</td>\n",
       "      <td>23</td>\n",
       "      <td>1</td>\n",
       "      <td>11849524</td>\n",
       "      <td>9564177816</td>\n",
       "    </tr>\n",
       "    <tr>\n",
       "      <th>1292</th>\n",
       "      <td>basic_model_56_6</td>\n",
       "      <td>(1, 56, 56, 3)</td>\n",
       "      <td>3531.0</td>\n",
       "      <td>56</td>\n",
       "      <td>9408</td>\n",
       "      <td>1727954</td>\n",
       "      <td>4616</td>\n",
       "      <td>40141000</td>\n",
       "      <td>10997881289</td>\n",
       "      <td>14</td>\n",
       "      <td>6</td>\n",
       "      <td>4</td>\n",
       "      <td>1</td>\n",
       "      <td>7699280</td>\n",
       "      <td>5414993920</td>\n",
       "    </tr>\n",
       "  </tbody>\n",
       "</table>\n",
       "</div>"
      ],
      "text/plain": [
       "              Model_name       input_shape   power  input_width  input_size  \\\n",
       "1288  basic_model_112_22  (1, 112, 112, 3)  3675.0          112       37632   \n",
       "1289    basic_model_56_5    (1, 56, 56, 3)  3616.0           56        9408   \n",
       "1290   basic_model_75_37    (1, 75, 75, 3)  3575.0           75       16875   \n",
       "1291  basic_model_200_50  (1, 200, 200, 3)  3548.0          200      120000   \n",
       "1292    basic_model_56_6    (1, 56, 56, 3)  3531.0           56        9408   \n",
       "\n",
       "      nb_params_conv  nb_params_bn  nb_params_fc        flops  nb_layers  \\\n",
       "1288        15145100          7376         36500  18946763197         43   \n",
       "1289         1859668           256         40500  11255068812         12   \n",
       "1290        18939872          9264         80500  26945702640         64   \n",
       "1291        20659419         13340         19300  19180879124         82   \n",
       "1292         1727954          4616      40141000  10997881289         14   \n",
       "\n",
       "      nb_conv_layers  nb_bn_layers  nb_fc_layers  sum_activations  \\\n",
       "1288              22            13             1         17346904   \n",
       "1289               5             1             1          2242016   \n",
       "1290              37            19             1          9258839   \n",
       "1291              50            23             1         11849524   \n",
       "1292               6             4             1          7699280   \n",
       "\n",
       "      weighted_sum_neurons  \n",
       "1288            9436995840  \n",
       "1289            5624246800  \n",
       "1290           13449790920  \n",
       "1291            9564177816  \n",
       "1292            5414993920  "
      ]
     },
     "execution_count": 2,
     "metadata": {},
     "output_type": "execute_result"
    }
   ],
   "source": [
    "# 1/ Training data :\n",
    "\n",
    "column_names = ['Model_name', 'input_shape', 'power', 'input_width', 'input_size', 'nb_params_conv', \n",
    "                'nb_params_bn', 'nb_params_fc', 'flops', 'nb_layers', 'nb_conv_layers', 'nb_bn_layers',\n",
    "                'nb_fc_layers', 'sum_activations', 'weighted_sum_neurons']\n",
    "raw_dataset = pd.read_csv('./data/training_dataset.csv', names=column_names,\n",
    "                      na_values = \"?\", comment='\\t', sep=\",\", skipinitialspace=True)\n",
    "train_dataset = raw_dataset.copy()\n",
    "train_dataset.isna().sum()\n",
    "train_dataset = train_dataset.dropna()\n",
    "train_dataset.tail()"
   ]
  },
  {
   "cell_type": "code",
   "execution_count": 32,
   "metadata": {
    "colab": {
     "base_uri": "https://localhost:8080/",
     "height": 313
    },
    "id": "t_rRLw829EYz",
    "outputId": "15acec9e-3447-4330-cd24-467e305d35b6"
   },
   "outputs": [
    {
     "data": {
      "text/html": [
       "<div>\n",
       "<style scoped>\n",
       "    .dataframe tbody tr th:only-of-type {\n",
       "        vertical-align: middle;\n",
       "    }\n",
       "\n",
       "    .dataframe tbody tr th {\n",
       "        vertical-align: top;\n",
       "    }\n",
       "\n",
       "    .dataframe thead th {\n",
       "        text-align: right;\n",
       "    }\n",
       "</style>\n",
       "<table border=\"1\" class=\"dataframe\">\n",
       "  <thead>\n",
       "    <tr style=\"text-align: right;\">\n",
       "      <th></th>\n",
       "      <th>Model_name</th>\n",
       "      <th>input_shape</th>\n",
       "      <th>power</th>\n",
       "      <th>input_width</th>\n",
       "      <th>input_size</th>\n",
       "      <th>nb_params_conv</th>\n",
       "      <th>nb_params_bn</th>\n",
       "      <th>nb_params_fc</th>\n",
       "      <th>flops</th>\n",
       "      <th>nb_layers</th>\n",
       "      <th>nb_conv_layers</th>\n",
       "      <th>nb_bn_layers</th>\n",
       "      <th>nb_fc_layers</th>\n",
       "      <th>sum_activations</th>\n",
       "      <th>weighted_sum_neurons</th>\n",
       "    </tr>\n",
       "  </thead>\n",
       "  <tbody>\n",
       "    <tr>\n",
       "      <th>85</th>\n",
       "      <td>EfficientNet-B0</td>\n",
       "      <td>(512, 512, 3)</td>\n",
       "      <td>3565.0</td>\n",
       "      <td>512</td>\n",
       "      <td>786432</td>\n",
       "      <td>3965532</td>\n",
       "      <td>84032</td>\n",
       "      <td>1281000</td>\n",
       "      <td>4085726980</td>\n",
       "      <td>233</td>\n",
       "      <td>81</td>\n",
       "      <td>49</td>\n",
       "      <td>1</td>\n",
       "      <td>117635172</td>\n",
       "      <td>80094501376</td>\n",
       "    </tr>\n",
       "    <tr>\n",
       "      <th>86</th>\n",
       "      <td>EfficientNet-B0</td>\n",
       "      <td>(720, 720, 3)</td>\n",
       "      <td>3948.0</td>\n",
       "      <td>720</td>\n",
       "      <td>1555200</td>\n",
       "      <td>3965532</td>\n",
       "      <td>84032</td>\n",
       "      <td>1281000</td>\n",
       "      <td>8183072596</td>\n",
       "      <td>233</td>\n",
       "      <td>81</td>\n",
       "      <td>49</td>\n",
       "      <td>1</td>\n",
       "      <td>233556068</td>\n",
       "      <td>161236938752</td>\n",
       "    </tr>\n",
       "    <tr>\n",
       "      <th>87</th>\n",
       "      <td>EfficientNet-B4</td>\n",
       "      <td>(90, 90, 3)</td>\n",
       "      <td>2412.0</td>\n",
       "      <td>90</td>\n",
       "      <td>24300</td>\n",
       "      <td>17423416</td>\n",
       "      <td>250400</td>\n",
       "      <td>1793000</td>\n",
       "      <td>595640786</td>\n",
       "      <td>470</td>\n",
       "      <td>160</td>\n",
       "      <td>96</td>\n",
       "      <td>1</td>\n",
       "      <td>10284484</td>\n",
       "      <td>12812090224</td>\n",
       "    </tr>\n",
       "    <tr>\n",
       "      <th>88</th>\n",
       "      <td>EfficientNet-B4</td>\n",
       "      <td>(512, 512, 3)</td>\n",
       "      <td>3796.0</td>\n",
       "      <td>512</td>\n",
       "      <td>786432</td>\n",
       "      <td>17423416</td>\n",
       "      <td>250400</td>\n",
       "      <td>1793000</td>\n",
       "      <td>15877844034</td>\n",
       "      <td>470</td>\n",
       "      <td>160</td>\n",
       "      <td>96</td>\n",
       "      <td>1</td>\n",
       "      <td>305708296</td>\n",
       "      <td>366198974816</td>\n",
       "    </tr>\n",
       "    <tr>\n",
       "      <th>89</th>\n",
       "      <td>EfficientNet-B4</td>\n",
       "      <td>(720, 720, 3)</td>\n",
       "      <td>3988.0</td>\n",
       "      <td>720</td>\n",
       "      <td>1555200</td>\n",
       "      <td>17423416</td>\n",
       "      <td>250400</td>\n",
       "      <td>1793000</td>\n",
       "      <td>31863479154</td>\n",
       "      <td>470</td>\n",
       "      <td>160</td>\n",
       "      <td>96</td>\n",
       "      <td>1</td>\n",
       "      <td>607426440</td>\n",
       "      <td>737567732576</td>\n",
       "    </tr>\n",
       "  </tbody>\n",
       "</table>\n",
       "</div>"
      ],
      "text/plain": [
       "         Model_name    input_shape   power  input_width  input_size  \\\n",
       "85  EfficientNet-B0  (512, 512, 3)  3565.0          512      786432   \n",
       "86  EfficientNet-B0  (720, 720, 3)  3948.0          720     1555200   \n",
       "87  EfficientNet-B4    (90, 90, 3)  2412.0           90       24300   \n",
       "88  EfficientNet-B4  (512, 512, 3)  3796.0          512      786432   \n",
       "89  EfficientNet-B4  (720, 720, 3)  3988.0          720     1555200   \n",
       "\n",
       "    nb_params_conv  nb_params_bn  nb_params_fc        flops  nb_layers  \\\n",
       "85         3965532         84032       1281000   4085726980        233   \n",
       "86         3965532         84032       1281000   8183072596        233   \n",
       "87        17423416        250400       1793000    595640786        470   \n",
       "88        17423416        250400       1793000  15877844034        470   \n",
       "89        17423416        250400       1793000  31863479154        470   \n",
       "\n",
       "    nb_conv_layers  nb_bn_layers  nb_fc_layers  sum_activations  \\\n",
       "85              81            49             1        117635172   \n",
       "86              81            49             1        233556068   \n",
       "87             160            96             1         10284484   \n",
       "88             160            96             1        305708296   \n",
       "89             160            96             1        607426440   \n",
       "\n",
       "    weighted_sum_neurons  \n",
       "85           80094501376  \n",
       "86          161236938752  \n",
       "87           12812090224  \n",
       "88          366198974816  \n",
       "89          737567732576  "
      ]
     },
     "execution_count": 32,
     "metadata": {},
     "output_type": "execute_result"
    }
   ],
   "source": [
    "# 1/ Test data :\n",
    "\n",
    "column_names = ['Model_name', 'input_shape', 'power', 'input_width', 'input_size', 'nb_params_conv', \n",
    "                'nb_params_bn', 'nb_params_fc', 'flops', 'nb_layers', 'nb_conv_layers', 'nb_bn_layers',\n",
    "                'nb_fc_layers', 'sum_activations', 'weighted_sum_neurons']\n",
    "raw_dataset = pd.read_csv('./data/test_dim1.csv', names=column_names,\n",
    "                      na_values = \"?\", comment='\\t', sep=\",\", skipinitialspace=True)\n",
    "test_dataset = raw_dataset.copy()\n",
    "test_dataset.isna().sum()\n",
    "test_dataset = test_dataset.dropna()\n",
    "test_dataset.tail()"
   ]
  },
  {
   "cell_type": "code",
   "execution_count": 4,
   "metadata": {
    "colab": {
     "base_uri": "https://localhost:8080/"
    },
    "id": "XdWATICk9EaT",
    "outputId": "d8f23243-1bc1-4bab-909a-7559745c4302"
   },
   "outputs": [
    {
     "data": {
      "text/plain": [
       "0       0\n",
       "1       0\n",
       "2       0\n",
       "3       0\n",
       "4       0\n",
       "       ..\n",
       "1288    1\n",
       "1289    1\n",
       "1290    1\n",
       "1291    1\n",
       "1292    1\n",
       "Name: nb_fc_layers, Length: 1293, dtype: int64"
      ]
     },
     "execution_count": 4,
     "metadata": {},
     "output_type": "execute_result"
    }
   ],
   "source": [
    "train_dataset.pop('input_width')\n",
    "train_dataset.pop('nb_params_bn')\n",
    "train_dataset.pop('nb_params_fc')\n",
    "train_dataset.pop('nb_conv_layers')\n",
    "train_dataset.pop('nb_bn_layers')\n",
    "train_dataset.pop('nb_fc_layers')"
   ]
  },
  {
   "cell_type": "code",
   "execution_count": 33,
   "metadata": {
    "colab": {
     "base_uri": "https://localhost:8080/"
    },
    "id": "zRS3oaWYlfHG",
    "outputId": "3d290fe6-dcd5-41a3-9c30-3db52ca00a2b"
   },
   "outputs": [
    {
     "data": {
      "text/plain": [
       "0     1\n",
       "1     1\n",
       "2     1\n",
       "3     1\n",
       "4     1\n",
       "     ..\n",
       "85    1\n",
       "86    1\n",
       "87    1\n",
       "88    1\n",
       "89    1\n",
       "Name: nb_fc_layers, Length: 90, dtype: int64"
      ]
     },
     "execution_count": 33,
     "metadata": {},
     "output_type": "execute_result"
    }
   ],
   "source": [
    "test_dataset.pop('input_width')\n",
    "test_dataset.pop('nb_params_bn')\n",
    "test_dataset.pop('nb_params_fc')\n",
    "test_dataset.pop('nb_conv_layers')\n",
    "test_dataset.pop('nb_bn_layers')\n",
    "test_dataset.pop('nb_fc_layers')"
   ]
  },
  {
   "cell_type": "code",
   "execution_count": 6,
   "metadata": {
    "colab": {
     "base_uri": "https://localhost:8080/",
     "height": 206
    },
    "id": "cznkxqhcSpOa",
    "outputId": "e57946bc-f68b-4cd0-e5ff-009dd45dc238"
   },
   "outputs": [
    {
     "data": {
      "text/html": [
       "<div>\n",
       "<style scoped>\n",
       "    .dataframe tbody tr th:only-of-type {\n",
       "        vertical-align: middle;\n",
       "    }\n",
       "\n",
       "    .dataframe tbody tr th {\n",
       "        vertical-align: top;\n",
       "    }\n",
       "\n",
       "    .dataframe thead th {\n",
       "        text-align: right;\n",
       "    }\n",
       "</style>\n",
       "<table border=\"1\" class=\"dataframe\">\n",
       "  <thead>\n",
       "    <tr style=\"text-align: right;\">\n",
       "      <th></th>\n",
       "      <th>Model_name</th>\n",
       "      <th>input_shape</th>\n",
       "      <th>power</th>\n",
       "      <th>input_size</th>\n",
       "      <th>nb_params_conv</th>\n",
       "      <th>flops</th>\n",
       "      <th>nb_layers</th>\n",
       "      <th>sum_activations</th>\n",
       "      <th>weighted_sum_neurons</th>\n",
       "    </tr>\n",
       "  </thead>\n",
       "  <tbody>\n",
       "    <tr>\n",
       "      <th>85</th>\n",
       "      <td>basic_model_480_5</td>\n",
       "      <td>(1, 480, 480, 3)</td>\n",
       "      <td>4146.0</td>\n",
       "      <td>691200</td>\n",
       "      <td>542196</td>\n",
       "      <td>16806965384</td>\n",
       "      <td>11</td>\n",
       "      <td>34906200</td>\n",
       "      <td>8380339200</td>\n",
       "    </tr>\n",
       "    <tr>\n",
       "      <th>86</th>\n",
       "      <td>basic_model_480_9</td>\n",
       "      <td>(1, 480, 480, 3)</td>\n",
       "      <td>4888.0</td>\n",
       "      <td>691200</td>\n",
       "      <td>2537216</td>\n",
       "      <td>53280782752</td>\n",
       "      <td>19</td>\n",
       "      <td>34142880</td>\n",
       "      <td>26618572800</td>\n",
       "    </tr>\n",
       "    <tr>\n",
       "      <th>87</th>\n",
       "      <td>basic_model_512_4</td>\n",
       "      <td>(1, 512, 512, 3)</td>\n",
       "      <td>3013.0</td>\n",
       "      <td>786432</td>\n",
       "      <td>113502</td>\n",
       "      <td>6885004023</td>\n",
       "      <td>12</td>\n",
       "      <td>43987384</td>\n",
       "      <td>3415443840</td>\n",
       "    </tr>\n",
       "    <tr>\n",
       "      <th>88</th>\n",
       "      <td>basic_model_512_40</td>\n",
       "      <td>(1, 512, 512, 3)</td>\n",
       "      <td>4297.0</td>\n",
       "      <td>786432</td>\n",
       "      <td>13926787</td>\n",
       "      <td>31923893321</td>\n",
       "      <td>68</td>\n",
       "      <td>47478520</td>\n",
       "      <td>15917156000</td>\n",
       "    </tr>\n",
       "    <tr>\n",
       "      <th>89</th>\n",
       "      <td>basic_model_64_21</td>\n",
       "      <td>(1, 64, 64, 3)</td>\n",
       "      <td>4551.5</td>\n",
       "      <td>12288</td>\n",
       "      <td>25503568</td>\n",
       "      <td>59776080802</td>\n",
       "      <td>38</td>\n",
       "      <td>10843232</td>\n",
       "      <td>29858337280</td>\n",
       "    </tr>\n",
       "  </tbody>\n",
       "</table>\n",
       "</div>"
      ],
      "text/plain": [
       "            Model_name       input_shape   power  input_size  nb_params_conv  \\\n",
       "85   basic_model_480_5  (1, 480, 480, 3)  4146.0      691200          542196   \n",
       "86   basic_model_480_9  (1, 480, 480, 3)  4888.0      691200         2537216   \n",
       "87   basic_model_512_4  (1, 512, 512, 3)  3013.0      786432          113502   \n",
       "88  basic_model_512_40  (1, 512, 512, 3)  4297.0      786432        13926787   \n",
       "89   basic_model_64_21    (1, 64, 64, 3)  4551.5       12288        25503568   \n",
       "\n",
       "          flops  nb_layers  sum_activations  weighted_sum_neurons  \n",
       "85  16806965384         11         34906200            8380339200  \n",
       "86  53280782752         19         34142880           26618572800  \n",
       "87   6885004023         12         43987384            3415443840  \n",
       "88  31923893321         68         47478520           15917156000  \n",
       "89  59776080802         38         10843232           29858337280  "
      ]
     },
     "execution_count": 6,
     "metadata": {},
     "output_type": "execute_result"
    }
   ],
   "source": [
    "test_dataset.tail()"
   ]
  },
  {
   "cell_type": "code",
   "execution_count": 7,
   "metadata": {
    "id": "74Hl1e-HlfK0"
   },
   "outputs": [],
   "source": [
    "Y = train_dataset.pop('power')\n",
    "X = train_dataset\n",
    "Y_f = Y\n",
    "X_f = X"
   ]
  },
  {
   "cell_type": "code",
   "execution_count": 8,
   "metadata": {
    "id": "Z7D6nOv49Ec7"
   },
   "outputs": [],
   "source": [
    "X_train, X_test, y_train, y_test = train_test_split(X,Y,test_size=0.001, random_state=42, shuffle=True)"
   ]
  },
  {
   "cell_type": "code",
   "execution_count": 9,
   "metadata": {
    "id": "KdSNzFzg9Ed9"
   },
   "outputs": [],
   "source": [
    "X_train_model_names = X_train.pop('Model_name')\n",
    "X_train_input_shapes = X_train.pop('input_shape')"
   ]
  },
  {
   "cell_type": "code",
   "execution_count": 10,
   "metadata": {
    "id": "a-0Za44glfQm"
   },
   "outputs": [],
   "source": [
    "X_test_model_names = X_test.pop('Model_name')\n",
    "X_test_input_shapes = X_test.pop('input_shape')"
   ]
  },
  {
   "cell_type": "code",
   "execution_count": 11,
   "metadata": {
    "id": "GQUsXh28sZjV"
   },
   "outputs": [],
   "source": [
    "X_f_model_names = X_f.pop('Model_name')\n",
    "X_f_input_shapes = X_f.pop('input_shape')\n",
    "dtrain_f = xgb.DMatrix(X_f, label=Y_f)"
   ]
  },
  {
   "cell_type": "code",
   "execution_count": 12,
   "metadata": {
    "id": "I3TAHLXH9Eey"
   },
   "outputs": [],
   "source": [
    "dtrain = xgb.DMatrix(X_train, label=y_train)\n",
    "dtest = xgb.DMatrix(X_test, label=y_test)"
   ]
  },
  {
   "cell_type": "code",
   "execution_count": 34,
   "metadata": {
    "id": "hdGkObaO9Efs"
   },
   "outputs": [],
   "source": [
    "Y_e = test_dataset.pop('power')\n",
    "X_e = test_dataset\n",
    "X_e.tail()\n",
    "X_test_e_model_names = X_e.pop('Model_name')\n",
    "X_test_e_input_shapes = X_e.pop('input_shape')\n",
    "dtest_e = xgb.DMatrix(X_e, label=Y_e)"
   ]
  },
  {
   "cell_type": "code",
   "execution_count": 14,
   "metadata": {
    "id": "95BbRrkL9Eio"
   },
   "outputs": [],
   "source": [
    "params = {\n",
    "    # Parameters that we are going to tune.\n",
    "    'max_depth':20,\n",
    "    'min_child_weight': 14,\n",
    "    'eta':.05,\n",
    "    'subsample': .8,\n",
    "    'colsample_bytree': 1.,\n",
    "    'gamma' : 2.0,\n",
    "    # Other parameters\n",
    "    'objective':'reg:squarederror',\n",
    "}"
   ]
  },
  {
   "cell_type": "code",
   "execution_count": 15,
   "metadata": {
    "id": "KpZN-eKw9Eju"
   },
   "outputs": [],
   "source": [
    "params['eval_metric'] = \"rmse\"\n",
    "num_boost_round = 3000"
   ]
  },
  {
   "cell_type": "code",
   "execution_count": 16,
   "metadata": {
    "colab": {
     "base_uri": "https://localhost:8080/"
    },
    "id": "TSgKJuup9Eks",
    "outputId": "41571f6a-3f9c-4ed7-debc-e5ca2b96f52f"
   },
   "outputs": [
    {
     "name": "stdout",
     "output_type": "stream",
     "text": [
      "{'max_depth': 20, 'min_child_weight': 14, 'eta': 0.05, 'subsample': 0.8, 'colsample_bytree': 1.0, 'gamma': 2.0, 'objective': 'reg:squarederror', 'eval_metric': 'rmse'}\n"
     ]
    }
   ],
   "source": [
    "print(params)"
   ]
  },
  {
   "cell_type": "code",
   "execution_count": 17,
   "metadata": {
    "colab": {
     "base_uri": "https://localhost:8080/"
    },
    "id": "ZJRGqqW_EuRL",
    "outputId": "456fbd96-8ec7-4524-a43d-a28d93397419"
   },
   "outputs": [],
   "source": [
    "num_boost_round = 198\n",
    "best_model = xgb.train( \n",
    "    params,\n",
    "    dtrain_f,\n",
    "    num_boost_round=num_boost_round,\n",
    ")"
   ]
  },
  {
   "cell_type": "code",
   "execution_count": 18,
   "metadata": {
    "id": "QE8TYO9u9Eyj"
   },
   "outputs": [],
   "source": [
    "#best_model.save_model(\"model_16-04.model\")\n",
    "loaded_model = best_model"
   ]
  },
  {
   "cell_type": "code",
   "execution_count": 35,
   "metadata": {
    "id": "0sF9Ee4WlfmS"
   },
   "outputs": [],
   "source": [
    "y_pred = loaded_model.predict(dtest_e)\n",
    "np_test = Y_e.values\n",
    "y_test = Y_e.values"
   ]
  },
  {
   "cell_type": "code",
   "execution_count": 36,
   "metadata": {
    "colab": {
     "base_uri": "https://localhost:8080/"
    },
    "id": "AksIf4TQcquE",
    "outputId": "187a5fcf-c6ef-409b-face-e17cb4b48560"
   },
   "outputs": [
    {
     "name": "stdout",
     "output_type": "stream",
     "text": [
      "Explained variance :  0.95896244196328\n",
      "R2_value :  0.9580585417144092\n",
      "Mean absolute error : 95.91619601779514\n",
      "Root Mean squared error : 192.65873637987232\n",
      "Median absolute error : 57.3587646484375\n"
     ]
    }
   ],
   "source": [
    "# Model evaluation on test dataset\n",
    "print('Explained variance : ',explained_variance_score(y_test, y_pred))\n",
    "print('R2_value : ',r2_score(y_test, y_pred))\n",
    "print('Mean absolute error :', mean_absolute_error(y_test, y_pred))\n",
    "print('Root Mean squared error :', mean_squared_error(y_test, y_pred, squared=False))\n",
    "print('Median absolute error :', median_absolute_error(y_test, y_pred))"
   ]
  },
  {
   "cell_type": "code",
   "execution_count": 37,
   "metadata": {
    "colab": {
     "base_uri": "https://localhost:8080/"
    },
    "id": "eVg6ssE7K10p",
    "outputId": "c8275cee-0f38-4b75-9993-5b62702af244"
   },
   "outputs": [
    {
     "name": "stdout",
     "output_type": "stream",
     "text": [
      "MAX MAPE :  41.32388455912026\n",
      "Mape: 3.56 %.\n",
      "Accuracy: 96.44 %.\n"
     ]
    }
   ],
   "source": [
    "# Calculate mean absolute percentage error (MAPE)\n",
    "np_test = y_test\n",
    "errors = abs(y_pred-np_test)\n",
    "mape = 100 * (errors / np_test) # Calculate and display accuracy\n",
    "accuracy = 100 - np.mean(mape)\n",
    "print('MAX MAPE : ',max(mape))\n",
    "print('Mape:', round(np.mean(mape), 2), '%.')\n",
    "print('Accuracy:', round(accuracy, 2), '%.')"
   ]
  },
  {
   "cell_type": "code",
   "execution_count": 38,
   "metadata": {
    "colab": {
     "base_uri": "https://localhost:8080/"
    },
    "id": "neiIm2V59E1e",
    "outputId": "319c4b78-8827-478b-a5fd-fb74131fce34"
   },
   "outputs": [],
   "source": [
    "test_models = X_test_e_model_names.values\n",
    "test_input_shapes = X_test_e_input_shapes.values"
   ]
  },
  {
   "cell_type": "code",
   "execution_count": 39,
   "metadata": {
    "id": "7Bx9JU4f9E2O"
   },
   "outputs": [],
   "source": [
    "import csv\n",
    "with open('./measured_vs_predicted_XGBoost_dim1.csv', 'a', newline='') as file : \n",
    "    writer = csv.writer(file)\n",
    "    writer.writerow(['CNN_model', 'input_shape', 'model&shape', 'measured', 'predicted', 'absolute_deviation', 'MAPE (in %)'])\n",
    "    for i in range(0, len(y_pred)) :\n",
    "        f = ''+test_models[i]+'_'+test_input_shapes[i]\n",
    "        writer.writerow([test_models[i], test_input_shapes[i], f, np_test[i], y_pred[i],abs(y_pred[i]-np_test[i]), ((abs(y_pred[i]-np_test[i]))/np_test[i])*100])"
   ]
  },
  {
   "cell_type": "code",
   "execution_count": null,
   "metadata": {},
   "outputs": [],
   "source": []
  }
 ],
 "metadata": {
  "colab": {
   "collapsed_sections": [],
   "name": "Nano_XGBoost_Regressor.ipynb",
   "provenance": []
  },
  "kernelspec": {
   "display_name": "Python 3",
   "language": "python",
   "name": "python3"
  },
  "language_info": {
   "codemirror_mode": {
    "name": "ipython",
    "version": 3
   },
   "file_extension": ".py",
   "mimetype": "text/x-python",
   "name": "python",
   "nbconvert_exporter": "python",
   "pygments_lexer": "ipython3",
   "version": "3.8.5"
  }
 },
 "nbformat": 4,
 "nbformat_minor": 1
}
