{
 "cells": [
  {
   "cell_type": "code",
   "execution_count": 1,
   "metadata": {
    "id": "0URJFqhxFp00"
   },
   "outputs": [],
   "source": [
    "import numpy as np \n",
    "import pandas as pd\n",
    "from sklearn.neural_network import MLPRegressor\n",
    "from sklearn.preprocessing import StandardScaler\n",
    "from sklearn.model_selection import train_test_split, GridSearchCV \n",
    "from sklearn.metrics import explained_variance_score\n",
    "from sklearn.metrics import r2_score\n",
    "from sklearn.metrics import median_absolute_error \n",
    "from sklearn.metrics import mean_squared_error\n",
    "from sklearn.metrics import mean_absolute_error\n",
    "from sklearn.pipeline import Pipeline\n",
    "import seaborn as sns\n",
    "import matplotlib.pyplot as plt\n",
    "import seaborn as sns\n",
    "from matplotlib.ticker import PercentFormatter"
   ]
  },
  {
   "cell_type": "code",
   "execution_count": 2,
   "metadata": {},
   "outputs": [],
   "source": [
    "def select_train(list_var, data):\n",
    "    for var in list_var :\n",
    "        data.pop(var)\n",
    "    return data\n",
    "\n",
    "def select_test(list_var, data):\n",
    "    for var in list_var :\n",
    "        data.pop(var)\n",
    "    return data"
   ]
  },
  {
   "cell_type": "code",
   "execution_count": 3,
   "metadata": {
    "colab": {
     "base_uri": "https://localhost:8080/",
     "height": 261
    },
    "id": "0BfIu6SlFp2W",
    "outputId": "58c12da1-9925-4831-b46e-ddcb450543b2"
   },
   "outputs": [],
   "source": [
    "# 1/ Training data :\n",
    "\n",
    "column_names = ['Model_name', 'input_shape', 'power', 'input_width', 'input_size', 'nb_params_conv','nb_params_bn', 'nb_params_fc', 'flops', 'nb_layers', \n",
    "                'nb_conv_layers', 'nb_bn_layers','nb_fc_layers', 'sum_activations', 'weighted_sum_neurons']\n",
    "raw_dataset = pd.read_csv('./data/training_dataset.csv', names=column_names,\n",
    "                      na_values = \"?\", comment='\\t', sep=\",\", skipinitialspace=True)\n",
    "train_dataset = raw_dataset.copy()\n",
    "train_dataset.isna().sum()\n",
    "train_dataset = train_dataset.dropna()\n",
    "\n",
    "# 1/ Test data :\n",
    "\n",
    "column_names = ['Model_name', 'input_shape', 'power', 'input_width', 'input_size', 'nb_params_conv','nb_params_bn', 'nb_params_fc', 'flops', 'nb_layers', \n",
    "                'nb_conv_layers', 'nb_bn_layers','nb_fc_layers', 'sum_activations', 'weighted_sum_neurons']\n",
    "raw_dataset = pd.read_csv('./data/test_dim1.csv', names=column_names,\n",
    "                      na_values = \"?\", comment='\\t', sep=\",\", skipinitialspace=True)\n",
    "test_dataset1 = raw_dataset.copy()\n",
    "test_dataset1.isna().sum()\n",
    "test_dataset1 = test_dataset1.dropna()\n",
    "\n",
    "# 2/ Test data :\n",
    "\n",
    "column_names = ['Model_name', 'input_shape', 'power', 'input_width', 'input_size', 'nb_params_conv','nb_params_bn', 'nb_params_fc', 'flops', 'nb_layers', \n",
    "                'nb_conv_layers', 'nb_bn_layers','nb_fc_layers', 'sum_activations', 'weighted_sum_neurons']\n",
    "raw_dataset = pd.read_csv('./data/test_dim2.csv', names=column_names,\n",
    "                      na_values = \"?\", comment='\\t', sep=\",\", skipinitialspace=True)\n",
    "test_dataset2 = raw_dataset.copy()\n",
    "test_dataset2.isna().sum()\n",
    "test_dataset2 = test_dataset2.dropna()\n",
    "\n",
    "# 3/ Test data :\n",
    "\n",
    "column_names = ['Model_name', 'input_shape', 'power', 'input_width', 'input_size', 'nb_params_conv','nb_params_bn', 'nb_params_fc', 'flops', 'nb_layers', \n",
    "                'nb_conv_layers', 'nb_bn_layers','nb_fc_layers', 'sum_activations', 'weighted_sum_neurons']\n",
    "raw_dataset = pd.read_csv('./data/test_dim3.csv', names=column_names,\n",
    "                      na_values = \"?\", comment='\\t', sep=\",\", skipinitialspace=True)\n",
    "test_dataset3 = raw_dataset.copy()\n",
    "test_dataset3.isna().sum()\n",
    "test_dataset3 = test_dataset3.dropna()"
   ]
  },
  {
   "cell_type": "code",
   "execution_count": 4,
   "metadata": {
    "colab": {
     "base_uri": "https://localhost:8080/",
     "height": 313
    },
    "id": "s3hcZZbc6BT-",
    "outputId": "028dc794-abd2-4bd7-c8ff-4b51ca24e1ec"
   },
   "outputs": [],
   "source": [
    "list_comp = ['input_width', 'input_size','nb_params_conv', 'nb_params_bn', 'nb_params_fc', 'nb_layers', \n",
    "                'nb_conv_layers', 'nb_bn_layers','nb_fc_layers', 'sum_activations', 'weighted_sum_neurons']\n",
    "\n",
    "list_var = ['input_width', 'nb_params_bn', 'nb_params_fc','nb_conv_layers', 'nb_bn_layers', 'nb_fc_layers']\n",
    "\n",
    "train_dataset = select_train(list_var, train_dataset)\n",
    "test_dataset1 = select_test(list_var, test_dataset1)\n",
    "test_dataset2 = select_test(list_var, test_dataset2)\n",
    "test_dataset3 = select_test(list_var, test_dataset3)"
   ]
  },
  {
   "cell_type": "code",
   "execution_count": 5,
   "metadata": {
    "colab": {
     "base_uri": "https://localhost:8080/"
    },
    "id": "TuflqtZHEd56",
    "outputId": "3dcf66d4-9b4b-40f8-e0f6-4e795394b033"
   },
   "outputs": [
    {
     "data": {
      "text/html": [
       "<div>\n",
       "<style scoped>\n",
       "    .dataframe tbody tr th:only-of-type {\n",
       "        vertical-align: middle;\n",
       "    }\n",
       "\n",
       "    .dataframe tbody tr th {\n",
       "        vertical-align: top;\n",
       "    }\n",
       "\n",
       "    .dataframe thead th {\n",
       "        text-align: right;\n",
       "    }\n",
       "</style>\n",
       "<table border=\"1\" class=\"dataframe\">\n",
       "  <thead>\n",
       "    <tr style=\"text-align: right;\">\n",
       "      <th></th>\n",
       "      <th>Model_name</th>\n",
       "      <th>input_shape</th>\n",
       "      <th>input_size</th>\n",
       "      <th>nb_params_conv</th>\n",
       "      <th>flops</th>\n",
       "      <th>nb_layers</th>\n",
       "      <th>sum_activations</th>\n",
       "      <th>weighted_sum_neurons</th>\n",
       "    </tr>\n",
       "  </thead>\n",
       "  <tbody>\n",
       "    <tr>\n",
       "      <th>1288</th>\n",
       "      <td>basic_model_112_22</td>\n",
       "      <td>(1, 112, 112, 3)</td>\n",
       "      <td>37632</td>\n",
       "      <td>15145100</td>\n",
       "      <td>18946763197</td>\n",
       "      <td>43</td>\n",
       "      <td>17346904</td>\n",
       "      <td>9436995840</td>\n",
       "    </tr>\n",
       "    <tr>\n",
       "      <th>1289</th>\n",
       "      <td>basic_model_56_5</td>\n",
       "      <td>(1, 56, 56, 3)</td>\n",
       "      <td>9408</td>\n",
       "      <td>1859668</td>\n",
       "      <td>11255068812</td>\n",
       "      <td>12</td>\n",
       "      <td>2242016</td>\n",
       "      <td>5624246800</td>\n",
       "    </tr>\n",
       "    <tr>\n",
       "      <th>1290</th>\n",
       "      <td>basic_model_75_37</td>\n",
       "      <td>(1, 75, 75, 3)</td>\n",
       "      <td>16875</td>\n",
       "      <td>18939872</td>\n",
       "      <td>26945702640</td>\n",
       "      <td>64</td>\n",
       "      <td>9258839</td>\n",
       "      <td>13449790920</td>\n",
       "    </tr>\n",
       "    <tr>\n",
       "      <th>1291</th>\n",
       "      <td>basic_model_200_50</td>\n",
       "      <td>(1, 200, 200, 3)</td>\n",
       "      <td>120000</td>\n",
       "      <td>20659419</td>\n",
       "      <td>19180879124</td>\n",
       "      <td>82</td>\n",
       "      <td>11849524</td>\n",
       "      <td>9564177816</td>\n",
       "    </tr>\n",
       "    <tr>\n",
       "      <th>1292</th>\n",
       "      <td>basic_model_56_6</td>\n",
       "      <td>(1, 56, 56, 3)</td>\n",
       "      <td>9408</td>\n",
       "      <td>1727954</td>\n",
       "      <td>10997881289</td>\n",
       "      <td>14</td>\n",
       "      <td>7699280</td>\n",
       "      <td>5414993920</td>\n",
       "    </tr>\n",
       "  </tbody>\n",
       "</table>\n",
       "</div>"
      ],
      "text/plain": [
       "              Model_name       input_shape  input_size  nb_params_conv  \\\n",
       "1288  basic_model_112_22  (1, 112, 112, 3)       37632        15145100   \n",
       "1289    basic_model_56_5    (1, 56, 56, 3)        9408         1859668   \n",
       "1290   basic_model_75_37    (1, 75, 75, 3)       16875        18939872   \n",
       "1291  basic_model_200_50  (1, 200, 200, 3)      120000        20659419   \n",
       "1292    basic_model_56_6    (1, 56, 56, 3)        9408         1727954   \n",
       "\n",
       "            flops  nb_layers  sum_activations  weighted_sum_neurons  \n",
       "1288  18946763197         43         17346904            9436995840  \n",
       "1289  11255068812         12          2242016            5624246800  \n",
       "1290  26945702640         64          9258839           13449790920  \n",
       "1291  19180879124         82         11849524            9564177816  \n",
       "1292  10997881289         14          7699280            5414993920  "
      ]
     },
     "execution_count": 5,
     "metadata": {},
     "output_type": "execute_result"
    }
   ],
   "source": [
    "y_train = train_dataset.pop('power')\n",
    "X_train = train_dataset\n",
    "X_train.tail()"
   ]
  },
  {
   "cell_type": "code",
   "execution_count": 6,
   "metadata": {
    "colab": {
     "base_uri": "https://localhost:8080/"
    },
    "id": "MCQ8e2esaGt4",
    "outputId": "57ccf0ec-485a-44d6-b216-952a8384e3b5"
   },
   "outputs": [],
   "source": [
    "Y_e1 = test_dataset1.pop('power')\n",
    "X_e1 = test_dataset1\n",
    "\n",
    "Y_e2 = test_dataset2.pop('power')\n",
    "X_e2 = test_dataset2\n",
    "\n",
    "Y_e3 = test_dataset3.pop('power')\n",
    "X_e3 = test_dataset3"
   ]
  },
  {
   "cell_type": "code",
   "execution_count": 7,
   "metadata": {
    "colab": {
     "base_uri": "https://localhost:8080/",
     "height": 206
    },
    "id": "uk7JIy7zaJyK",
    "outputId": "08cead4d-fdcf-47e1-ee2c-1a5e85ba817a"
   },
   "outputs": [],
   "source": [
    "X_train_model_names = X_train.pop('Model_name')\n",
    "X_train_input_shapes = X_train.pop('input_shape')\n",
    "\n",
    "X_test_model_names1 = X_e1.pop('Model_name')\n",
    "X_test_input_shapes1 = X_e1.pop('input_shape')\n",
    "\n",
    "X_test_model_names2 = X_e2.pop('Model_name')\n",
    "X_test_input_shapes2 = X_e2.pop('input_shape')\n",
    "\n",
    "X_test_model_names3 = X_e3.pop('Model_name')\n",
    "X_test_input_shapes3 = X_e3.pop('input_shape')"
   ]
  },
  {
   "cell_type": "code",
   "execution_count": 8,
   "metadata": {
    "id": "6VCmV5JAaQXu"
   },
   "outputs": [],
   "source": [
    "y_test1 = Y_e1.values\n",
    "y_test2 = Y_e2.values\n",
    "y_test3 = Y_e3.values"
   ]
  },
  {
   "cell_type": "code",
   "execution_count": 9,
   "metadata": {
    "id": "O9XlKi0BFp4f"
   },
   "outputs": [],
   "source": [
    "steps = [('scaler', StandardScaler()), ('MLP', MLPRegressor())]\n",
    "pipeline = Pipeline(steps)"
   ]
  },
  {
   "cell_type": "code",
   "execution_count": 10,
   "metadata": {
    "id": "cEo3jtHzFp7E"
   },
   "outputs": [],
   "source": [
    "# The grid search hyperparameters space\n",
    "\"\"\"\n",
    "parameteres = {'MLP__hidden_layer_sizes':[(32,32,32,32,32), (64,32,32,32,32), (64,32,32,32,16), (64,32,32,16,16), \n",
    "                                          (64,32,16,16,16), (64,32,16,16,16), (64,16,16,16,16), (64,64,32,32,32), \n",
    "                                          (64,64,64,32,32), (64,64,64,64,32)],\n",
    "               'MLP__activation':['relu'], \n",
    "               'MLP__solver':['adam'], \n",
    "               'MLP__alpha':[0.01, 0.02, 0.03, 0.04, 0.05, 0.06, 0.07, 0.08, 0.09, 0.01],\n",
    "               'MLP__learning_rate' :['constant','adaptive'],\n",
    "               'MLP__learning_rate_init' :[0.05, 0.01, 0.5, 0.1],\n",
    "               'MLP__max_iter' :[1000,2000,3000,4000,5000], \n",
    "               'MLP__validation_fraction' :[0.1, 0.2, 0.3],\n",
    "               'MLP__n_iter_no_change' :[10, 20, 30],\n",
    "               'MLP__early_stopping' :[False,True],\n",
    "               'MLP__shuffle' :[True],\n",
    "               'MLP__random_state' :[42],\n",
    "               }\n",
    "\"\"\"\n",
    "\n",
    "# The optimal hyperparamaters\n",
    "parameteres = {'MLP__hidden_layer_sizes':[(64,64,64,64,64)], \n",
    "               'MLP__activation':['relu'], \n",
    "               'MLP__solver':['adam'], \n",
    "               'MLP__alpha':[0.03],\n",
    "               'MLP__learning_rate' :['adaptive'],\n",
    "               'MLP__learning_rate_init' :[0.1],\n",
    "               'MLP__max_iter' :[1000], \n",
    "               'MLP__validation_fraction' :[0.1],\n",
    "               'MLP__n_iter_no_change' :[10],\n",
    "               'MLP__early_stopping' :[True],\n",
    "               'MLP__shuffle' :[True],\n",
    "               'MLP__random_state' :[42],\n",
    "               'MLP__verbose' :[False]\n",
    "               }"
   ]
  },
  {
   "cell_type": "code",
   "execution_count": 11,
   "metadata": {
    "id": "WC_O3svdFp7x"
   },
   "outputs": [],
   "source": [
    "grid = GridSearchCV(pipeline, param_grid=parameteres, cv=2)"
   ]
  },
  {
   "cell_type": "code",
   "execution_count": 12,
   "metadata": {
    "colab": {
     "base_uri": "https://localhost:8080/"
    },
    "id": "DXfYDqJIApvR",
    "outputId": "8dcec1ee-7f73-4e38-c6c5-aaf1561eb6ed"
   },
   "outputs": [
    {
     "data": {
      "text/plain": [
       "GridSearchCV(cv=2,\n",
       "             estimator=Pipeline(steps=[('scaler', StandardScaler()),\n",
       "                                       ('MLP', MLPRegressor())]),\n",
       "             param_grid={'MLP__activation': ['relu'], 'MLP__alpha': [0.03],\n",
       "                         'MLP__early_stopping': [True],\n",
       "                         'MLP__hidden_layer_sizes': [(64, 64, 64, 64, 64)],\n",
       "                         'MLP__learning_rate': ['adaptive'],\n",
       "                         'MLP__learning_rate_init': [0.1],\n",
       "                         'MLP__max_iter': [1000], 'MLP__n_iter_no_change': [10],\n",
       "                         'MLP__random_state': [42], 'MLP__shuffle': [True],\n",
       "                         'MLP__solver': ['adam'],\n",
       "                         'MLP__validation_fraction': [0.1],\n",
       "                         'MLP__verbose': [False]})"
      ]
     },
     "execution_count": 12,
     "metadata": {},
     "output_type": "execute_result"
    }
   ],
   "source": [
    "grid.fit(X_train, y_train)"
   ]
  },
  {
   "cell_type": "code",
   "execution_count": 13,
   "metadata": {
    "colab": {
     "base_uri": "https://localhost:8080/"
    },
    "id": "2i8ax5xPFp84",
    "outputId": "f842639b-bd96-4931-b834-63f570621517"
   },
   "outputs": [
    {
     "name": "stdout",
     "output_type": "stream",
     "text": [
      "{'MLP__activation': 'relu', 'MLP__alpha': 0.03, 'MLP__early_stopping': True, 'MLP__hidden_layer_sizes': (64, 64, 64, 64, 64), 'MLP__learning_rate': 'adaptive', 'MLP__learning_rate_init': 0.1, 'MLP__max_iter': 1000, 'MLP__n_iter_no_change': 10, 'MLP__random_state': 42, 'MLP__shuffle': True, 'MLP__solver': 'adam', 'MLP__validation_fraction': 0.1, 'MLP__verbose': False}\n"
     ]
    }
   ],
   "source": [
    "print(grid.best_params_)"
   ]
  },
  {
   "cell_type": "code",
   "execution_count": 14,
   "metadata": {
    "id": "gCA2tNwoFqAT"
   },
   "outputs": [],
   "source": [
    "# Select the best estimator found by the gridSearchCV\n",
    "best_pipe = grid.best_estimator_"
   ]
  },
  {
   "cell_type": "code",
   "execution_count": 15,
   "metadata": {
    "id": "ZzmS3a-wuz6z"
   },
   "outputs": [],
   "source": [
    "#%%timeit -n 10\n",
    "#best_pipe.fit(X_train, y_train)"
   ]
  },
  {
   "cell_type": "code",
   "execution_count": 16,
   "metadata": {
    "colab": {
     "base_uri": "https://localhost:8080/"
    },
    "id": "oAQBTmLru79X",
    "outputId": "33fa58df-e72a-4e1d-a5bb-04060d0e0467"
   },
   "outputs": [
    {
     "data": {
      "text/plain": [
       "Pipeline(steps=[('scaler', StandardScaler()),\n",
       "                ('MLP',\n",
       "                 MLPRegressor(alpha=0.03, early_stopping=True,\n",
       "                              hidden_layer_sizes=(64, 64, 64, 64, 64),\n",
       "                              learning_rate='adaptive', learning_rate_init=0.1,\n",
       "                              max_iter=1000, random_state=42))])"
      ]
     },
     "execution_count": 16,
     "metadata": {},
     "output_type": "execute_result"
    }
   ],
   "source": [
    "# Train the best estimator with the best hyperparams found by the gridSearchCV on the entire training data\n",
    "best_pipe.fit(X_train, y_train)"
   ]
  },
  {
   "cell_type": "code",
   "execution_count": 17,
   "metadata": {
    "id": "3ewZvnjHw_PO"
   },
   "outputs": [],
   "source": [
    "y_pred1 = best_pipe.predict(X_e1.values)\n",
    "y_pred2 = best_pipe.predict(X_e2.values)\n",
    "y_pred3 = best_pipe.predict(X_e3.values)"
   ]
  },
  {
   "cell_type": "code",
   "execution_count": 27,
   "metadata": {},
   "outputs": [],
   "source": [
    "y_test = y_test1\n",
    "y_pred = y_pred1\n",
    "test_models = X_test_model_names1.values\n",
    "test_input_shapes = X_test_input_shapes1.values"
   ]
  },
  {
   "cell_type": "code",
   "execution_count": 28,
   "metadata": {
    "colab": {
     "base_uri": "https://localhost:8080/"
    },
    "id": "LnaKUI9ue5G2",
    "outputId": "d97fff6d-c701-4482-cbd4-f6a18dd4cf46"
   },
   "outputs": [
    {
     "name": "stdout",
     "output_type": "stream",
     "text": [
      "Explained variance :  0.9549257649647133\n",
      "R2_value :  0.9549250629206075\n",
      "Mean absolute error MAE : 157.14839876577543\n",
      "Root Mean squared error RMSE : 199.7259560672669\n",
      "Median absolute error MAD: 136.2380192157259\n"
     ]
    }
   ],
   "source": [
    "print('Explained variance : ',explained_variance_score(y_test, y_pred))\n",
    "print('R2_value : ',r2_score(y_test, y_pred))\n",
    "print('Mean absolute error MAE :', mean_absolute_error(y_test, y_pred))\n",
    "print('Root Mean squared error RMSE :', mean_squared_error(y_test, y_pred, squared=False))\n",
    "print('Median absolute error MAD:', median_absolute_error(y_test, y_pred))"
   ]
  },
  {
   "cell_type": "code",
   "execution_count": 29,
   "metadata": {
    "colab": {
     "base_uri": "https://localhost:8080/"
    },
    "id": "sYoRvlGce8Lj",
    "outputId": "d81767dd-c439-4156-e34c-344f776922e9"
   },
   "outputs": [
    {
     "name": "stdout",
     "output_type": "stream",
     "text": [
      "MAX MAPE : 56.44463020951529\n",
      "MAPE: 5.66 %.\n",
      "Accuracy: 94.34 %.\n"
     ]
    }
   ],
   "source": [
    "# Calculate mean absolute percentage error (MAPE)\n",
    "errors = abs(y_pred-y_test)\n",
    "mape = 100 * (errors / y_test) # Calculate and display accuracy\n",
    "accuracy = 100 - np.mean(mape)\n",
    "print('MAX MAPE :', max(mape))\n",
    "print('MAPE:', round(np.mean(mape), 2), '%.')\n",
    "print('Accuracy:', round(accuracy, 2), '%.')"
   ]
  },
  {
   "cell_type": "code",
   "execution_count": 30,
   "metadata": {
    "id": "9k8jjS4B6B_x"
   },
   "outputs": [],
   "source": [
    "import csv\n",
    "with open('./measured_vs_predicted_MLP_dim1.csv', 'w', newline='') as file : \n",
    "    writer = csv.writer(file)\n",
    "    writer.writerow(['CNN_model', 'input_shape', 'model&shape', 'real_exec_time', 'predicted_exec_time', 'absolute_deviation', 'MAPE (in %)'])\n",
    "    for i in range(0, len(y_pred)) :\n",
    "        f = ''+test_models[i]+'_'+test_input_shapes[i]\n",
    "        writer.writerow([test_models[i], test_input_shapes[i], f, y_test[i], y_pred[i],abs(y_pred[i]-y_test[i]), ((abs(y_pred[i]-y_test[i]))/y_test[i])*100])"
   ]
  },
  {
   "cell_type": "code",
   "execution_count": null,
   "metadata": {},
   "outputs": [],
   "source": []
  }
 ],
 "metadata": {
  "colab": {
   "collapsed_sections": [],
   "name": "Nano_MLP_regressor.ipynb",
   "provenance": []
  },
  "kernelspec": {
   "display_name": "Python 3",
   "language": "python",
   "name": "python3"
  },
  "language_info": {
   "codemirror_mode": {
    "name": "ipython",
    "version": 3
   },
   "file_extension": ".py",
   "mimetype": "text/x-python",
   "name": "python",
   "nbconvert_exporter": "python",
   "pygments_lexer": "ipython3",
   "version": "3.8.5"
  }
 },
 "nbformat": 4,
 "nbformat_minor": 1
}
