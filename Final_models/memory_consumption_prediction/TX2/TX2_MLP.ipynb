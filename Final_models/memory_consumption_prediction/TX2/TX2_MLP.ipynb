{
 "cells": [
  {
   "cell_type": "code",
   "execution_count": 1,
   "metadata": {
    "id": "0URJFqhxFp00"
   },
   "outputs": [],
   "source": [
    "import numpy as np \n",
    "import pandas as pd\n",
    "from sklearn.neural_network import MLPRegressor\n",
    "from sklearn.preprocessing import StandardScaler\n",
    "from sklearn.model_selection import train_test_split, GridSearchCV \n",
    "from sklearn.metrics import explained_variance_score\n",
    "from sklearn.metrics import r2_score\n",
    "from sklearn.metrics import median_absolute_error \n",
    "from sklearn.metrics import mean_squared_error\n",
    "from sklearn.metrics import mean_absolute_error\n",
    "from sklearn.pipeline import Pipeline\n",
    "import seaborn as sns\n",
    "import matplotlib.pyplot as plt\n",
    "import seaborn as sns\n",
    "from matplotlib.ticker import PercentFormatter"
   ]
  },
  {
   "cell_type": "code",
   "execution_count": 2,
   "metadata": {},
   "outputs": [],
   "source": [
    "def select_train(list_var, data):\n",
    "    for var in list_var :\n",
    "        data.pop(var)\n",
    "    return data\n",
    "\n",
    "def select_test(list_var, data):\n",
    "    for var in list_var :\n",
    "        data.pop(var)\n",
    "    return data"
   ]
  },
  {
   "cell_type": "code",
   "execution_count": 4,
   "metadata": {
    "colab": {
     "base_uri": "https://localhost:8080/",
     "height": 292
    },
    "id": "0BfIu6SlFp2W",
    "outputId": "d91e3088-3372-45dd-8cec-ee056a0f109f"
   },
   "outputs": [],
   "source": [
    "# 1/ Training data :\n",
    "\n",
    "column_names = ['Model_name', 'input_shape', 'memory', 'input_width', 'input_size', 'nb_layers',\n",
    "                'sum_activations', 'params']\n",
    "raw_dataset = pd.read_csv('./data/training_dataset.csv', names=column_names,\n",
    "                      na_values = \"?\", comment='\\t', sep=\",\", skipinitialspace=True)\n",
    "train_dataset = raw_dataset.copy()\n",
    "train_dataset.isna().sum()\n",
    "train_dataset = train_dataset.dropna()\n",
    "\n",
    "# 1/ Test data :\n",
    "\n",
    "column_names = ['Model_name', 'input_shape', 'memory', 'input_width', 'input_size', 'nb_layers',\n",
    "                'sum_activations', 'params']\n",
    "raw_dataset = pd.read_csv('./data/test_dim1.csv', names=column_names,\n",
    "                      na_values = \"?\", comment='\\t', sep=\",\", skipinitialspace=True)\n",
    "test_dataset1 = raw_dataset.copy()\n",
    "test_dataset1.isna().sum()\n",
    "test_dataset1 = test_dataset1.dropna()\n",
    "\n",
    "# 2/ Test data :\n",
    "\n",
    "column_names = ['Model_name', 'input_shape', 'memory', 'input_width', 'input_size', 'nb_layers',\n",
    "                'sum_activations', 'params']\n",
    "raw_dataset = pd.read_csv('./data/test_dim2.csv', names=column_names,\n",
    "                      na_values = \"?\", comment='\\t', sep=\",\", skipinitialspace=True)\n",
    "test_dataset2 = raw_dataset.copy()\n",
    "test_dataset2.isna().sum()\n",
    "test_dataset2 = test_dataset2.dropna()\n",
    "\n",
    "# 3/ Test data :\n",
    "\n",
    "column_names = ['Model_name', 'input_shape', 'memory', 'input_width', 'input_size', 'nb_layers',\n",
    "                'sum_activations', 'params']\n",
    "raw_dataset = pd.read_csv('./data/test_dim3.csv', names=column_names,\n",
    "                      na_values = \"?\", comment='\\t', sep=\",\", skipinitialspace=True)\n",
    "test_dataset3 = raw_dataset.copy()\n",
    "test_dataset3.isna().sum()\n",
    "test_dataset3 = test_dataset3.dropna()"
   ]
  },
  {
   "cell_type": "code",
   "execution_count": 5,
   "metadata": {
    "colab": {
     "base_uri": "https://localhost:8080/",
     "height": 309
    },
    "id": "s3hcZZbc6BT-",
    "outputId": "b335a6eb-ceb1-4aec-bc11-91793b15a596"
   },
   "outputs": [],
   "source": [
    "list_comp = ['Model_name', 'input_shape', 'memory', 'input_width', 'input_size', 'nb_layers',\n",
    "                'sum_activations', 'params']\n",
    "\n",
    "list_var = ['input_width']\n",
    "\n",
    "train_dataset = select_train(list_var, train_dataset)\n",
    "test_dataset1 = select_test(list_var, test_dataset1)\n",
    "test_dataset2 = select_test(list_var, test_dataset2)\n",
    "test_dataset3 = select_test(list_var, test_dataset3)"
   ]
  },
  {
   "cell_type": "code",
   "execution_count": 6,
   "metadata": {
    "colab": {
     "base_uri": "https://localhost:8080/"
    },
    "id": "TuflqtZHEd56",
    "outputId": "e5e12df7-15cc-4480-b42d-231000263cf4"
   },
   "outputs": [
    {
     "data": {
      "text/html": [
       "<div>\n",
       "<style scoped>\n",
       "    .dataframe tbody tr th:only-of-type {\n",
       "        vertical-align: middle;\n",
       "    }\n",
       "\n",
       "    .dataframe tbody tr th {\n",
       "        vertical-align: top;\n",
       "    }\n",
       "\n",
       "    .dataframe thead th {\n",
       "        text-align: right;\n",
       "    }\n",
       "</style>\n",
       "<table border=\"1\" class=\"dataframe\">\n",
       "  <thead>\n",
       "    <tr style=\"text-align: right;\">\n",
       "      <th></th>\n",
       "      <th>Model_name</th>\n",
       "      <th>input_shape</th>\n",
       "      <th>input_size</th>\n",
       "      <th>nb_layers</th>\n",
       "      <th>sum_activations</th>\n",
       "      <th>params</th>\n",
       "    </tr>\n",
       "  </thead>\n",
       "  <tbody>\n",
       "    <tr>\n",
       "      <th>149</th>\n",
       "      <td>basic_model_350_45</td>\n",
       "      <td>(1, 350, 350, 3)</td>\n",
       "      <td>367500</td>\n",
       "      <td>77</td>\n",
       "      <td>24032836</td>\n",
       "      <td>28087872</td>\n",
       "    </tr>\n",
       "    <tr>\n",
       "      <th>150</th>\n",
       "      <td>basic_model_224_24</td>\n",
       "      <td>(1, 224, 224, 3)</td>\n",
       "      <td>150528</td>\n",
       "      <td>44</td>\n",
       "      <td>18477760</td>\n",
       "      <td>49420384</td>\n",
       "    </tr>\n",
       "    <tr>\n",
       "      <th>151</th>\n",
       "      <td>basic_model_240_26</td>\n",
       "      <td>(1, 240, 240, 3)</td>\n",
       "      <td>172800</td>\n",
       "      <td>44</td>\n",
       "      <td>335053672</td>\n",
       "      <td>36989976</td>\n",
       "    </tr>\n",
       "    <tr>\n",
       "      <th>152</th>\n",
       "      <td>basic_model_512_28</td>\n",
       "      <td>(1, 512, 512, 3)</td>\n",
       "      <td>786432</td>\n",
       "      <td>54</td>\n",
       "      <td>383584308</td>\n",
       "      <td>34196142</td>\n",
       "    </tr>\n",
       "    <tr>\n",
       "      <th>153</th>\n",
       "      <td>basic_model_224_33</td>\n",
       "      <td>(1, 224, 224, 3)</td>\n",
       "      <td>150528</td>\n",
       "      <td>60</td>\n",
       "      <td>31316236</td>\n",
       "      <td>22456930</td>\n",
       "    </tr>\n",
       "  </tbody>\n",
       "</table>\n",
       "</div>"
      ],
      "text/plain": [
       "             Model_name       input_shape  input_size  nb_layers  \\\n",
       "149  basic_model_350_45  (1, 350, 350, 3)      367500         77   \n",
       "150  basic_model_224_24  (1, 224, 224, 3)      150528         44   \n",
       "151  basic_model_240_26  (1, 240, 240, 3)      172800         44   \n",
       "152  basic_model_512_28  (1, 512, 512, 3)      786432         54   \n",
       "153  basic_model_224_33  (1, 224, 224, 3)      150528         60   \n",
       "\n",
       "     sum_activations    params  \n",
       "149         24032836  28087872  \n",
       "150         18477760  49420384  \n",
       "151        335053672  36989976  \n",
       "152        383584308  34196142  \n",
       "153         31316236  22456930  "
      ]
     },
     "execution_count": 6,
     "metadata": {},
     "output_type": "execute_result"
    }
   ],
   "source": [
    "y_train = train_dataset.pop('memory')\n",
    "X_train = train_dataset\n",
    "X_train.tail()"
   ]
  },
  {
   "cell_type": "code",
   "execution_count": 7,
   "metadata": {
    "colab": {
     "base_uri": "https://localhost:8080/"
    },
    "id": "MCQ8e2esaGt4",
    "outputId": "117429be-0a8e-4228-b6d2-a1dda51c0585"
   },
   "outputs": [],
   "source": [
    "Y_e1 = test_dataset1.pop('memory')\n",
    "X_e1 = test_dataset1\n",
    "\n",
    "Y_e2 = test_dataset2.pop('memory')\n",
    "X_e2 = test_dataset2\n",
    "\n",
    "Y_e3 = test_dataset3.pop('memory')\n",
    "X_e3 = test_dataset3"
   ]
  },
  {
   "cell_type": "code",
   "execution_count": 8,
   "metadata": {
    "colab": {
     "base_uri": "https://localhost:8080/",
     "height": 202
    },
    "id": "uk7JIy7zaJyK",
    "outputId": "03e243a4-bf32-405c-e2a4-c44c0f5f101c"
   },
   "outputs": [],
   "source": [
    "X_train_model_names = X_train.pop('Model_name')\n",
    "X_train_input_shapes = X_train.pop('input_shape')\n",
    "\n",
    "X_test_model_names1 = X_e1.pop('Model_name')\n",
    "X_test_input_shapes1 = X_e1.pop('input_shape')\n",
    "\n",
    "X_test_model_names2 = X_e2.pop('Model_name')\n",
    "X_test_input_shapes2 = X_e2.pop('input_shape')\n",
    "\n",
    "X_test_model_names3 = X_e3.pop('Model_name')\n",
    "X_test_input_shapes3 = X_e3.pop('input_shape')"
   ]
  },
  {
   "cell_type": "code",
   "execution_count": 9,
   "metadata": {
    "id": "6VCmV5JAaQXu"
   },
   "outputs": [],
   "source": [
    "y_test1 = Y_e1.values\n",
    "y_test2 = Y_e2.values\n",
    "y_test3 = Y_e3.values"
   ]
  },
  {
   "cell_type": "code",
   "execution_count": 10,
   "metadata": {
    "id": "O9XlKi0BFp4f"
   },
   "outputs": [],
   "source": [
    "steps = [('scaler', StandardScaler()), ('MLP', MLPRegressor())]\n",
    "pipeline = Pipeline(steps)"
   ]
  },
  {
   "cell_type": "code",
   "execution_count": 11,
   "metadata": {
    "id": "cEo3jtHzFp7E"
   },
   "outputs": [],
   "source": [
    "# The grid search hyperparameters space\n",
    "\"\"\"\n",
    "parameteres = {'MLP__hidden_layer_sizes':[(32,32,32,32,32), (64,32,32,32,32), (64,32,32,32,16), (64,32,32,16,16), \n",
    "                                          (64,32,16,16,16), (64,32,16,16,16), (64,16,16,16,16), (64,64,32,32,32), \n",
    "                                          (64,64,64,32,32), (64,64,64,64,32)], \n",
    "               'MLP__activation':['relu'], \n",
    "               'MLP__solver':['adam'], \n",
    "               'MLP__alpha':[0.005, 0.006, 0.00007, 0.008, 0.009, 0.001],\n",
    "               'MLP__learning_rate' :['constant','adaptive'],\n",
    "               'MLP__learning_rate_init' :[0.05, 0.01, 0.5, 0.1],\n",
    "               'MLP__max_iter' :[1000,2000,3000,4000,5000], \n",
    "               'MLP__validation_fraction' :[0.1, 0.2, 0.3],\n",
    "               'MLP__n_iter_no_change' :[10, 20, 30],\n",
    "               'MLP__early_stopping' :[False,True],\n",
    "               'MLP__shuffle' :[True],\n",
    "               'MLP__random_state' :[42],\n",
    "               }\n",
    "\"\"\"\n",
    "\n",
    "# The optimal hyperparamaters\n",
    "parameteres = {'MLP__hidden_layer_sizes':[(64,64)], \n",
    "               'MLP__activation':['relu'], \n",
    "               'MLP__solver':['adam'], \n",
    "               'MLP__alpha':[0.009],\n",
    "               'MLP__learning_rate' :['constant'],\n",
    "               'MLP__learning_rate_init' :[0.1],\n",
    "               'MLP__max_iter' :[1000], \n",
    "               'MLP__validation_fraction' :[0.1],\n",
    "               'MLP__n_iter_no_change' :[10],\n",
    "               'MLP__early_stopping' :[True],\n",
    "               'MLP__shuffle' :[True],\n",
    "               'MLP__random_state' :[42],\n",
    "               'MLP__verbose' :[False]\n",
    "               }"
   ]
  },
  {
   "cell_type": "code",
   "execution_count": 12,
   "metadata": {
    "id": "WC_O3svdFp7x"
   },
   "outputs": [],
   "source": [
    "grid = GridSearchCV(pipeline, param_grid=parameteres, cv=2)"
   ]
  },
  {
   "cell_type": "code",
   "execution_count": 13,
   "metadata": {
    "colab": {
     "base_uri": "https://localhost:8080/"
    },
    "id": "DXfYDqJIApvR",
    "outputId": "adcf7bd9-3f37-4d72-f2fb-cb521ec398cc"
   },
   "outputs": [
    {
     "data": {
      "text/plain": [
       "GridSearchCV(cv=2,\n",
       "             estimator=Pipeline(steps=[('scaler', StandardScaler()),\n",
       "                                       ('MLP', MLPRegressor())]),\n",
       "             param_grid={'MLP__activation': ['relu'], 'MLP__alpha': [0.009],\n",
       "                         'MLP__early_stopping': [True],\n",
       "                         'MLP__hidden_layer_sizes': [(64, 64)],\n",
       "                         'MLP__learning_rate': ['constant'],\n",
       "                         'MLP__learning_rate_init': [0.1],\n",
       "                         'MLP__max_iter': [1000], 'MLP__n_iter_no_change': [10],\n",
       "                         'MLP__random_state': [42], 'MLP__shuffle': [True],\n",
       "                         'MLP__solver': ['adam'],\n",
       "                         'MLP__validation_fraction': [0.1],\n",
       "                         'MLP__verbose': [False]})"
      ]
     },
     "execution_count": 13,
     "metadata": {},
     "output_type": "execute_result"
    }
   ],
   "source": [
    "grid.fit(X_train, y_train)"
   ]
  },
  {
   "cell_type": "code",
   "execution_count": 14,
   "metadata": {
    "colab": {
     "base_uri": "https://localhost:8080/"
    },
    "id": "2i8ax5xPFp84",
    "outputId": "a2a79df7-2ab3-4359-d87e-f51d990c459a"
   },
   "outputs": [
    {
     "name": "stdout",
     "output_type": "stream",
     "text": [
      "{'MLP__activation': 'relu', 'MLP__alpha': 0.009, 'MLP__early_stopping': True, 'MLP__hidden_layer_sizes': (64, 64), 'MLP__learning_rate': 'constant', 'MLP__learning_rate_init': 0.1, 'MLP__max_iter': 1000, 'MLP__n_iter_no_change': 10, 'MLP__random_state': 42, 'MLP__shuffle': True, 'MLP__solver': 'adam', 'MLP__validation_fraction': 0.1, 'MLP__verbose': False}\n"
     ]
    }
   ],
   "source": [
    "print(grid.best_params_)"
   ]
  },
  {
   "cell_type": "code",
   "execution_count": 15,
   "metadata": {
    "id": "gCA2tNwoFqAT"
   },
   "outputs": [],
   "source": [
    "# Select the best estimator found by the gridSearchCV\n",
    "best_pipe = grid.best_estimator_"
   ]
  },
  {
   "cell_type": "code",
   "execution_count": 16,
   "metadata": {
    "id": "ZzmS3a-wuz6z"
   },
   "outputs": [],
   "source": [
    "#%%timeit -n 10\n",
    "#best_pipe.fit(X_train, y_train)"
   ]
  },
  {
   "cell_type": "code",
   "execution_count": 17,
   "metadata": {
    "colab": {
     "base_uri": "https://localhost:8080/"
    },
    "id": "oAQBTmLru79X",
    "outputId": "12ef62ff-b744-4c73-899f-939e9a152924"
   },
   "outputs": [
    {
     "data": {
      "text/plain": [
       "Pipeline(steps=[('scaler', StandardScaler()),\n",
       "                ('MLP',\n",
       "                 MLPRegressor(alpha=0.009, early_stopping=True,\n",
       "                              hidden_layer_sizes=(64, 64),\n",
       "                              learning_rate_init=0.1, max_iter=1000,\n",
       "                              random_state=42))])"
      ]
     },
     "execution_count": 17,
     "metadata": {},
     "output_type": "execute_result"
    }
   ],
   "source": [
    "# Train the best estimator with the best hyperparams found by the gridSearchCV on the entire training data\n",
    "best_pipe.fit(X_train, y_train)"
   ]
  },
  {
   "cell_type": "code",
   "execution_count": 18,
   "metadata": {
    "id": "3ewZvnjHw_PO"
   },
   "outputs": [],
   "source": [
    "y_pred1 = best_pipe.predict(X_e1.values)\n",
    "y_pred2 = best_pipe.predict(X_e2.values)\n",
    "y_pred3 = best_pipe.predict(X_e3.values)"
   ]
  },
  {
   "cell_type": "code",
   "execution_count": 28,
   "metadata": {},
   "outputs": [],
   "source": [
    "y_test = y_test3\n",
    "y_pred = y_pred3\n",
    "test_models = X_test_model_names3.values\n",
    "test_input_shapes = X_test_input_shapes3.values"
   ]
  },
  {
   "cell_type": "code",
   "execution_count": 29,
   "metadata": {
    "colab": {
     "base_uri": "https://localhost:8080/"
    },
    "id": "LnaKUI9ue5G2",
    "outputId": "db8b42f7-1e5e-402c-e42a-2a603a8188e9"
   },
   "outputs": [
    {
     "name": "stdout",
     "output_type": "stream",
     "text": [
      "Explained variance :  0.7797914115277969\n",
      "R2_value :  0.7678598970664869\n",
      "Mean absolute error MAE : 237.48401097785768\n",
      "Root Mean squared error RMSE : 404.6869356647962\n",
      "Median absolute error MAD: 116.59264390962323\n"
     ]
    }
   ],
   "source": [
    "print('Explained variance : ',explained_variance_score(y_test, y_pred))\n",
    "print('R2_value : ',r2_score(y_test, y_pred))\n",
    "print('Mean absolute error MAE :', mean_absolute_error(y_test, y_pred))\n",
    "print('Root Mean squared error RMSE :', mean_squared_error(y_test, y_pred, squared=False))\n",
    "print('Median absolute error MAD:', median_absolute_error(y_test, y_pred))"
   ]
  },
  {
   "cell_type": "code",
   "execution_count": 30,
   "metadata": {
    "colab": {
     "base_uri": "https://localhost:8080/"
    },
    "id": "sYoRvlGce8Lj",
    "outputId": "b7fec3fa-0945-4b24-ee81-2181529d5eab"
   },
   "outputs": [
    {
     "name": "stdout",
     "output_type": "stream",
     "text": [
      "MAX MAPE : 56.074570022479755\n",
      "MAPE: 9.04 %.\n",
      "Accuracy: 90.96 %.\n"
     ]
    }
   ],
   "source": [
    "# Calculate mean absolute percentage error (MAPE)\n",
    "errors = abs(y_pred-y_test)\n",
    "mape = 100 * (errors / y_test) # Calculate and display accuracy\n",
    "accuracy = 100 - np.mean(mape)\n",
    "print('MAX MAPE :', max(mape))\n",
    "print('MAPE:', round(np.mean(mape), 2), '%.')\n",
    "print('Accuracy:', round(accuracy, 2), '%.')"
   ]
  },
  {
   "cell_type": "code",
   "execution_count": 31,
   "metadata": {
    "id": "9k8jjS4B6B_x"
   },
   "outputs": [],
   "source": [
    "import csv\n",
    "with open('./measured_vs_predicted_MLP_dim3.csv', 'w', newline='') as file : \n",
    "    writer = csv.writer(file)\n",
    "    writer.writerow(['CNN_model', 'input_shape', 'model&shape', 'measured', 'predicted', 'absolute_deviation', 'prediction_accuracy(100-MAPE)'])\n",
    "    for i in range(0, len(y_pred)) :\n",
    "        f = ''+test_models[i]+'_'+test_input_shapes[i]\n",
    "        writer.writerow([test_models[i], test_input_shapes[i], f, y_test[i], y_pred[i],abs(y_pred[i]-y_test[i]), ((abs(y_pred[i]-y_test[i]))/y_test[i])*100])"
   ]
  },
  {
   "cell_type": "code",
   "execution_count": null,
   "metadata": {},
   "outputs": [],
   "source": []
  }
 ],
 "metadata": {
  "colab": {
   "collapsed_sections": [],
   "name": "TX2_MLP_regressor.ipynb",
   "provenance": []
  },
  "kernelspec": {
   "display_name": "Python 3",
   "language": "python",
   "name": "python3"
  },
  "language_info": {
   "codemirror_mode": {
    "name": "ipython",
    "version": 3
   },
   "file_extension": ".py",
   "mimetype": "text/x-python",
   "name": "python",
   "nbconvert_exporter": "python",
   "pygments_lexer": "ipython3",
   "version": "3.8.5"
  }
 },
 "nbformat": 4,
 "nbformat_minor": 1
}
