{
 "cells": [
  {
   "cell_type": "code",
   "execution_count": 11,
   "metadata": {
    "colab": {
     "base_uri": "https://localhost:8080/"
    },
    "id": "ExR2c6STta9N",
    "outputId": "8f7dc36a-4af1-4793-9b12-36ce77c19878"
   },
   "outputs": [],
   "source": [
    "import numpy as np \n",
    "import pandas as pd\n",
    "import statsmodels.api as sm\n",
    "from sklearn.metrics import explained_variance_score\n",
    "from sklearn.metrics import r2_score\n",
    "from sklearn.metrics import median_absolute_error\n",
    "from sklearn.metrics import mean_absolute_error\n",
    "from sklearn.metrics import mean_squared_error\n",
    "from sklearn.pipeline import Pipeline\n",
    "import seaborn as sns\n",
    "import matplotlib.pyplot as plt\n",
    "from matplotlib.ticker import PercentFormatter\n",
    "import cvxopt\n",
    "from sklearn import linear_model\n",
    "from sklearn.preprocessing import PolynomialFeatures"
   ]
  },
  {
   "cell_type": "code",
   "execution_count": 12,
   "metadata": {
    "id": "FefuVhQL0oZg"
   },
   "outputs": [],
   "source": [
    "def select_train(list_var, data):\n",
    "    for var in list_var :\n",
    "        data.pop(var)\n",
    "    return data\n",
    "\n",
    "def select_test(list_var, data):\n",
    "    for var in list_var :\n",
    "        data.pop(var)\n",
    "    return data"
   ]
  },
  {
   "cell_type": "code",
   "execution_count": 13,
   "metadata": {
    "id": "0GzEd58ota-6"
   },
   "outputs": [],
   "source": [
    "# 1/ Training data :\n",
    "\n",
    "column_names = ['Model_name', 'input_shape', 'memory', 'input_width', 'input_size', 'nb_layers',\n",
    "                'sum_activations', 'params']\n",
    "raw_dataset = pd.read_csv('./data/training_dataset.csv', names=column_names,\n",
    "                      na_values = \"?\", comment='\\t', sep=\",\", skipinitialspace=True)\n",
    "train_dataset = raw_dataset.copy()\n",
    "train_dataset.isna().sum()\n",
    "train_dataset = train_dataset.dropna()\n",
    "\n",
    "# 1/ Test data :\n",
    "\n",
    "column_names = ['Model_name', 'input_shape', 'memory', 'input_width', 'input_size', 'nb_layers',\n",
    "                'sum_activations', 'params']\n",
    "raw_dataset = pd.read_csv('./data/test_dim1.csv', names=column_names,\n",
    "                      na_values = \"?\", comment='\\t', sep=\",\", skipinitialspace=True)\n",
    "test_dataset1 = raw_dataset.copy()\n",
    "test_dataset1.isna().sum()\n",
    "test_dataset1 = test_dataset1.dropna()\n",
    "\n",
    "# 2/ Test data :\n",
    "\n",
    "column_names = ['Model_name', 'input_shape', 'memory', 'input_width', 'input_size', 'nb_layers',\n",
    "                'sum_activations', 'params']\n",
    "raw_dataset = pd.read_csv('./data/test_dim2.csv', names=column_names,\n",
    "                      na_values = \"?\", comment='\\t', sep=\",\", skipinitialspace=True)\n",
    "test_dataset2 = raw_dataset.copy()\n",
    "test_dataset2.isna().sum()\n",
    "test_dataset2 = test_dataset2.dropna()\n",
    "\n",
    "# 3/ Test data :\n",
    "\n",
    "column_names = ['Model_name', 'input_shape', 'memory', 'input_width', 'input_size', 'nb_layers',\n",
    "                'sum_activations', 'params']\n",
    "raw_dataset = pd.read_csv('./data/test_dim3.csv', names=column_names,\n",
    "                      na_values = \"?\", comment='\\t', sep=\",\", skipinitialspace=True)\n",
    "test_dataset3 = raw_dataset.copy()\n",
    "test_dataset3.isna().sum()\n",
    "test_dataset3 = test_dataset3.dropna()"
   ]
  },
  {
   "cell_type": "code",
   "execution_count": 14,
   "metadata": {
    "id": "jQImqNle0oZi"
   },
   "outputs": [],
   "source": [
    "list_comp = ['Model_name', 'input_shape', 'memory', 'input_width', 'input_size', 'nb_layers',\n",
    "                'sum_activations', 'params']\n",
    "\n",
    "list_var = ['input_width']\n",
    "\n",
    "train_dataset = select_train(list_var, train_dataset)\n",
    "test_dataset1 = select_test(list_var, test_dataset1)\n",
    "test_dataset2 = select_test(list_var, test_dataset2)\n",
    "test_dataset3 = select_test(list_var, test_dataset3)"
   ]
  },
  {
   "cell_type": "code",
   "execution_count": 15,
   "metadata": {
    "colab": {
     "base_uri": "https://localhost:8080/",
     "height": 206
    },
    "id": "DUz_22li0oZj",
    "outputId": "e44fcaf2-bb68-4443-93a5-b83f3d96c797"
   },
   "outputs": [
    {
     "data": {
      "text/html": [
       "<div>\n",
       "<style scoped>\n",
       "    .dataframe tbody tr th:only-of-type {\n",
       "        vertical-align: middle;\n",
       "    }\n",
       "\n",
       "    .dataframe tbody tr th {\n",
       "        vertical-align: top;\n",
       "    }\n",
       "\n",
       "    .dataframe thead th {\n",
       "        text-align: right;\n",
       "    }\n",
       "</style>\n",
       "<table border=\"1\" class=\"dataframe\">\n",
       "  <thead>\n",
       "    <tr style=\"text-align: right;\">\n",
       "      <th></th>\n",
       "      <th>Model_name</th>\n",
       "      <th>input_shape</th>\n",
       "      <th>memory</th>\n",
       "      <th>input_size</th>\n",
       "      <th>nb_layers</th>\n",
       "      <th>sum_activations</th>\n",
       "      <th>params</th>\n",
       "    </tr>\n",
       "  </thead>\n",
       "  <tbody>\n",
       "    <tr>\n",
       "      <th>112</th>\n",
       "      <td>basic_model_32_23</td>\n",
       "      <td>(1, 32, 32, 3)</td>\n",
       "      <td>2060.0</td>\n",
       "      <td>3072</td>\n",
       "      <td>41</td>\n",
       "      <td>17086005248</td>\n",
       "      <td>17190346</td>\n",
       "    </tr>\n",
       "    <tr>\n",
       "      <th>113</th>\n",
       "      <td>basic_model_331_48</td>\n",
       "      <td>(1, 331, 331, 3)</td>\n",
       "      <td>2033.0</td>\n",
       "      <td>328683</td>\n",
       "      <td>78</td>\n",
       "      <td>65066541656</td>\n",
       "      <td>14519141</td>\n",
       "    </tr>\n",
       "    <tr>\n",
       "      <th>114</th>\n",
       "      <td>basic_model_64_21</td>\n",
       "      <td>(1, 64, 64, 3)</td>\n",
       "      <td>2032.0</td>\n",
       "      <td>12288</td>\n",
       "      <td>38</td>\n",
       "      <td>29858337280</td>\n",
       "      <td>25511850</td>\n",
       "    </tr>\n",
       "    <tr>\n",
       "      <th>115</th>\n",
       "      <td>basic_model_112_22</td>\n",
       "      <td>(1, 112, 112, 3)</td>\n",
       "      <td>2009.0</td>\n",
       "      <td>37632</td>\n",
       "      <td>43</td>\n",
       "      <td>9436995840</td>\n",
       "      <td>15188976</td>\n",
       "    </tr>\n",
       "    <tr>\n",
       "      <th>116</th>\n",
       "      <td>basic_model_600_42</td>\n",
       "      <td>(1, 600, 600, 3)</td>\n",
       "      <td>1995.5</td>\n",
       "      <td>1080000</td>\n",
       "      <td>71</td>\n",
       "      <td>79782663040</td>\n",
       "      <td>12260173</td>\n",
       "    </tr>\n",
       "  </tbody>\n",
       "</table>\n",
       "</div>"
      ],
      "text/plain": [
       "             Model_name       input_shape  memory  input_size  nb_layers  \\\n",
       "112   basic_model_32_23    (1, 32, 32, 3)  2060.0        3072         41   \n",
       "113  basic_model_331_48  (1, 331, 331, 3)  2033.0      328683         78   \n",
       "114   basic_model_64_21    (1, 64, 64, 3)  2032.0       12288         38   \n",
       "115  basic_model_112_22  (1, 112, 112, 3)  2009.0       37632         43   \n",
       "116  basic_model_600_42  (1, 600, 600, 3)  1995.5     1080000         71   \n",
       "\n",
       "     sum_activations    params  \n",
       "112      17086005248  17190346  \n",
       "113      65066541656  14519141  \n",
       "114      29858337280  25511850  \n",
       "115       9436995840  15188976  \n",
       "116      79782663040  12260173  "
      ]
     },
     "execution_count": 15,
     "metadata": {},
     "output_type": "execute_result"
    }
   ],
   "source": [
    "train_dataset.tail()"
   ]
  },
  {
   "cell_type": "code",
   "execution_count": 16,
   "metadata": {
    "id": "2mCkf8GdtbEW"
   },
   "outputs": [
    {
     "data": {
      "text/html": [
       "<div>\n",
       "<style scoped>\n",
       "    .dataframe tbody tr th:only-of-type {\n",
       "        vertical-align: middle;\n",
       "    }\n",
       "\n",
       "    .dataframe tbody tr th {\n",
       "        vertical-align: top;\n",
       "    }\n",
       "\n",
       "    .dataframe thead th {\n",
       "        text-align: right;\n",
       "    }\n",
       "</style>\n",
       "<table border=\"1\" class=\"dataframe\">\n",
       "  <thead>\n",
       "    <tr style=\"text-align: right;\">\n",
       "      <th></th>\n",
       "      <th>Model_name</th>\n",
       "      <th>input_shape</th>\n",
       "      <th>input_size</th>\n",
       "      <th>nb_layers</th>\n",
       "      <th>sum_activations</th>\n",
       "      <th>params</th>\n",
       "    </tr>\n",
       "  </thead>\n",
       "  <tbody>\n",
       "    <tr>\n",
       "      <th>112</th>\n",
       "      <td>basic_model_32_23</td>\n",
       "      <td>(1, 32, 32, 3)</td>\n",
       "      <td>3072</td>\n",
       "      <td>41</td>\n",
       "      <td>17086005248</td>\n",
       "      <td>17190346</td>\n",
       "    </tr>\n",
       "    <tr>\n",
       "      <th>113</th>\n",
       "      <td>basic_model_331_48</td>\n",
       "      <td>(1, 331, 331, 3)</td>\n",
       "      <td>328683</td>\n",
       "      <td>78</td>\n",
       "      <td>65066541656</td>\n",
       "      <td>14519141</td>\n",
       "    </tr>\n",
       "    <tr>\n",
       "      <th>114</th>\n",
       "      <td>basic_model_64_21</td>\n",
       "      <td>(1, 64, 64, 3)</td>\n",
       "      <td>12288</td>\n",
       "      <td>38</td>\n",
       "      <td>29858337280</td>\n",
       "      <td>25511850</td>\n",
       "    </tr>\n",
       "    <tr>\n",
       "      <th>115</th>\n",
       "      <td>basic_model_112_22</td>\n",
       "      <td>(1, 112, 112, 3)</td>\n",
       "      <td>37632</td>\n",
       "      <td>43</td>\n",
       "      <td>9436995840</td>\n",
       "      <td>15188976</td>\n",
       "    </tr>\n",
       "    <tr>\n",
       "      <th>116</th>\n",
       "      <td>basic_model_600_42</td>\n",
       "      <td>(1, 600, 600, 3)</td>\n",
       "      <td>1080000</td>\n",
       "      <td>71</td>\n",
       "      <td>79782663040</td>\n",
       "      <td>12260173</td>\n",
       "    </tr>\n",
       "  </tbody>\n",
       "</table>\n",
       "</div>"
      ],
      "text/plain": [
       "             Model_name       input_shape  input_size  nb_layers  \\\n",
       "112   basic_model_32_23    (1, 32, 32, 3)        3072         41   \n",
       "113  basic_model_331_48  (1, 331, 331, 3)      328683         78   \n",
       "114   basic_model_64_21    (1, 64, 64, 3)       12288         38   \n",
       "115  basic_model_112_22  (1, 112, 112, 3)       37632         43   \n",
       "116  basic_model_600_42  (1, 600, 600, 3)     1080000         71   \n",
       "\n",
       "     sum_activations    params  \n",
       "112      17086005248  17190346  \n",
       "113      65066541656  14519141  \n",
       "114      29858337280  25511850  \n",
       "115       9436995840  15188976  \n",
       "116      79782663040  12260173  "
      ]
     },
     "execution_count": 16,
     "metadata": {},
     "output_type": "execute_result"
    }
   ],
   "source": [
    "Y = train_dataset.pop('memory')\n",
    "X = train_dataset\n",
    "X.tail()"
   ]
  },
  {
   "cell_type": "code",
   "execution_count": 17,
   "metadata": {
    "id": "tWOBV-6DtbGO"
   },
   "outputs": [],
   "source": [
    "Y_e1 = test_dataset1.pop('memory')\n",
    "X_e1 = test_dataset1\n",
    "\n",
    "Y_e2 = test_dataset2.pop('memory')\n",
    "X_e2 = test_dataset2\n",
    "\n",
    "Y_e3 = test_dataset3.pop('memory')\n",
    "X_e3 = test_dataset3"
   ]
  },
  {
   "cell_type": "code",
   "execution_count": 18,
   "metadata": {
    "id": "GGBLp2-KtbGy"
   },
   "outputs": [],
   "source": [
    "X_train_model_names = X.pop('Model_name')\n",
    "X_train_input_shapes = X.pop('input_shape')"
   ]
  },
  {
   "cell_type": "code",
   "execution_count": 19,
   "metadata": {
    "id": "0DX0mN4CtbHu"
   },
   "outputs": [],
   "source": [
    "X_test_model_names1 = X_e1.pop('Model_name')\n",
    "X_test_input_shapes1 = X_e1.pop('input_shape')\n",
    "\n",
    "X_test_model_names2 = X_e2.pop('Model_name')\n",
    "X_test_input_shapes2 = X_e2.pop('input_shape')\n",
    "\n",
    "X_test_model_names3 = X_e3.pop('Model_name')\n",
    "X_test_input_shapes3 = X_e3.pop('input_shape')"
   ]
  },
  {
   "cell_type": "code",
   "execution_count": 20,
   "metadata": {},
   "outputs": [],
   "source": [
    "y_test1 = Y_e1.values\n",
    "y_test2 = Y_e2.values\n",
    "y_test3 = Y_e3.values"
   ]
  },
  {
   "cell_type": "code",
   "execution_count": 21,
   "metadata": {
    "id": "PXC1I53c0oZp"
   },
   "outputs": [],
   "source": [
    "#degree : 8 alpha:  0.005\n",
    "polyn = PolynomialFeatures(degree=8)\n",
    "xd = polyn.fit_transform(X.values)\n",
    "clf_Ridge = linear_model.Ridge(alpha=0.005, normalize=True,max_iter=1e5)\n",
    "A = clf_Ridge.fit(xd,Y.values)"
   ]
  },
  {
   "cell_type": "code",
   "execution_count": 22,
   "metadata": {},
   "outputs": [],
   "source": [
    "y_pred1 = clf_Ridge.predict(polyn.fit_transform(X_e1.values))\n",
    "y_pred2 = clf_Ridge.predict(polyn.fit_transform(X_e2.values))\n",
    "y_pred3 = clf_Ridge.predict(polyn.fit_transform(X_e3.values))"
   ]
  },
  {
   "cell_type": "code",
   "execution_count": 32,
   "metadata": {
    "colab": {
     "base_uri": "https://localhost:8080/"
    },
    "id": "yN7CvuOI0oZr",
    "outputId": "d5c44706-cf1c-49f8-ad10-8ce67bb77e6c"
   },
   "outputs": [
    {
     "name": "stdout",
     "output_type": "stream",
     "text": [
      "Explained variance :  0.9030991602189158\n",
      "R2_value :  0.900610130630181\n",
      "Mean absolute error MAE : 124.5993986622994\n",
      "Root Mean squared error RMSE : 158.26944697063252\n",
      "Median absolute error MAD: 109.72420522918435\n"
     ]
    }
   ],
   "source": [
    "y_test = y_test3\n",
    "y_pred = y_pred3\n",
    "test_models = X_test_model_names3.values\n",
    "test_input_shapes = X_test_input_shapes3.values\n",
    "print('Explained variance : ',explained_variance_score(y_test, y_pred))\n",
    "print('R2_value : ',r2_score(y_test, y_pred))\n",
    "print('Mean absolute error MAE :', mean_absolute_error(y_test, y_pred))\n",
    "print('Root Mean squared error RMSE :', mean_squared_error(y_test, y_pred, squared=False))\n",
    "print('Median absolute error MAD:', median_absolute_error(y_test, y_pred))"
   ]
  },
  {
   "cell_type": "code",
   "execution_count": 33,
   "metadata": {
    "colab": {
     "base_uri": "https://localhost:8080/"
    },
    "id": "glin8QFXtbNW",
    "outputId": "8199bc2d-07f4-4fc2-d4b1-1b460dc58c0d"
   },
   "outputs": [
    {
     "name": "stdout",
     "output_type": "stream",
     "text": [
      "MAX MAPE:  23.6 %.\n",
      "MAPE: 6.43 %.\n",
      "Accuracy: 93.57 %.\n"
     ]
    }
   ],
   "source": [
    "# Calculate mean absolute percentage error (MAPE)\n",
    "errors = abs(y_pred-y_test)\n",
    "mape = 100 * (errors / y_test) # Calculate and display accuracy\n",
    "accuracy = 100 - np.mean(mape)\n",
    "print('MAX MAPE: ', round(max(mape), 2), '%.')\n",
    "print('MAPE:', round(np.mean(mape), 2), '%.')\n",
    "print('Accuracy:', round(accuracy, 2), '%.')"
   ]
  },
  {
   "cell_type": "code",
   "execution_count": 34,
   "metadata": {
    "id": "PIoV_UUZt-Nf"
   },
   "outputs": [],
   "source": [
    "import csv\n",
    "with open('./measured_vs_predicted_Poly_dim3.csv', 'w', newline='') as file : \n",
    "    writer = csv.writer(file)\n",
    "    writer.writerow(['CNN_model', 'input_shape', 'model&shape', 'measured', 'predicted', 'absolute_deviation', 'MAPE'])\n",
    "    for i in range(0, len(y_pred)) :\n",
    "        f = ''+test_models[i]+'_'+test_input_shapes[i]\n",
    "        writer.writerow([test_models[i], test_input_shapes[i], f, y_test[i], y_pred[i],abs(y_pred[i]-y_test[i]), ((abs(y_pred[i]-y_test[i]))/y_test[i])*100])"
   ]
  },
  {
   "cell_type": "code",
   "execution_count": null,
   "metadata": {
    "id": "tNi7_jcfuRFP"
   },
   "outputs": [],
   "source": []
  }
 ],
 "metadata": {
  "colab": {
   "collapsed_sections": [],
   "name": "Nano_Poly_regression.ipynb",
   "provenance": []
  },
  "kernelspec": {
   "display_name": "Python 3",
   "language": "python",
   "name": "python3"
  },
  "language_info": {
   "codemirror_mode": {
    "name": "ipython",
    "version": 3
   },
   "file_extension": ".py",
   "mimetype": "text/x-python",
   "name": "python",
   "nbconvert_exporter": "python",
   "pygments_lexer": "ipython3",
   "version": "3.8.5"
  }
 },
 "nbformat": 4,
 "nbformat_minor": 1
}
