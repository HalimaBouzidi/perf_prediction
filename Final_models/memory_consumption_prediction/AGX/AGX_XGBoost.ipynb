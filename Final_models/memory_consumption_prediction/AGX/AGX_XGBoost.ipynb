{
 "cells": [
  {
   "cell_type": "code",
   "execution_count": 1,
   "metadata": {
    "id": "S-M_U2bE9EVT"
   },
   "outputs": [],
   "source": [
    "import numpy as np \n",
    "import pandas as pd\n",
    "import xgboost as xgb\n",
    "from sklearn.preprocessing import StandardScaler\n",
    "from sklearn.model_selection import train_test_split\n",
    "from sklearn.metrics import explained_variance_score\n",
    "from sklearn.metrics import r2_score\n",
    "from sklearn.metrics import median_absolute_error\n",
    "from sklearn.metrics import mean_absolute_error\n",
    "from sklearn.metrics import mean_squared_error\n",
    "from sklearn.model_selection import KFold\n",
    "from sklearn.model_selection import cross_val_score\n",
    "from sklearn.pipeline import Pipeline\n",
    "import seaborn as sns\n",
    "import matplotlib.pyplot as plt\n",
    "from matplotlib.ticker import PercentFormatter"
   ]
  },
  {
   "cell_type": "code",
   "execution_count": 27,
   "metadata": {
    "colab": {
     "base_uri": "https://localhost:8080/",
     "height": 292
    },
    "id": "dwXR3vtM9EXQ",
    "outputId": "fd065286-8fa6-41be-d656-fbe580ba6656"
   },
   "outputs": [
    {
     "data": {
      "text/html": [
       "<div>\n",
       "<style scoped>\n",
       "    .dataframe tbody tr th:only-of-type {\n",
       "        vertical-align: middle;\n",
       "    }\n",
       "\n",
       "    .dataframe tbody tr th {\n",
       "        vertical-align: top;\n",
       "    }\n",
       "\n",
       "    .dataframe thead th {\n",
       "        text-align: right;\n",
       "    }\n",
       "</style>\n",
       "<table border=\"1\" class=\"dataframe\">\n",
       "  <thead>\n",
       "    <tr style=\"text-align: right;\">\n",
       "      <th></th>\n",
       "      <th>Model_name</th>\n",
       "      <th>input_shape</th>\n",
       "      <th>memory</th>\n",
       "      <th>input_width</th>\n",
       "      <th>input_size</th>\n",
       "      <th>nb_layers</th>\n",
       "      <th>sum_activations</th>\n",
       "      <th>params</th>\n",
       "    </tr>\n",
       "  </thead>\n",
       "  <tbody>\n",
       "    <tr>\n",
       "      <th>153</th>\n",
       "      <td>basic_model_448_37</td>\n",
       "      <td>(1, 448, 448, 3)</td>\n",
       "      <td>2427.5</td>\n",
       "      <td>448</td>\n",
       "      <td>602112</td>\n",
       "      <td>62</td>\n",
       "      <td>190772012</td>\n",
       "      <td>9215748</td>\n",
       "    </tr>\n",
       "    <tr>\n",
       "      <th>154</th>\n",
       "      <td>basic_model_112_11</td>\n",
       "      <td>(1, 112, 112, 3)</td>\n",
       "      <td>2124.0</td>\n",
       "      <td>112</td>\n",
       "      <td>37632</td>\n",
       "      <td>22</td>\n",
       "      <td>5828752</td>\n",
       "      <td>4989982</td>\n",
       "    </tr>\n",
       "    <tr>\n",
       "      <th>155</th>\n",
       "      <td>basic_model_480_9</td>\n",
       "      <td>(1, 480, 480, 3)</td>\n",
       "      <td>2033.0</td>\n",
       "      <td>480</td>\n",
       "      <td>691200</td>\n",
       "      <td>19</td>\n",
       "      <td>34142880</td>\n",
       "      <td>2556232</td>\n",
       "    </tr>\n",
       "    <tr>\n",
       "      <th>156</th>\n",
       "      <td>basic_model_320_15</td>\n",
       "      <td>(1, 320, 320, 3)</td>\n",
       "      <td>1886.0</td>\n",
       "      <td>320</td>\n",
       "      <td>307200</td>\n",
       "      <td>30</td>\n",
       "      <td>23250476</td>\n",
       "      <td>1610240</td>\n",
       "    </tr>\n",
       "    <tr>\n",
       "      <th>157</th>\n",
       "      <td>basic_model_90_4</td>\n",
       "      <td>(1, 90, 90, 3)</td>\n",
       "      <td>1796.5</td>\n",
       "      <td>90</td>\n",
       "      <td>24300</td>\n",
       "      <td>9</td>\n",
       "      <td>6439860</td>\n",
       "      <td>453340</td>\n",
       "    </tr>\n",
       "  </tbody>\n",
       "</table>\n",
       "</div>"
      ],
      "text/plain": [
       "             Model_name       input_shape  memory  input_width  input_size  \\\n",
       "153  basic_model_448_37  (1, 448, 448, 3)  2427.5          448      602112   \n",
       "154  basic_model_112_11  (1, 112, 112, 3)  2124.0          112       37632   \n",
       "155   basic_model_480_9  (1, 480, 480, 3)  2033.0          480      691200   \n",
       "156  basic_model_320_15  (1, 320, 320, 3)  1886.0          320      307200   \n",
       "157    basic_model_90_4    (1, 90, 90, 3)  1796.5           90       24300   \n",
       "\n",
       "     nb_layers  sum_activations   params  \n",
       "153         62        190772012  9215748  \n",
       "154         22          5828752  4989982  \n",
       "155         19         34142880  2556232  \n",
       "156         30         23250476  1610240  \n",
       "157          9          6439860   453340  "
      ]
     },
     "execution_count": 27,
     "metadata": {},
     "output_type": "execute_result"
    }
   ],
   "source": [
    "# 1/ Training data :\n",
    "\n",
    "column_names = ['Model_name', 'input_shape', 'memory', 'input_width', 'input_size', 'nb_layers',\n",
    "                'sum_activations', 'params']\n",
    "raw_dataset = pd.read_csv('./data/training_dataset.csv', names=column_names,\n",
    "                      na_values = \"?\", comment='\\t', sep=\",\", skipinitialspace=True)\n",
    "train_dataset = raw_dataset.copy()\n",
    "train_dataset.isna().sum()\n",
    "train_dataset = train_dataset.dropna()\n",
    "train_dataset.tail()"
   ]
  },
  {
   "cell_type": "code",
   "execution_count": 49,
   "metadata": {
    "colab": {
     "base_uri": "https://localhost:8080/",
     "height": 309
    },
    "id": "t_rRLw829EYz",
    "outputId": "a53000ab-1061-4cfa-be5f-ef9f9bb075c6"
   },
   "outputs": [
    {
     "data": {
      "text/html": [
       "<div>\n",
       "<style scoped>\n",
       "    .dataframe tbody tr th:only-of-type {\n",
       "        vertical-align: middle;\n",
       "    }\n",
       "\n",
       "    .dataframe tbody tr th {\n",
       "        vertical-align: top;\n",
       "    }\n",
       "\n",
       "    .dataframe thead th {\n",
       "        text-align: right;\n",
       "    }\n",
       "</style>\n",
       "<table border=\"1\" class=\"dataframe\">\n",
       "  <thead>\n",
       "    <tr style=\"text-align: right;\">\n",
       "      <th></th>\n",
       "      <th>Model_name</th>\n",
       "      <th>input_shape</th>\n",
       "      <th>memory</th>\n",
       "      <th>input_width</th>\n",
       "      <th>input_size</th>\n",
       "      <th>nb_layers</th>\n",
       "      <th>sum_activations</th>\n",
       "      <th>params</th>\n",
       "    </tr>\n",
       "  </thead>\n",
       "  <tbody>\n",
       "    <tr>\n",
       "      <th>85</th>\n",
       "      <td>MNASNet1.0</td>\n",
       "      <td>(512, 512, 3)</td>\n",
       "      <td>2440.0</td>\n",
       "      <td>512</td>\n",
       "      <td>786432</td>\n",
       "      <td>153</td>\n",
       "      <td>85346408</td>\n",
       "      <td>4251760</td>\n",
       "    </tr>\n",
       "    <tr>\n",
       "      <th>86</th>\n",
       "      <td>MNASNet1.0</td>\n",
       "      <td>(720, 720, 3)</td>\n",
       "      <td>2210.0</td>\n",
       "      <td>720</td>\n",
       "      <td>1555200</td>\n",
       "      <td>153</td>\n",
       "      <td>169583288</td>\n",
       "      <td>4251760</td>\n",
       "    </tr>\n",
       "    <tr>\n",
       "      <th>87</th>\n",
       "      <td>EfficientNet-B4</td>\n",
       "      <td>(90, 90, 3)</td>\n",
       "      <td>3061.0</td>\n",
       "      <td>90</td>\n",
       "      <td>24300</td>\n",
       "      <td>470</td>\n",
       "      <td>10284484</td>\n",
       "      <td>19466816</td>\n",
       "    </tr>\n",
       "    <tr>\n",
       "      <th>88</th>\n",
       "      <td>EfficientNet-B4</td>\n",
       "      <td>(512, 512, 3)</td>\n",
       "      <td>3278.0</td>\n",
       "      <td>512</td>\n",
       "      <td>786432</td>\n",
       "      <td>470</td>\n",
       "      <td>305708296</td>\n",
       "      <td>19466816</td>\n",
       "    </tr>\n",
       "    <tr>\n",
       "      <th>89</th>\n",
       "      <td>EfficientNet-B4</td>\n",
       "      <td>(720, 720, 3)</td>\n",
       "      <td>3604.0</td>\n",
       "      <td>720</td>\n",
       "      <td>1555200</td>\n",
       "      <td>470</td>\n",
       "      <td>607426440</td>\n",
       "      <td>19466816</td>\n",
       "    </tr>\n",
       "  </tbody>\n",
       "</table>\n",
       "</div>"
      ],
      "text/plain": [
       "         Model_name    input_shape  memory  input_width  input_size  \\\n",
       "85       MNASNet1.0  (512, 512, 3)  2440.0          512      786432   \n",
       "86       MNASNet1.0  (720, 720, 3)  2210.0          720     1555200   \n",
       "87  EfficientNet-B4    (90, 90, 3)  3061.0           90       24300   \n",
       "88  EfficientNet-B4  (512, 512, 3)  3278.0          512      786432   \n",
       "89  EfficientNet-B4  (720, 720, 3)  3604.0          720     1555200   \n",
       "\n",
       "    nb_layers  sum_activations    params  \n",
       "85        153         85346408   4251760  \n",
       "86        153        169583288   4251760  \n",
       "87        470         10284484  19466816  \n",
       "88        470        305708296  19466816  \n",
       "89        470        607426440  19466816  "
      ]
     },
     "execution_count": 49,
     "metadata": {},
     "output_type": "execute_result"
    }
   ],
   "source": [
    "# 1/ Test data :\n",
    "\n",
    "column_names = ['Model_name', 'input_shape', 'memory', 'input_width', 'input_size', 'nb_layers',\n",
    "                'sum_activations', 'params']\n",
    "raw_dataset = pd.read_csv('./data/test_dim1.csv', names=column_names,\n",
    "                      na_values = \"?\", comment='\\t', sep=\",\", skipinitialspace=True)\n",
    "test_dataset = raw_dataset.copy()\n",
    "test_dataset.isna().sum()\n",
    "test_dataset = test_dataset.dropna()\n",
    "test_dataset.tail()"
   ]
  },
  {
   "cell_type": "code",
   "execution_count": 29,
   "metadata": {
    "colab": {
     "base_uri": "https://localhost:8080/"
    },
    "id": "XdWATICk9EaT",
    "outputId": "97963725-f4f3-422a-f9aa-f89be9934080"
   },
   "outputs": [
    {
     "data": {
      "text/plain": [
       "0       448\n",
       "1      1792\n",
       "2       299\n",
       "3      1792\n",
       "4       299\n",
       "       ... \n",
       "153     448\n",
       "154     112\n",
       "155     480\n",
       "156     320\n",
       "157      90\n",
       "Name: input_width, Length: 158, dtype: int64"
      ]
     },
     "execution_count": 29,
     "metadata": {},
     "output_type": "execute_result"
    }
   ],
   "source": [
    "train_dataset.pop('input_width')"
   ]
  },
  {
   "cell_type": "code",
   "execution_count": 50,
   "metadata": {},
   "outputs": [
    {
     "data": {
      "text/plain": [
       "0      90\n",
       "1     512\n",
       "2     720\n",
       "3      90\n",
       "4     512\n",
       "     ... \n",
       "85    512\n",
       "86    720\n",
       "87     90\n",
       "88    512\n",
       "89    720\n",
       "Name: input_width, Length: 90, dtype: int64"
      ]
     },
     "execution_count": 50,
     "metadata": {},
     "output_type": "execute_result"
    }
   ],
   "source": [
    "test_dataset.pop('input_width')"
   ]
  },
  {
   "cell_type": "code",
   "execution_count": 31,
   "metadata": {
    "id": "74Hl1e-HlfK0"
   },
   "outputs": [],
   "source": [
    "Y = train_dataset.pop('memory')\n",
    "X = train_dataset\n",
    "Y_f = Y\n",
    "X_f = X"
   ]
  },
  {
   "cell_type": "code",
   "execution_count": 32,
   "metadata": {
    "colab": {
     "base_uri": "https://localhost:8080/",
     "height": 202
    },
    "id": "H7OHcOwRYItk",
    "outputId": "bc983162-7727-4eb9-a6a5-c12abf0087c8"
   },
   "outputs": [
    {
     "data": {
      "text/html": [
       "<div>\n",
       "<style scoped>\n",
       "    .dataframe tbody tr th:only-of-type {\n",
       "        vertical-align: middle;\n",
       "    }\n",
       "\n",
       "    .dataframe tbody tr th {\n",
       "        vertical-align: top;\n",
       "    }\n",
       "\n",
       "    .dataframe thead th {\n",
       "        text-align: right;\n",
       "    }\n",
       "</style>\n",
       "<table border=\"1\" class=\"dataframe\">\n",
       "  <thead>\n",
       "    <tr style=\"text-align: right;\">\n",
       "      <th></th>\n",
       "      <th>Model_name</th>\n",
       "      <th>input_shape</th>\n",
       "      <th>input_size</th>\n",
       "      <th>nb_layers</th>\n",
       "      <th>sum_activations</th>\n",
       "      <th>params</th>\n",
       "    </tr>\n",
       "  </thead>\n",
       "  <tbody>\n",
       "    <tr>\n",
       "      <th>153</th>\n",
       "      <td>basic_model_448_37</td>\n",
       "      <td>(1, 448, 448, 3)</td>\n",
       "      <td>602112</td>\n",
       "      <td>62</td>\n",
       "      <td>190772012</td>\n",
       "      <td>9215748</td>\n",
       "    </tr>\n",
       "    <tr>\n",
       "      <th>154</th>\n",
       "      <td>basic_model_112_11</td>\n",
       "      <td>(1, 112, 112, 3)</td>\n",
       "      <td>37632</td>\n",
       "      <td>22</td>\n",
       "      <td>5828752</td>\n",
       "      <td>4989982</td>\n",
       "    </tr>\n",
       "    <tr>\n",
       "      <th>155</th>\n",
       "      <td>basic_model_480_9</td>\n",
       "      <td>(1, 480, 480, 3)</td>\n",
       "      <td>691200</td>\n",
       "      <td>19</td>\n",
       "      <td>34142880</td>\n",
       "      <td>2556232</td>\n",
       "    </tr>\n",
       "    <tr>\n",
       "      <th>156</th>\n",
       "      <td>basic_model_320_15</td>\n",
       "      <td>(1, 320, 320, 3)</td>\n",
       "      <td>307200</td>\n",
       "      <td>30</td>\n",
       "      <td>23250476</td>\n",
       "      <td>1610240</td>\n",
       "    </tr>\n",
       "    <tr>\n",
       "      <th>157</th>\n",
       "      <td>basic_model_90_4</td>\n",
       "      <td>(1, 90, 90, 3)</td>\n",
       "      <td>24300</td>\n",
       "      <td>9</td>\n",
       "      <td>6439860</td>\n",
       "      <td>453340</td>\n",
       "    </tr>\n",
       "  </tbody>\n",
       "</table>\n",
       "</div>"
      ],
      "text/plain": [
       "             Model_name       input_shape  input_size  nb_layers  \\\n",
       "153  basic_model_448_37  (1, 448, 448, 3)      602112         62   \n",
       "154  basic_model_112_11  (1, 112, 112, 3)       37632         22   \n",
       "155   basic_model_480_9  (1, 480, 480, 3)      691200         19   \n",
       "156  basic_model_320_15  (1, 320, 320, 3)      307200         30   \n",
       "157    basic_model_90_4    (1, 90, 90, 3)       24300          9   \n",
       "\n",
       "     sum_activations   params  \n",
       "153        190772012  9215748  \n",
       "154          5828752  4989982  \n",
       "155         34142880  2556232  \n",
       "156         23250476  1610240  \n",
       "157          6439860   453340  "
      ]
     },
     "execution_count": 32,
     "metadata": {},
     "output_type": "execute_result"
    }
   ],
   "source": [
    "X.tail()"
   ]
  },
  {
   "cell_type": "code",
   "execution_count": 33,
   "metadata": {
    "id": "Z7D6nOv49Ec7"
   },
   "outputs": [],
   "source": [
    "X_train, X_test, y_train, y_test = train_test_split(X,Y,test_size=0.001, random_state=42, shuffle=True)"
   ]
  },
  {
   "cell_type": "code",
   "execution_count": 34,
   "metadata": {
    "id": "KdSNzFzg9Ed9"
   },
   "outputs": [],
   "source": [
    "X_train_model_names = X_train.pop('Model_name')\n",
    "X_train_input_shapes = X_train.pop('input_shape')"
   ]
  },
  {
   "cell_type": "code",
   "execution_count": 35,
   "metadata": {
    "id": "a-0Za44glfQm"
   },
   "outputs": [],
   "source": [
    "X_test_model_names = X_test.pop('Model_name')\n",
    "X_test_input_shapes = X_test.pop('input_shape')"
   ]
  },
  {
   "cell_type": "code",
   "execution_count": 36,
   "metadata": {
    "id": "GQUsXh28sZjV"
   },
   "outputs": [],
   "source": [
    "X_f_model_names = X_f.pop('Model_name')\n",
    "X_f_input_shapes = X_f.pop('input_shape')\n",
    "dtrain_f = xgb.DMatrix(X_f, label=Y_f)"
   ]
  },
  {
   "cell_type": "code",
   "execution_count": 37,
   "metadata": {
    "id": "I3TAHLXH9Eey"
   },
   "outputs": [],
   "source": [
    "dtrain = xgb.DMatrix(X_train, label=y_train)\n",
    "dtest = xgb.DMatrix(X_test, label=y_test)"
   ]
  },
  {
   "cell_type": "code",
   "execution_count": 51,
   "metadata": {
    "id": "hdGkObaO9Efs"
   },
   "outputs": [],
   "source": [
    "Y_e = test_dataset.pop('memory')\n",
    "X_e = test_dataset\n",
    "X_e.tail()\n",
    "X_test_e_model_names = X_e.pop('Model_name')\n",
    "X_test_e_input_shapes = X_e.pop('input_shape')\n",
    "dtest_e = xgb.DMatrix(X_e, label=Y_e)"
   ]
  },
  {
   "cell_type": "code",
   "execution_count": 39,
   "metadata": {
    "id": "95BbRrkL9Eio"
   },
   "outputs": [],
   "source": [
    "params = {\n",
    "    # Parameters that we are going to tune.\n",
    "    'max_depth':16,\n",
    "    'min_child_weight': 5,\n",
    "    'eta':.05,\n",
    "    'subsample': .8,\n",
    "    'colsample_bytree': 1,\n",
    "    'gamma' : 0.5,\n",
    "    # Other parameters\n",
    "    'objective':'reg:squarederror',\n",
    "}"
   ]
  },
  {
   "cell_type": "code",
   "execution_count": 40,
   "metadata": {
    "id": "KpZN-eKw9Eju"
   },
   "outputs": [],
   "source": [
    "params['eval_metric'] = \"rmse\"\n",
    "num_boost_round = 3000"
   ]
  },
  {
   "cell_type": "code",
   "execution_count": 41,
   "metadata": {
    "colab": {
     "base_uri": "https://localhost:8080/"
    },
    "id": "TSgKJuup9Eks",
    "outputId": "c51ed895-9276-4bed-d609-8459ce272dc2"
   },
   "outputs": [
    {
     "name": "stdout",
     "output_type": "stream",
     "text": [
      "{'max_depth': 16, 'min_child_weight': 5, 'eta': 0.05, 'subsample': 0.8, 'colsample_bytree': 1, 'gamma': 0.5, 'objective': 'reg:squarederror', 'eval_metric': 'rmse'}\n"
     ]
    }
   ],
   "source": [
    "print(params)"
   ]
  },
  {
   "cell_type": "code",
   "execution_count": 42,
   "metadata": {
    "colab": {
     "base_uri": "https://localhost:8080/"
    },
    "id": "ZJRGqqW_EuRL",
    "outputId": "01150941-8f2c-41dd-fcba-ec7f230ff7df"
   },
   "outputs": [],
   "source": [
    "num_boost_round = 93\n",
    "best_model = xgb.train( \n",
    "    params,\n",
    "    dtrain_f,\n",
    "    num_boost_round=num_boost_round,\n",
    ")"
   ]
  },
  {
   "cell_type": "code",
   "execution_count": 43,
   "metadata": {
    "id": "QE8TYO9u9Eyj"
   },
   "outputs": [],
   "source": [
    "#best_model.save_model(\"model_16-04.model\")\n",
    "loaded_model = best_model"
   ]
  },
  {
   "cell_type": "code",
   "execution_count": 52,
   "metadata": {
    "id": "0sF9Ee4WlfmS"
   },
   "outputs": [],
   "source": [
    "y_pred = loaded_model.predict(dtest_e)\n",
    "y_test = Y_e.values"
   ]
  },
  {
   "cell_type": "code",
   "execution_count": 53,
   "metadata": {
    "colab": {
     "base_uri": "https://localhost:8080/"
    },
    "id": "AksIf4TQcquE",
    "outputId": "191f0e2a-93fd-4127-b08a-a2eaff1f1ded"
   },
   "outputs": [
    {
     "name": "stdout",
     "output_type": "stream",
     "text": [
      "Explained variance :  0.9851127105578017\n",
      "R2_value :  0.984886433092004\n",
      "Mean absolute error MAE : 125.20166422526042\n",
      "Root Mean squared error RMSE : 157.31290220913914\n",
      "Median absolute error MAD: 104.474609375\n"
     ]
    }
   ],
   "source": [
    "print('Explained variance : ',explained_variance_score(y_test, y_pred))\n",
    "print('R2_value : ',r2_score(y_test, y_pred))\n",
    "print('Mean absolute error MAE :', mean_absolute_error(y_test, y_pred))\n",
    "print('Root Mean squared error RMSE :', mean_squared_error(y_test, y_pred, squared=False))\n",
    "print('Median absolute error MAD:', median_absolute_error(y_test, y_pred))"
   ]
  },
  {
   "cell_type": "code",
   "execution_count": 54,
   "metadata": {
    "colab": {
     "base_uri": "https://localhost:8080/"
    },
    "id": "eVg6ssE7K10p",
    "outputId": "07b834a2-fe87-4758-cff5-4c7d3ddc17e9"
   },
   "outputs": [
    {
     "name": "stdout",
     "output_type": "stream",
     "text": [
      "MAX MAPE : 20.673723118279568\n",
      "MAPE: 4.1 %.\n",
      "Accuracy: 95.9 %.\n"
     ]
    }
   ],
   "source": [
    "# Calculate mean absolute percentage error (MAPE)\n",
    "errors = abs(y_pred-y_test)\n",
    "mape = 100 * (errors / y_test) # Calculate and display accuracy\n",
    "accuracy = 100 - np.mean(mape)\n",
    "print('MAX MAPE :', max(mape))\n",
    "print('MAPE:', round(np.mean(mape), 2), '%.')\n",
    "print('Accuracy:', round(accuracy, 2), '%.')"
   ]
  },
  {
   "cell_type": "code",
   "execution_count": 55,
   "metadata": {},
   "outputs": [],
   "source": [
    "test_models = X_test_e_model_names.values\n",
    "test_input_shapes = X_test_e_input_shapes.values"
   ]
  },
  {
   "cell_type": "code",
   "execution_count": 56,
   "metadata": {
    "id": "6tPpvk-CukEG"
   },
   "outputs": [],
   "source": [
    "import csv\n",
    "with open('./measured_vs_predicted_XGBoost_dim1.csv', 'w', newline='') as file : \n",
    "    writer = csv.writer(file)\n",
    "    writer.writerow(['CNN_model', 'input_shape', 'model&shape', 'measured', 'predicted', 'absolute_deviation', 'MAPE (in %)'])\n",
    "    for i in range(0, len(y_pred)) :\n",
    "        f = ''+test_models[i]+'_'+test_input_shapes[i]\n",
    "        writer.writerow([test_models[i], test_input_shapes[i], f, y_test[i], y_pred[i],abs(y_pred[i]-y_test[i]), ((abs(y_pred[i]-y_test[i]))/y_test[i])*100])"
   ]
  },
  {
   "cell_type": "code",
   "execution_count": null,
   "metadata": {},
   "outputs": [],
   "source": []
  }
 ],
 "metadata": {
  "colab": {
   "collapsed_sections": [],
   "name": "AGX_XGBoost_Regressor.ipynb",
   "provenance": []
  },
  "kernelspec": {
   "display_name": "Python 3",
   "language": "python",
   "name": "python3"
  },
  "language_info": {
   "codemirror_mode": {
    "name": "ipython",
    "version": 3
   },
   "file_extension": ".py",
   "mimetype": "text/x-python",
   "name": "python",
   "nbconvert_exporter": "python",
   "pygments_lexer": "ipython3",
   "version": "3.8.5"
  }
 },
 "nbformat": 4,
 "nbformat_minor": 1
}
