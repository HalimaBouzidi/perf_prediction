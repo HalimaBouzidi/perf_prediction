{
 "cells": [
  {
   "cell_type": "code",
   "execution_count": 14,
   "metadata": {
    "colab": {},
    "colab_type": "code",
    "id": "0URJFqhxFp00"
   },
   "outputs": [],
   "source": [
    "import numpy as np \n",
    "import pandas as pd\n",
    "from sklearn.svm import SVR\n",
    "from sklearn.preprocessing import StandardScaler\n",
    "from sklearn.model_selection import train_test_split, GridSearchCV \n",
    "from sklearn.metrics import explained_variance_score\n",
    "from sklearn.metrics import r2_score\n",
    "from sklearn.metrics import median_absolute_error\n",
    "from sklearn.metrics import mean_absolute_error\n",
    "from sklearn.pipeline import Pipeline\n",
    "import seaborn as sns\n",
    "import matplotlib.pyplot as plt"
   ]
  },
  {
   "cell_type": "code",
   "execution_count": 37,
   "metadata": {
    "colab": {
     "base_uri": "https://localhost:8080/",
     "height": 226
    },
    "colab_type": "code",
    "id": "0BfIu6SlFp2W",
    "outputId": "c05a4b7f-a5ff-4c17-bb9a-ffd92f1879f3"
   },
   "outputs": [
    {
     "data": {
      "text/html": [
       "<div>\n",
       "<style scoped>\n",
       "    .dataframe tbody tr th:only-of-type {\n",
       "        vertical-align: middle;\n",
       "    }\n",
       "\n",
       "    .dataframe tbody tr th {\n",
       "        vertical-align: top;\n",
       "    }\n",
       "\n",
       "    .dataframe thead th {\n",
       "        text-align: right;\n",
       "    }\n",
       "</style>\n",
       "<table border=\"1\" class=\"dataframe\">\n",
       "  <thead>\n",
       "    <tr style=\"text-align: right;\">\n",
       "      <th></th>\n",
       "      <th>Model_name</th>\n",
       "      <th>input_shape</th>\n",
       "      <th>ACET</th>\n",
       "      <th>input_width</th>\n",
       "      <th>input_size</th>\n",
       "      <th>model_size</th>\n",
       "      <th>nb_params_no_fc</th>\n",
       "      <th>nb_params_fc</th>\n",
       "      <th>flops</th>\n",
       "      <th>nb_layers</th>\n",
       "      <th>nb_conv_layers</th>\n",
       "      <th>nb_fc_layers</th>\n",
       "      <th>sum_activations</th>\n",
       "      <th>weighted_sum_neurones</th>\n",
       "    </tr>\n",
       "  </thead>\n",
       "  <tbody>\n",
       "    <tr>\n",
       "      <th>1521</th>\n",
       "      <td>DPN-137</td>\n",
       "      <td>(1, 480, 480, 3)</td>\n",
       "      <td>236.347517</td>\n",
       "      <td>480</td>\n",
       "      <td>691200</td>\n",
       "      <td>319.7</td>\n",
       "      <td>76725504</td>\n",
       "      <td>2688000</td>\n",
       "      <td>147429883398</td>\n",
       "      <td>4072</td>\n",
       "      <td>1811</td>\n",
       "      <td>1</td>\n",
       "      <td>761714152</td>\n",
       "      <td>74962944000</td>\n",
       "    </tr>\n",
       "    <tr>\n",
       "      <th>1522</th>\n",
       "      <td>DPN-137</td>\n",
       "      <td>(1, 568, 568, 3)</td>\n",
       "      <td>306.702618</td>\n",
       "      <td>568</td>\n",
       "      <td>967872</td>\n",
       "      <td>319.7</td>\n",
       "      <td>76725504</td>\n",
       "      <td>2688000</td>\n",
       "      <td>210363824006</td>\n",
       "      <td>4072</td>\n",
       "      <td>1811</td>\n",
       "      <td>1</td>\n",
       "      <td>1079996072</td>\n",
       "      <td>107007131648</td>\n",
       "    </tr>\n",
       "    <tr>\n",
       "      <th>1523</th>\n",
       "      <td>DPN-137</td>\n",
       "      <td>(1, 600, 600, 3)</td>\n",
       "      <td>331.850612</td>\n",
       "      <td>600</td>\n",
       "      <td>1080000</td>\n",
       "      <td>319.7</td>\n",
       "      <td>76725504</td>\n",
       "      <td>2688000</td>\n",
       "      <td>234455319558</td>\n",
       "      <td>4072</td>\n",
       "      <td>1811</td>\n",
       "      <td>1</td>\n",
       "      <td>1204310184</td>\n",
       "      <td>119281811456</td>\n",
       "    </tr>\n",
       "    <tr>\n",
       "      <th>1524</th>\n",
       "      <td>DPN-137</td>\n",
       "      <td>(1, 800, 800, 3)</td>\n",
       "      <td>520.859203</td>\n",
       "      <td>800</td>\n",
       "      <td>1920000</td>\n",
       "      <td>319.7</td>\n",
       "      <td>76725504</td>\n",
       "      <td>2688000</td>\n",
       "      <td>408964654598</td>\n",
       "      <td>4072</td>\n",
       "      <td>1811</td>\n",
       "      <td>1</td>\n",
       "      <td>2115851752</td>\n",
       "      <td>208230400000</td>\n",
       "    </tr>\n",
       "    <tr>\n",
       "      <th>1525</th>\n",
       "      <td>DPN-137</td>\n",
       "      <td>(1, 896, 896, 3)</td>\n",
       "      <td>650.251626</td>\n",
       "      <td>896</td>\n",
       "      <td>2408448</td>\n",
       "      <td>319.7</td>\n",
       "      <td>76725504</td>\n",
       "      <td>2688000</td>\n",
       "      <td>512924726150</td>\n",
       "      <td>4072</td>\n",
       "      <td>1811</td>\n",
       "      <td>1</td>\n",
       "      <td>2654121448</td>\n",
       "      <td>261204213760</td>\n",
       "    </tr>\n",
       "  </tbody>\n",
       "</table>\n",
       "</div>"
      ],
      "text/plain": [
       "     Model_name       input_shape        ACET  input_width  input_size  \\\n",
       "1521    DPN-137  (1, 480, 480, 3)  236.347517          480      691200   \n",
       "1522    DPN-137  (1, 568, 568, 3)  306.702618          568      967872   \n",
       "1523    DPN-137  (1, 600, 600, 3)  331.850612          600     1080000   \n",
       "1524    DPN-137  (1, 800, 800, 3)  520.859203          800     1920000   \n",
       "1525    DPN-137  (1, 896, 896, 3)  650.251626          896     2408448   \n",
       "\n",
       "      model_size  nb_params_no_fc  nb_params_fc         flops  nb_layers  \\\n",
       "1521       319.7         76725504       2688000  147429883398       4072   \n",
       "1522       319.7         76725504       2688000  210363824006       4072   \n",
       "1523       319.7         76725504       2688000  234455319558       4072   \n",
       "1524       319.7         76725504       2688000  408964654598       4072   \n",
       "1525       319.7         76725504       2688000  512924726150       4072   \n",
       "\n",
       "      nb_conv_layers  nb_fc_layers  sum_activations  weighted_sum_neurones  \n",
       "1521            1811             1        761714152            74962944000  \n",
       "1522            1811             1       1079996072           107007131648  \n",
       "1523            1811             1       1204310184           119281811456  \n",
       "1524            1811             1       2115851752           208230400000  \n",
       "1525            1811             1       2654121448           261204213760  "
      ]
     },
     "execution_count": 37,
     "metadata": {},
     "output_type": "execute_result"
    }
   ],
   "source": [
    "# 1/ Training data :\n",
    "\n",
    "column_names = ['Model_name', 'input_shape', 'ACET', 'input_width', 'input_size', 'model_size', 'nb_params_no_fc', \n",
    "                'nb_params_fc', 'flops', 'nb_layers', 'nb_conv_layers', 'nb_fc_layers', \n",
    "                'sum_activations', 'weighted_sum_neurones']\n",
    "raw_dataset = pd.read_csv('./training_dataset.csv', names=column_names,\n",
    "                      na_values = \"?\", comment='\\t', sep=\",\", skipinitialspace=True)\n",
    "train_dataset = raw_dataset.copy()\n",
    "train_dataset.isna().sum()\n",
    "train_dataset = train_dataset.dropna()\n",
    "train_dataset.tail()"
   ]
  },
  {
   "cell_type": "code",
   "execution_count": 91,
   "metadata": {
    "colab": {
     "base_uri": "https://localhost:8080/",
     "height": 313
    },
    "colab_type": "code",
    "id": "k3DPnDyaaBgI",
    "outputId": "04d5c312-ae9f-4e39-d3ed-aa808fafe98e"
   },
   "outputs": [
    {
     "data": {
      "text/html": [
       "<div>\n",
       "<style scoped>\n",
       "    .dataframe tbody tr th:only-of-type {\n",
       "        vertical-align: middle;\n",
       "    }\n",
       "\n",
       "    .dataframe tbody tr th {\n",
       "        vertical-align: top;\n",
       "    }\n",
       "\n",
       "    .dataframe thead th {\n",
       "        text-align: right;\n",
       "    }\n",
       "</style>\n",
       "<table border=\"1\" class=\"dataframe\">\n",
       "  <thead>\n",
       "    <tr style=\"text-align: right;\">\n",
       "      <th></th>\n",
       "      <th>Model_name</th>\n",
       "      <th>input_shape</th>\n",
       "      <th>ACET</th>\n",
       "      <th>input_width</th>\n",
       "      <th>input_size</th>\n",
       "      <th>model_size</th>\n",
       "      <th>nb_params_no_fc</th>\n",
       "      <th>nb_params_fc</th>\n",
       "      <th>flops</th>\n",
       "      <th>nb_layers</th>\n",
       "      <th>nb_conv_layers</th>\n",
       "      <th>nb_fc_layers</th>\n",
       "      <th>sum_activations</th>\n",
       "      <th>weighted_sum_neurones</th>\n",
       "    </tr>\n",
       "  </thead>\n",
       "  <tbody>\n",
       "    <tr>\n",
       "      <th>19</th>\n",
       "      <td>NASNet-Mobile</td>\n",
       "      <td>(1, 331, 331, 3)</td>\n",
       "      <td>16.397280</td>\n",
       "      <td>331</td>\n",
       "      <td>328683</td>\n",
       "      <td>22.2</td>\n",
       "      <td>4269716</td>\n",
       "      <td>1057000</td>\n",
       "      <td>2629916665</td>\n",
       "      <td>771</td>\n",
       "      <td>196</td>\n",
       "      <td>1</td>\n",
       "      <td>62189815</td>\n",
       "      <td>9731133896</td>\n",
       "    </tr>\n",
       "    <tr>\n",
       "      <th>20</th>\n",
       "      <td>NASNet-Large</td>\n",
       "      <td>(1, 64, 64, 3)</td>\n",
       "      <td>49.317171</td>\n",
       "      <td>64</td>\n",
       "      <td>12288</td>\n",
       "      <td>357.0</td>\n",
       "      <td>84916818</td>\n",
       "      <td>4033000</td>\n",
       "      <td>1868148675</td>\n",
       "      <td>1041</td>\n",
       "      <td>268</td>\n",
       "      <td>1</td>\n",
       "      <td>10813366</td>\n",
       "      <td>6709743072</td>\n",
       "    </tr>\n",
       "    <tr>\n",
       "      <th>21</th>\n",
       "      <td>NASNet-Large</td>\n",
       "      <td>(1, 128, 128, 3)</td>\n",
       "      <td>53.963382</td>\n",
       "      <td>128</td>\n",
       "      <td>49152</td>\n",
       "      <td>357.0</td>\n",
       "      <td>84916818</td>\n",
       "      <td>4033000</td>\n",
       "      <td>6917229891</td>\n",
       "      <td>1041</td>\n",
       "      <td>268</td>\n",
       "      <td>1</td>\n",
       "      <td>42382774</td>\n",
       "      <td>26839800288</td>\n",
       "    </tr>\n",
       "    <tr>\n",
       "      <th>22</th>\n",
       "      <td>NASNet-Large</td>\n",
       "      <td>(1, 256, 256, 3)</td>\n",
       "      <td>80.010125</td>\n",
       "      <td>256</td>\n",
       "      <td>196608</td>\n",
       "      <td>357.0</td>\n",
       "      <td>84916818</td>\n",
       "      <td>4033000</td>\n",
       "      <td>27115250499</td>\n",
       "      <td>1041</td>\n",
       "      <td>268</td>\n",
       "      <td>1</td>\n",
       "      <td>168061366</td>\n",
       "      <td>107360877024</td>\n",
       "    </tr>\n",
       "    <tr>\n",
       "      <th>23</th>\n",
       "      <td>NASNet-Large</td>\n",
       "      <td>(1, 331, 331, 3)</td>\n",
       "      <td>110.658881</td>\n",
       "      <td>331</td>\n",
       "      <td>328683</td>\n",
       "      <td>357.0</td>\n",
       "      <td>84916818</td>\n",
       "      <td>4033000</td>\n",
       "      <td>47876527473</td>\n",
       "      <td>1041</td>\n",
       "      <td>268</td>\n",
       "      <td>1</td>\n",
       "      <td>290560171</td>\n",
       "      <td>191031310656</td>\n",
       "    </tr>\n",
       "  </tbody>\n",
       "</table>\n",
       "</div>"
      ],
      "text/plain": [
       "       Model_name       input_shape        ACET  input_width  input_size  \\\n",
       "19  NASNet-Mobile  (1, 331, 331, 3)   16.397280          331      328683   \n",
       "20   NASNet-Large    (1, 64, 64, 3)   49.317171           64       12288   \n",
       "21   NASNet-Large  (1, 128, 128, 3)   53.963382          128       49152   \n",
       "22   NASNet-Large  (1, 256, 256, 3)   80.010125          256      196608   \n",
       "23   NASNet-Large  (1, 331, 331, 3)  110.658881          331      328683   \n",
       "\n",
       "    model_size  nb_params_no_fc  nb_params_fc        flops  nb_layers  \\\n",
       "19        22.2          4269716       1057000   2629916665        771   \n",
       "20       357.0         84916818       4033000   1868148675       1041   \n",
       "21       357.0         84916818       4033000   6917229891       1041   \n",
       "22       357.0         84916818       4033000  27115250499       1041   \n",
       "23       357.0         84916818       4033000  47876527473       1041   \n",
       "\n",
       "    nb_conv_layers  nb_fc_layers  sum_activations  weighted_sum_neurones  \n",
       "19             196             1         62189815             9731133896  \n",
       "20             268             1         10813366             6709743072  \n",
       "21             268             1         42382774            26839800288  \n",
       "22             268             1        168061366           107360877024  \n",
       "23             268             1        290560171           191031310656  "
      ]
     },
     "execution_count": 91,
     "metadata": {},
     "output_type": "execute_result"
    }
   ],
   "source": [
    "# 1/ Test data :\n",
    "\n",
    "column_names = ['Model_name', 'input_shape', 'ACET', 'input_width', 'input_size', 'model_size', 'nb_params_no_fc', \n",
    "                'nb_params_fc', 'flops', 'nb_layers', 'nb_conv_layers', 'nb_fc_layers', \n",
    "                'sum_activations', 'weighted_sum_neurones']\n",
    "raw_dataset = pd.read_csv('./test_dim3.csv', names=column_names,\n",
    "                      na_values = \"?\", comment='\\t', sep=\",\", skipinitialspace=True)\n",
    "test_dataset = raw_dataset.copy()\n",
    "test_dataset.isna().sum()\n",
    "test_dataset = test_dataset.dropna()\n",
    "test_dataset.tail()"
   ]
  },
  {
   "cell_type": "code",
   "execution_count": 39,
   "metadata": {},
   "outputs": [
    {
     "data": {
      "text/plain": [
       "0             0\n",
       "1             0\n",
       "2             0\n",
       "3             0\n",
       "4             0\n",
       "         ...   \n",
       "1521    2688000\n",
       "1522    2688000\n",
       "1523    2688000\n",
       "1524    2688000\n",
       "1525    2688000\n",
       "Name: nb_params_fc, Length: 1526, dtype: int64"
      ]
     },
     "execution_count": 39,
     "metadata": {},
     "output_type": "execute_result"
    }
   ],
   "source": [
    "# We eliminate the model size cuz it's highly correlated with the nb of params, its presence will only increase \n",
    "# the variance of the model and therefore decrease the model performance\n",
    "train_dataset.pop('input_width')\n",
    "train_dataset.pop('model_size')\n",
    "train_dataset.pop('nb_fc_layers')\n",
    "train_dataset.pop('nb_params_fc')"
   ]
  },
  {
   "cell_type": "code",
   "execution_count": 92,
   "metadata": {
    "colab": {
     "base_uri": "https://localhost:8080/",
     "height": 225
    },
    "colab_type": "code",
    "id": "MCQ8e2esaGt4",
    "outputId": "7be6fff6-154f-4789-e46c-99fa6614c741"
   },
   "outputs": [
    {
     "data": {
      "text/plain": [
       "0             0\n",
       "1             0\n",
       "2             0\n",
       "3             0\n",
       "4             0\n",
       "5             0\n",
       "6             0\n",
       "7             0\n",
       "8             0\n",
       "9             0\n",
       "10            0\n",
       "11     54436840\n",
       "12    155100136\n",
       "13     29271016\n",
       "14     54436840\n",
       "15    155100136\n",
       "16      1057000\n",
       "17      1057000\n",
       "18      1057000\n",
       "19      1057000\n",
       "20      4033000\n",
       "21      4033000\n",
       "22      4033000\n",
       "23      4033000\n",
       "Name: nb_params_fc, dtype: int64"
      ]
     },
     "execution_count": 92,
     "metadata": {},
     "output_type": "execute_result"
    }
   ],
   "source": [
    "test_dataset.pop('input_width')\n",
    "test_dataset.pop('model_size')\n",
    "test_dataset.pop('nb_fc_layers')\n",
    "test_dataset.pop('nb_params_fc')"
   ]
  },
  {
   "cell_type": "code",
   "execution_count": 41,
   "metadata": {
    "colab": {},
    "colab_type": "code",
    "id": "uk7JIy7zaJyK"
   },
   "outputs": [
    {
     "data": {
      "text/html": [
       "<div>\n",
       "<style scoped>\n",
       "    .dataframe tbody tr th:only-of-type {\n",
       "        vertical-align: middle;\n",
       "    }\n",
       "\n",
       "    .dataframe tbody tr th {\n",
       "        vertical-align: top;\n",
       "    }\n",
       "\n",
       "    .dataframe thead th {\n",
       "        text-align: right;\n",
       "    }\n",
       "</style>\n",
       "<table border=\"1\" class=\"dataframe\">\n",
       "  <thead>\n",
       "    <tr style=\"text-align: right;\">\n",
       "      <th></th>\n",
       "      <th>Model_name</th>\n",
       "      <th>input_shape</th>\n",
       "      <th>input_size</th>\n",
       "      <th>nb_params_no_fc</th>\n",
       "      <th>flops</th>\n",
       "      <th>nb_layers</th>\n",
       "      <th>nb_conv_layers</th>\n",
       "      <th>sum_activations</th>\n",
       "      <th>weighted_sum_neurones</th>\n",
       "    </tr>\n",
       "  </thead>\n",
       "  <tbody>\n",
       "    <tr>\n",
       "      <th>1521</th>\n",
       "      <td>DPN-137</td>\n",
       "      <td>(1, 480, 480, 3)</td>\n",
       "      <td>691200</td>\n",
       "      <td>76725504</td>\n",
       "      <td>147429883398</td>\n",
       "      <td>4072</td>\n",
       "      <td>1811</td>\n",
       "      <td>761714152</td>\n",
       "      <td>74962944000</td>\n",
       "    </tr>\n",
       "    <tr>\n",
       "      <th>1522</th>\n",
       "      <td>DPN-137</td>\n",
       "      <td>(1, 568, 568, 3)</td>\n",
       "      <td>967872</td>\n",
       "      <td>76725504</td>\n",
       "      <td>210363824006</td>\n",
       "      <td>4072</td>\n",
       "      <td>1811</td>\n",
       "      <td>1079996072</td>\n",
       "      <td>107007131648</td>\n",
       "    </tr>\n",
       "    <tr>\n",
       "      <th>1523</th>\n",
       "      <td>DPN-137</td>\n",
       "      <td>(1, 600, 600, 3)</td>\n",
       "      <td>1080000</td>\n",
       "      <td>76725504</td>\n",
       "      <td>234455319558</td>\n",
       "      <td>4072</td>\n",
       "      <td>1811</td>\n",
       "      <td>1204310184</td>\n",
       "      <td>119281811456</td>\n",
       "    </tr>\n",
       "    <tr>\n",
       "      <th>1524</th>\n",
       "      <td>DPN-137</td>\n",
       "      <td>(1, 800, 800, 3)</td>\n",
       "      <td>1920000</td>\n",
       "      <td>76725504</td>\n",
       "      <td>408964654598</td>\n",
       "      <td>4072</td>\n",
       "      <td>1811</td>\n",
       "      <td>2115851752</td>\n",
       "      <td>208230400000</td>\n",
       "    </tr>\n",
       "    <tr>\n",
       "      <th>1525</th>\n",
       "      <td>DPN-137</td>\n",
       "      <td>(1, 896, 896, 3)</td>\n",
       "      <td>2408448</td>\n",
       "      <td>76725504</td>\n",
       "      <td>512924726150</td>\n",
       "      <td>4072</td>\n",
       "      <td>1811</td>\n",
       "      <td>2654121448</td>\n",
       "      <td>261204213760</td>\n",
       "    </tr>\n",
       "  </tbody>\n",
       "</table>\n",
       "</div>"
      ],
      "text/plain": [
       "     Model_name       input_shape  input_size  nb_params_no_fc         flops  \\\n",
       "1521    DPN-137  (1, 480, 480, 3)      691200         76725504  147429883398   \n",
       "1522    DPN-137  (1, 568, 568, 3)      967872         76725504  210363824006   \n",
       "1523    DPN-137  (1, 600, 600, 3)     1080000         76725504  234455319558   \n",
       "1524    DPN-137  (1, 800, 800, 3)     1920000         76725504  408964654598   \n",
       "1525    DPN-137  (1, 896, 896, 3)     2408448         76725504  512924726150   \n",
       "\n",
       "      nb_layers  nb_conv_layers  sum_activations  weighted_sum_neurones  \n",
       "1521       4072            1811        761714152            74962944000  \n",
       "1522       4072            1811       1079996072           107007131648  \n",
       "1523       4072            1811       1204310184           119281811456  \n",
       "1524       4072            1811       2115851752           208230400000  \n",
       "1525       4072            1811       2654121448           261204213760  "
      ]
     },
     "execution_count": 41,
     "metadata": {},
     "output_type": "execute_result"
    }
   ],
   "source": [
    "y_train = train_dataset.pop('ACET')\n",
    "X_train = train_dataset\n",
    "X_train.tail()"
   ]
  },
  {
   "cell_type": "code",
   "execution_count": 93,
   "metadata": {
    "colab": {
     "base_uri": "https://localhost:8080/",
     "height": 206
    },
    "colab_type": "code",
    "id": "IColdFSKaNaH",
    "outputId": "aa381dd3-41d6-4f93-b500-e8e57d390749"
   },
   "outputs": [
    {
     "data": {
      "text/html": [
       "<div>\n",
       "<style scoped>\n",
       "    .dataframe tbody tr th:only-of-type {\n",
       "        vertical-align: middle;\n",
       "    }\n",
       "\n",
       "    .dataframe tbody tr th {\n",
       "        vertical-align: top;\n",
       "    }\n",
       "\n",
       "    .dataframe thead th {\n",
       "        text-align: right;\n",
       "    }\n",
       "</style>\n",
       "<table border=\"1\" class=\"dataframe\">\n",
       "  <thead>\n",
       "    <tr style=\"text-align: right;\">\n",
       "      <th></th>\n",
       "      <th>Model_name</th>\n",
       "      <th>input_shape</th>\n",
       "      <th>input_size</th>\n",
       "      <th>nb_params_no_fc</th>\n",
       "      <th>flops</th>\n",
       "      <th>nb_layers</th>\n",
       "      <th>nb_conv_layers</th>\n",
       "      <th>sum_activations</th>\n",
       "      <th>weighted_sum_neurones</th>\n",
       "    </tr>\n",
       "  </thead>\n",
       "  <tbody>\n",
       "    <tr>\n",
       "      <th>19</th>\n",
       "      <td>NASNet-Mobile</td>\n",
       "      <td>(1, 331, 331, 3)</td>\n",
       "      <td>328683</td>\n",
       "      <td>4269716</td>\n",
       "      <td>2629916665</td>\n",
       "      <td>771</td>\n",
       "      <td>196</td>\n",
       "      <td>62189815</td>\n",
       "      <td>9731133896</td>\n",
       "    </tr>\n",
       "    <tr>\n",
       "      <th>20</th>\n",
       "      <td>NASNet-Large</td>\n",
       "      <td>(1, 64, 64, 3)</td>\n",
       "      <td>12288</td>\n",
       "      <td>84916818</td>\n",
       "      <td>1868148675</td>\n",
       "      <td>1041</td>\n",
       "      <td>268</td>\n",
       "      <td>10813366</td>\n",
       "      <td>6709743072</td>\n",
       "    </tr>\n",
       "    <tr>\n",
       "      <th>21</th>\n",
       "      <td>NASNet-Large</td>\n",
       "      <td>(1, 128, 128, 3)</td>\n",
       "      <td>49152</td>\n",
       "      <td>84916818</td>\n",
       "      <td>6917229891</td>\n",
       "      <td>1041</td>\n",
       "      <td>268</td>\n",
       "      <td>42382774</td>\n",
       "      <td>26839800288</td>\n",
       "    </tr>\n",
       "    <tr>\n",
       "      <th>22</th>\n",
       "      <td>NASNet-Large</td>\n",
       "      <td>(1, 256, 256, 3)</td>\n",
       "      <td>196608</td>\n",
       "      <td>84916818</td>\n",
       "      <td>27115250499</td>\n",
       "      <td>1041</td>\n",
       "      <td>268</td>\n",
       "      <td>168061366</td>\n",
       "      <td>107360877024</td>\n",
       "    </tr>\n",
       "    <tr>\n",
       "      <th>23</th>\n",
       "      <td>NASNet-Large</td>\n",
       "      <td>(1, 331, 331, 3)</td>\n",
       "      <td>328683</td>\n",
       "      <td>84916818</td>\n",
       "      <td>47876527473</td>\n",
       "      <td>1041</td>\n",
       "      <td>268</td>\n",
       "      <td>290560171</td>\n",
       "      <td>191031310656</td>\n",
       "    </tr>\n",
       "  </tbody>\n",
       "</table>\n",
       "</div>"
      ],
      "text/plain": [
       "       Model_name       input_shape  input_size  nb_params_no_fc        flops  \\\n",
       "19  NASNet-Mobile  (1, 331, 331, 3)      328683          4269716   2629916665   \n",
       "20   NASNet-Large    (1, 64, 64, 3)       12288         84916818   1868148675   \n",
       "21   NASNet-Large  (1, 128, 128, 3)       49152         84916818   6917229891   \n",
       "22   NASNet-Large  (1, 256, 256, 3)      196608         84916818  27115250499   \n",
       "23   NASNet-Large  (1, 331, 331, 3)      328683         84916818  47876527473   \n",
       "\n",
       "    nb_layers  nb_conv_layers  sum_activations  weighted_sum_neurones  \n",
       "19        771             196         62189815             9731133896  \n",
       "20       1041             268         10813366             6709743072  \n",
       "21       1041             268         42382774            26839800288  \n",
       "22       1041             268        168061366           107360877024  \n",
       "23       1041             268        290560171           191031310656  "
      ]
     },
     "execution_count": 93,
     "metadata": {},
     "output_type": "execute_result"
    }
   ],
   "source": [
    "y_test = test_dataset.pop('ACET')\n",
    "X_test = test_dataset\n",
    "X_test.tail()"
   ]
  },
  {
   "cell_type": "code",
   "execution_count": 43,
   "metadata": {
    "colab": {},
    "colab_type": "code",
    "id": "6VCmV5JAaQXu"
   },
   "outputs": [],
   "source": [
    "X_train_model_names = X_train.pop('Model_name')\n",
    "X_train_input_shapes = X_train.pop('input_shape')"
   ]
  },
  {
   "cell_type": "code",
   "execution_count": 94,
   "metadata": {},
   "outputs": [],
   "source": [
    "X_test_model_names = X_test.pop('Model_name')\n",
    "X_test_input_shapes = X_test.pop('input_shape')"
   ]
  },
  {
   "cell_type": "code",
   "execution_count": 45,
   "metadata": {
    "colab": {},
    "colab_type": "code",
    "id": "O9XlKi0BFp4f"
   },
   "outputs": [],
   "source": [
    "steps = [('scaler', StandardScaler()), ('SVR', SVR())]\n",
    "pipeline = Pipeline(steps)"
   ]
  },
  {
   "cell_type": "code",
   "execution_count": 46,
   "metadata": {
    "colab": {},
    "colab_type": "code",
    "id": "cEo3jtHzFp7E"
   },
   "outputs": [],
   "source": [
    "#parameteres = {'SVR__C':[1,10,10e1,10e2,10e3,10e4,10e5,10e6,10e7,10e8], 'SVR__gamma':[0.5,0.1,0.05,0.01,0.005,0.001]}\n",
    "parameteres = {'SVR__C':[10e5], 'SVR__gamma':[0.005]}"
   ]
  },
  {
   "cell_type": "code",
   "execution_count": 47,
   "metadata": {
    "colab": {},
    "colab_type": "code",
    "id": "WC_O3svdFp7x"
   },
   "outputs": [],
   "source": [
    "grid = GridSearchCV(pipeline, param_grid=parameteres, cv=2)"
   ]
  },
  {
   "cell_type": "code",
   "execution_count": 48,
   "metadata": {
    "colab": {
     "base_uri": "https://localhost:8080/",
     "height": 347
    },
    "colab_type": "code",
    "id": "cV-kMNx2Fp8R",
    "outputId": "05caa3db-be68-4ca0-a823-eb150b4dbb92"
   },
   "outputs": [
    {
     "data": {
      "text/plain": [
       "GridSearchCV(cv=2, error_score=nan,\n",
       "             estimator=Pipeline(memory=None,\n",
       "                                steps=[('scaler',\n",
       "                                        StandardScaler(copy=True,\n",
       "                                                       with_mean=True,\n",
       "                                                       with_std=True)),\n",
       "                                       ('SVR',\n",
       "                                        SVR(C=1.0, cache_size=200, coef0=0.0,\n",
       "                                            degree=3, epsilon=0.1,\n",
       "                                            gamma='scale', kernel='rbf',\n",
       "                                            max_iter=-1, shrinking=True,\n",
       "                                            tol=0.001, verbose=False))],\n",
       "                                verbose=False),\n",
       "             iid='deprecated', n_jobs=None,\n",
       "             param_grid={'SVR__C': [1000000.0], 'SVR__gamma': [0.005]},\n",
       "             pre_dispatch='2*n_jobs', refit=True, return_train_score=False,\n",
       "             scoring=None, verbose=0)"
      ]
     },
     "execution_count": 48,
     "metadata": {},
     "output_type": "execute_result"
    }
   ],
   "source": [
    "grid.fit(X_train, y_train)"
   ]
  },
  {
   "cell_type": "code",
   "execution_count": 84,
   "metadata": {
    "colab": {
     "base_uri": "https://localhost:8080/",
     "height": 52
    },
    "colab_type": "code",
    "id": "2i8ax5xPFp84",
    "outputId": "c8f7d718-6768-45ef-b8e4-7a8abab1405a"
   },
   "outputs": [
    {
     "name": "stdout",
     "output_type": "stream",
     "text": [
      "score = 1.00\n",
      "{'SVR__C': 1000000.0, 'SVR__gamma': 0.005}\n"
     ]
    }
   ],
   "source": [
    "print(\"score = %3.2f\" %(grid.score(X_test,y_test)))\n",
    "print(grid.best_params_)"
   ]
  },
  {
   "cell_type": "code",
   "execution_count": 50,
   "metadata": {
    "colab": {
     "base_uri": "https://localhost:8080/",
     "height": 156
    },
    "colab_type": "code",
    "id": "gCA2tNwoFqAT",
    "outputId": "e4b92ccb-122e-4542-d7f8-8be5b9d1af73"
   },
   "outputs": [
    {
     "data": {
      "text/plain": [
       "Pipeline(memory=None,\n",
       "         steps=[('scaler',\n",
       "                 StandardScaler(copy=True, with_mean=True, with_std=True)),\n",
       "                ('SVR',\n",
       "                 SVR(C=1000000.0, cache_size=200, coef0=0.0, degree=3,\n",
       "                     epsilon=0.1, gamma=0.005, kernel='rbf', max_iter=-1,\n",
       "                     shrinking=True, tol=0.001, verbose=False))],\n",
       "         verbose=False)"
      ]
     },
     "execution_count": 50,
     "metadata": {},
     "output_type": "execute_result"
    }
   ],
   "source": [
    "# Train the best estimator with the best hyperparams found by the gridSearchCV on the entire training data\n",
    "best_pipe = grid.best_estimator_\n",
    "best_pipe.fit(X_train, y_train)"
   ]
  },
  {
   "cell_type": "code",
   "execution_count": 95,
   "metadata": {
    "colab": {},
    "colab_type": "code",
    "id": "Liu_maVZeyps"
   },
   "outputs": [],
   "source": [
    "predictions = best_pipe.predict(X_test)"
   ]
  },
  {
   "cell_type": "code",
   "execution_count": 96,
   "metadata": {
    "colab": {
     "base_uri": "https://localhost:8080/",
     "height": 104
    },
    "colab_type": "code",
    "id": "LnaKUI9ue5G2",
    "outputId": "bf53cb47-b15a-45bf-88c7-e2d36db1d48b"
   },
   "outputs": [
    {
     "name": "stdout",
     "output_type": "stream",
     "text": [
      "Explained variance :  0.9064759122382094\n",
      "R2_value :  0.891838250646778\n",
      "Mean absolute error : 4.138456405646507\n",
      "Median absolute error : 2.005792127501885\n"
     ]
    }
   ],
   "source": [
    "# Model evaluation\n",
    "y_pred = predictions\n",
    "print('Explained variance : ',explained_variance_score(y_test, y_pred))\n",
    "print('R2_value : ',r2_score(y_test, y_pred))\n",
    "print('Mean absolute error :', mean_absolute_error(y_test, y_pred))\n",
    "print('Median absolute error :', median_absolute_error(y_test, y_pred))"
   ]
  },
  {
   "cell_type": "code",
   "execution_count": 97,
   "metadata": {
    "colab": {
     "base_uri": "https://localhost:8080/",
     "height": 34
    },
    "colab_type": "code",
    "id": "sYoRvlGce8Lj",
    "outputId": "567e8702-62b8-48b6-fe44-bc6e0a13f8b3"
   },
   "outputs": [
    {
     "name": "stdout",
     "output_type": "stream",
     "text": [
      "Accuracy: 82.3 %.\n"
     ]
    }
   ],
   "source": [
    "# Calculate mean absolute percentage error (MAPE)\n",
    "np_test = y_test.values\n",
    "errors = abs(y_pred-np_test)\n",
    "mape = 100 * (errors / np_test) # Calculate and display accuracy\n",
    "accuracy = 100 - np.mean(mape)\n",
    "print('Accuracy:', round(accuracy, 2), '%.')"
   ]
  },
  {
   "cell_type": "code",
   "execution_count": 98,
   "metadata": {
    "colab": {
     "base_uri": "https://localhost:8080/",
     "height": 1000
    },
    "colab_type": "code",
    "id": "B7Y6Dm-5e--9",
    "outputId": "bf991b72-4752-45dc-99cf-4ca78bc8cc67"
   },
   "outputs": [
    {
     "name": "stdout",
     "output_type": "stream",
     "text": [
      "SqueezeNet-v1.1 (1, 90, 90, 3) 0.7205595923413171 0.98912147 72.84844320903449\n",
      "SqueezeNet-v1.1 (1, 512, 512, 3) 6.245976081566198 5.2278544 80.52505667399234\n",
      "SqueezeNet-v1.1 (1, 720, 720, 3) 11.788678265508509 9.7607754 79.22395729433023\n",
      "SqueezeNet-v1.1 (64, 64, 3) 0.65454195100466 0.9090424587155959 72.00345206421659\n",
      "SqueezeNet-v1.1 (128, 128, 3) 0.9076094606251104 1.15266463302752 78.7401152615603\n",
      "SqueezeNet-v1.1 (224, 224, 3) 1.6320480879920183 1.85750548623853 87.8623562666797\n",
      "SqueezeNet-v1.1 (240, 240, 3) 1.7928089678578658 1.91482706422018 93.6277223858852\n",
      "SqueezeNet-v1.1 (256, 256, 3) 1.9649502814107223 1.9958535321100899 98.45162732624495\n",
      "SqueezeNet-v1.1 (299, 299, 3) 2.4296676952915846 2.75664246788991 88.13865866150533\n",
      "SqueezeNet-v1.1 (448, 448, 3) 4.909178110637015 4.373639853211009 87.75531878710069\n",
      "SqueezeNet-v1.1 (1024, 1024, 3) 23.141838157881296 17.705117018348602 69.2929386803918\n",
      "VGG-16 (1, 128, 128, 3) 14.493150918610638 15.53275248 93.3070358088307\n",
      "VGG-16 (1, 256, 256, 3) 35.72916138042348 31.85314821 87.83161669022518\n",
      "VGG-19 (1, 64, 64, 3) 12.160415288276283 15.64801341 77.71219879262797\n",
      "VGG-19 (1, 128, 128, 3) 18.799991053162387 20.00795539 93.96257981741925\n",
      "VGG-19 (1, 256, 256, 3) 44.57331727082493 39.20752335 86.3143767768108\n",
      "NASNet-Mobile (1, 64, 64, 3) 9.207956997078156 6.54043416 59.21489656768969\n",
      "NASNet-Mobile (1, 128, 128, 3) 10.263763059495261 8.28008167 76.04273159910437\n",
      "NASNet-Mobile (1, 256, 256, 3) 14.48877142170096 11.89224985 78.16627127371564\n",
      "NASNet-Mobile (1, 331, 331, 3) 18.576746280404052 16.39728041 86.70836982774968\n",
      "NASNet-Large (1, 64, 64, 3) 46.266735678637644 49.31717121 93.81465835018571\n",
      "NASNet-Large (1, 128, 128, 3) 57.45138593540179 53.9633824 93.53635116948898\n",
      "NASNet-Large (1, 256, 256, 3) 101.93319847293316 80.01012506 72.59962611420374\n",
      "NASNet-Large (1, 331, 331, 3) 146.6244046662294 110.65888121 67.49874654165646\n"
     ]
    }
   ],
   "source": [
    "np_test = y_test.values\n",
    "test_models = X_test_model_names.values\n",
    "test_input_shapes = X_test_input_shapes.values\n",
    "for i in range(0, len(y_pred)) :\n",
    "    print(test_models[i], test_input_shapes[i], y_pred[i], np_test[i], 100-((abs(y_pred[i]-np_test[i]))/np_test[i])*100)"
   ]
  },
  {
   "cell_type": "code",
   "execution_count": 99,
   "metadata": {},
   "outputs": [],
   "source": [
    "import csv\n",
    "with open('./evaluation_results/measured_vs_predicted_SVR_dim3.csv', 'a', newline='') as file : \n",
    "    writer = csv.writer(file)\n",
    "    for i in range(0, len(y_pred)) :\n",
    "        writer.writerow([test_models[i], test_input_shapes[i], np_test[i], y_pred[i],abs(y_pred[i]-np_test[i]), 100-((abs(y_pred[i]-np_test[i]))/np_test[i])*100])"
   ]
  },
  {
   "cell_type": "code",
   "execution_count": 100,
   "metadata": {
    "colab": {
     "base_uri": "https://localhost:8080/",
     "height": 283
    },
    "colab_type": "code",
    "id": "r_Dbq_DvfB9x",
    "outputId": "999cec39-49a1-43d3-bc32-9874a2932767"
   },
   "outputs": [
    {
     "data": {
      "image/png": "[encoded data removed]",
      "text/plain": [
       "<Figure size 720x360 with 1 Axes>"
      ]
     },
     "metadata": {
      "needs_background": "light"
     },
     "output_type": "display_data"
    }
   ],
   "source": [
    "plt.figure(figsize=(10,5))\n",
    "a = plt.axes(aspect='equal')\n",
    "plt.scatter(np_test, y_pred)\n",
    "plt.title('Predicted Inference time Vs Measured Inference time')\n",
    "plt.xlabel('True Values [ACET] (ms)')\n",
    "plt.ylabel('Predictions [ACET] (ms)')\n",
    "lims = [0, 300]\n",
    "plt.xlim(lims)\n",
    "plt.ylim(lims)\n",
    "_ = plt.plot(lims, lims)\n",
    "plt.savefig('./evaluation_results/measured_vs_predicted_SVR_dim3.png', dpi=600)"
   ]
  },
  {
   "cell_type": "code",
   "execution_count": null,
   "metadata": {},
   "outputs": [],
   "source": []
  }
 ],
 "metadata": {
  "colab": {
   "collapsed_sections": [],
   "name": "SVR_regression.ipynb",
   "provenance": []
  },
  "kernelspec": {
   "display_name": "Python 3",
   "language": "python",
   "name": "python3"
  },
  "language_info": {
   "codemirror_mode": {
    "name": "ipython",
    "version": 3
   },
   "file_extension": ".py",
   "mimetype": "text/x-python",
   "name": "python",
   "nbconvert_exporter": "python",
   "pygments_lexer": "ipython3",
   "version": "3.7.3"
  }
 },
 "nbformat": 4,
 "nbformat_minor": 1
}
