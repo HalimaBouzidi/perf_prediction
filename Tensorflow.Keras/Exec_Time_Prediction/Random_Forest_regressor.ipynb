{
 "cells": [
  {
   "cell_type": "code",
   "execution_count": 1,
   "metadata": {
    "colab": {},
    "colab_type": "code",
    "id": "jPm6cVZve6DO"
   },
   "outputs": [],
   "source": [
    "import numpy as np \n",
    "import pandas as pd\n",
    "from sklearn.ensemble import RandomForestRegressor\n",
    "from sklearn.preprocessing import StandardScaler\n",
    "from sklearn.model_selection import train_test_split, GridSearchCV \n",
    "from sklearn.metrics import explained_variance_score\n",
    "from sklearn.metrics import r2_score\n",
    "from sklearn.metrics import median_absolute_error\n",
    "from sklearn.metrics import mean_absolute_error\n",
    "from sklearn.pipeline import Pipeline\n",
    "import seaborn as sns\n",
    "import matplotlib.pyplot as plt"
   ]
  },
  {
   "cell_type": "code",
   "execution_count": 2,
   "metadata": {
    "colab": {
     "base_uri": "https://localhost:8080/",
     "height": 226
    },
    "colab_type": "code",
    "id": "wXZ3C3fwe6Er",
    "outputId": "12ab9980-c856-4b36-9a20-127f2a346a1b"
   },
   "outputs": [
    {
     "data": {
      "text/html": [
       "<div>\n",
       "<style scoped>\n",
       "    .dataframe tbody tr th:only-of-type {\n",
       "        vertical-align: middle;\n",
       "    }\n",
       "\n",
       "    .dataframe tbody tr th {\n",
       "        vertical-align: top;\n",
       "    }\n",
       "\n",
       "    .dataframe thead th {\n",
       "        text-align: right;\n",
       "    }\n",
       "</style>\n",
       "<table border=\"1\" class=\"dataframe\">\n",
       "  <thead>\n",
       "    <tr style=\"text-align: right;\">\n",
       "      <th></th>\n",
       "      <th>Model_name</th>\n",
       "      <th>input_shape</th>\n",
       "      <th>ACET</th>\n",
       "      <th>input_width</th>\n",
       "      <th>input_size</th>\n",
       "      <th>model_size</th>\n",
       "      <th>nb_params_no_fc</th>\n",
       "      <th>nb_params_fc</th>\n",
       "      <th>flops</th>\n",
       "      <th>nb_layers</th>\n",
       "      <th>nb_conv_layers</th>\n",
       "      <th>nb_fc_layers</th>\n",
       "      <th>sum_activations</th>\n",
       "      <th>weighted_sum_neurones</th>\n",
       "    </tr>\n",
       "  </thead>\n",
       "  <tbody>\n",
       "    <tr>\n",
       "      <th>1521</th>\n",
       "      <td>DPN-137</td>\n",
       "      <td>(1, 480, 480, 3)</td>\n",
       "      <td>236.347517</td>\n",
       "      <td>480</td>\n",
       "      <td>691200</td>\n",
       "      <td>319.7</td>\n",
       "      <td>76725504</td>\n",
       "      <td>2688000</td>\n",
       "      <td>147429883398</td>\n",
       "      <td>4072</td>\n",
       "      <td>1811</td>\n",
       "      <td>1</td>\n",
       "      <td>761714152</td>\n",
       "      <td>74962944000</td>\n",
       "    </tr>\n",
       "    <tr>\n",
       "      <th>1522</th>\n",
       "      <td>DPN-137</td>\n",
       "      <td>(1, 568, 568, 3)</td>\n",
       "      <td>306.702618</td>\n",
       "      <td>568</td>\n",
       "      <td>967872</td>\n",
       "      <td>319.7</td>\n",
       "      <td>76725504</td>\n",
       "      <td>2688000</td>\n",
       "      <td>210363824006</td>\n",
       "      <td>4072</td>\n",
       "      <td>1811</td>\n",
       "      <td>1</td>\n",
       "      <td>1079996072</td>\n",
       "      <td>107007131648</td>\n",
       "    </tr>\n",
       "    <tr>\n",
       "      <th>1523</th>\n",
       "      <td>DPN-137</td>\n",
       "      <td>(1, 600, 600, 3)</td>\n",
       "      <td>331.850612</td>\n",
       "      <td>600</td>\n",
       "      <td>1080000</td>\n",
       "      <td>319.7</td>\n",
       "      <td>76725504</td>\n",
       "      <td>2688000</td>\n",
       "      <td>234455319558</td>\n",
       "      <td>4072</td>\n",
       "      <td>1811</td>\n",
       "      <td>1</td>\n",
       "      <td>1204310184</td>\n",
       "      <td>119281811456</td>\n",
       "    </tr>\n",
       "    <tr>\n",
       "      <th>1524</th>\n",
       "      <td>DPN-137</td>\n",
       "      <td>(1, 800, 800, 3)</td>\n",
       "      <td>520.859203</td>\n",
       "      <td>800</td>\n",
       "      <td>1920000</td>\n",
       "      <td>319.7</td>\n",
       "      <td>76725504</td>\n",
       "      <td>2688000</td>\n",
       "      <td>408964654598</td>\n",
       "      <td>4072</td>\n",
       "      <td>1811</td>\n",
       "      <td>1</td>\n",
       "      <td>2115851752</td>\n",
       "      <td>208230400000</td>\n",
       "    </tr>\n",
       "    <tr>\n",
       "      <th>1525</th>\n",
       "      <td>DPN-137</td>\n",
       "      <td>(1, 896, 896, 3)</td>\n",
       "      <td>650.251626</td>\n",
       "      <td>896</td>\n",
       "      <td>2408448</td>\n",
       "      <td>319.7</td>\n",
       "      <td>76725504</td>\n",
       "      <td>2688000</td>\n",
       "      <td>512924726150</td>\n",
       "      <td>4072</td>\n",
       "      <td>1811</td>\n",
       "      <td>1</td>\n",
       "      <td>2654121448</td>\n",
       "      <td>261204213760</td>\n",
       "    </tr>\n",
       "  </tbody>\n",
       "</table>\n",
       "</div>"
      ],
      "text/plain": [
       "     Model_name       input_shape        ACET  input_width  input_size  \\\n",
       "1521    DPN-137  (1, 480, 480, 3)  236.347517          480      691200   \n",
       "1522    DPN-137  (1, 568, 568, 3)  306.702618          568      967872   \n",
       "1523    DPN-137  (1, 600, 600, 3)  331.850612          600     1080000   \n",
       "1524    DPN-137  (1, 800, 800, 3)  520.859203          800     1920000   \n",
       "1525    DPN-137  (1, 896, 896, 3)  650.251626          896     2408448   \n",
       "\n",
       "      model_size  nb_params_no_fc  nb_params_fc         flops  nb_layers  \\\n",
       "1521       319.7         76725504       2688000  147429883398       4072   \n",
       "1522       319.7         76725504       2688000  210363824006       4072   \n",
       "1523       319.7         76725504       2688000  234455319558       4072   \n",
       "1524       319.7         76725504       2688000  408964654598       4072   \n",
       "1525       319.7         76725504       2688000  512924726150       4072   \n",
       "\n",
       "      nb_conv_layers  nb_fc_layers  sum_activations  weighted_sum_neurones  \n",
       "1521            1811             1        761714152            74962944000  \n",
       "1522            1811             1       1079996072           107007131648  \n",
       "1523            1811             1       1204310184           119281811456  \n",
       "1524            1811             1       2115851752           208230400000  \n",
       "1525            1811             1       2654121448           261204213760  "
      ]
     },
     "execution_count": 2,
     "metadata": {},
     "output_type": "execute_result"
    }
   ],
   "source": [
    "# 1/ Training data :\n",
    "\n",
    "column_names = ['Model_name', 'input_shape', 'ACET', 'input_width', 'input_size', 'model_size', 'nb_params_no_fc', \n",
    "                'nb_params_fc', 'flops', 'nb_layers', 'nb_conv_layers', 'nb_fc_layers', \n",
    "                'sum_activations', 'weighted_sum_neurones']\n",
    "raw_dataset = pd.read_csv('./training_dataset.csv', names=column_names,\n",
    "                      na_values = \"?\", comment='\\t', sep=\",\", skipinitialspace=True)\n",
    "train_dataset = raw_dataset.copy()\n",
    "train_dataset.isna().sum()\n",
    "train_dataset = train_dataset.dropna()\n",
    "train_dataset.tail()"
   ]
  },
  {
   "cell_type": "code",
   "execution_count": 33,
   "metadata": {
    "colab": {
     "base_uri": "https://localhost:8080/",
     "height": 313
    },
    "colab_type": "code",
    "id": "XNl0ybwqe6GA",
    "outputId": "29f3e76b-b514-40aa-813b-b83b37392dda"
   },
   "outputs": [
    {
     "data": {
      "text/html": [
       "<div>\n",
       "<style scoped>\n",
       "    .dataframe tbody tr th:only-of-type {\n",
       "        vertical-align: middle;\n",
       "    }\n",
       "\n",
       "    .dataframe tbody tr th {\n",
       "        vertical-align: top;\n",
       "    }\n",
       "\n",
       "    .dataframe thead th {\n",
       "        text-align: right;\n",
       "    }\n",
       "</style>\n",
       "<table border=\"1\" class=\"dataframe\">\n",
       "  <thead>\n",
       "    <tr style=\"text-align: right;\">\n",
       "      <th></th>\n",
       "      <th>Model_name</th>\n",
       "      <th>input_shape</th>\n",
       "      <th>ACET</th>\n",
       "      <th>input_width</th>\n",
       "      <th>input_size</th>\n",
       "      <th>model_size</th>\n",
       "      <th>nb_params_no_fc</th>\n",
       "      <th>nb_params_fc</th>\n",
       "      <th>flops</th>\n",
       "      <th>nb_layers</th>\n",
       "      <th>nb_conv_layers</th>\n",
       "      <th>nb_fc_layers</th>\n",
       "      <th>sum_activations</th>\n",
       "      <th>weighted_sum_neurones</th>\n",
       "    </tr>\n",
       "  </thead>\n",
       "  <tbody>\n",
       "    <tr>\n",
       "      <th>19</th>\n",
       "      <td>NASNet-Mobile</td>\n",
       "      <td>(1, 331, 331, 3)</td>\n",
       "      <td>16.397280</td>\n",
       "      <td>331</td>\n",
       "      <td>328683</td>\n",
       "      <td>22.2</td>\n",
       "      <td>4269716</td>\n",
       "      <td>1057000</td>\n",
       "      <td>2629916665</td>\n",
       "      <td>771</td>\n",
       "      <td>196</td>\n",
       "      <td>1</td>\n",
       "      <td>62189815</td>\n",
       "      <td>9731133896</td>\n",
       "    </tr>\n",
       "    <tr>\n",
       "      <th>20</th>\n",
       "      <td>NASNet-Large</td>\n",
       "      <td>(1, 64, 64, 3)</td>\n",
       "      <td>49.317171</td>\n",
       "      <td>64</td>\n",
       "      <td>12288</td>\n",
       "      <td>357.0</td>\n",
       "      <td>84916818</td>\n",
       "      <td>4033000</td>\n",
       "      <td>1868148675</td>\n",
       "      <td>1041</td>\n",
       "      <td>268</td>\n",
       "      <td>1</td>\n",
       "      <td>10813366</td>\n",
       "      <td>6709743072</td>\n",
       "    </tr>\n",
       "    <tr>\n",
       "      <th>21</th>\n",
       "      <td>NASNet-Large</td>\n",
       "      <td>(1, 128, 128, 3)</td>\n",
       "      <td>53.963382</td>\n",
       "      <td>128</td>\n",
       "      <td>49152</td>\n",
       "      <td>357.0</td>\n",
       "      <td>84916818</td>\n",
       "      <td>4033000</td>\n",
       "      <td>6917229891</td>\n",
       "      <td>1041</td>\n",
       "      <td>268</td>\n",
       "      <td>1</td>\n",
       "      <td>42382774</td>\n",
       "      <td>26839800288</td>\n",
       "    </tr>\n",
       "    <tr>\n",
       "      <th>22</th>\n",
       "      <td>NASNet-Large</td>\n",
       "      <td>(1, 256, 256, 3)</td>\n",
       "      <td>80.010125</td>\n",
       "      <td>256</td>\n",
       "      <td>196608</td>\n",
       "      <td>357.0</td>\n",
       "      <td>84916818</td>\n",
       "      <td>4033000</td>\n",
       "      <td>27115250499</td>\n",
       "      <td>1041</td>\n",
       "      <td>268</td>\n",
       "      <td>1</td>\n",
       "      <td>168061366</td>\n",
       "      <td>107360877024</td>\n",
       "    </tr>\n",
       "    <tr>\n",
       "      <th>23</th>\n",
       "      <td>NASNet-Large</td>\n",
       "      <td>(1, 331, 331, 3)</td>\n",
       "      <td>110.658881</td>\n",
       "      <td>331</td>\n",
       "      <td>328683</td>\n",
       "      <td>357.0</td>\n",
       "      <td>84916818</td>\n",
       "      <td>4033000</td>\n",
       "      <td>47876527473</td>\n",
       "      <td>1041</td>\n",
       "      <td>268</td>\n",
       "      <td>1</td>\n",
       "      <td>290560171</td>\n",
       "      <td>191031310656</td>\n",
       "    </tr>\n",
       "  </tbody>\n",
       "</table>\n",
       "</div>"
      ],
      "text/plain": [
       "       Model_name       input_shape        ACET  input_width  input_size  \\\n",
       "19  NASNet-Mobile  (1, 331, 331, 3)   16.397280          331      328683   \n",
       "20   NASNet-Large    (1, 64, 64, 3)   49.317171           64       12288   \n",
       "21   NASNet-Large  (1, 128, 128, 3)   53.963382          128       49152   \n",
       "22   NASNet-Large  (1, 256, 256, 3)   80.010125          256      196608   \n",
       "23   NASNet-Large  (1, 331, 331, 3)  110.658881          331      328683   \n",
       "\n",
       "    model_size  nb_params_no_fc  nb_params_fc        flops  nb_layers  \\\n",
       "19        22.2          4269716       1057000   2629916665        771   \n",
       "20       357.0         84916818       4033000   1868148675       1041   \n",
       "21       357.0         84916818       4033000   6917229891       1041   \n",
       "22       357.0         84916818       4033000  27115250499       1041   \n",
       "23       357.0         84916818       4033000  47876527473       1041   \n",
       "\n",
       "    nb_conv_layers  nb_fc_layers  sum_activations  weighted_sum_neurones  \n",
       "19             196             1         62189815             9731133896  \n",
       "20             268             1         10813366             6709743072  \n",
       "21             268             1         42382774            26839800288  \n",
       "22             268             1        168061366           107360877024  \n",
       "23             268             1        290560171           191031310656  "
      ]
     },
     "execution_count": 33,
     "metadata": {},
     "output_type": "execute_result"
    }
   ],
   "source": [
    "# 1/ Test data :\n",
    "\n",
    "column_names = ['Model_name', 'input_shape', 'ACET', 'input_width', 'input_size', 'model_size', 'nb_params_no_fc', \n",
    "                'nb_params_fc', 'flops', 'nb_layers', 'nb_conv_layers', 'nb_fc_layers', \n",
    "                'sum_activations', 'weighted_sum_neurones']\n",
    "raw_dataset = pd.read_csv('./test_dim3.csv', names=column_names,\n",
    "                      na_values = \"?\", comment='\\t', sep=\",\", skipinitialspace=True)\n",
    "test_dataset = raw_dataset.copy()\n",
    "test_dataset.isna().sum()\n",
    "test_dataset = test_dataset.dropna()\n",
    "test_dataset.tail()"
   ]
  },
  {
   "cell_type": "code",
   "execution_count": 4,
   "metadata": {
    "colab": {
     "base_uri": "https://localhost:8080/",
     "height": 225
    },
    "colab_type": "code",
    "id": "aT_wO9i5e6HM",
    "outputId": "a9737228-8de7-4813-827b-ee0506a33145"
   },
   "outputs": [
    {
     "data": {
      "text/plain": [
       "0         1.9\n",
       "1         1.9\n",
       "2         1.9\n",
       "3         1.9\n",
       "4         1.9\n",
       "        ...  \n",
       "1521    319.7\n",
       "1522    319.7\n",
       "1523    319.7\n",
       "1524    319.7\n",
       "1525    319.7\n",
       "Name: model_size, Length: 1526, dtype: float64"
      ]
     },
     "execution_count": 4,
     "metadata": {},
     "output_type": "execute_result"
    }
   ],
   "source": [
    "train_dataset.pop('input_width')\n",
    "train_dataset.pop('model_size')"
   ]
  },
  {
   "cell_type": "code",
   "execution_count": 34,
   "metadata": {},
   "outputs": [
    {
     "data": {
      "text/plain": [
       "0       5.0\n",
       "1       5.0\n",
       "2       5.0\n",
       "3       5.0\n",
       "4       5.0\n",
       "5       5.0\n",
       "6       5.0\n",
       "7       5.0\n",
       "8       5.0\n",
       "9       5.0\n",
       "10      5.0\n",
       "11    276.6\n",
       "12    679.3\n",
       "13    197.2\n",
       "14    297.9\n",
       "15    700.5\n",
       "16     22.2\n",
       "17     22.2\n",
       "18     22.2\n",
       "19     22.2\n",
       "20    357.0\n",
       "21    357.0\n",
       "22    357.0\n",
       "23    357.0\n",
       "Name: model_size, dtype: float64"
      ]
     },
     "execution_count": 34,
     "metadata": {},
     "output_type": "execute_result"
    }
   ],
   "source": [
    "test_dataset.pop('input_width')\n",
    "test_dataset.pop('model_size')"
   ]
  },
  {
   "cell_type": "code",
   "execution_count": 6,
   "metadata": {
    "colab": {},
    "colab_type": "code",
    "id": "xst7TzQEe6IV"
   },
   "outputs": [
    {
     "data": {
      "text/html": [
       "<div>\n",
       "<style scoped>\n",
       "    .dataframe tbody tr th:only-of-type {\n",
       "        vertical-align: middle;\n",
       "    }\n",
       "\n",
       "    .dataframe tbody tr th {\n",
       "        vertical-align: top;\n",
       "    }\n",
       "\n",
       "    .dataframe thead th {\n",
       "        text-align: right;\n",
       "    }\n",
       "</style>\n",
       "<table border=\"1\" class=\"dataframe\">\n",
       "  <thead>\n",
       "    <tr style=\"text-align: right;\">\n",
       "      <th></th>\n",
       "      <th>Model_name</th>\n",
       "      <th>input_shape</th>\n",
       "      <th>input_size</th>\n",
       "      <th>nb_params_no_fc</th>\n",
       "      <th>nb_params_fc</th>\n",
       "      <th>flops</th>\n",
       "      <th>nb_layers</th>\n",
       "      <th>nb_conv_layers</th>\n",
       "      <th>nb_fc_layers</th>\n",
       "      <th>sum_activations</th>\n",
       "      <th>weighted_sum_neurones</th>\n",
       "    </tr>\n",
       "  </thead>\n",
       "  <tbody>\n",
       "    <tr>\n",
       "      <th>1521</th>\n",
       "      <td>DPN-137</td>\n",
       "      <td>(1, 480, 480, 3)</td>\n",
       "      <td>691200</td>\n",
       "      <td>76725504</td>\n",
       "      <td>2688000</td>\n",
       "      <td>147429883398</td>\n",
       "      <td>4072</td>\n",
       "      <td>1811</td>\n",
       "      <td>1</td>\n",
       "      <td>761714152</td>\n",
       "      <td>74962944000</td>\n",
       "    </tr>\n",
       "    <tr>\n",
       "      <th>1522</th>\n",
       "      <td>DPN-137</td>\n",
       "      <td>(1, 568, 568, 3)</td>\n",
       "      <td>967872</td>\n",
       "      <td>76725504</td>\n",
       "      <td>2688000</td>\n",
       "      <td>210363824006</td>\n",
       "      <td>4072</td>\n",
       "      <td>1811</td>\n",
       "      <td>1</td>\n",
       "      <td>1079996072</td>\n",
       "      <td>107007131648</td>\n",
       "    </tr>\n",
       "    <tr>\n",
       "      <th>1523</th>\n",
       "      <td>DPN-137</td>\n",
       "      <td>(1, 600, 600, 3)</td>\n",
       "      <td>1080000</td>\n",
       "      <td>76725504</td>\n",
       "      <td>2688000</td>\n",
       "      <td>234455319558</td>\n",
       "      <td>4072</td>\n",
       "      <td>1811</td>\n",
       "      <td>1</td>\n",
       "      <td>1204310184</td>\n",
       "      <td>119281811456</td>\n",
       "    </tr>\n",
       "    <tr>\n",
       "      <th>1524</th>\n",
       "      <td>DPN-137</td>\n",
       "      <td>(1, 800, 800, 3)</td>\n",
       "      <td>1920000</td>\n",
       "      <td>76725504</td>\n",
       "      <td>2688000</td>\n",
       "      <td>408964654598</td>\n",
       "      <td>4072</td>\n",
       "      <td>1811</td>\n",
       "      <td>1</td>\n",
       "      <td>2115851752</td>\n",
       "      <td>208230400000</td>\n",
       "    </tr>\n",
       "    <tr>\n",
       "      <th>1525</th>\n",
       "      <td>DPN-137</td>\n",
       "      <td>(1, 896, 896, 3)</td>\n",
       "      <td>2408448</td>\n",
       "      <td>76725504</td>\n",
       "      <td>2688000</td>\n",
       "      <td>512924726150</td>\n",
       "      <td>4072</td>\n",
       "      <td>1811</td>\n",
       "      <td>1</td>\n",
       "      <td>2654121448</td>\n",
       "      <td>261204213760</td>\n",
       "    </tr>\n",
       "  </tbody>\n",
       "</table>\n",
       "</div>"
      ],
      "text/plain": [
       "     Model_name       input_shape  input_size  nb_params_no_fc  nb_params_fc  \\\n",
       "1521    DPN-137  (1, 480, 480, 3)      691200         76725504       2688000   \n",
       "1522    DPN-137  (1, 568, 568, 3)      967872         76725504       2688000   \n",
       "1523    DPN-137  (1, 600, 600, 3)     1080000         76725504       2688000   \n",
       "1524    DPN-137  (1, 800, 800, 3)     1920000         76725504       2688000   \n",
       "1525    DPN-137  (1, 896, 896, 3)     2408448         76725504       2688000   \n",
       "\n",
       "             flops  nb_layers  nb_conv_layers  nb_fc_layers  sum_activations  \\\n",
       "1521  147429883398       4072            1811             1        761714152   \n",
       "1522  210363824006       4072            1811             1       1079996072   \n",
       "1523  234455319558       4072            1811             1       1204310184   \n",
       "1524  408964654598       4072            1811             1       2115851752   \n",
       "1525  512924726150       4072            1811             1       2654121448   \n",
       "\n",
       "      weighted_sum_neurones  \n",
       "1521            74962944000  \n",
       "1522           107007131648  \n",
       "1523           119281811456  \n",
       "1524           208230400000  \n",
       "1525           261204213760  "
      ]
     },
     "execution_count": 6,
     "metadata": {},
     "output_type": "execute_result"
    }
   ],
   "source": [
    "y_train = train_dataset.pop('ACET')\n",
    "X_train = train_dataset\n",
    "X_train.tail()"
   ]
  },
  {
   "cell_type": "code",
   "execution_count": 35,
   "metadata": {
    "colab": {
     "base_uri": "https://localhost:8080/",
     "height": 206
    },
    "colab_type": "code",
    "id": "g-PAl4Vbe6JQ",
    "outputId": "b5079cd3-6355-4e59-c627-17cade250500"
   },
   "outputs": [
    {
     "data": {
      "text/html": [
       "<div>\n",
       "<style scoped>\n",
       "    .dataframe tbody tr th:only-of-type {\n",
       "        vertical-align: middle;\n",
       "    }\n",
       "\n",
       "    .dataframe tbody tr th {\n",
       "        vertical-align: top;\n",
       "    }\n",
       "\n",
       "    .dataframe thead th {\n",
       "        text-align: right;\n",
       "    }\n",
       "</style>\n",
       "<table border=\"1\" class=\"dataframe\">\n",
       "  <thead>\n",
       "    <tr style=\"text-align: right;\">\n",
       "      <th></th>\n",
       "      <th>Model_name</th>\n",
       "      <th>input_shape</th>\n",
       "      <th>input_size</th>\n",
       "      <th>nb_params_no_fc</th>\n",
       "      <th>nb_params_fc</th>\n",
       "      <th>flops</th>\n",
       "      <th>nb_layers</th>\n",
       "      <th>nb_conv_layers</th>\n",
       "      <th>nb_fc_layers</th>\n",
       "      <th>sum_activations</th>\n",
       "      <th>weighted_sum_neurones</th>\n",
       "    </tr>\n",
       "  </thead>\n",
       "  <tbody>\n",
       "    <tr>\n",
       "      <th>19</th>\n",
       "      <td>NASNet-Mobile</td>\n",
       "      <td>(1, 331, 331, 3)</td>\n",
       "      <td>328683</td>\n",
       "      <td>4269716</td>\n",
       "      <td>1057000</td>\n",
       "      <td>2629916665</td>\n",
       "      <td>771</td>\n",
       "      <td>196</td>\n",
       "      <td>1</td>\n",
       "      <td>62189815</td>\n",
       "      <td>9731133896</td>\n",
       "    </tr>\n",
       "    <tr>\n",
       "      <th>20</th>\n",
       "      <td>NASNet-Large</td>\n",
       "      <td>(1, 64, 64, 3)</td>\n",
       "      <td>12288</td>\n",
       "      <td>84916818</td>\n",
       "      <td>4033000</td>\n",
       "      <td>1868148675</td>\n",
       "      <td>1041</td>\n",
       "      <td>268</td>\n",
       "      <td>1</td>\n",
       "      <td>10813366</td>\n",
       "      <td>6709743072</td>\n",
       "    </tr>\n",
       "    <tr>\n",
       "      <th>21</th>\n",
       "      <td>NASNet-Large</td>\n",
       "      <td>(1, 128, 128, 3)</td>\n",
       "      <td>49152</td>\n",
       "      <td>84916818</td>\n",
       "      <td>4033000</td>\n",
       "      <td>6917229891</td>\n",
       "      <td>1041</td>\n",
       "      <td>268</td>\n",
       "      <td>1</td>\n",
       "      <td>42382774</td>\n",
       "      <td>26839800288</td>\n",
       "    </tr>\n",
       "    <tr>\n",
       "      <th>22</th>\n",
       "      <td>NASNet-Large</td>\n",
       "      <td>(1, 256, 256, 3)</td>\n",
       "      <td>196608</td>\n",
       "      <td>84916818</td>\n",
       "      <td>4033000</td>\n",
       "      <td>27115250499</td>\n",
       "      <td>1041</td>\n",
       "      <td>268</td>\n",
       "      <td>1</td>\n",
       "      <td>168061366</td>\n",
       "      <td>107360877024</td>\n",
       "    </tr>\n",
       "    <tr>\n",
       "      <th>23</th>\n",
       "      <td>NASNet-Large</td>\n",
       "      <td>(1, 331, 331, 3)</td>\n",
       "      <td>328683</td>\n",
       "      <td>84916818</td>\n",
       "      <td>4033000</td>\n",
       "      <td>47876527473</td>\n",
       "      <td>1041</td>\n",
       "      <td>268</td>\n",
       "      <td>1</td>\n",
       "      <td>290560171</td>\n",
       "      <td>191031310656</td>\n",
       "    </tr>\n",
       "  </tbody>\n",
       "</table>\n",
       "</div>"
      ],
      "text/plain": [
       "       Model_name       input_shape  input_size  nb_params_no_fc  \\\n",
       "19  NASNet-Mobile  (1, 331, 331, 3)      328683          4269716   \n",
       "20   NASNet-Large    (1, 64, 64, 3)       12288         84916818   \n",
       "21   NASNet-Large  (1, 128, 128, 3)       49152         84916818   \n",
       "22   NASNet-Large  (1, 256, 256, 3)      196608         84916818   \n",
       "23   NASNet-Large  (1, 331, 331, 3)      328683         84916818   \n",
       "\n",
       "    nb_params_fc        flops  nb_layers  nb_conv_layers  nb_fc_layers  \\\n",
       "19       1057000   2629916665        771             196             1   \n",
       "20       4033000   1868148675       1041             268             1   \n",
       "21       4033000   6917229891       1041             268             1   \n",
       "22       4033000  27115250499       1041             268             1   \n",
       "23       4033000  47876527473       1041             268             1   \n",
       "\n",
       "    sum_activations  weighted_sum_neurones  \n",
       "19         62189815             9731133896  \n",
       "20         10813366             6709743072  \n",
       "21         42382774            26839800288  \n",
       "22        168061366           107360877024  \n",
       "23        290560171           191031310656  "
      ]
     },
     "execution_count": 35,
     "metadata": {},
     "output_type": "execute_result"
    }
   ],
   "source": [
    "y_test = test_dataset.pop('ACET')\n",
    "X_test = test_dataset\n",
    "X_test.tail()"
   ]
  },
  {
   "cell_type": "code",
   "execution_count": 8,
   "metadata": {
    "colab": {},
    "colab_type": "code",
    "id": "YsjJiycte6KX"
   },
   "outputs": [],
   "source": [
    "X_train_model_names = X_train.pop('Model_name')\n",
    "X_train_input_shapes = X_train.pop('input_shape')"
   ]
  },
  {
   "cell_type": "code",
   "execution_count": 36,
   "metadata": {},
   "outputs": [],
   "source": [
    "X_test_model_names = X_test.pop('Model_name')\n",
    "X_test_input_shapes = X_test.pop('input_shape')"
   ]
  },
  {
   "cell_type": "code",
   "execution_count": 10,
   "metadata": {
    "colab": {},
    "colab_type": "code",
    "id": "bsj5QFPee6Lf"
   },
   "outputs": [],
   "source": [
    "steps = [('scaler', StandardScaler()), ('RFR', RandomForestRegressor())]\n",
    "pipeline = Pipeline(steps)"
   ]
  },
  {
   "cell_type": "code",
   "execution_count": 11,
   "metadata": {
    "colab": {},
    "colab_type": "code",
    "id": "yG-fZK1de6MJ"
   },
   "outputs": [],
   "source": [
    "param_grid = [\n",
    "        {'RFR__bootstrap': [True],\n",
    "         'RFR__n_estimators': [1000],\n",
    "         'RFR__max_features': [0.85],\n",
    "         'RFR__min_samples_leaf': [10],\n",
    "         'RFR__min_samples_split': [4]\n",
    "        },\n",
    "    ]"
   ]
  },
  {
   "cell_type": "code",
   "execution_count": 12,
   "metadata": {
    "colab": {},
    "colab_type": "code",
    "id": "TLnffrdwe6Mx"
   },
   "outputs": [],
   "source": [
    "grid = GridSearchCV(pipeline, param_grid=param_grid, cv=2)"
   ]
  },
  {
   "cell_type": "code",
   "execution_count": 13,
   "metadata": {
    "colab": {
     "base_uri": "https://localhost:8080/",
     "height": 538
    },
    "colab_type": "code",
    "id": "Fe-UL-Qse6Nd",
    "outputId": "9bed3d44-0c60-4d8f-8253-4dfe2b30ddc1"
   },
   "outputs": [
    {
     "data": {
      "text/plain": [
       "GridSearchCV(cv=2, error_score=nan,\n",
       "             estimator=Pipeline(memory=None,\n",
       "                                steps=[('scaler',\n",
       "                                        StandardScaler(copy=True,\n",
       "                                                       with_mean=True,\n",
       "                                                       with_std=True)),\n",
       "                                       ('RFR',\n",
       "                                        RandomForestRegressor(bootstrap=True,\n",
       "                                                              ccp_alpha=0.0,\n",
       "                                                              criterion='mse',\n",
       "                                                              max_depth=None,\n",
       "                                                              max_features='auto',\n",
       "                                                              max_leaf_nodes=None,\n",
       "                                                              max_samples=None,\n",
       "                                                              min_impurity_decrease=0.0,\n",
       "                                                              min_impurity_split=None,\n",
       "                                                              min_samples_leaf...\n",
       "                                                              n_jobs=None,\n",
       "                                                              oob_score=False,\n",
       "                                                              random_state=None,\n",
       "                                                              verbose=0,\n",
       "                                                              warm_start=False))],\n",
       "                                verbose=False),\n",
       "             iid='deprecated', n_jobs=None,\n",
       "             param_grid=[{'RFR__bootstrap': [True], 'RFR__max_features': [0.85],\n",
       "                          'RFR__min_samples_leaf': [10],\n",
       "                          'RFR__min_samples_split': [4],\n",
       "                          'RFR__n_estimators': [1000]}],\n",
       "             pre_dispatch='2*n_jobs', refit=True, return_train_score=False,\n",
       "             scoring=None, verbose=0)"
      ]
     },
     "execution_count": 13,
     "metadata": {},
     "output_type": "execute_result"
    }
   ],
   "source": [
    "grid.fit(X_train, y_train)"
   ]
  },
  {
   "cell_type": "code",
   "execution_count": 14,
   "metadata": {
    "colab": {
     "base_uri": "https://localhost:8080/",
     "height": 52
    },
    "colab_type": "code",
    "id": "eK4PLAIXe6OE",
    "outputId": "37e1df9d-f30b-4a8e-eb6a-d71df796e547"
   },
   "outputs": [
    {
     "name": "stdout",
     "output_type": "stream",
     "text": [
      "score = 0.99\n",
      "{'RFR__bootstrap': True, 'RFR__max_features': 0.85, 'RFR__min_samples_leaf': 10, 'RFR__min_samples_split': 4, 'RFR__n_estimators': 1000}\n"
     ]
    }
   ],
   "source": [
    "print(\"score = %3.2f\" %(grid.score(X_test,y_test)))\n",
    "print(grid.best_params_)"
   ]
  },
  {
   "cell_type": "code",
   "execution_count": 15,
   "metadata": {
    "colab": {
     "base_uri": "https://localhost:8080/",
     "height": 295
    },
    "colab_type": "code",
    "id": "4Z7mZQzi6mdK",
    "outputId": "7b4f15d3-3641-4a40-dde9-7269af4a9f8b"
   },
   "outputs": [
    {
     "data": {
      "text/plain": [
       "Pipeline(memory=None,\n",
       "         steps=[('scaler',\n",
       "                 StandardScaler(copy=True, with_mean=True, with_std=True)),\n",
       "                ('RFR',\n",
       "                 RandomForestRegressor(bootstrap=True, ccp_alpha=0.0,\n",
       "                                       criterion='mse', max_depth=None,\n",
       "                                       max_features=0.85, max_leaf_nodes=None,\n",
       "                                       max_samples=None,\n",
       "                                       min_impurity_decrease=0.0,\n",
       "                                       min_impurity_split=None,\n",
       "                                       min_samples_leaf=10, min_samples_split=4,\n",
       "                                       min_weight_fraction_leaf=0.0,\n",
       "                                       n_estimators=1000, n_jobs=None,\n",
       "                                       oob_score=False, random_state=None,\n",
       "                                       verbose=0, warm_start=False))],\n",
       "         verbose=False)"
      ]
     },
     "execution_count": 15,
     "metadata": {},
     "output_type": "execute_result"
    }
   ],
   "source": [
    "best_pipe = grid.best_estimator_\n",
    "best_pipe.fit(X_train, y_train)"
   ]
  },
  {
   "cell_type": "code",
   "execution_count": 16,
   "metadata": {
    "colab": {
     "base_uri": "https://localhost:8080/",
     "height": 139
    },
    "colab_type": "code",
    "id": "3L9O8THI6n7l",
    "outputId": "2ee34eea-7b96-4166-dcd1-76189ddb2112"
   },
   "outputs": [
    {
     "name": "stdout",
     "output_type": "stream",
     "text": [
      "Variable: sum_activations      Importance: 0.56\n",
      "Variable: flops                Importance: 0.41\n",
      "Variable: weighted_sum_neurones Importance: 0.03\n",
      "Variable: input_size           Importance: 0.0\n",
      "Variable: nb_params_no_fc      Importance: 0.0\n",
      "Variable: nb_params_fc         Importance: 0.0\n",
      "Variable: nb_layers            Importance: 0.0\n",
      "Variable: nb_conv_layers       Importance: 0.0\n",
      "Variable: nb_fc_layers         Importance: 0.0\n"
     ]
    }
   ],
   "source": [
    "feature_list = ['input_size', 'nb_params_no_fc', \n",
    "                'nb_params_fc', 'flops', 'nb_layers', 'nb_conv_layers', 'nb_fc_layers', \n",
    "                'sum_activations', 'weighted_sum_neurones']\n",
    "# Get numerical feature importances\n",
    "importances = list(best_pipe[1].feature_importances_)\n",
    "# List of tuples with variable and importance\n",
    "feature_importances = [(feature, round(importance, 2)) for feature, importance in zip(feature_list, importances)]\n",
    "# Sort the feature importances by most important first\n",
    "feature_importances = sorted(feature_importances, key = lambda x: x[1], reverse = True)\n",
    "# Print out the feature and importances \n",
    "[print('Variable: {:20} Importance: {}'.format(*pair)) for pair in feature_importances];"
   ]
  },
  {
   "cell_type": "code",
   "execution_count": 37,
   "metadata": {
    "colab": {},
    "colab_type": "code",
    "id": "HnsnZrj_6096"
   },
   "outputs": [],
   "source": [
    "predictions = best_pipe.predict(X_test)"
   ]
  },
  {
   "cell_type": "code",
   "execution_count": 38,
   "metadata": {
    "colab": {
     "base_uri": "https://localhost:8080/",
     "height": 104
    },
    "colab_type": "code",
    "id": "PbNmdyuh65B7",
    "outputId": "7e526528-3060-4162-ab17-050d8525483a"
   },
   "outputs": [
    {
     "name": "stdout",
     "output_type": "stream",
     "text": [
      "Explained variance :  0.9222196337402273\n",
      "R2_value :  0.9219600625248277\n",
      "Mean absolute error : 4.875244408332631\n",
      "Median absolute error : 2.6184324029554578\n"
     ]
    }
   ],
   "source": [
    "# Model evaluation\n",
    "y_pred = predictions\n",
    "print('Explained variance : ',explained_variance_score(y_test, y_pred))\n",
    "print('R2_value : ',r2_score(y_test, y_pred))\n",
    "print('Mean absolute error :', mean_absolute_error(y_test, y_pred))\n",
    "print('Median absolute error :', median_absolute_error(y_test, y_pred))"
   ]
  },
  {
   "cell_type": "code",
   "execution_count": 39,
   "metadata": {
    "colab": {
     "base_uri": "https://localhost:8080/",
     "height": 34
    },
    "colab_type": "code",
    "id": "2y5HCl-S7D6e",
    "outputId": "18b81294-873f-460d-874d-61e1264f342d"
   },
   "outputs": [
    {
     "name": "stdout",
     "output_type": "stream",
     "text": [
      "Accuracy: 72.37 %.\n"
     ]
    }
   ],
   "source": [
    "# Calculate mean absolute percentage error (MAPE)\n",
    "np_test = y_test.values\n",
    "errors = abs(y_pred-np_test)\n",
    "mape = 100 * (errors / np_test) # Calculate and display accuracy\n",
    "accuracy = 100 - np.mean(mape)\n",
    "print('Accuracy:', round(accuracy, 2), '%.')"
   ]
  },
  {
   "cell_type": "code",
   "execution_count": 40,
   "metadata": {
    "colab": {
     "base_uri": "https://localhost:8080/",
     "height": 1000
    },
    "colab_type": "code",
    "id": "dvHYJCr87FF2",
    "outputId": "e301e8fc-d68b-4825-b232-3d60c0375395"
   },
   "outputs": [
    {
     "name": "stdout",
     "output_type": "stream",
     "text": [
      "SqueezeNet-v1.1 (1, 90, 90, 3) 1.053860980211448 0.98912147 93.45484733928097\n",
      "SqueezeNet-v1.1 (1, 512, 512, 3) 8.13431593672834 5.2278544 44.40431361806212\n",
      "SqueezeNet-v1.1 (1, 720, 720, 3) 14.318606016272208 9.7607754 53.304625611278716\n",
      "SqueezeNet-v1.1 (64, 64, 3) 1.0277937453630093 0.9090424587155959 86.93666225280616\n",
      "SqueezeNet-v1.1 (128, 128, 3) 1.4051965736144727 1.15266463302752 78.09146447708147\n",
      "SqueezeNet-v1.1 (224, 224, 3) 2.6114037226489626 1.85750548623853 59.413404590417386\n",
      "SqueezeNet-v1.1 (240, 240, 3) 2.7197865953189253 1.91482706422018 57.96176343336948\n",
      "SqueezeNet-v1.1 (256, 256, 3) 2.8587967539453905 1.9958535321100899 56.76319890453257\n",
      "SqueezeNet-v1.1 (299, 299, 3) 3.327042905295103 2.75664246788991 79.30814590396231\n",
      "SqueezeNet-v1.1 (448, 448, 3) 6.484795146696215 4.373639853211009 51.73001517408316\n",
      "SqueezeNet-v1.1 (1024, 1024, 3) 26.408604647798626 17.705117018348602 50.84196495041399\n",
      "VGG-16 (1, 128, 128, 3) 20.890919825781268 15.53275248 65.5040704943927\n",
      "VGG-16 (1, 256, 256, 3) 48.56748373997069 31.85314821 47.52689618063128\n",
      "VGG-19 (1, 64, 64, 3) 15.05904222451715 15.64801341 96.2361280627069\n",
      "VGG-19 (1, 128, 128, 3) 22.952816212429333 20.00795539 85.28155043817631\n",
      "VGG-19 (1, 256, 256, 3) 56.23298277634973 39.20752335 56.57603956677941\n",
      "NASNet-Mobile (1, 64, 64, 3) 6.011889331505406 6.54043416 91.91881126596962\n",
      "NASNet-Mobile (1, 128, 128, 3) 6.626707436964524 8.28008167 80.03190911720228\n",
      "NASNet-Mobile (1, 256, 256, 3) 9.561846580817425 11.89224985 80.40401691373332\n",
      "NASNet-Mobile (1, 331, 331, 3) 13.29939889747157 16.39728041 81.10734563861476\n",
      "NASNet-Large (1, 64, 64, 3) 42.34383182810982 49.31717121 85.86022026243833\n",
      "NASNet-Large (1, 128, 128, 3) 44.88107292703157 53.9633824 83.16949555599311\n",
      "NASNet-Large (1, 256, 256, 3) 72.25894391787831 80.01012506 90.31224968551288\n",
      "NASNet-Large (1, 331, 331, 3) 89.40900280038335 110.65888121 80.7969516976317\n"
     ]
    }
   ],
   "source": [
    "np_test = y_test.values\n",
    "test_models = X_test_model_names.values\n",
    "test_input_shapes = X_test_input_shapes.values\n",
    "for i in range(0, len(y_pred)) :\n",
    "    print(test_models[i], test_input_shapes[i], y_pred[i], np_test[i], 100-((abs(y_pred[i]-np_test[i]))/np_test[i])*100)"
   ]
  },
  {
   "cell_type": "code",
   "execution_count": 41,
   "metadata": {},
   "outputs": [],
   "source": [
    "import csv\n",
    "with open('./evaluation_results/measured_vs_predicted_RFR_dim3.csv', 'a', newline='') as file : \n",
    "    writer = csv.writer(file)\n",
    "    for i in range(0, len(y_pred)) :\n",
    "        writer.writerow([test_models[i], test_input_shapes[i], np_test[i], y_pred[i],abs(y_pred[i]-np_test[i]), 100-((abs(y_pred[i]-np_test[i]))/np_test[i])*100])"
   ]
  },
  {
   "cell_type": "code",
   "execution_count": 42,
   "metadata": {
    "colab": {
     "base_uri": "https://localhost:8080/",
     "height": 283
    },
    "colab_type": "code",
    "id": "mYVk0yop7InT",
    "outputId": "eab972b1-bc56-47d7-c8f2-08f92580a96e"
   },
   "outputs": [
    {
     "data": {
      "image/png": "[encoded data removed]",
      "text/plain": [
       "<Figure size 720x360 with 1 Axes>"
      ]
     },
     "metadata": {
      "needs_background": "light"
     },
     "output_type": "display_data"
    }
   ],
   "source": [
    "plt.figure(figsize=(10,5))\n",
    "a = plt.axes(aspect='equal')\n",
    "plt.scatter(np_test, y_pred)\n",
    "plt.title('Predicted Inference time Vs Measured Inference time')\n",
    "plt.xlabel('True Values [ACET] (ms)')\n",
    "plt.ylabel('Predictions [ACET] (ms)')\n",
    "lims = [0, 300]\n",
    "plt.xlim(lims)\n",
    "plt.ylim(lims)\n",
    "_ = plt.plot(lims, lims)\n",
    "plt.savefig('./evaluation_results/measured_vs_predicted_RFR_dim3.png', dpi=600)"
   ]
  },
  {
   "cell_type": "code",
   "execution_count": null,
   "metadata": {},
   "outputs": [],
   "source": []
  }
 ],
 "metadata": {
  "colab": {
   "collapsed_sections": [],
   "name": "Random_Forest_regression.ipynb",
   "provenance": []
  },
  "kernelspec": {
   "display_name": "Python 3",
   "language": "python",
   "name": "python3"
  },
  "language_info": {
   "codemirror_mode": {
    "name": "ipython",
    "version": 3
   },
   "file_extension": ".py",
   "mimetype": "text/x-python",
   "name": "python",
   "nbconvert_exporter": "python",
   "pygments_lexer": "ipython3",
   "version": "3.7.3"
  }
 },
 "nbformat": 4,
 "nbformat_minor": 1
}
